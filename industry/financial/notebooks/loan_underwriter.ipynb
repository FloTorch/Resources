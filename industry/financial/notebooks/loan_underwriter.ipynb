{
  "cells": [
    {
      "cell_type": "markdown",
      "metadata": {
        "id": "PAKTKhmMgcEB"
      },
      "source": [
        "# Loan Underwriter Flow (FloTorch Variant)\n",
        "\n",
        "This simple agentic flow evaluates loan applications using LLM-powered agents provided by FloTorch.\n",
        "\n",
        "There are 3 agents operating in this workflow:\n",
        "\n",
        "1. Loan Officer - Summarizes the application and highlights significant information.\n",
        "2. Credit Analyst - Rates applicant creditworthiness (Low/Medium/High).\n",
        "3. Risk Manager - Makes the final decision (Approved/Denied) with an explanation.\n",
        "\n",
        "### Prerequisites\n",
        "\n",
        "1. [FloTorch](https://www.flotorch.ai/) account\n",
        "2. FloTorch API key\n",
        "3. Configured agents on the FloTorch platform\n",
        "\n",
        "Use the [Getting Started](https://docs.google.com/document/d/1NZ1ZY9uCDYzqMOk6WG3Fb4aaWq2y_ArxMKsifUiUTgg/edit?usp=sharing) guide."
      ]
    },
    {
      "cell_type": "markdown",
      "metadata": {
        "id": "wrE1RzRBpm0h"
      },
      "source": [
        "## Install packages\n",
        "- FloTorch LangGraph SDK\n",
        "- LangGraph"
      ]
    },
    {
      "cell_type": "code",
      "execution_count": null,
      "metadata": {
        "colab": {
          "base_uri": "https://localhost:8080/"
        },
        "collapsed": true,
        "id": "Z42ZsXHGUTFP",
        "outputId": "d918684b-7e71-4d8e-cf9b-7c8b31a36e45"
      },
      "outputs": [],
      "source": [
        "# %pip install --pre flotorch[autogen] # beta version\n",
        "%pip install flotorch[langgraph] # production version\n",
        "%pip install langgraph"
      ]
    },
    {
      "cell_type": "markdown",
      "metadata": {
        "id": "T415xc3LqXFG"
      },
      "source": [
        "## Configure FloTorch\n",
        "Set your API key."
      ]
    },
    {
      "cell_type": "code",
      "execution_count": null,
      "metadata": {},
      "outputs": [],
      "source": [
        "try: # if in Google Colab\n",
        "    import google.colab\n",
        "    FLOTORCH_API_KEY = userdata.get(\"FLOTORCH_API_KEY\")\n",
        "    \n",
        "except ImportError: # if running locally\n",
        "    import os\n",
        "    from dotenv import load_dotenv\n",
        "    load_dotenv()  # reads .env in current directory\n",
        "    FLOTORCH_API_KEY = os.getenv(\"FLOTORCH_API_KEY\")\n",
        "\n",
        "if not FLOTORCH_API_KEY:\n",
        "    raise ValueError(\"FLOTORCH_API_KEY not found. Set it in .env or enter it in Colab Secrets.\")\n",
        "\n",
        "FLOTORCH_GATEWAY_BASE_URL = \"https://gateway.flotorch.cloud\""
      ]
    },
    {
      "cell_type": "markdown",
      "metadata": {},
      "source": [
        "## Connect to agents"
      ]
    },
    {
      "cell_type": "markdown",
      "metadata": {},
      "source": [
        "Find the names of the agents you created under the **Agents** tab in the FloTorch console."
      ]
    },
    {
      "cell_type": "code",
      "execution_count": null,
      "metadata": {},
      "outputs": [],
      "source": [
        "import nest_asyncio\n",
        "nest_asyncio.apply() # run async code in Jupyter notebooks\n",
        "from flotorch.langgraph.agent import FlotorchLangGraphAgent\n",
        "\n",
        "AGENTS = {\n",
        "    \"loan_parser\": \"loan-parser\",\n",
        "    \"credit_analyzer\": \"credit-risk-analyzer\",\n",
        "    \"risk_assessor\": \"risk-assessor\"\n",
        "}\n",
        "\n",
        "loan_parser_client = FlotorchLangGraphAgent(\n",
        "    agent_name=AGENTS['loan_parser'],\n",
        "    api_key=FLOTORCH_API_KEY,\n",
        "    base_url=FLOTORCH_GATEWAY_BASE_URL\n",
        ")\n",
        "\n",
        "credit_analyzer_client = FlotorchLangGraphAgent(\n",
        "    agent_name=AGENTS['credit_analyzer'],\n",
        "    api_key=FLOTORCH_API_KEY,\n",
        "    base_url=FLOTORCH_GATEWAY_BASE_URL\n",
        ")\n",
        "\n",
        "risk_assessor_client = FlotorchLangGraphAgent(\n",
        "    agent_name=AGENTS['risk_assessor'],\n",
        "    api_key=FLOTORCH_API_KEY,\n",
        "    base_url=FLOTORCH_GATEWAY_BASE_URL\n",
        ")"
      ]
    },
    {
      "cell_type": "markdown",
      "metadata": {},
      "source": [
        "## Build agent flow"
      ]
    },
    {
      "cell_type": "markdown",
      "metadata": {},
      "source": [
        "Define LangGraph wrapper function to input FlotorchLangGraphAgent as a LangGraph node."
      ]
    },
    {
      "cell_type": "code",
      "execution_count": null,
      "metadata": {},
      "outputs": [],
      "source": [
        "import asyncio\n",
        "from langchain_core.runnables import RunnableLambda\n",
        "\n",
        "def get_agent_callable(agent_client, input_key=\"messages\"):\n",
        "    \"\"\"\n",
        "    Wrap a FlotorchLangGraphAgent so it can be used as a StateGraph node.\n",
        "\n",
        "    Args:\n",
        "        agent: FlotorchLangGraphAgent instance\n",
        "        input_key: the attribute in the state object that contains the input text\n",
        "    Returns:\n",
        "        RunnableLambda: LangGraph-compatible node\n",
        "    \"\"\"\n",
        "    agent = agent_client.get_agent()\n",
        "\n",
        "    def node_callable(state, context=None):\n",
        "        # Extract input from the state object\n",
        "        if isinstance(state, dict):\n",
        "            messages = state.get(input_key, \"\")\n",
        "        else:\n",
        "            messages = getattr(state, input_key, \"\")\n",
        "\n",
        "        # Call the agent safely inside the running event loop\n",
        "        loop = asyncio.get_event_loop()\n",
        "        if loop.is_running():\n",
        "            future = asyncio.ensure_future(\n",
        "                agent.ainvoke({\"messages\": messages})\n",
        "            )\n",
        "            loop.run_until_complete(future)\n",
        "            result = future.result()\n",
        "        else:\n",
        "            result = loop.run_until_complete(\n",
        "                agent.ainvoke({\"messages\": messages})\n",
        "            )\n",
        "\n",
        "        # Return the content of the last message\n",
        "        content = result[\"messages\"][-1].content\n",
        "        state = {\n",
        "            \"messages\": content\n",
        "        }\n",
        "        return state\n",
        "\n",
        "    return RunnableLambda(node_callable)"
      ]
    },
    {
      "cell_type": "markdown",
      "metadata": {},
      "source": [
        "Build the LangGraph StateGraph to orchestrate the agent workflow."
      ]
    },
    {
      "cell_type": "code",
      "execution_count": null,
      "metadata": {},
      "outputs": [],
      "source": [
        "from typing import TypedDict\n",
        "from langgraph.graph import StateGraph\n",
        "\n",
        "class LoanState(TypedDict):\n",
        "    messages: str\n",
        "    \n",
        "\n",
        "graph = StateGraph(LoanState)\n",
        "\n",
        "graph.add_node(\"LoanParser\", get_agent_callable(loan_parser_client))\n",
        "graph.add_node(\"CreditAnalyzer\", get_agent_callable(credit_analyzer_client))\n",
        "graph.add_node(\"RiskAssessor\", get_agent_callable(risk_assessor_client))\n",
        "\n",
        "graph.set_entry_point(\"LoanParser\")\n",
        "graph.add_edge(\"LoanParser\", \"CreditAnalyzer\")\n",
        "graph.add_edge(\"CreditAnalyzer\", \"RiskAssessor\")\n",
        "graph.set_finish_point(\"RiskAssessor\")\n",
        "\n",
        "loan_underwriter = graph.compile()"
      ]
    },
    {
      "cell_type": "markdown",
      "metadata": {},
      "source": [
        "## Create loan application"
      ]
    },
    {
      "cell_type": "markdown",
      "metadata": {},
      "source": [
        "Fill in necessary fields as you please."
      ]
    },
    {
      "cell_type": "code",
      "execution_count": null,
      "metadata": {},
      "outputs": [],
      "source": [
        "loan_application = {\n",
        "    \"name\": \"Jane Doe\",\n",
        "    \"age\": 35,\n",
        "    \"income\": 200000,\n",
        "    \"loan_amount\": 35000,\n",
        "    \"credit_score\": 720,\n",
        "    \"existing_liabilities\": 150000,\n",
        "    \"purpose\": \"Medical Emergency\"\n",
        "}"
      ]
    },
    {
      "cell_type": "markdown",
      "metadata": {},
      "source": [
        "## Run flow"
      ]
    },
    {
      "cell_type": "markdown",
      "metadata": {},
      "source": [
        "Invoke the graph with the input."
      ]
    },
    {
      "cell_type": "code",
      "execution_count": null,
      "metadata": {},
      "outputs": [],
      "source": [
        "import json\n",
        "from IPython.display import display, Markdown\n",
        "\n",
        "loan_state: LoanState = {\n",
        "    \"messages\": str(loan_application)\n",
        "} \n",
        "\n",
        "result = loan_underwriter.invoke(loan_state)\n",
        "output = result[\"messages\"]\n",
        "data = json.loads(output)\n",
        "loan_decision = data[\"loan_decision\"]\n",
        "risk_assessment = data[\"risk_assessment\"]\n",
        "\n",
        "display(Markdown(f\"Decision: {loan_decision}\"))\n",
        "display(Markdown(f\"Explanation: {risk_assessment}\"))"
      ]
    },
    {
      "cell_type": "markdown",
      "metadata": {},
      "source": [
        "This is a version of the flow without the LangGraph package (no StateGraph or LangGraph node wrapper function)."
      ]
    },
    {
      "cell_type": "code",
      "execution_count": null,
      "metadata": {
        "colab": {
          "base_uri": "https://localhost:8080/"
        },
        "id": "SXRDUuQhBHMD",
        "outputId": "c86ea1e5-0ca7-49f1-e118-1c84107fc63f"
      },
      "outputs": [],
      "source": [
        "loan_application_input = str(loan_application)\n",
        "\n",
        "loan_parser_agent = loan_parser_client.get_agent()\n",
        "loan_parser_response = loan_parser_agent.invoke({\"messages\": loan_application_input})\n",
        "loan_parser_output = loan_parser_response['messages'][-1].content\n",
        "\n",
        "credit_analyzer_agent = credit_analyzer_client.get_agent()\n",
        "credit_analyzer_response = credit_analyzer_agent.invoke({\"messages\": loan_parser_output})\n",
        "credit_analyzer_output = credit_analyzer_response['messages'][-1].content\n",
        "\n",
        "risk_assessor_agent = risk_assessor_client.get_agent()\n",
        "risk_assessor_response = risk_assessor_agent.invoke({\"messages\": credit_analyzer_output})\n",
        "risk_assessor_output = risk_assessor_response['messages'][-1].content\n",
        "\n",
        "print(f\"final output:::::::::::::\\n{risk_assessor_output}\")"
      ]
    }
  ],
  "metadata": {
    "colab": {
      "provenance": []
    },
    "kernelspec": {
      "display_name": "Resources Jupyter Kernel",
      "language": "python",
      "name": "project-venv"
    },
    "language_info": {
      "codemirror_mode": {
        "name": "ipython",
        "version": 3
      },
      "file_extension": ".py",
      "mimetype": "text/x-python",
      "name": "python",
      "nbconvert_exporter": "python",
      "pygments_lexer": "ipython3",
      "version": "3.12.3"
    }
  },
  "nbformat": 4,
  "nbformat_minor": 0
}
