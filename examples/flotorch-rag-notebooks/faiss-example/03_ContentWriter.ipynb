{
 "cells": [
  {
   "cell_type": "markdown",
   "id": "99e1130b",
   "metadata": {},
   "source": [
    "# Agentic workflow ( Prompt sequencing pattern) using two agents created in FloTorch\n",
    "\n",
    "[![Open In Colab](https://colab.research.google.com/assets/colab-badge.svg)](https://colab.research.google.com/github/FloTorch/Resources/blob/main/examples/flotorch-rag-notebooks/faiss-example/03_ContentWriter.ipynb)\n",
    "\n",
    "This notebook demonstrates an agentic workflow using two agents in the prompt sequencing agent. In this pattern the response of the first agent in the workflow ends up being the message input to the second agent. \n",
    "\n",
    "(_Prompt Sequencing Pattern as explained by [Anthropic here](https://www.anthropic.com/engineering/building-effective-agents)_)\n",
    "![Prompt Sequencing - as shown in Anthropic article](https://www.anthropic.com/_next/image?url=https%3A%2F%2Fwww-cdn.anthropic.com%2Fimages%2F4zrzovbb%2Fwebsite%2F7418719e3dab222dccb379b8879e1dc08ad34c78-2401x1000.png&w=3840&q=75)\n",
    "\n",
    "In this notebook the agents involved are created in [Flotorch] (https://console.flotorch.cloud) are \"**topic-creator**\" and \"**content-writer**\"\n",
    "\n",
    "## Key Benefits of FloTorch Integration:\n",
    "\n",
    "\n",
    "## Steps to use the FloTorch agents and orchestrate an agentic workflow using Google ADK as the orchestration framework.\n",
    "\n",
    "Step 1: Install Required Packages\n",
    "Step 2: Import the libraries\n",
    "Step 3: Set your API keys\n",
    "Step 4: Define a local function to help extract txt for given pdf.\n",
    "Step 5: Set up the agentic clients using agents defined in [FloTorch Console] (https://console.flotorch.cloud)\n",
    "Step 6: Set up session and runners for the agents\n",
    "Step 7: Create a single run method to run the agents.\n",
    "Step 8: Define the agentic workflow\n",
    "Step 9: Run the agentic workflow\n",
    "\n",
    "\n",
    "\n",
    "\n"
   ]
  },
  {
   "cell_type": "markdown",
   "id": "daaf6c66",
   "metadata": {},
   "source": [
    "### Step 1: Install required packages"
   ]
  },
  {
   "cell_type": "code",
   "execution_count": null,
   "id": "a5441198",
   "metadata": {},
   "outputs": [],
   "source": [
    "# %pip install PyPDF2 sentence-transformers python-dotenv faiss-cpu requests numpy"
   ]
  },
  {
   "cell_type": "markdown",
   "id": "72a610b6",
   "metadata": {},
   "source": [
    "### Step 2: Import libraries & setup"
   ]
  },
  {
   "cell_type": "code",
   "execution_count": null,
   "id": "125075f6",
   "metadata": {},
   "outputs": [],
   "source": [
    "# %pip install flotorch"
   ]
  },
  {
   "cell_type": "code",
   "execution_count": null,
   "id": "85cdfe88",
   "metadata": {},
   "outputs": [],
   "source": [
    "# Mount Google Drive and set path\n",
    "from google.colab import drive\n",
    "drive.mount('/content/drive')\n",
    "\n",
    "import os\n",
    "import sys\n",
    "\n",
    "# Navigate to your notebook directory\n",
    "os.chdir('/content/drive/MyDrive/Colab Notebooks')\n",
    "sys.path.append('/content/drive/MyDrive/Colab Notebooks')\n",
    "%mkdir -p FloTorch\n",
    "%cd FloTorch\n",
    "!git clone https://github.com/FloTorch/Resources.git\n",
    "os.chdir(\"/content/drive/MyDrive/Colab Notebooks/FloTorch/Resources/examples/flotorch-rag-notebooks/faiss-example\")\n",
    "%ls"
   ]
  },
  {
   "cell_type": "code",
   "execution_count": null,
   "id": "644eebe0",
   "metadata": {},
   "outputs": [],
   "source": [
    "import os\n",
    "import random\n",
    "import time\n",
    "import json\n",
    "import sys\n",
    "import requests\n",
    "from typing import List\n",
    "\n",
    "import PyPDF2\n",
    "from sentence_transformers import SentenceTransformer\n",
    "#import faiss\n",
    "#from utils import extract_text_from_pdf\n",
    "\n",
    "print(\"✅ All libraries imported successfully!\")"
   ]
  },
  {
   "cell_type": "code",
   "execution_count": null,
   "id": "22c531a7",
   "metadata": {},
   "outputs": [],
   "source": [
    "# --- Imports from Flotorch ADK and Google ADK ---\n",
    "from flotorch.adk.agent import FlotorchADKAgent       # Flotorch wrapper for creating an ADK agent\n",
    "from flotorch.adk.sessions import FlotorchADKSession # Flotorch session service (integrates with Flotorch Gateway sessions)\n",
    "from google.adk import Runner                         # Runs the agent with a session\n",
    "from google.genai import types                        # Data types for message content\n"
   ]
  },
  {
   "cell_type": "markdown",
   "id": "7ba578a3",
   "metadata": {},
   "source": [
    "### Step 3: Set your API keys \n",
    "**Important**\n",
    "1. Replace the API key with your actual FloTorch API Key (Check [Prerequisites.ipynb](./01_Prerequisites.ipynb) on how to get the key)\n",
    "2. Using FloTorch helps you monitor the agentic flow through the FloTorch gateway.\n"
   ]
  },
  {
   "cell_type": "code",
   "execution_count": null,
   "id": "a6e85d1a",
   "metadata": {},
   "outputs": [],
   "source": [
    "# SET YOUR FLOTORCH API KEY HERE\n",
    "FLOTORCH_API_KEY = input(\"FloTorch API Key\") # Replace with your actual Flotorch API key"
   ]
  },
  {
   "cell_type": "markdown",
   "id": "2ddc3c02",
   "metadata": {},
   "source": [
    "### Configuration setup"
   ]
  },
  {
   "cell_type": "code",
   "execution_count": null,
   "id": "e91e8a45",
   "metadata": {},
   "outputs": [],
   "source": [
    "# --- FloTorch Configuration for Gateway and Agents ---\n",
    "APP_NAME = \"flotorch_agent_example\"         # Name of the app (used in session tracking)\n",
    "USER_ID = \"flotorch_user_123\"               # Unique ID for the user\n",
    "FLOTORCH_GATEWAY_BASE_URL = \"https://gateway.flotorch.cloud\"              # Base URL of the Flotorch Gateway\n",
    "FLOTORCH_AGENT_NAME_TOPIC_CREATOR = \"topic-creator\"                     # Name of the agent configured in Flotorch\n",
    "FLOTORCH_AGENT_NAME_CONTENT_WRITER = \"content-writer\"                     # Name of the agent configured in Flotorch\n"
   ]
  },
  {
   "cell_type": "markdown",
   "id": "81f54447",
   "metadata": {},
   "source": [
    "### Step 4: Define a local function to help extract txt for given pdf\n",
    "\n",
    "The local function get_pdf_text() is in turn calling a function from utils to extract the content of the pdf. The function, when invoked as a tool by the agent, will request us to input the pdf path. This path is then used by the function in utils to extract text from.\n",
    "\n",
    "For eg. you can use the following pdf file and path to test.This is Google’s SEC filing document PDF publicly available.\n",
    "\n",
    "https://d18rn0p25nwr6d.cloudfront.net/CIK-0001652044/0ca59726-c36c-45fe-a114-e147f8cd7237.pdf"
   ]
  },
  {
   "cell_type": "code",
   "execution_count": null,
   "id": "c4640ee6",
   "metadata": {},
   "outputs": [],
   "source": [
    "def extract_text_from_web_pdf(pdf_url):\n",
    "\n",
    "    # --- Imports ---\n",
    "    import requests\n",
    "    #from pypdf import PdfReader\n",
    "    import io\n",
    "    import os\n",
    "\n",
    "    max_chars_to_display = 200 # Set how much extracted text to print\n",
    "\n",
    "    # --- Processing and Extraction ---\n",
    "    try:\n",
    "        # 4b. Use requests to get the content\n",
    "        response = requests.get(pdf_url, stream=True)\n",
    "        response.raise_for_status() # Check for bad status codes (4xx or 5xx)\n",
    "\n",
    "        pdf_in_memory = io.BytesIO(response.content)\n",
    "        \n",
    "        # 4d. Initialize the PdfReader\n",
    "        reader = PyPDF2.PdfReader(pdf_in_memory)\n",
    "        \n",
    "        # Check if the PDF is encrypted (optional but robust)\n",
    "        if reader.is_encrypted:\n",
    "            print(\"⚠️ Warning: The PDF is encrypted. Cannot extract text without a password.\")\n",
    "            # If you have a password, you would use: reader.decrypt('your_password')\n",
    "            total_text = \"Extraction failed (Encrypted).\"\n",
    "        else:\n",
    "            # 4e. Extract text page by page\n",
    "            total_pages = len(reader.pages)\n",
    "            print(f\"Total pages found: {total_pages}\")\n",
    "            \n",
    "            extracted_text = []\n",
    "            for i in range(total_pages):\n",
    "                page = reader.pages[i]\n",
    "                # The 'extract_text()' method is common across pypdf/PyPDF2\n",
    "                text = page.extract_text()\n",
    "                if text:\n",
    "                    extracted_text.append(text)\n",
    "                \n",
    "            # Combine all text\n",
    "            total_text = \"\\n\".join(extracted_text)\n",
    "            \n",
    "            print(f\"✅ Extraction complete! Total text length: {len(total_text)} characters.\")\n",
    "            return total_text\n",
    "\n",
    "    except requests.exceptions.RequestException as e:\n",
    "        print(f\"\\n❌ Error during download: {e}\")\n",
    "        return \"Extraction failed\"\n",
    "    except Exception as e:\n",
    "        print(f\"\\n❌ An error occurred during PDF processing: {e}\")\n",
    "        return \"Extraction failed\"\n"
   ]
  },
  {
   "cell_type": "markdown",
   "id": "41cf229b",
   "metadata": {},
   "source": [
    "  For the function below use pdf_url = \"https://arxiv.org/pdf/2405.00001\" # \n"
   ]
  },
  {
   "cell_type": "code",
   "execution_count": null,
   "id": "78c9d57f",
   "metadata": {},
   "outputs": [],
   "source": [
    "def get_pdf_text():\n",
    "    pdf_url = input(\"Enter the path to the PDF file: \")\n",
    "    response = extract_text_from_web_pdf(pdf_url) \n",
    "    print(response)\n",
    "    return response"
   ]
  },
  {
   "cell_type": "markdown",
   "id": "a65adc13",
   "metadata": {},
   "source": [
    "### Step 5: Set up the agentic clients using agents defined in [FloTorch Console] (https://console.flotorch.cloud)\n",
    "\n",
    "#### Prerequisites - Agents need to be created and published on [FloTorch Console](https://console.flotorch.cloud)\n",
    "##### Steps to create an agent in FloTorch \n",
    "**steps to be added**\n",
    "##### Details needed to create \"topic_creator\" agent\n",
    "***Image of agent design to be added***\n",
    "* System Prompt suggested:\n",
    "\n",
    "    You are an AI document analysis agent. Your task is to analyze the content of a provided document and identify the 5 most relevant or important topics from the subject matter. These topics should represent distinct, meaningful concepts or areas of discussion covered in the document. Output the topics in a JSON format.\n",
    "\n",
    "    Guidelines:\n",
    "\n",
    "    Focus on identifying distinct and non-overlapping topics.\n",
    "\n",
    "    Prefer high-level concepts or key entities over generic terms.\n",
    "\n",
    "    Avoid vague or overly broad terms like \"general information\" or \"miscellaneous\".\n",
    "\n",
    "    Order the topics by relevance or prominence in the document.\n",
    "\n",
    "    Output the results as a JSON object with the key \"topics\" and a list of strings as the value.\n",
    "\n",
    "    Example output:\n",
    "\n",
    "    {\n",
    "    \"topics\": [\n",
    "    \"Climate change policy\",\n",
    "    \"Carbon emission trading\",\n",
    "    \"Renewable energy investments\",\n",
    "    \"UN climate summits\",\n",
    "    \"Global temperature targets\"\n",
    "    ]\n",
    "    }\n",
    "* Goal suggested:\n",
    "\n",
    "    The AI agent reads a document, identifies the 5 most relevant or interesting topics based on its content, and outputs them in a JSON format. These topics should reflect the core themes, ideas, or areas of importance in the text.\n",
    "\n",
    "    Intended Use:\n",
    "    The extracted topics can be used for summarization, or as seed topics or categories for writing content on.\n",
    "\n",
    "* Model:\n",
    "\n",
    "    Any flotorch model in your environment - suggestion is to use a lightwight yet good model like \"gemini 2.5 flash\" within the chosen FloTorch model.\n",
    "\n",
    "* Output schema suggested: \n",
    "\n",
    "    '''\n",
    "    {\"$schema\":\"https://json-schema.org/draft/2020-12/schema\",\"type\":\"object\",\"properties\":{\"topics\":{\"type\":\"array\",\"items\":{\"type\":\"string\"}}},\"required\":[\"topics\"],\"additionalProperties\":false}\n",
    "    '''\n",
    "\n",
    "* System Prompt suggested:\n",
    "\n",
    "    You are a professional content writing assistant.\n",
    "    Your task is to generate informative and engaging content based on a list of topics.\n",
    "    For each topic, write 2 to 3 well-structured paragraphs that:\n",
    "\n",
    "    Clearly explain the core idea or concept behind the topic.\n",
    "\n",
    "    Highlight the key insights or relevance of the topic today.\n",
    "\n",
    "    Suggest potential directions for further reading or exploration, such as related subtopics, questions, or recent developments.\n",
    "\n",
    "    Write in a clear, professional tone suitable for a general audience interested in learning or exploring the topic further. Avoid overly technical language unless necessary, and provide smooth transitions between points.\n",
    "\n",
    "* Goal suggested:\n",
    "\n",
    "    The goal of this content writing agent is to transform a list of topics into informative, well-structured text blocks that:\n",
    "\n",
    "    Provide foundational understanding of each topic.\n",
    "\n",
    "    Engage readers by emphasizing relevance and key takeaways.\n",
    "\n",
    "    Inspire further curiosity by hinting at deeper questions or next steps in learning.\n",
    "\n",
    "    The agent should aim to make each topic accessible, intriguing, and valuable to readers seeking quick yet meaningful insights.\n",
    "\n",
    "* Model:\n",
    "\n",
    "    Any flotorch model in your environment - suggestion is to use a lightwight yet good model like \"gemini 2.5 flash\" within the chosen FloTorch model.\n",
    "\n",
    "* Input schema suggested: \n",
    "\n",
    "    '''\n",
    "    {\"$schema\":\"https://json-schema.org/draft/2020-12/schema\",\"type\":\"object\",\"properties\":{\"topics\":{\"type\":\"array\",\"items\":{\"type\":\"string\"}}},\"required\":[\"topics\"],\"additionalProperties\":false}\n",
    "    '''\n"
   ]
  },
  {
   "cell_type": "code",
   "execution_count": null,
   "id": "94416a85",
   "metadata": {},
   "outputs": [],
   "source": [
    "# --- Create Flotorch ADK Agent Client for topic-creator---\n",
    "# This object will fetch the agent definition from the Flotorch Gateway for topic-creator agent\n",
    "\n",
    "flotorch_adk_client = FlotorchADKAgent(\n",
    "    agent_name=FLOTORCH_AGENT_NAME_TOPIC_CREATOR,\n",
    "    enable_memory=False,                     # Disable memory for this example (can be True to persist chat context for long term)\n",
    "    base_url=FLOTORCH_GATEWAY_BASE_URL,       \n",
    "    api_key=FLOTORCH_API_KEY, \n",
    "    custom_tools = [get_pdf_text]                 \n",
    ")\n",
    "\n",
    "# Get the agent object from Flotorch ADK\n",
    "topic_creator_agent = flotorch_adk_client.get_agent()\n",
    "\n",
    "# --- Create Flotorch ADK Agent Client for content-writer---\n",
    "# This object will fetch the agent definition from the Flotorch Gateway for content-writer agent\n",
    "\n",
    "flotorch_adk_client_content_writer = FlotorchADKAgent(\n",
    "    agent_name=FLOTORCH_AGENT_NAME_CONTENT_WRITER,\n",
    "    enable_memory=False,                     # Disable memory for this example (can be True to persist chat context for long term )\n",
    "    base_url=FLOTORCH_GATEWAY_BASE_URL,       \n",
    "    api_key=FLOTORCH_API_KEY                  \n",
    ")   \n",
    "\n",
    "# Get the agent object from Flotorch ADK\n",
    "content_writer_agent = flotorch_adk_client_content_writer.get_agent()\n"
   ]
  },
  {
   "cell_type": "markdown",
   "id": "b558f10e",
   "metadata": {},
   "source": [
    "### Step 6: Set up session and runners for the agents\n"
   ]
  },
  {
   "cell_type": "code",
   "execution_count": null,
   "id": "14410dd1",
   "metadata": {},
   "outputs": [],
   "source": [
    "# --- Setup Session Service ---\n",
    "session_service = FlotorchADKSession(api_key=FLOTORCH_API_KEY, base_url=FLOTORCH_GATEWAY_BASE_URL)\n",
    "\n",
    "# --- Create Runner ---\n",
    "# Runners manage the conversation loop between the agent and the user\n",
    "# topic-creator runner\n",
    "runner1 = Runner(\n",
    "    agent=topic_creator_agent,\n",
    "    app_name=APP_NAME,\n",
    "    session_service=session_service\n",
    ")\n",
    "# content-writer runner\n",
    "runner2 = Runner(\n",
    "    agent=content_writer_agent,\n",
    "    app_name=APP_NAME,\n",
    "    session_service=session_service\n",
    ")"
   ]
  },
  {
   "cell_type": "code",
   "execution_count": null,
   "id": "6d8fae91",
   "metadata": {},
   "outputs": [],
   "source": [
    "\n"
   ]
  },
  {
   "cell_type": "markdown",
   "id": "00896f9c",
   "metadata": {},
   "source": [
    "### Step 7: Create a method to run the agents with associated messages.\n"
   ]
  },
  {
   "cell_type": "code",
   "execution_count": null,
   "id": "c2fbb2d9",
   "metadata": {},
   "outputs": [],
   "source": [
    "# --- Function to send a single user message and get the final AI response ---\n",
    "def run_single_turn(query, session_id, runner,user_id):\n",
    "    \"\"\"Send a message to the Flotorch agent and return the final response text.\"\"\"\n",
    "    # Create message content object (role=user, with text parts)\n",
    "    content = types.Content(role=\"user\", parts=[types.Part(text=query)])\n",
    "    \n",
    "    # Run the agent for this message in the given session\n",
    "    events = runner.run(\n",
    "        user_id=user_id, \n",
    "        session_id=session_id, \n",
    "        new_message=content\n",
    "    )\n",
    "\n",
    "    # Loop through the events to find the final response from the agent\n",
    "    for event in events:\n",
    "        if event.is_final_response():\n",
    "            if event.content and event.content.parts:\n",
    "                return event.content.parts[0].text  # Return the text from the first part\n",
    "    \n",
    "    return \"Sorry, I couldn't process that.\"  # Fallback if no valid response\n"
   ]
  },
  {
   "cell_type": "code",
   "execution_count": null,
   "id": "3d2cb298",
   "metadata": {},
   "outputs": [],
   "source": [
    "# --- Async function to start an agentic session and consume a pdf ---\n",
    "async def content_from_pdf(message):\n",
    "    \"\"\"Start a new session with the agent and send a single message.\"\"\"\n",
    "    # Create a new session for the user via Flotorch Gateway\n",
    "    session = await runner1.session_service.create_session(\n",
    "        app_name=APP_NAME,\n",
    "        user_id=USER_ID,\n",
    "    )\n",
    "    \n",
    "    message = \"run the get_pdf_text tool to get the content from the pdf path and work as an agent on that content\"\n",
    "\n",
    "    # Send the message and get the response\n",
    "    response_topic_creator = run_single_turn(message, session.id, runner1,USER_ID)\n",
    "    \n",
    "    # Print the conversation\n",
    "    print(f\"You: {message}\")\n",
    "    print(f\"Flotorch AI: {response_topic_creator}\")\n",
    "    \n",
    "    #return response_topic_creator\n",
    "\n",
    "    session = await runner2.session_service.create_session(\n",
    "        app_name=APP_NAME,\n",
    "        user_id=USER_ID,\n",
    "    )\n",
    "\n",
    "    response_content_writer = run_single_turn(response_topic_creator, session.id, runner2,USER_ID)\n",
    "\n",
    "    return response_content_writer"
   ]
  },
  {
   "cell_type": "code",
   "execution_count": null,
   "id": "72e9e8d0",
   "metadata": {},
   "outputs": [],
   "source": [
    "# --- Entry point ---\n",
    "# Changed to call the synchronous function directly\n",
    "if __name__ == \"__main__\":\n",
    "   user_prompt = \"run the get_pdf_text tool to get the content from the pdf path and work as an agent on that content\"\n",
    "   await(content_from_pdf(user_prompt))"
   ]
  }
 ],
 "metadata": {
  "kernelspec": {
   "display_name": ".venv",
   "language": "python",
   "name": "python3"
  },
  "language_info": {
   "codemirror_mode": {
    "name": "ipython",
    "version": 3
   },
   "file_extension": ".py",
   "mimetype": "text/x-python",
   "name": "python",
   "nbconvert_exporter": "python",
   "pygments_lexer": "ipython3",
   "version": "3.13.5"
  }
 },
 "nbformat": 4,
 "nbformat_minor": 5
}
