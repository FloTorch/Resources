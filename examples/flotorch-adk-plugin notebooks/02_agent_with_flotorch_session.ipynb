{
 "cells": [
  {
   "cell_type": "markdown",
   "metadata": {},
   "source": [
    "# Persistent Conversations with `FlotorchADKSession`\n",
    "\n",
    "This notebook demonstrates how to create a conversational agent that can remember the context of an ongoing interaction. We achieve this by replacing Google ADK's default in-memory session handling with the persistent `FlotorchADKSession` service.\n",
    "\n",
    "### Prerequesit\n",
    "Configure model, API key in Flotroch console (https://console.flotorch.cloud/)\n",
    "\n",
    "### Viewing logs\n",
    "Logs can be viewed in logs tab in Flotroch console (https://console.flotorch.cloud/)\n",
    "\n",
    "### Key Objectives:\n",
    "- Understand the role of a `session_service` in managing conversation state.\n",
    "- Configure the `Runner` to use `FlotorchADKSession` instead of the default.\n",
    "- Build a simple agent that can recall information from previous turns in the same conversation."
   ]
  },
  {
   "cell_type": "markdown",
   "metadata": {},
   "source": [
    "## 1. Setup and Imports\n",
    "\n",
    "The following cells handle the installation of dependencies, configuration of API credentials, and the import of all necessary components. The key component for this example is `FlotorchADKSession`."
   ]
  },
  {
   "cell_type": "code",
   "execution_count": null,
   "metadata": {},
   "outputs": [],
   "source": [
    "# install flotorch adk package\n",
    "%pip install --pre flotorch[adk]"
   ]
  },
  {
   "cell_type": "code",
   "execution_count": null,
   "id": "baf285c5",
   "metadata": {},
   "outputs": [],
   "source": [
    "FLOTORCH_API_KEY = \"<flotorch api key>\"\n",
    "FLOTORCH_BASE_URL = \"<flotroch gateway base url>\" # eg: https://gateway.flotorch.cloud\"\n",
    "FLOTORCH_MODEL = \"<flotorch model>\"\n",
    "APP_NAME = \"flotorch_tools_example\"\n",
    "USER_ID = \"flotorch_user_001\""
   ]
  },
  {
   "cell_type": "code",
   "execution_count": null,
   "metadata": {},
   "outputs": [],
   "source": [
    "# Import necessary libraries\n",
    "from flotorch.adk.llm import FlotorchADKLLM\n",
    "from flotorch.adk.sessions import FlotorchADKSession\n",
    "from google.adk.agents import LlmAgent\n",
    "from google.adk import Runner\n",
    "from google.genai import types\n",
    "\n",
    "\n",
    "print(\"Environment setup completed successfully.\")"
   ]
  },
  {
   "cell_type": "markdown",
   "metadata": {},
   "source": [
    "## 2. Configuring the LLM and Agent\n",
    "\n",
    "First, we configure the `FlotorchADKLLM` to serve as the agent's brain. Then, we create a simple `LlmAgent` with instructions to be a helpful assistant. No special tools are needed for this example, as we are focusing purely on conversational memory."
   ]
  },
  {
   "cell_type": "code",
   "execution_count": null,
   "metadata": {},
   "outputs": [],
   "source": [
    "model = FlotorchADKLLM(\n",
    "    model_id = \"flotorch/gpt-4o-mini\",\n",
    "    api_key = FLOTORCH_API_KEY,\n",
    "    base_url = FLOTORCH_BASE_URL,\n",
    ")\n",
    "print(f\"Flotorch LLM model configured: {model.model}\")"
   ]
  },
  {
   "cell_type": "code",
   "execution_count": null,
   "metadata": {},
   "outputs": [],
   "source": [
    "agent = LlmAgent(\n",
    "    name=\"Flotorch_Assistant\",\n",
    "    description=\"A helpful Flotorch AI assistant\",\n",
    "    instruction=\"You are Flotorch AI assistant. Be helpful and friendly.\",\n",
    "    model=model,\n",
    ")\n",
    "print(f\"Agent created successfully: {agent.name}\")"
   ]
  },
  {
   "cell_type": "markdown",
   "metadata": {},
   "source": [
    "## 3. Integrating Flotorch Session Management\n",
    "\n",
    "This is the core of this notebook. We initialize `FlotorchADKSession` using our API credentials. Then, when we create the `Runner`, we pass this `session_service` instance to it. This directs the `Runner` to use the Flotorch backend for storing and retrieving conversation history, enabling stateful interactions."
   ]
  },
  {
   "cell_type": "code",
   "execution_count": null,
   "metadata": {},
   "outputs": [],
   "source": [
    "session_service = FlotorchADKSession(\n",
    "    api_key=FLOTORCH_API_KEY,\n",
    "    base_url=FLOTORCH_BASE_URL\n",
    ")\n",
    "\n",
    "runner = Runner(\n",
    "    agent=agent,\n",
    "    app_name=APP_NAME,\n",
    "    session_service=session_service\n",
    ")\n",
    "print(\"Runner configured successfully with Flotorch session service.\")"
   ]
  },
  {
   "cell_type": "markdown",
   "metadata": {},
   "source": [
    "## 4. Interactive Chat with Session Memory\n",
    "\n",
    "The following cells demonstrate the agent's memory. We will start a new session, tell the agent our name, and then ask it to recall the name in a subsequent query. Because we are using `FlotorchADKSession`, the agent will successfully remember the context."
   ]
  },
  {
   "cell_type": "code",
   "execution_count": null,
   "metadata": {},
   "outputs": [],
   "source": [
    "def run_single_turn(query, session_id, user_id, runner):\n",
    "    content = types.Content(role=\"user\", parts=[types.Part(text=query)])\n",
    "    events = runner.run(user_id=user_id, session_id=session_id, new_message=content)\n",
    "\n",
    "    for event in events:\n",
    "        if event.is_final_response():\n",
    "            if event.content and event.content.parts:\n",
    "                return event.content.parts[0].text\n",
    "    \n",
    "    return \"Sorry, I couldn't process that request.\"\n",
    "\n",
    "async def chat_with_agent(query,session_id):\n",
    "    response = run_single_turn(query, session_id, USER_ID, runner)\n",
    "    return response\n",
    "\n",
    "print(\"Chat helper functions are ready.\")"
   ]
  },
  {
   "cell_type": "code",
   "execution_count": null,
   "metadata": {},
   "outputs": [],
   "source": [
    "# Create a new session for the conversation\n",
    "session = await runner.session_service.create_session(\n",
    "    app_name=APP_NAME,\n",
    "    user_id=USER_ID,\n",
    ")\n",
    "print(f\"Session created with id: {session.id}\")\n",
    "\n",
    "# First turn: Tell the agent your name\n",
    "response1 = await chat_with_agent(\"Hello, my name is John.\", session.id)\n",
    "print(f\"\\nQuery: Hello, my name is John.\")\n",
    "print(f\"Response: {response1}\")"
   ]
  },
  {
   "cell_type": "code",
   "execution_count": null,
   "metadata": {},
   "outputs": [],
   "source": [
    "# Second turn: Ask the agent to recall your name\n",
    "response2 = await chat_with_agent(\"Do you know my name?\", session.id)\n",
    "print(f\"Query: Do you know my name?\")\n",
    "print(f\"Response: {response2}\")"
   ]
  },
  {
   "cell_type": "markdown",
   "metadata": {},
   "source": [
    "## Summary\n",
    "\n",
    "This notebook successfully demonstrated how to give a Google ADK agent persistent conversational memory using the Flotorch platform. By swapping the default session service with `FlotorchADKSession`, we enabled the agent to maintain context throughout an interaction.\n",
    "\n",
    "### Key Achievements:\n",
    "\n",
    "- **Stateful Conversations**: We configured the `Runner` to use `FlotorchADKSession`, transforming the agent from a stateless to a stateful system.\n",
    "- **Context Recall**: The agent successfully recalled information (the user's name) from a previous turn within the same session.\n",
    "- **Robust Foundation**: This pattern provides a solid foundation for building more complex applications like chatbots and customer service agents that require a deep understanding of the ongoing conversation."
   ]
  }
 ],
 "metadata": {
  "kernelspec": {
   "display_name": "venv",
   "language": "python",
   "name": "python3"
  },
  "language_info": {
   "codemirror_mode": {
    "name": "ipython",
    "version": 3
   },
   "file_extension": ".py",
   "mimetype": "text/x-python",
   "name": "python",
   "nbconvert_exporter": "python",
   "pygments_lexer": "ipython3",
   "version": "3.11.0"
  }
 },
 "nbformat": 4,
 "nbformat_minor": 5
}
