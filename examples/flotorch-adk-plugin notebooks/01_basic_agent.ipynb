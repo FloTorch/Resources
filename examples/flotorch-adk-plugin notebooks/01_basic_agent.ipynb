{
 "cells": [
  {
   "cell_type": "markdown",
   "id": "fca4dfd9",
   "metadata": {},
   "source": [
    "# Building an Agent with Custom Tools using Google ADK and Flotorch\n",
    "\n",
    "This notebook demonstrates how to create a Google ADK agent and equip it with a set of custom tools. The agent will be powered by the Flotorch LLM and will be able to perform specific tasks like calculations, time-telling, and text analysis by using locally defined Python functions.\n",
    "\n",
    "### Prerequesit\n",
    "Configure model, API key in Flotroch console (https://console.flotorch.cloud/)\n",
    "\n",
    "### Viewing logs\n",
    "Logs can be viewed in logs tab in Flotroch console (https://console.flotorch.cloud/)\n",
    "\n",
    "### Key Objectives:\n",
    "- Define multiple Python functions to act as custom tools.\n",
    "- Wrap these functions using Google ADK's `FunctionTool`.\n",
    "- Configure an `LlmAgent` to use the Flotorch LLM and provide it with the custom tools.\n",
    "- Use the `Runner` to process user queries and observe the agent's tool-using capabilities."
   ]
  },
  {
   "cell_type": "markdown",
   "id": "5f1fd56c",
   "metadata": {},
   "source": [
    "## 1. Environment Setup and Imports\n",
    "\n",
    "The following cells handle the complete setup. This includes installing the `flotorch[adk]` package, defining API credentials, and importing the necessary components from Google ADK and the Flotorch library."
   ]
  },
  {
   "cell_type": "code",
   "execution_count": null,
   "id": "b5881357",
   "metadata": {},
   "outputs": [],
   "source": [
    "# install flotorch adk package\n",
    "%pip install flotorch[adk]"
   ]
  },
  {
   "cell_type": "code",
   "execution_count": null,
   "id": "1e2140be",
   "metadata": {},
   "outputs": [],
   "source": [
    "FLOTORCH_API_KEY = \"flotorch api key\"\n",
    "FLOTORCH_BASE_URL = \"<flotroch gateway base url>\" # eg: https://gateway.flotorch.cloud\"\n",
    "FLOTORCH_MODEL = \"flotorch model\"\n",
    "APP_NAME = \"flotorch_tools_example\"\n",
    "USER_ID = \"flotorch_user_001\""
   ]
  },
  {
   "cell_type": "code",
   "execution_count": null,
   "id": "43a53af5",
   "metadata": {},
   "outputs": [],
   "source": [
    "from datetime import datetime\n",
    "\n",
    "# Import Flotorch and Google ADK components\n",
    "from flotorch.adk.llm import FlotorchADKLLM\n",
    "from google.adk.sessions import InMemorySessionService\n",
    "from google.adk.agents import LlmAgent\n",
    "from google.adk.tools import FunctionTool\n",
    "from google.adk import Runner\n",
    "from google.genai import types\n",
    "\n",
    "print(\"Imported Required Libraries Successfully\")"
   ]
  },
  {
   "cell_type": "markdown",
   "id": "c8f3e162",
   "metadata": {},
   "source": [
    "## 2. Defining Custom Tools\n",
    "\n",
    "To extend the agent's capabilities, we define several Python functions. Each function is then wrapped using Google ADK's `FunctionTool` class. This makes the functions available to the agent, which can intelligently decide when to call them based on the user's query. The function's docstring is crucial as it provides the description the agent uses to understand the tool's purpose."
   ]
  },
  {
   "cell_type": "code",
   "execution_count": null,
   "id": "de5d40fa",
   "metadata": {},
   "outputs": [],
   "source": [
    "def calculator(expression: str) -> str:\n",
    "    \"\"\"\n",
    "    Calculate basic math expressions safely.\n",
    "    \n",
    "    Args:\n",
    "        expression (str): Mathematical expression to evaluate\n",
    "        \n",
    "    Returns:\n",
    "        str: Calculation result or error message\n",
    "    \"\"\"\n",
    "    try:\n",
    "        allowed_chars = set('0123456789+-*/.() ')\n",
    "        if not all(c in allowed_chars for c in expression):\n",
    "            return \"Error: Only basic math operations allowed\"\n",
    "        \n",
    "        result = eval(expression)\n",
    "        return f\"Result: {result}\"\n",
    "    except Exception as e:\n",
    "        return f\"Error: {str(e)}\"\n",
    "\n",
    "\n",
    "def get_current_time() -> str:\n",
    "    \"\"\"\n",
    "    Get the current date and time.\n",
    "    \n",
    "    Returns:\n",
    "        str: Formatted current date and time\n",
    "    \"\"\"\n",
    "    now = datetime.now()\n",
    "    return f\"Current time: {now.strftime('%Y-%m-%d %H:%M:%S')}\"\n",
    "\n",
    "\n",
    "def analyze_text(text: str) -> str:\n",
    "    \"\"\"\n",
    "    Analyze text and provide comprehensive statistics.\n",
    "    \n",
    "    Args:\n",
    "        text (str): Text to analyze\n",
    "        \n",
    "    Returns:\n",
    "        str: Formatted text analysis with statistics\n",
    "    \"\"\"\n",
    "    word_count = len(text.split())\n",
    "    char_count = len(text)\n",
    "    char_count_no_spaces = len(text.replace(' ', ''))\n",
    "    sentences = text.count('.') + text.count('!') + text.count('?')\n",
    "    \n",
    "    return f\"\"\"Text Analysis:\n",
    "- Words: {word_count}\n",
    "- Characters (with spaces): {char_count}\n",
    "- Characters (without spaces): {char_count_no_spaces}\n",
    "- Sentences: {sentences}\"\"\"\n",
    "\n",
    "custom_tools = [\n",
    "        FunctionTool(func=calculator),\n",
    "        FunctionTool(func=get_current_time),\n",
    "        FunctionTool(func=analyze_text)\n",
    "    ]\n",
    "\n",
    "print(\"Custom tools defined successfully.\")"
   ]
  },
  {
   "cell_type": "markdown",
   "id": "b813add1",
   "metadata": {},
   "source": [
    "## 3. Configuring the LLM and Agent\n",
    "\n",
    "With the tools defined, we now configure the agent. This involves two steps:\n",
    "1. **LLM Configuration**: We instantiate `FlotorchADKLLM` to act as the agent's \"brain\".\n",
    "2. **Agent Configuration**: We create an `LlmAgent`, providing it with a descriptive name, instructions, the LLM instance, and the list of `custom_tools` we just created."
   ]
  },
  {
   "cell_type": "code",
   "execution_count": null,
   "id": "2b91d24c",
   "metadata": {},
   "outputs": [],
   "source": [
    "model =  FlotorchADKLLM(\n",
    "        model_id= FLOTORCH_MODEL,\n",
    "        api_key=FLOTORCH_API_KEY,\n",
    "        base_url= FLOTORCH_BASE_URL,\n",
    "    )\n",
    "    \n",
    "print(f\"Flotorch LLM model configured: {model.model}\")"
   ]
  },
  {
   "cell_type": "code",
   "execution_count": null,
   "id": "81959438",
   "metadata": {},
   "outputs": [],
   "source": [
    "agent = LlmAgent(\n",
    "        name=\"Flotorch_Tool_Assistant\",\n",
    "        description=\"A helpful Flotorch AI assistant with calculator, time, and text analysis tools\",\n",
    "        instruction=\"\"\"You are Flotorch AI assistant with special tools. You can:\n",
    "        - Perform mathematical calculations using the calculator tool\n",
    "        - Get the current date and time using the time tool\n",
    "        - Analyze text and provide statistics using the text analyzer tool\n",
    "        \n",
    "        Use these tools when appropriate to provide accurate and helpful responses.\"\"\",\n",
    "        model=model,\n",
    "        tools=custom_tools,\n",
    "    )\n",
    "\n",
    "\n",
    "print(f\"Agent created successfully: {agent.name}\")\n",
    "print(f\"Available tools: {len(custom_tools)} custom tools\")"
   ]
  },
  {
   "cell_type": "markdown",
   "id": "1c121d9b",
   "metadata": {},
   "source": [
    "## 4. Running the Agent\n",
    "\n",
    "Finally, we set up the `Runner`, which orchestrates the entire process. The `Runner` takes the agent and a session service (`InMemorySessionService` for this example) to manage the conversation. The following cells demonstrate how to create a session and interact with the agent, which will now use its tools to answer relevant queries."
   ]
  },
  {
   "cell_type": "code",
   "execution_count": null,
   "id": "1f35684c",
   "metadata": {},
   "outputs": [],
   "source": [
    "# Initialize Session Service\n",
    "session_service = InMemorySessionService()\n",
    "\n",
    "# Initialize runner\n",
    "runner =  Runner(\n",
    "    agent=agent,\n",
    "    app_name=APP_NAME,\n",
    "    session_service=session_service\n",
    ")\n",
    "\n",
    "print(\"Runner configured successfully.\")"
   ]
  },
  {
   "cell_type": "code",
   "execution_count": null,
   "id": "1e44607c",
   "metadata": {},
   "outputs": [],
   "source": [
    "def run_single_turn(query, session_id, user_id, runner):\n",
    "    \n",
    "    content = types.Content(role=\"user\", parts=[types.Part(text=query)])\n",
    "    events = runner.run(user_id=user_id, session_id=session_id, new_message=content)\n",
    "\n",
    "    for event in events:\n",
    "        if event.is_final_response():\n",
    "            if event.content and event.content.parts:\n",
    "                return event.content.parts[0].text\n",
    "    \n",
    "    return \"Sorry, I couldn't process that request.\"\n",
    "\n",
    "print(\"Message processing function defined.\")"
   ]
  },
  {
   "cell_type": "code",
   "execution_count": null,
   "id": "fdf98448",
   "metadata": {},
   "outputs": [],
   "source": [
    "async def chat_with_agent(query,session_id):\n",
    "    \"\"\"\n",
    "    Chat function that takes a user query and returns the agent's response.\n",
    "    \n",
    "    Args:\n",
    "        query (str): User's input message\n",
    "        session_id : User's session ID\n",
    "    Returns:\n",
    "        str: Agent's response\n",
    "    \"\"\"\n",
    "    # Get response from agent\n",
    "    response = run_single_turn(query, session_id, USER_ID, runner)\n",
    "    return response\n",
    "\n",
    "print(\"Chat function ready. Use chat_with_agent('your query',session.id) to interact with the agent.\")"
   ]
  },
  {
   "cell_type": "code",
   "execution_count": null,
   "id": "b8f54eee",
   "metadata": {},
   "outputs": [],
   "source": [
    "# Example: Calculate a mathematical expression\n",
    "session = await runner.session_service.create_session(\n",
    "        app_name=APP_NAME,\n",
    "        user_id=USER_ID,\n",
    "    )\n",
    "response = await chat_with_agent(\"What's 15 * 7?\",session.id)\n",
    "print(f\"Query: What's 15 * 7?\")\n",
    "print(f\"Response: {response}\")"
   ]
  },
  {
   "cell_type": "code",
   "execution_count": null,
   "id": "6adf8d7c",
   "metadata": {},
   "outputs": [],
   "source": [
    "# Example: Get current time\n",
    "response = await chat_with_agent(\"What time is it?\",session.id)\n",
    "print(f\"Query: What time is it?\")\n",
    "print(f\"Response: {response}\")"
   ]
  },
  {
   "cell_type": "code",
   "execution_count": null,
   "id": "b435e5aa",
   "metadata": {},
   "outputs": [],
   "source": [
    "# Example: Analyze text\n",
    "response = await chat_with_agent(\"Analyze this text: Flotorch makes AI development easy!\",session.id)\n",
    "print(f\"Query: Analyze this text: Flotorch makes AI development easy!\")\n",
    "print(f\"Response: {response}\")"
   ]
  },
  {
   "cell_type": "markdown",
   "id": "eeac4b8c",
   "metadata": {},
   "source": [
    "## Summary\n",
    "\n",
    "This notebook demonstrated the complete process of building a tool-augmented agent using Google ADK and Flotorch. We successfully extended a basic LLM agent with custom Python functions, enabling it to perform specific, real-world tasks.\n",
    "\n",
    "### Key Achievements:\n",
    "\n",
    "- **Tool Creation**: We defined three distinct Python functions for calculation, time-telling, and text analysis.\n",
    "- **Tool Integration**: These functions were seamlessly integrated into the `LlmAgent` using Google ADK's `FunctionTool` wrapper.\n",
    "- **Intelligent Execution**: The agent demonstrated its ability to understand user intent and autonomously select the correct tool to fulfill the request.\n",
    "- **Flexible Framework**: This example highlights the flexibility of the ADK framework for creating powerful, specialized AI assistants."
   ]
  }
 ],
 "metadata": {
  "kernelspec": {
   "display_name": "venv",
   "language": "python",
   "name": "python3"
  },
  "language_info": {
   "codemirror_mode": {
    "name": "ipython",
    "version": 3
   },
   "file_extension": ".py",
   "mimetype": "text/x-python",
   "name": "python",
   "nbconvert_exporter": "python",
   "pygments_lexer": "ipython3",
   "version": "3.11.0"
  }
 },
 "nbformat": 4,
 "nbformat_minor": 5
}
