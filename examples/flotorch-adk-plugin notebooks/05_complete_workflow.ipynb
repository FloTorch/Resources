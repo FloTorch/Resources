{
  "cells": [
    {
      "cell_type": "markdown",
      "metadata": {
        "vscode": {
          "languageId": "raw"
        }
      },
      "source": [
        "# Flotorch ADK - Complete Workflow Example\n",
        "\n",
        "This notebook demonstrates the complete workflow using FlotorchADKAgent with FlotorchMemoryService.\n",
        "This combines everything from previous examples into one complete solution.\n",
        "\n",
        "## What you'll learn\n",
        "- Using FlotorchADKAgent (from example 4)\n",
        "- Adding FlotorchMemoryService (from example 3)\n",
        "- Complete end-to-end workflow\n",
        "\n",
        "## Requirements\n",
        "- FLOTORCH_API_KEY environment variable\n",
        "- FLOTORCH_BASE_URL environment variable\n"
      ]
    },
    {
      "cell_type": "code",
      "execution_count": null,
      "metadata": {},
      "outputs": [],
      "source": [
        "%pip install --pre flotorch[adk]\n"
      ]
    },
    {
      "cell_type": "code",
      "execution_count": null,
      "metadata": {},
      "outputs": [],
      "source": [
        "# Setup and imports\n",
        "import asyncio\n",
        "import os\n",
        "import sys\n",
        "from dotenv import load_dotenv\n",
        "\n",
        "# Load environment variables\n",
        "load_dotenv()\n",
        "\n",
        "print(\"✓ Environment setup complete\")\n"
      ]
    },
    {
      "cell_type": "code",
      "execution_count": null,
      "metadata": {},
      "outputs": [],
      "source": [
        "# Import FlotorchADKAgent and FlotorchMemoryService\n",
        "from flotorch.adk.agent import FlotorchADKAgent\n",
        "from flotorch.adk.memory import FlotorchMemoryService\n",
        "from google.adk.sessions import InMemorySessionService\n",
        "from google.adk import Runner\n",
        "from google.genai import types\n",
        "\n",
        "print(\"✓ All imports successful\")\n"
      ]
    },
    {
      "cell_type": "code",
      "execution_count": null,
      "metadata": {},
      "outputs": [],
      "source": [
        "# Configuration\n",
        "APP_NAME = \"flotorch_agent\"\n",
        "USER_ID = \"flotorch_user_123\"\n",
        "MEMORY_PROVIDER = \"memo-provider\"\n",
        "\n",
        "print(f\"App Name: {APP_NAME}\")\n",
        "print(f\"User ID: {USER_ID}\")\n",
        "print(f\"Memory Provider: {MEMORY_PROVIDER}\")\n"
      ]
    },
    {
      "cell_type": "markdown",
      "metadata": {
        "vscode": {
          "languageId": "raw"
        }
      },
      "source": [
        "## Step 1: Create Memory Service\n",
        "\n",
        "First, we create the FlotorchMemoryService that will store our conversations.\n"
      ]
    },
    {
      "cell_type": "code",
      "execution_count": null,
      "metadata": {},
      "outputs": [],
      "source": [
        "# Create FlotorchMemoryService\n",
        "memory_service = FlotorchMemoryService(\n",
        "    api_key=os.getenv(\"FLOTORCH_API_KEY\"),\n",
        "    base_url=os.getenv(\"FLOTORCH_BASE_URL\"),\n",
        "    name=MEMORY_PROVIDER\n",
        ")\n",
        "\n",
        "print(\"✓ Memory service created\")\n"
      ]
    },
    {
      "cell_type": "raw",
      "metadata": {
        "vscode": {
          "languageId": "raw"
        }
      },
      "source": [
        "## Step 2: Create FlotorchADKAgent with Memory\n",
        "\n",
        "Now we create the FlotorchADKAgent with memory enabled.\n"
      ]
    },
    {
      "cell_type": "code",
      "execution_count": null,
      "metadata": {},
      "outputs": [],
      "source": [
        "# Create FlotorchADKAgent with memory enabled\n",
        "adk_client = FlotorchADKAgent(\n",
        "    agent_name=\"flotorch_workflow_agent\",\n",
        "    enable_memory=True  # This is the key difference - memory is enabled\n",
        ")\n",
        "\n",
        "# Get the agent\n",
        "agent = adk_client.get_agent()\n",
        "\n",
        "print(\"✓ FlotorchADKAgent with memory created\")\n"
      ]
    },
    {
      "cell_type": "raw",
      "metadata": {
        "vscode": {
          "languageId": "raw"
        }
      },
      "source": [
        "## Step 3: Setup Runner with Memory Service\n",
        "\n",
        "Connect both the agent and memory service to the runner.\n"
      ]
    },
    {
      "cell_type": "code",
      "execution_count": null,
      "metadata": {},
      "outputs": [],
      "source": [
        "# Setup runner with both agent and memory service\n",
        "session_service = InMemorySessionService()\n",
        "runner = Runner(\n",
        "    agent=agent,\n",
        "    app_name=APP_NAME,\n",
        "    session_service=session_service,\n",
        "    memory_service=memory_service  # This connects memory to the runner\n",
        ")\n",
        "\n",
        "print(\"✓ Runner setup with memory service complete\")\n"
      ]
    },
    {
      "cell_type": "code",
      "execution_count": null,
      "metadata": {},
      "outputs": [],
      "source": [
        "# Helper function to send messages\n",
        "def run_single_turn(query, session_id, user_id):\n",
        "    \"\"\"Send message to agent and get response.\"\"\"\n",
        "    content = types.Content(role=\"user\", parts=[types.Part(text=query)])\n",
        "    events = runner.run(user_id=user_id, session_id=session_id, new_message=content)\n",
        "\n",
        "    for event in events:\n",
        "        if event.is_final_response():\n",
        "            if event.content and event.content.parts:\n",
        "                return event.content.parts[0].text\n",
        "    \n",
        "    return \"Sorry, I couldn't process that.\"\n",
        "\n",
        "print(\"✓ Helper function ready\")\n"
      ]
    },
    {
      "cell_type": "markdown",
      "metadata": {
        "vscode": {
          "languageId": "raw"
        }
      },
      "source": [
        "## Test the Complete Workflow\n",
        "\n",
        "Now let's test our complete setup with a conversation.\n"
      ]
    },
    {
      "cell_type": "code",
      "execution_count": null,
      "metadata": {},
      "outputs": [],
      "source": [
        "# Create session and start conversation\n",
        "async def start_conversation():\n",
        "    session = await runner.session_service.create_session(\n",
        "        app_name=APP_NAME,\n",
        "        user_id=USER_ID,\n",
        "    )\n",
        "    \n",
        "    print(f\"Complete workflow ready! Session: {session.id}\")\n",
        "    return session\n",
        "\n",
        "# Start the conversation\n",
        "session = await start_conversation()\n"
      ]
    },
    {
      "cell_type": "code",
      "execution_count": null,
      "metadata": {},
      "outputs": [],
      "source": [
        "# Simple chat function\n",
        "def chat(message):\n",
        "    \"\"\"Chat with the complete workflow agent.\"\"\"\n",
        "    response = run_single_turn(message, session.id, USER_ID)\n",
        "    print(f\"You: {message}\")\n",
        "    print(f\"Flotorch AI: {response}\")\n",
        "    \n",
        "\n",
        "# Have a conversation\n",
        "print(\"=== Testing Complete Workflow ===\")\n",
        "chat(\"Hello! I'm John and I work as a data scientist.\")\n"
      ]
    },
    {
      "cell_type": "code",
      "execution_count": null,
      "metadata": {},
      "outputs": [],
      "source": [
        "# Continue the conversation\n",
        "print(\"\\n\" + \"-\"*40)\n",
        "chat(\"I'm working on a machine learning project about customer behavior.\")\n"
      ]
    },
    {
      "cell_type": "code",
      "execution_count": null,
      "metadata": {},
      "outputs": [],
      "source": [
        "# Store the conversation in memory\n",
        "async def save_conversation():\n",
        "    print(\"Saving conversation to memory...\")\n",
        "    \n",
        "    completed_session = await runner.session_service.get_session(\n",
        "        app_name=APP_NAME,\n",
        "        user_id=USER_ID,\n",
        "        session_id=session.id\n",
        "    )\n",
        "    \n",
        "    await memory_service.add_session_to_memory(completed_session)\n",
        "    print(\"✓ Conversation saved to memory!\")\n",
        "\n",
        "# Save the conversation\n",
        "await save_conversation()\n"
      ]
    },
    {
      "cell_type": "markdown",
      "metadata": {
        "vscode": {
          "languageId": "raw"
        }
      },
      "source": [
        "## Test Memory Recall\n",
        "\n",
        "Let's create a new session to see if the agent remembers our previous conversation.\n"
      ]
    },
    {
      "cell_type": "code",
      "execution_count": null,
      "metadata": {},
      "outputs": [],
      "source": [
        "# Create new session to test memory\n",
        "async def test_memory():\n",
        "    new_session = await runner.session_service.create_session(\n",
        "        app_name=APP_NAME,\n",
        "        user_id=USER_ID,\n",
        "    )\n",
        "    \n",
        "    print(f\"New session created: {new_session.id}\")\n",
        "    \n",
        "    # Test if agent remembers\n",
        "    response = run_single_turn(\"What do you remember about me?\", new_session.id, USER_ID)\n",
        "    print(f\"You: What do you remember about me?\")\n",
        "    print(f\"Flotorch AI: {response}\")\n",
        "\n",
        "# Test memory recall\n",
        "await test_memory()\n"
      ]
    },
    {
      "cell_type": "markdown",
      "metadata": {
        "vscode": {
          "languageId": "raw"
        }
      },
      "source": [
        "## Summary\n",
        "\n",
        "This complete workflow demonstrates:\n",
        "- ✓ FlotorchADKAgent with memory enabled\n",
        "- ✓ FlotorchMemoryService for storing conversations\n",
        "- ✓ Memory recall across different sessions\n",
        "- ✓ Complete integration of all components\n",
        "\n",
        "**This combines everything from examples 1-4 into one complete solution!**\n",
        "\n",
        "You can use `chat(\"your message\")` to continue chatting with the complete workflow.\n"
      ]
    }
  ],
  "metadata": {
    "kernelspec": {
      "display_name": "venv",
      "language": "python",
      "name": "python3"
    },
    "language_info": {
      "codemirror_mode": {
        "name": "ipython",
        "version": 3
      },
      "file_extension": ".py",
      "mimetype": "text/x-python",
      "name": "python",
      "nbconvert_exporter": "python",
      "pygments_lexer": "ipython3",
      "version": "3.11.0"
    }
  },
  "nbformat": 4,
  "nbformat_minor": 2
}
