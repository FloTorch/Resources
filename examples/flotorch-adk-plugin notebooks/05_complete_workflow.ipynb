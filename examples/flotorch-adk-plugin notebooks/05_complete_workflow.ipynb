{
  "cells": [
    {
      "cell_type": "markdown",
      "metadata": {
        "vscode": {
          "languageId": "raw"
        }
      },
      "source": [
        "# Flotorch ADK - Complete Workflow Example\n",
        "\n",
        "This notebook demonstrates the complete workflow using FlotorchADKAgent with FlotorchMemoryService.\n",
        "This combines everything from previous examples into one complete solution.\n",
        "\n",
        "## What you'll learn\n",
        "- Using FlotorchADKAgent (from example 4)\n",
        "- Adding FlotorchMemoryService (from example 3)\n",
        "- Complete end-to-end workflow\n",
        "\n",
        "## Requirements\n",
        "- FLOTORCH_API_KEY environment variable\n",
        "- FLOTORCH_BASE_URL environment variable\n"
      ]
    },
    {
      "cell_type": "code",
      "execution_count": 46,
      "metadata": {},
      "outputs": [
        {
          "name": "stdout",
          "output_type": "stream",
          "text": [
            "✓ Environment setup complete\n"
          ]
        }
      ],
      "source": [
        "# Setup and imports\n",
        "import asyncio\n",
        "import os\n",
        "import sys\n",
        "from dotenv import load_dotenv\n",
        "\n",
        "# Load environment variables\n",
        "load_dotenv()\n",
        "\n",
        "print(\"✓ Environment setup complete\")\n"
      ]
    },
    {
      "cell_type": "code",
      "execution_count": 48,
      "metadata": {},
      "outputs": [
        {
          "name": "stdout",
          "output_type": "stream",
          "text": [
            "✓ All imports successful\n"
          ]
        }
      ],
      "source": [
        "# Import FlotorchADKAgent and FlotorchMemoryService\n",
        "from flotorch.adk.agent import FlotorchADKAgent\n",
        "from flotorch.adk.memory import FlotorchMemoryService\n",
        "from google.adk.sessions import InMemorySessionService\n",
        "from google.adk import Runner\n",
        "from google.genai import types\n",
        "\n",
        "print(\"✓ All imports successful\")\n"
      ]
    },
    {
      "cell_type": "code",
      "execution_count": 60,
      "metadata": {},
      "outputs": [
        {
          "name": "stdout",
          "output_type": "stream",
          "text": [
            "App Name: flotorch_agent\n",
            "User ID: flotorch_user_123\n",
            "Memory Provider: memo-provider\n"
          ]
        }
      ],
      "source": [
        "# Configuration\n",
        "APP_NAME = \"flotorch_agent\"\n",
        "USER_ID = \"flotorch_user_123\"\n",
        "MEMORY_PROVIDER = \"memo-provider\"\n",
        "\n",
        "print(f\"App Name: {APP_NAME}\")\n",
        "print(f\"User ID: {USER_ID}\")\n",
        "print(f\"Memory Provider: {MEMORY_PROVIDER}\")\n"
      ]
    },
    {
      "cell_type": "markdown",
      "metadata": {
        "vscode": {
          "languageId": "raw"
        }
      },
      "source": [
        "## Step 1: Create Memory Service\n",
        "\n",
        "First, we create the FlotorchMemoryService that will store our conversations.\n"
      ]
    },
    {
      "cell_type": "code",
      "execution_count": 61,
      "metadata": {},
      "outputs": [
        {
          "name": "stdout",
          "output_type": "stream",
          "text": [
            "✓ Memory service created\n"
          ]
        }
      ],
      "source": [
        "# Create FlotorchMemoryService\n",
        "memory_service = FlotorchMemoryService(\n",
        "    api_key=os.getenv(\"FLOTORCH_API_KEY\"),\n",
        "    base_url=os.getenv(\"FLOTORCH_BASE_URL\"),\n",
        "    name=MEMORY_PROVIDER\n",
        ")\n",
        "\n",
        "print(\"✓ Memory service created\")\n"
      ]
    },
    {
      "cell_type": "raw",
      "metadata": {
        "vscode": {
          "languageId": "raw"
        }
      },
      "source": [
        "## Step 2: Create FlotorchADKAgent with Memory\n",
        "\n",
        "Now we create the FlotorchADKAgent with memory enabled.\n"
      ]
    },
    {
      "cell_type": "code",
      "execution_count": 62,
      "metadata": {},
      "outputs": [
        {
          "name": "stdout",
          "output_type": "stream",
          "text": [
            "✓ FlotorchADKAgent with memory created\n"
          ]
        }
      ],
      "source": [
        "# Create FlotorchADKAgent with memory enabled\n",
        "adk_client = FlotorchADKAgent(\n",
        "    agent_name=\"flotorch_workflow_agent\",\n",
        "    enable_memory=True  # This is the key difference - memory is enabled\n",
        ")\n",
        "\n",
        "# Get the agent\n",
        "agent = adk_client.get_agent()\n",
        "\n",
        "print(\"✓ FlotorchADKAgent with memory created\")\n"
      ]
    },
    {
      "cell_type": "raw",
      "metadata": {
        "vscode": {
          "languageId": "raw"
        }
      },
      "source": [
        "## Step 3: Setup Runner with Memory Service\n",
        "\n",
        "Connect both the agent and memory service to the runner.\n"
      ]
    },
    {
      "cell_type": "code",
      "execution_count": 63,
      "metadata": {},
      "outputs": [
        {
          "name": "stdout",
          "output_type": "stream",
          "text": [
            "✓ Runner setup with memory service complete\n"
          ]
        }
      ],
      "source": [
        "# Setup runner with both agent and memory service\n",
        "session_service = InMemorySessionService()\n",
        "runner = Runner(\n",
        "    agent=agent,\n",
        "    app_name=APP_NAME,\n",
        "    session_service=session_service,\n",
        "    memory_service=memory_service  # This connects memory to the runner\n",
        ")\n",
        "\n",
        "print(\"✓ Runner setup with memory service complete\")\n"
      ]
    },
    {
      "cell_type": "code",
      "execution_count": 64,
      "metadata": {},
      "outputs": [
        {
          "name": "stdout",
          "output_type": "stream",
          "text": [
            "✓ Helper function ready\n"
          ]
        }
      ],
      "source": [
        "# Helper function to send messages\n",
        "def run_single_turn(query, session_id, user_id):\n",
        "    \"\"\"Send message to agent and get response.\"\"\"\n",
        "    content = types.Content(role=\"user\", parts=[types.Part(text=query)])\n",
        "    events = runner.run(user_id=user_id, session_id=session_id, new_message=content)\n",
        "\n",
        "    for event in events:\n",
        "        if event.is_final_response():\n",
        "            if event.content and event.content.parts:\n",
        "                return event.content.parts[0].text\n",
        "    \n",
        "    return \"Sorry, I couldn't process that.\"\n",
        "\n",
        "print(\"✓ Helper function ready\")\n"
      ]
    },
    {
      "cell_type": "markdown",
      "metadata": {
        "vscode": {
          "languageId": "raw"
        }
      },
      "source": [
        "## Test the Complete Workflow\n",
        "\n",
        "Now let's test our complete setup with a conversation.\n"
      ]
    },
    {
      "cell_type": "code",
      "execution_count": 65,
      "metadata": {},
      "outputs": [
        {
          "name": "stdout",
          "output_type": "stream",
          "text": [
            "Complete workflow ready! Session: 5c89f86e-c07d-4adc-a013-822e6c22c880\n"
          ]
        }
      ],
      "source": [
        "# Create session and start conversation\n",
        "async def start_conversation():\n",
        "    session = await runner.session_service.create_session(\n",
        "        app_name=APP_NAME,\n",
        "        user_id=USER_ID,\n",
        "    )\n",
        "    \n",
        "    print(f\"Complete workflow ready! Session: {session.id}\")\n",
        "    return session\n",
        "\n",
        "# Start the conversation\n",
        "session = await start_conversation()\n"
      ]
    },
    {
      "cell_type": "code",
      "execution_count": 66,
      "metadata": {},
      "outputs": [
        {
          "name": "stdout",
          "output_type": "stream",
          "text": [
            "=== Testing Complete Workflow ===\n",
            "You: Hello! I'm John and I work as a data scientist.\n",
            "Flotorch AI: Hello, John! It's great to meet you. As a data scientist, you must have some interesting projects. If there's anything specific you'd like to discuss or any questions you have, feel free to share!\n"
          ]
        }
      ],
      "source": [
        "# Simple chat function\n",
        "def chat(message):\n",
        "    \"\"\"Chat with the complete workflow agent.\"\"\"\n",
        "    response = run_single_turn(message, session.id, USER_ID)\n",
        "    print(f\"You: {message}\")\n",
        "    print(f\"Flotorch AI: {response}\")\n",
        "    \n",
        "\n",
        "# Have a conversation\n",
        "print(\"=== Testing Complete Workflow ===\")\n",
        "chat(\"Hello! I'm John and I work as a data scientist.\")\n"
      ]
    },
    {
      "cell_type": "code",
      "execution_count": 67,
      "metadata": {},
      "outputs": [
        {
          "name": "stdout",
          "output_type": "stream",
          "text": [
            "\n",
            "----------------------------------------\n",
            "You: I'm working on a machine learning project about customer behavior.\n",
            "Flotorch AI: That sounds fascinating, John! Understanding customer behavior can provide valuable insights for businesses. Are you focusing on any particular aspects of customer behavior, like purchasing patterns or engagement metrics?\n"
          ]
        }
      ],
      "source": [
        "# Continue the conversation\n",
        "print(\"\\n\" + \"-\"*40)\n",
        "chat(\"I'm working on a machine learning project about customer behavior.\")\n"
      ]
    },
    {
      "cell_type": "code",
      "execution_count": 68,
      "metadata": {},
      "outputs": [
        {
          "name": "stdout",
          "output_type": "stream",
          "text": [
            "Saving conversation to memory...\n",
            "✓ Conversation saved to memory!\n"
          ]
        }
      ],
      "source": [
        "# Store the conversation in memory\n",
        "async def save_conversation():\n",
        "    print(\"Saving conversation to memory...\")\n",
        "    \n",
        "    completed_session = await runner.session_service.get_session(\n",
        "        app_name=APP_NAME,\n",
        "        user_id=USER_ID,\n",
        "        session_id=session.id\n",
        "    )\n",
        "    \n",
        "    await memory_service.add_session_to_memory(completed_session)\n",
        "    print(\"✓ Conversation saved to memory!\")\n",
        "\n",
        "# Save the conversation\n",
        "await save_conversation()\n"
      ]
    },
    {
      "cell_type": "markdown",
      "metadata": {
        "vscode": {
          "languageId": "raw"
        }
      },
      "source": [
        "## Test Memory Recall\n",
        "\n",
        "Let's create a new session to see if the agent remembers our previous conversation.\n"
      ]
    },
    {
      "cell_type": "code",
      "execution_count": 69,
      "metadata": {},
      "outputs": [
        {
          "name": "stdout",
          "output_type": "stream",
          "text": [
            "New session created: 7c2f2bdc-b961-431d-9ce6-2ef5c28568e4\n",
            "You: What do you remember about me?\n",
            "Flotorch AI: I remember that your name is John and you work as a data scientist. If there's anything specific you'd like to discuss or ask about, feel free to let me know!\n"
          ]
        }
      ],
      "source": [
        "# Create new session to test memory\n",
        "async def test_memory():\n",
        "    new_session = await runner.session_service.create_session(\n",
        "        app_name=APP_NAME,\n",
        "        user_id=USER_ID,\n",
        "    )\n",
        "    \n",
        "    print(f\"New session created: {new_session.id}\")\n",
        "    \n",
        "    # Test if agent remembers\n",
        "    response = run_single_turn(\"What do you remember about me?\", new_session.id, USER_ID)\n",
        "    print(f\"You: What do you remember about me?\")\n",
        "    print(f\"Flotorch AI: {response}\")\n",
        "\n",
        "# Test memory recall\n",
        "await test_memory()\n"
      ]
    },
    {
      "cell_type": "markdown",
      "metadata": {
        "vscode": {
          "languageId": "raw"
        }
      },
      "source": [
        "## Summary\n",
        "\n",
        "This complete workflow demonstrates:\n",
        "- ✓ FlotorchADKAgent with memory enabled\n",
        "- ✓ FlotorchMemoryService for storing conversations\n",
        "- ✓ Memory recall across different sessions\n",
        "- ✓ Complete integration of all components\n",
        "\n",
        "**This combines everything from examples 1-4 into one complete solution!**\n",
        "\n",
        "You can use `chat(\"your message\")` to continue chatting with the complete workflow.\n"
      ]
    }
  ],
  "metadata": {
    "kernelspec": {
      "display_name": "venv",
      "language": "python",
      "name": "python3"
    },
    "language_info": {
      "codemirror_mode": {
        "name": "ipython",
        "version": 3
      },
      "file_extension": ".py",
      "mimetype": "text/x-python",
      "name": "python",
      "nbconvert_exporter": "python",
      "pygments_lexer": "ipython3",
      "version": "3.11.0"
    }
  },
  "nbformat": 4,
  "nbformat_minor": 2
}