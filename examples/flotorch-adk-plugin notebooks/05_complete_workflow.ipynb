{
 "cells": [
  {
   "cell_type": "markdown",
   "id": "d5a1860c",
   "metadata": {},
   "source": [
    "# A Production-Ready Workflow with Flotorch ADK\n",
    "\n",
    "This notebook demonstrates a comprehensive, production-ready implementation that combines all advanced features of the Flotorch ADK. We will build a sophisticated agent that leverages a hybrid model:\n",
    "\n",
    "- **Remote Configuration**: Its core persona is loaded from the Flotorch UI using `FlotorchADKAgent`.\n",
    "- **Local Augmentation**: It is enhanced at runtime with locally-defined custom tools.\n",
    "- **Full Memory Stack**: It is equipped with both short-term session memory and long-term persistent knowledge.\n",
    "\n",
    "### Prerequesit\n",
    "Configure agent, memory provider and API key in Flotroch console (https://console.flotorch.cloud/)\n",
    "\n",
    "### Viewing logs\n",
    "Logs can be viewed in logs tab in Flotroch console (https://console.flotorch.cloud/)"
   ]
  },
  {
   "cell_type": "markdown",
   "id": "4d98003e",
   "metadata": {},
   "source": [
    "## 1. Environment Setup and Imports\n",
    "\n",
    "The following cells install dependencies, define API credentials, and import all necessary components for handling a complete workflow, including agent clients, memory services, session managers, and tools."
   ]
  },
  {
   "cell_type": "code",
   "execution_count": null,
   "id": "ca3d0a27",
   "metadata": {},
   "outputs": [],
   "source": [
    "# install flotorch adk package\n",
    "%pip install --pre flotorch[adk]"
   ]
  },
  {
   "cell_type": "code",
   "execution_count": null,
   "id": "820c8c4e",
   "metadata": {},
   "outputs": [],
   "source": [
    "FLOTORCH_API_KEY = \"<flotorch api key>\"\n",
    "FLOTORCH_BASE_URL = \"<flotroch gateway base url>\" # eg: https://gateway.flotorch.cloud\"\n",
    "AGENT_NAME = \"<flotorch agent name>\"\n",
    "MEMORY_PROVIDER = \"<flotorch memory provider>\"\n",
    "APP_NAME = \"flotorch_tools_example\"\n",
    "USER_ID = \"flotorch_user_001\""
   ]
  },
  {
   "cell_type": "code",
   "execution_count": null,
   "id": "6d37c8e0",
   "metadata": {},
   "outputs": [],
   "source": [
    "# Import necessary libraries\n",
    "from flotorch.adk.agent import FlotorchADKAgent\n",
    "from flotorch.adk.memory import FlotorchMemoryService\n",
    "from flotorch.adk.sessions import FlotorchADKSession\n",
    "from google.adk import Runner\n",
    "from google.genai import types\n",
    "from google.adk.tools import FunctionTool\n",
    "\n",
    "print(\"Imported necessary libraries successfully\")"
   ]
  },
  {
   "cell_type": "markdown",
   "id": "0cb9ea98",
   "metadata": {},
   "source": [
    "## 2. Defining Local Tools and Memory Services\n",
    "\n",
    "Before initializing the agent, we prepare its local components. This includes defining a Python function for a custom tool (`comprehensive_text_analyzer`) and initializing the services that will handle the agent's long-term (`FlotorchMemoryService`) and short-term (`FlotorchADKSession`) memory."
   ]
  },
  {
   "cell_type": "code",
   "execution_count": null,
   "id": "8cda86d1",
   "metadata": {},
   "outputs": [],
   "source": [
    "def comprehensive_text_analyzer(text: str) -> str:\n",
    "    \"\"\"Comprehensive text analysis with detailed statistics.\"\"\"\n",
    "    word_count = len(text.split())\n",
    "    char_count = len(text)\n",
    "    char_count_no_spaces = len(text.replace(' ', ''))\n",
    "    sentences = text.count('.') + text.count('!') + text.count('?')\n",
    "    paragraphs = text.count('\\n\\n') + 1\n",
    "    avg_word_length = sum(len(word) for word in text.split()) / word_count if word_count > 0 else 0\n",
    "    \n",
    "    return f\"\"\"Comprehensive Text Analysis:\n",
    "                - Word Count: {word_count}\n",
    "                - Character Count (with spaces): {char_count}\n",
    "                - Character Count (without spaces): {char_count_no_spaces}\n",
    "                - Sentence Count: {sentences}\n",
    "                - Paragraph Count: {paragraphs}\n",
    "                - Average Word Length: {avg_word_length:.2f} characters\"\"\"\n",
    "\n",
    "custom_tools = [FunctionTool(func=comprehensive_text_analyzer)]\n",
    "\n",
    "print(\"Advanced custom tools is created\")"
   ]
  },
  {
   "cell_type": "code",
   "execution_count": null,
   "id": "6d49137c",
   "metadata": {},
   "outputs": [],
   "source": [
    "# Initialize Memory\n",
    "memory_service = FlotorchMemoryService(\n",
    "    name=MEMORY_PROVIDER, \n",
    "    api_key=FLOTORCH_API_KEY,\n",
    "    base_url=FLOTORCH_BASE_URL\n",
    ")\n",
    "\n",
    "# Initialize Session\n",
    "session_service = FlotorchADKSession(\n",
    "    api_key=FLOTORCH_API_KEY, base_url=FLOTORCH_BASE_URL\n",
    ")\n",
    "\n",
    "print(\"Initialized Memory and Session\")"
   ]
  },
  {
   "cell_type": "markdown",
   "id": "a6b9d7c6",
   "metadata": {},
   "source": [
    "## 3. Initializing the Agent with Local Augmentations\n",
    "\n",
    "Here, we initialize the `FlotorchADKAgent`. The client fetches the agent's base configuration from the platform, and we enhance it at runtime by passing two key arguments:\n",
    "\n",
    "- `custom_tools`: Provides the agent with our locally defined text analyzer tool.\n",
    "- `enable_memory=True`: Activates the agent's built-in ability to use the long-term memory service."
   ]
  },
  {
   "cell_type": "code",
   "execution_count": null,
   "id": "fee71cb6",
   "metadata": {},
   "outputs": [],
   "source": [
    "flotorch_client = FlotorchADKAgent(\n",
    "    agent_name=AGENT_NAME,\n",
    "    api_key=FLOTORCH_API_KEY,\n",
    "    base_url=FLOTORCH_BASE_URL,\n",
    "    enable_memory=True,\n",
    "    custom_tools=custom_tools\n",
    ")\n",
    "\n",
    "agent = flotorch_client.get_agent()\n",
    "print(f\"Advanced FlotorchADKAgent '{agent.name}' created.\")"
   ]
  },
  {
   "cell_type": "markdown",
   "id": "7703bb7c",
   "metadata": {},
   "source": [
    "## 4. Assembling and Running the Complete Workflow\n",
    "\n",
    "Finally, we set up the `Runner`, providing it with our fully-augmented agent and both the session and memory services. The interactive chat below will demonstrate the agent's ability to seamlessly use its custom tools and recall information from past sessions, showcasing the power of this integrated architecture."
   ]
  },
  {
   "cell_type": "code",
   "execution_count": null,
   "id": "44c01547",
   "metadata": {},
   "outputs": [],
   "source": [
    "runner = Runner(\n",
    "    agent=agent,\n",
    "    app_name=APP_NAME,\n",
    "    session_service=session_service,\n",
    "    memory_service=memory_service\n",
    ")\n",
    "\n",
    "async def chat_with_agent(query,session_id):\n",
    "    \"\"\"\n",
    "    Chat function that returns the agent's response and saves the interaction to memory.\n",
    "    \"\"\"\n",
    "    content = types.Content(role=\"user\", parts=[types.Part(text=query)])\n",
    "    events = runner.run(user_id=USER_ID, session_id=session_id, new_message=content)\n",
    "    for event in events:\n",
    "        if event.is_final_response():\n",
    "            if event.content and event.content.parts:\n",
    "                # Save the session to memory after getting a response\n",
    "                completed_session = await runner.session_service.get_session(app_name=APP_NAME, user_id=USER_ID, session_id=session_id)\n",
    "                await memory_service.add_session_to_memory(completed_session)\n",
    "                return event.content.parts[0].text\n",
    "    return \"Sorry, I couldn't process that request.\"\n",
    "\n",
    "print(\"Comprehensive runner configured successfully.\")"
   ]
  },
  {
   "cell_type": "code",
   "execution_count": null,
   "id": "93663f9d",
   "metadata": {},
   "outputs": [],
   "source": [
    "# === Session 1: Teach the agent a fact and use a tool ===\n",
    "session1 = await runner.session_service.create_session(app_name=APP_NAME, user_id=USER_ID)\n",
    "print(f\"Started Session 1 with ID: {session1.id}\\n\")\n",
    "\n",
    "response1 = await chat_with_agent(\"My name is Vijay and I am a software engineer\", session1.id)\n",
    "print(\"user: My name is Vijay and I am a software engineer.\")\n",
    "print(f\"Response: {response1}\")\n",
    "\n",
    "response2 = await chat_with_agent(\"Analyze this text: 'The weather is sunny today outside.'\", session1.id)\n",
    "print(f\"\\nQuery: Analyze this text: 'The weather is sunny today outside.'\")\n",
    "print(f\"Response: {response2}\")\n",
    "\n",
    "print(\"--- Session 1 ended and memory saved ---\")"
   ]
  },
  {
   "cell_type": "code",
   "execution_count": null,
   "id": "162e5db8",
   "metadata": {},
   "outputs": [],
   "source": [
    "# === Session 2: Start a new conversation and recall the fact ===\n",
    "session2 = await runner.session_service.create_session(app_name=APP_NAME, user_id=USER_ID)\n",
    "print(f\"\\nStarted Session 2 with ID: {session2.id}\\n\")\n",
    "\n",
    "response2 = await chat_with_agent(\"What is my name?\", session2.id)\n",
    "print(f\"Query: What is my name?\")\n",
    "print(f\"Response: {response2}\")"
   ]
  },
  {
   "cell_type": "markdown",
   "id": "f439b998",
   "metadata": {},
   "source": [
    "## Summary\n",
    "\n",
    "This notebook provided a template for a comprehensive, production-ready AI agent. By combining remote configuration management with the flexibility of local custom tools and a powerful dual-memory system, this architecture allows for the creation of scalable, maintainable, and highly capable AI applications.\n",
    "\n",
    "### Key Achievements:\n",
    "\n",
    "- **Hybrid Agent Model**: We successfully loaded a base agent from the Flotorch UI using `FlotorchADKAgent` and dynamically augmented it with locally-defined tools, combining the benefits of centralized management and local flexibility.\n",
    "- **Integrated Intelligence**: The agent seamlessly handled tasks requiring either its innate knowledge, its custom tools, or its long-term memory, demonstrating a comprehensive problem-solving ability.\n",
    "- **Scalable Architecture**: This pattern of separating agent configuration from the core application logic while allowing for runtime augmentation is highly scalable and maintainable, making it ideal for real-world deployment."
   ]
  }
 ],
 "metadata": {
  "kernelspec": {
   "display_name": "venv",
   "language": "python",
   "name": "python3"
  },
  "language_info": {
   "codemirror_mode": {
    "name": "ipython",
    "version": 3
   },
   "file_extension": ".py",
   "mimetype": "text/x-python",
   "name": "python",
   "nbconvert_exporter": "python",
   "pygments_lexer": "ipython3",
   "version": "3.11.0"
  }
 },
 "nbformat": 4,
 "nbformat_minor": 5
}
