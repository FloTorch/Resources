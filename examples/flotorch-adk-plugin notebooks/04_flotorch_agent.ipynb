{
  "cells": [
    {
      "cell_type": "markdown",
      "metadata": {
        "vscode": {
          "languageId": "raw"
        }
      },
      "source": [
        "# Flotorch ADK - UI-Configured Agent Example\n",
        "\n",
        "This notebook returns an agent configured from the Flotorch UI.\n",
        "Currently using hardcoded configuration in FlotorchADKAgent.\n",
        "\n",
        "## Usage\n",
        "1. Run mcp_server.py (provides 3 tools: Weather NYC, Time NYC, Capitals)\n",
        "2. Run this notebook\n",
        "\n",
        "## Alternative\n",
        "Use custom config instead of hardcoded configuration.\n",
        "\n",
        "## Requirements\n",
        "- FLOTORCH_API_KEY and FLOTORCH_BASE_URL environment variables\n",
        "- MCP server running for tools\n"
      ]
    },
    {
      "cell_type": "markdown",
      "metadata": {},
      "source": [
        "# Setup and imports\n",
        "import asyncio\n",
        "import os\n",
        "import sys\n",
        "from dotenv import load_dotenv\n",
        "\n",
        "# Load environment variables\n",
        "load_dotenv()\n",
        "\n",
        "# Add project path\n",
        "sys.path.append(os.path.join(os.path.dirname(os.getcwd()), '..', '..'))\n",
        "\n",
        "print(\"✓ Environment setup complete\")\n"
      ]
    },
    {
      "cell_type": "code",
      "execution_count": 2,
      "metadata": {},
      "outputs": [
        {
          "name": "stdout",
          "output_type": "stream",
          "text": [
            "✓ Flotorch ADK imports successful\n"
          ]
        }
      ],
      "source": [
        "# Flotorch imports\n",
        "from flotorch.adk.agent import FlotorchADKAgent\n",
        "from google.adk.sessions import InMemorySessionService\n",
        "from google.adk import Runner\n",
        "from google.genai import types\n",
        "\n",
        "print(\"✓ Flotorch ADK imports successful\")\n"
      ]
    },
    {
      "cell_type": "code",
      "execution_count": 3,
      "metadata": {},
      "outputs": [
        {
          "name": "stdout",
          "output_type": "stream",
          "text": [
            "App Name: flotorch_ui_agent_example\n",
            "User ID: flotorch_user_123\n"
          ]
        }
      ],
      "source": [
        "# Configuration\n",
        "APP_NAME = \"flotorch_ui_agent_example\"\n",
        "USER_ID = \"flotorch_user_123\"\n",
        "\n",
        "print(f\"App Name: {APP_NAME}\")\n",
        "print(f\"User ID: {USER_ID}\")\n"
      ]
    },
    {
      "cell_type": "markdown",
      "metadata": {
        "vscode": {
          "languageId": "raw"
        }
      },
      "source": [
        "## Custom Configuration (Optional)\n",
        "\n",
        "You can provide custom agent configuration instead of using hardcoded settings.\n"
      ]
    },
    {
      "cell_type": "code",
      "execution_count": 4,
      "metadata": {},
      "outputs": [
        {
          "name": "stdout",
          "output_type": "stream",
          "text": [
            "✓ Custom config defined\n"
          ]
        }
      ],
      "source": [
        "# Optional: Custom config (alternative to hardcoded configuration)\n",
        "config = {\n",
        "    \"name\": \"sample_agent\",\n",
        "    \"description\": \"Example Flotorch agent with user friendly assistance\",\n",
        "    \"systemPrompt\": \"you are a helpful assistant\",\n",
        "    \"llm\": {\n",
        "        \"callableName\": \"openai/gpt-4o-mini\"\n",
        "    }\n",
        "}\n",
        "\n",
        "print(\"✓ Custom config defined\")\n"
      ]
    },
    {
      "cell_type": "code",
      "execution_count": 12,
      "metadata": {},
      "outputs": [
        {
          "name": "stdout",
          "output_type": "stream",
          "text": [
            "✓ FlotorchADKAgent client created\n"
          ]
        }
      ],
      "source": [
        "# Access agent configured from Flotorch UI\n",
        "# Currently hardcoded in FlotorchADKAgent\n",
        "# Requires MCP server for tools (Weather NYC, Time NYC, Capitals)\n",
        "flotorch_adk_client = FlotorchADKAgent(\n",
        "    agent_name=\"flotorch_assistant\",\n",
        "    enable_memory=False,\n",
        "    # config=config  # Use custom config or remove for hardcoded\n",
        ")\n",
        "\n",
        "print(\"✓ FlotorchADKAgent client created\")\n"
      ]
    },
    {
      "cell_type": "code",
      "execution_count": 13,
      "metadata": {},
      "outputs": [
        {
          "name": "stdout",
          "output_type": "stream",
          "text": [
            "✓ Agent retrieved from UI configuration\n"
          ]
        }
      ],
      "source": [
        "# Get the configured agent from UI\n",
        "agent = flotorch_adk_client.get_agent()\n",
        "\n",
        "print(\"✓ Agent retrieved from UI configuration\")\n"
      ]
    },
    {
      "cell_type": "code",
      "execution_count": 14,
      "metadata": {},
      "outputs": [
        {
          "name": "stdout",
          "output_type": "stream",
          "text": [
            "✓ Runner setup complete\n"
          ]
        }
      ],
      "source": [
        "# Setup runner\n",
        "session_service = InMemorySessionService()\n",
        "runner = Runner(\n",
        "    agent=agent,\n",
        "    app_name=APP_NAME,\n",
        "    session_service=session_service\n",
        ")\n",
        "\n",
        "print(\"✓ Runner setup complete\")\n"
      ]
    },
    {
      "cell_type": "code",
      "execution_count": 15,
      "metadata": {},
      "outputs": [
        {
          "name": "stdout",
          "output_type": "stream",
          "text": [
            "✓ Helper function defined\n"
          ]
        }
      ],
      "source": [
        "# Helper function to send messages\n",
        "def run_single_turn(query, session_id, user_id):\n",
        "    \"\"\"Send message to Flotorch UI agent.\"\"\"\n",
        "    content = types.Content(role=\"user\", parts=[types.Part(text=query)])\n",
        "    events = runner.run(\n",
        "        user_id=user_id, \n",
        "        session_id=session_id, \n",
        "        new_message=content\n",
        "    )\n",
        "\n",
        "    for event in events:\n",
        "        if event.is_final_response():\n",
        "            if event.content and event.content.parts:\n",
        "                return event.content.parts[0].text\n",
        "    \n",
        "    return \"Sorry, I couldn't process that.\"\n",
        "\n",
        "print(\"✓ Helper function defined\")\n"
      ]
    },
    {
      "cell_type": "code",
      "execution_count": 16,
      "metadata": {},
      "outputs": [
        {
          "name": "stdout",
          "output_type": "stream",
          "text": [
            "Flotorch UI agent ready! Session: 3788e97c-4786-46e8-933d-1cebd8a3d428\n",
            "Tools available: Weather NYC, Time NYC, Capitals\n",
            "\n",
            "User: Hello! Can you help me?\n",
            "Flotorch AI: Of course! How can I assist you today?\n"
          ]
        }
      ],
      "source": [
        "# Create session and test UI agent\n",
        "async def test_ui_agent():\n",
        "    session = await runner.session_service.create_session(\n",
        "        app_name=APP_NAME,\n",
        "        user_id=USER_ID,\n",
        "    )\n",
        "    \n",
        "    print(f\"Flotorch UI agent ready! Session: {session.id}\")\n",
        "    print(\"Tools available: Weather NYC, Time NYC, Capitals\")\n",
        "    \n",
        "    # Test with a simple message\n",
        "    test_message = \"Hello! Can you help me?\"\n",
        "    response = run_single_turn(test_message, session.id, USER_ID)\n",
        "    \n",
        "    print(f\"\\nUser: {test_message}\")\n",
        "    print(f\"Flotorch AI: {response}\")\n",
        "    \n",
        "    return session\n",
        "\n",
        "# Run the test\n",
        "session = await test_ui_agent()\n"
      ]
    },
    {
      "cell_type": "code",
      "execution_count": 17,
      "metadata": {},
      "outputs": [
        {
          "name": "stdout",
          "output_type": "stream",
          "text": [
            "=== Testing MCP Tools (requires mcp_server.py) ===\n",
            "Note: Make sure MCP server is running for these to work\n",
            "\n",
            "--- Weather Tool ---\n",
            "You: What's the weather in New York?\n",
            "Flotorch AI: The weather in New York is sunny with a temperature of 30 degrees Celsius.\n",
            "\n",
            "--- Time Tool ---\n",
            "You: What time is it in New York?\n",
            "Flotorch AI: The current time in New York is 2025-07-28 08:16:13 EDT-0400.\n",
            "\n",
            "--- Capitals Tool ---\n",
            "You: What's the capital of France?\n",
            "Flotorch AI: The capital of France is Paris.\n"
          ]
        },
        {
          "data": {
            "text/plain": [
              "'The capital of France is Paris.'"
            ]
          },
          "execution_count": 17,
          "metadata": {},
          "output_type": "execute_result"
        }
      ],
      "source": [
        "# Interactive chat function with UI agent\n",
        "def chat_with_ui_agent(message):\n",
        "    \"\"\"Simple function to chat with the UI-configured agent.\"\"\"\n",
        "    response = run_single_turn(message, session.id, USER_ID)\n",
        "    print(f\"You: {message}\")\n",
        "    print(f\"Flotorch AI: {response}\")\n",
        "    return response\n",
        "\n",
        "# Try the MCP tools (if MCP server is running)\n",
        "print(\"=== Testing MCP Tools (requires mcp_server.py) ===\")\n",
        "print(\"Note: Make sure MCP server is running for these to work\")\n",
        "\n",
        "print(\"\\n--- Weather Tool ---\")\n",
        "chat_with_ui_agent(\"What's the weather in New York?\")\n",
        "\n",
        "print(\"\\n--- Time Tool ---\")\n",
        "chat_with_ui_agent(\"What time is it in New York?\")\n",
        "\n",
        "print(\"\\n--- Capitals Tool ---\")\n",
        "chat_with_ui_agent(\"What's the capital of France?\")\n"
      ]
    },
    {
      "cell_type": "markdown",
      "metadata": {
        "vscode": {
          "languageId": "raw"
        }
      },
      "source": [
        "## Summary\n",
        "\n",
        "This notebook demonstrated:\n",
        "- ✓ Using FlotorchADKAgent with UI configuration\n",
        "- ✓ Custom config option as alternative to hardcoded settings\n",
        "- ✓ Accessing pre-configured agents from Flotorch UI\n",
        "- ✓ Testing MCP tools integration (Weather NYC, Time NYC, Capitals)\n",
        "\n",
        "**Note**: For MCP tools to work, make sure to run `mcp_server.py` first!\n",
        "\n",
        "You can now use `chat_with_ui_agent(\"your message\")` to interact with the UI-configured agent!\n"
      ]
    }
  ],
  "metadata": {
    "kernelspec": {
      "display_name": "venv",
      "language": "python",
      "name": "python3"
    },
    "language_info": {
      "codemirror_mode": {
        "name": "ipython",
        "version": 3
      },
      "file_extension": ".py",
      "mimetype": "text/x-python",
      "name": "python",
      "nbconvert_exporter": "python",
      "pygments_lexer": "ipython3",
      "version": "3.11.0"
    }
  },
  "nbformat": 4,
  "nbformat_minor": 2
}