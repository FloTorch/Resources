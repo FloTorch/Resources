{
 "cells": [
  {
   "cell_type": "markdown",
   "id": "6a0eb013",
   "metadata": {},
   "source": [
    "# Simplified Agent Creation with `FlotorchADKAgent`\n",
    "\n",
    "This notebook demonstrates the streamlined approach to creating agents using the `FlotorchADKAgent` client. This powerful feature allows you to manage your agent's core configuration (its name, instructions, and persona) on the Flotorch platform UI and then load it directly into your application code.\n",
    "\n",
    "### Prerequesit\n",
    "Configure agent, API key in Flotroch console (https://console.flotorch.cloud/)\n",
    "\n",
    "### Viewing logs\n",
    "Logs can be viewed in logs tab in Flotroch console (https://console.flotorch.cloud/)\n",
    "\n",
    "### Key Advantage:\n",
    "\n",
    "The primary benefit is the **decoupling of configuration from code**. You can update your agent's behavior, instructions, or model choice through a user-friendly interface without ever needing to change and redeploy your application code. This notebook focuses on this core capability in its simplest form."
   ]
  },
  {
   "cell_type": "markdown",
   "id": "6aa17a01",
   "metadata": {},
   "source": [
    "## 1. Environment Setup and Imports\n",
    "\n",
    "The following cells handle the complete setup of the environment. This includes installing the necessary packages, defining your API credentials, and importing the required components. The key import for this workflow is `FlotorchADKAgent`."
   ]
  },
  {
   "cell_type": "code",
   "execution_count": null,
   "id": "7f9236b9",
   "metadata": {},
   "outputs": [],
   "source": [
    "# install flotorch adk package\n",
    "%pip install --pre flotorch[adk]"
   ]
  },
  {
   "cell_type": "code",
   "execution_count": null,
   "id": "6e95940b",
   "metadata": {},
   "outputs": [],
   "source": [
    "FLOTORCH_API_KEY = \"<flotorch api key>\"\n",
    "FLOTORCH_BASE_URL = \"<flotroch gateway base url>\" # eg: https://gateway.flotorch.cloud\"\n",
    "AGENT_NAME = \"<flotorch agent name>\"\n",
    "APP_NAME = \"flotorch_tools_example\"\n",
    "USER_ID = \"flotorch_user_001\""
   ]
  },
  {
   "cell_type": "code",
   "execution_count": null,
   "id": "d074c487",
   "metadata": {},
   "outputs": [],
   "source": [
    "# import necessary libraries\n",
    "from flotorch.adk.agent import FlotorchADKAgent\n",
    "from flotorch.adk.sessions import FlotorchADKSession\n",
    "from google.adk import Runner\n",
    "from google.genai import types\n",
    "\n",
    "print(\"Imported necessary libraries successfully\")"
   ]
  },
  {
   "cell_type": "markdown",
   "id": "f9f3c13a",
   "metadata": {},
   "source": [
    "## 2. Initializing the Remote Agent\n",
    "\n",
    "This is the core of the simplified workflow. We create an instance of the `FlotorchADKAgent` client, providing only the `agent_name` and API credentials. The client connects to the Flotorch platform and fetches the complete agent configuration that you have defined in the UI. No instructions, tools, or persona details are needed in the code."
   ]
  },
  {
   "cell_type": "code",
   "execution_count": null,
   "id": "246c8677",
   "metadata": {},
   "outputs": [],
   "source": [
    "flotorch_client =  FlotorchADKAgent(\n",
    "        agent_name=AGENT_NAME,\n",
    "        api_key=FLOTORCH_API_KEY,\n",
    "        base_url=FLOTORCH_BASE_URL\n",
    "    )\n",
    "\n",
    "# Initialize the Flotorch agent\n",
    "agent = flotorch_client.get_agent()\n",
    "print(f\"FlotorchADKAgent '{agent.name}' created successfully.\")"
   ]
  },
  {
   "cell_type": "markdown",
   "id": "37cf4658",
   "metadata": {},
   "source": [
    "## 3. Configuring the Runner\n",
    "\n",
    "Next, we configure the `Runner`. This component orchestrates the interaction between the user and the agent. We provide it with our remotely-fetched `agent` and a `FlotorchADKSession` service to handle the short-term memory for the conversation."
   ]
  },
  {
   "cell_type": "code",
   "execution_count": null,
   "id": "7ceb23ac",
   "metadata": {},
   "outputs": [],
   "source": [
    "# Initialize Session\n",
    "session_service = FlotorchADKSession(\n",
    "    api_key=FLOTORCH_API_KEY,\n",
    "    base_url=FLOTORCH_BASE_URL\n",
    ")\n",
    "    \n",
    "# Initialize runner\n",
    "runner = Runner(\n",
    "        agent=agent,\n",
    "        app_name=APP_NAME,\n",
    "        session_service=session_service\n",
    "    )\n",
    "\n",
    "print(\"Runner configured successfully for FlotorchADKAgent.\")"
   ]
  },
  {
   "cell_type": "markdown",
   "id": "34be0173",
   "metadata": {},
   "source": [
    "## 4. Interactive Chat\n",
    "\n",
    "With the setup complete, you can now interact with your agent. The agent's responses and behavior are governed by the instructions and settings you defined on the Flotorch platform UI, not by any code written in this notebook."
   ]
  },
  {
   "cell_type": "code",
   "execution_count": null,
   "id": "0c169a5a",
   "metadata": {},
   "outputs": [],
   "source": [
    "def run_single_turn(query, session_id, user_id, runner):\n",
    "    \"\"\"\n",
    "    Send a message to the FlotorchADKAgent and get the response.\n",
    "    \"\"\"\n",
    "    content = types.Content(role=\"user\", parts=[types.Part(text=query)])\n",
    "    events = runner.run(user_id=user_id, session_id=session_id, new_message=content)\n",
    "\n",
    "    for event in events:\n",
    "        if event.is_final_response():\n",
    "            if event.content and event.content.parts:\n",
    "                return event.content.parts[0].text\n",
    "    \n",
    "    return \"Sorry, I couldn't process that request.\"\n",
    "\n",
    "async def chat_with_agent(query,session_id):\n",
    "    \"\"\"\n",
    "    Chat function that takes a user query and returns the FlotorchADKAgent's response.\n",
    "    \"\"\"\n",
    "    response = run_single_turn(query, session_id, USER_ID, runner)\n",
    "    return response\n",
    "\n",
    "print(\"Chat function ready. Use chat_with_agent('your query') to interact with the FlotorchADKAgent.\")"
   ]
  },
  {
   "cell_type": "code",
   "execution_count": null,
   "id": "55e80d92",
   "metadata": {},
   "outputs": [],
   "source": [
    "# Example: Basic interaction\n",
    "session = await runner.session_service.create_session(\n",
    "        app_name=APP_NAME,\n",
    "        user_id=USER_ID,\n",
    "    )\n",
    "response = await chat_with_agent(\"Hello, I am John\",session.id)\n",
    "print(f\"Query: Hello, I am John\")\n",
    "print(f\"Response: {response}\")"
   ]
  },
  {
   "cell_type": "markdown",
   "id": "1cc8a235",
   "metadata": {},
   "source": [
    "## Summary\n",
    "\n",
    "This notebook demonstrated the power and simplicity of using `FlotorchADKAgent` to drive AI applications. By centralizing the agent's configuration on the Flotorch platform, we created a more flexible, maintainable, and scalable system.\n",
    "\n",
    "### Key Achievements:\n",
    "\n",
    "- **Simplified Codebase**: We successfully instantiated a fully functional agent with minimal code, as its core logic (persona, instructions) resides on the Flotorch platform.\n",
    "- **Decoupled Architecture**: This workflow effectively separates the agent's behavioral configuration from the application's operational code, allowing different teams to manage each component independently.\n",
    "- **Agile Development**: Agent behavior can be tweaked, tested, and updated through the Flotorch UI without requiring any code changes or service redeployments, accelerating the development lifecycle."
   ]
  }
 ],
 "metadata": {
  "kernelspec": {
   "display_name": "venv",
   "language": "python",
   "name": "python3"
  },
  "language_info": {
   "codemirror_mode": {
    "name": "ipython",
    "version": 3
   },
   "file_extension": ".py",
   "mimetype": "text/x-python",
   "name": "python",
   "nbconvert_exporter": "python",
   "pygments_lexer": "ipython3",
   "version": "3.11.0"
  }
 },
 "nbformat": 4,
 "nbformat_minor": 5
}
