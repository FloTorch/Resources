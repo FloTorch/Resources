{
  "cells": [
    {
      "cell_type": "markdown",
      "metadata": {
        "vscode": {
          "languageId": "raw"
        }
      },
      "source": [
        "# Flotorch ADK - Agent with Tools Example\n",
        "\n",
        "This notebook demonstrates how to create a Flotorch agent with custom tools.\n",
        "The agent can use calculator, time, and text analysis tools.\n",
        "\n",
        "## Requirements\n",
        "- FLOTORCH_API_KEY environment variable\n",
        "- FLOTORCH_BASE_URL environment variable\n"
      ]
    },
    {
      "cell_type": "code",
      "execution_count": null,
      "metadata": {},
      "outputs": [
        {
          "name": "stdout",
          "output_type": "stream",
          "text": [
            "✓ Environment setup complete\n"
          ]
        }
      ],
      "source": [
        "# Setup and imports\n",
        "import asyncio\n",
        "import os\n",
        "import sys\n",
        "from datetime import datetime\n",
        "from dotenv import load_dotenv\n",
        "\n",
        "# Load environment variables\n",
        "load_dotenv()\n",
        "\n",
        "print(\"✓ Environment setup complete\")\n"
      ]
    },
    {
      "cell_type": "code",
      "execution_count": 3,
      "metadata": {},
      "outputs": [
        {
          "name": "stdout",
          "output_type": "stream",
          "text": [
            "✓ Flotorch ADK imports successful\n"
          ]
        }
      ],
      "source": [
        "# Flotorch ADK imports\n",
        "from flotorch.adk.llm import FlotorchADKLLM\n",
        "from google.adk.agents import LlmAgent\n",
        "from google.adk.tools import FunctionTool\n",
        "from google.adk.sessions import InMemorySessionService\n",
        "from google.adk import Runner\n",
        "\n",
        "print(\"✓ Flotorch ADK imports successful\")\n"
      ]
    },
    {
      "cell_type": "code",
      "execution_count": 4,
      "metadata": {},
      "outputs": [
        {
          "name": "stdout",
          "output_type": "stream",
          "text": [
            "App Name: flotorch_tools_example\n",
            "User ID: flotorch_user_456\n"
          ]
        }
      ],
      "source": [
        "# Configuration\n",
        "APP_NAME = \"flotorch_tools_example\"\n",
        "USER_ID = \"flotorch_user_456\"\n",
        "\n",
        "print(f\"App Name: {APP_NAME}\")\n",
        "print(f\"User ID: {USER_ID}\")\n"
      ]
    },
    {
      "cell_type": "markdown",
      "metadata": {
        "vscode": {
          "languageId": "raw"
        }
      },
      "source": [
        "## Define Custom Tools\n",
        "\n",
        "We'll create three useful tools:\n",
        "1. **Calculator** - Safe math calculations\n",
        "2. **Current Time** - Get current date and time\n",
        "3. **Text Analyzer** - Analyze text statistics\n"
      ]
    },
    {
      "cell_type": "code",
      "execution_count": 5,
      "metadata": {},
      "outputs": [
        {
          "name": "stdout",
          "output_type": "stream",
          "text": [
            "Testing calculator function:\n",
            "Result: 14\n",
            "Result: 5.0\n"
          ]
        }
      ],
      "source": [
        "# Tool 1: Calculator\n",
        "def calculator(expression: str) -> str:\n",
        "    \"\"\"Calculate basic math expressions safely.\n",
        "    \n",
        "    Args:\n",
        "        expression: Math expression to calculate (e.g., '2 + 3 * 4')\n",
        "        \n",
        "    Returns:\n",
        "        str: The calculation result or error message\n",
        "    \"\"\"\n",
        "    try:\n",
        "        allowed_chars = set('0123456789+-*/.() ')\n",
        "        if not all(c in allowed_chars for c in expression):\n",
        "            return \"Error: Only basic math operations allowed\"\n",
        "        \n",
        "        result = eval(expression)\n",
        "        return f\"Result: {result}\"\n",
        "    except Exception as e:\n",
        "        return f\"Error: {str(e)}\"\n",
        "\n",
        "# Test the calculator function\n",
        "print(\"Testing calculator function:\")\n",
        "print(calculator(\"2 + 3 * 4\"))\n",
        "print(calculator(\"10 / 2\"))\n"
      ]
    },
    {
      "cell_type": "code",
      "execution_count": 6,
      "metadata": {},
      "outputs": [
        {
          "name": "stdout",
          "output_type": "stream",
          "text": [
            "Testing time function:\n",
            "Current time: 2025-07-28 17:40:27\n"
          ]
        }
      ],
      "source": [
        "# Tool 2: Current Time\n",
        "def get_current_time() -> str:\n",
        "    \"\"\"Get the current date and time.\n",
        "    \n",
        "    Returns:\n",
        "        str: Current date and time formatted as string\n",
        "    \"\"\"\n",
        "    now = datetime.now()\n",
        "    return f\"Current time: {now.strftime('%Y-%m-%d %H:%M:%S')}\"\n",
        "\n",
        "# Test the time function\n",
        "print(\"Testing time function:\")\n",
        "print(get_current_time())\n"
      ]
    },
    {
      "cell_type": "code",
      "execution_count": 7,
      "metadata": {},
      "outputs": [
        {
          "name": "stdout",
          "output_type": "stream",
          "text": [
            "Testing text analyzer function:\n",
            "Text Analysis:\n",
            "- Words: 6\n",
            "- Characters (with spaces): 28\n",
            "- Characters (without spaces): 23\n",
            "- Sentences: 2\n"
          ]
        }
      ],
      "source": [
        "# Tool 3: Text Analyzer\n",
        "def analyze_text(text: str) -> str:\n",
        "    \"\"\"Analyze text and provide statistics.\n",
        "    \n",
        "    Args:\n",
        "        text: The text to analyze\n",
        "        \n",
        "    Returns:\n",
        "        str: Text analysis with word count, character count, and other stats\n",
        "    \"\"\"\n",
        "    word_count = len(text.split())\n",
        "    char_count = len(text)\n",
        "    char_count_no_spaces = len(text.replace(' ', ''))\n",
        "    sentences = text.count('.') + text.count('!') + text.count('?')\n",
        "    \n",
        "    return f\"\"\"Text Analysis:\n",
        "- Words: {word_count}\n",
        "- Characters (with spaces): {char_count}\n",
        "- Characters (without spaces): {char_count_no_spaces}\n",
        "- Sentences: {sentences}\"\"\"\n",
        "\n",
        "# Test the text analyzer function\n",
        "print(\"Testing text analyzer function:\")\n",
        "print(analyze_text(\"Hello world! This is a test.\"))\n"
      ]
    },
    {
      "cell_type": "code",
      "execution_count": 8,
      "metadata": {},
      "outputs": [
        {
          "name": "stdout",
          "output_type": "stream",
          "text": [
            "✓ Flotorch tools created:\n",
            "  - Calculator tool\n",
            "  - Time tool\n",
            "  - Text analyzer tool\n"
          ]
        }
      ],
      "source": [
        "# Create Flotorch tools using FunctionTool\n",
        "calculator_tool = FunctionTool(func=calculator)\n",
        "time_tool = FunctionTool(func=get_current_time)\n",
        "text_analyzer_tool = FunctionTool(func=analyze_text)\n",
        "\n",
        "print(\"✓ Flotorch tools created:\")\n",
        "print(\"  - Calculator tool\")\n",
        "print(\"  - Time tool\") \n",
        "print(\"  - Text analyzer tool\")\n"
      ]
    },
    {
      "cell_type": "code",
      "execution_count": 9,
      "metadata": {},
      "outputs": [
        {
          "name": "stdout",
          "output_type": "stream",
          "text": [
            "✓ Flotorch LLM model created\n"
          ]
        }
      ],
      "source": [
        "# Create Flotorch LLM model\n",
        "model = FlotorchADKLLM(\n",
        "    model_id=\"openai/gpt-4o-mini\",\n",
        "    api_key=os.getenv(\"FLOTORCH_API_KEY\"),\n",
        "    base_url=os.getenv(\"FLOTORCH_BASE_URL\"),\n",
        ")\n",
        "\n",
        "print(\"✓ Flotorch LLM model created\")\n"
      ]
    },
    {
      "cell_type": "code",
      "execution_count": 10,
      "metadata": {},
      "outputs": [
        {
          "name": "stdout",
          "output_type": "stream",
          "text": [
            "✓ Flotorch agent with tools created\n"
          ]
        }
      ],
      "source": [
        "# Create Flotorch agent with tools\n",
        "agent = LlmAgent(\n",
        "    name=\"Flotorch_Tool_Assistant\",\n",
        "    description=\"A helpful Flotorch AI assistant with calculator, time, and text analysis tools\",\n",
        "    instruction=\"You are Flotorch AI assistant with special tools. You can help with math calculations, tell current time, and analyze text.\",\n",
        "    model=model,\n",
        "    tools=[calculator_tool, time_tool, text_analyzer_tool],\n",
        ")\n",
        "\n",
        "print(\"✓ Flotorch agent with tools created\")\n"
      ]
    },
    {
      "cell_type": "code",
      "execution_count": 11,
      "metadata": {},
      "outputs": [
        {
          "name": "stdout",
          "output_type": "stream",
          "text": [
            "✓ Runner setup complete\n"
          ]
        }
      ],
      "source": [
        "# Setup runner\n",
        "session_service = InMemorySessionService()\n",
        "runner = Runner(\n",
        "    agent=agent,\n",
        "    app_name=APP_NAME,\n",
        "    session_service=session_service\n",
        ")\n",
        "\n",
        "print(\"✓ Runner setup complete\")\n"
      ]
    },
    {
      "cell_type": "code",
      "execution_count": 12,
      "metadata": {},
      "outputs": [
        {
          "name": "stdout",
          "output_type": "stream",
          "text": [
            "✓ Helper function defined\n"
          ]
        }
      ],
      "source": [
        "# Helper function to send messages\n",
        "def run_single_turn(query, session_id, user_id):\n",
        "    \"\"\"Send message to Flotorch agent and get response.\"\"\"\n",
        "    from google.genai import types\n",
        "    \n",
        "    content = types.Content(role=\"user\", parts=[types.Part(text=query)])\n",
        "    events = runner.run(user_id=user_id, session_id=session_id, new_message=content)\n",
        "\n",
        "    for event in events:\n",
        "        if event.is_final_response():\n",
        "            if event.content and event.content.parts:\n",
        "                return event.content.parts[0].text\n",
        "    \n",
        "    return \"Sorry, I couldn't process that.\"\n",
        "\n",
        "print(\"✓ Helper function defined\")\n"
      ]
    },
    {
      "cell_type": "code",
      "execution_count": 13,
      "metadata": {},
      "outputs": [
        {
          "name": "stdout",
          "output_type": "stream",
          "text": [
            "Flotorch agent with tools ready! Session: 653e2a9a-750b-4395-893f-08120acecc4e\n",
            "Available tools: Calculator, Current Time, Text Analyzer\n",
            "\n",
            "User: What's 15 * 7?\n",
            "Flotorch AI: The result of \\( 15 \\times 7 \\) is 105.\n"
          ]
        }
      ],
      "source": [
        "# Create session and test the agent with tools\n",
        "async def test_agent_with_tools():\n",
        "    session = await runner.session_service.create_session(\n",
        "        app_name=APP_NAME,\n",
        "        user_id=USER_ID,\n",
        "    )\n",
        "    \n",
        "    print(f\"Flotorch agent with tools ready! Session: {session.id}\")\n",
        "    print(\"Available tools: Calculator, Current Time, Text Analyzer\")\n",
        "    \n",
        "    # Test calculator tool\n",
        "    test_message = \"What's 15 * 7?\"\n",
        "    response = run_single_turn(test_message, session.id, USER_ID)\n",
        "    print(f\"\\nUser: {test_message}\")\n",
        "    print(f\"Flotorch AI: {response}\")\n",
        "    \n",
        "    return session\n",
        "\n",
        "# Run the test\n",
        "session = await test_agent_with_tools()\n"
      ]
    },
    {
      "cell_type": "code",
      "execution_count": 14,
      "metadata": {},
      "outputs": [
        {
          "name": "stdout",
          "output_type": "stream",
          "text": [
            "=== Testing Calculator Tool ===\n",
            "You: Calculate 25 + 17 * 3\n",
            "Flotorch AI: The result of \\( 25 + 17 \\times 3 \\) is 76.\n",
            "\n",
            "==================================================\n",
            "=== Testing Time Tool ===\n",
            "You: What time is it?\n",
            "Flotorch AI: The current time is 17:40:59 on July 28, 2025.\n",
            "\n",
            "==================================================\n",
            "=== Testing Text Analyzer Tool ===\n",
            "You: Analyze this text: Flotorch makes AI development easy!\n",
            "Flotorch AI: Here's the analysis of the text \"Flotorch makes AI development easy!\":\n",
            "\n",
            "- **Words:** 5\n",
            "- **Characters (with spaces):** 35\n",
            "- **Characters (without spaces):** 31\n",
            "- **Sentences:** 1\n"
          ]
        },
        {
          "data": {
            "text/plain": [
              "'Here\\'s the analysis of the text \"Flotorch makes AI development easy!\":\\n\\n- **Words:** 5\\n- **Characters (with spaces):** 35\\n- **Characters (without spaces):** 31\\n- **Sentences:** 1'"
            ]
          },
          "execution_count": 14,
          "metadata": {},
          "output_type": "execute_result"
        }
      ],
      "source": [
        "# Interactive chat function with tools\n",
        "def chat_with_tools(message):\n",
        "    \"\"\"Simple function to chat with the agent using tools.\"\"\"\n",
        "    response = run_single_turn(message, session.id, USER_ID)\n",
        "    print(f\"You: {message}\")\n",
        "    print(f\"Flotorch AI: {response}\")\n",
        "    return response\n",
        "\n",
        "# Try the different tools\n",
        "print(\"=== Testing Calculator Tool ===\")\n",
        "chat_with_tools(\"Calculate 25 + 17 * 3\")\n",
        "\n",
        "print(\"\\n\" + \"=\"*50)\n",
        "print(\"=== Testing Time Tool ===\")\n",
        "chat_with_tools(\"What time is it?\")\n",
        "\n",
        "print(\"\\n\" + \"=\"*50)\n",
        "print(\"=== Testing Text Analyzer Tool ===\")\n",
        "chat_with_tools(\"Analyze this text: Flotorch makes AI development easy!\")\n"
      ]
    },
    {
      "cell_type": "markdown",
      "metadata": {
        "vscode": {
          "languageId": "raw"
        }
      },
      "source": [
        "## Summary\n",
        "\n",
        "This notebook demonstrated:\n",
        "- ✓ Creating custom tools (calculator, time, text analyzer)\n",
        "- ✓ Using FunctionTool to wrap Python functions\n",
        "- ✓ Building an agent with multiple tools\n",
        "- ✓ Testing each tool through the agent\n",
        "\n",
        "You can now use `chat_with_tools(\"your message\")` to interact with the agent and its tools!\n"
      ]
    }
  ],
  "metadata": {
    "kernelspec": {
      "display_name": "venv",
      "language": "python",
      "name": "python3"
    },
    "language_info": {
      "codemirror_mode": {
        "name": "ipython",
        "version": 3
      },
      "file_extension": ".py",
      "mimetype": "text/x-python",
      "name": "python",
      "nbconvert_exporter": "python",
      "pygments_lexer": "ipython3",
      "version": "3.11.0"
    }
  },
  "nbformat": 4,
  "nbformat_minor": 2
}