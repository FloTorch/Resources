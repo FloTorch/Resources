{
 "cells": [
  {
   "cell_type": "markdown",
   "metadata": {},
   "source": [
    "# Building an Agent with Long-Term Memory using `FlotorchMemoryService`\n",
    "\n",
    "This notebook demonstrates how to give an agent a long-term memory. We will use the `FlotorchMemoryService` to store and retrieve information across different, independent sessions. This allows the agent to build a persistent knowledge base over time.\n",
    "\n",
    "### Prerequesit\n",
    "Configure model, memory provider and API key in Flotroch console (https://console.flotorch.cloud/)\n",
    "\n",
    "### Viewing logs\n",
    "Logs can be viewed in logs tab in Flotroch console (https://console.flotorch.cloud/)\n",
    "\n",
    "### Key Objectives:\n",
    "- Configure and integrate the `FlotorchMemoryService`.\n",
    "- Provide the agent with the `load_memory` tool to access its knowledge base.\n",
    "- Demonstrate the agent's ability to recall information from a previously completed session."
   ]
  },
  {
   "cell_type": "markdown",
   "metadata": {},
   "source": [
    "## 1. Setup and Imports\n",
    "\n",
    "The following cells handle package installation, API configuration, and importing all necessary modules. The key components for this example are `FlotorchMemoryService` and the `load_memory` tool."
   ]
  },
  {
   "cell_type": "code",
   "execution_count": null,
   "metadata": {},
   "outputs": [],
   "source": [
    "# install flotorch adk package\n",
    "%pip install flotorch[adk]"
   ]
  },
  {
   "cell_type": "code",
   "execution_count": null,
   "id": "62b06599",
   "metadata": {},
   "outputs": [],
   "source": [
    "FLOTORCH_API_KEY = \"<flotorch api key>\"\n",
    "FLOTORCH_BASE_URL = \"<flotroch gateway base url>\" # eg: https://gateway.flotorch.cloud\"\n",
    "FLOTORCH_MODEL = \"<flotorch model>\"\n",
    "APP_NAME = \"flotorch_tools_example\"\n",
    "USER_ID = \"flotorch_user_001\"\n",
    "MEMORY_PROVIDER = \"<flotorch memory provider>\""
   ]
  },
  {
   "cell_type": "code",
   "execution_count": null,
   "metadata": {},
   "outputs": [],
   "source": [
    "# import necessary libraries\n",
    "from flotorch.adk.llm import FlotorchADKLLM\n",
    "from flotorch.adk.memory import FlotorchMemoryService\n",
    "from flotorch.adk.sessions import FlotorchADKSession\n",
    "from google.adk.agents import LlmAgent\n",
    "from google.adk import Runner\n",
    "from google.genai import types\n",
    "from google.adk.tools import load_memory\n",
    "\n",
    "print(\"Imported necessary libraries successfully\")"
   ]
  },
  {
   "cell_type": "markdown",
   "metadata": {},
   "source": [
    "## 2. Configuring the Memory and LLM\n",
    "\n",
    "First, we initialize the `FlotorchMemoryService`, which provides the backend for our agent's long-term storage. We then configure the `FlotorchADKLLM` as usual."
   ]
  },
  {
   "cell_type": "code",
   "execution_count": null,
   "metadata": {},
   "outputs": [],
   "source": [
    "model = FlotorchADKLLM(\n",
    "    model_id=FLOTORCH_MODEL,\n",
    "    api_key=FLOTORCH_API_KEY,\n",
    "    base_url=FLOTORCH_BASE_URL,\n",
    ")\n",
    "\n",
    "memory_service = FlotorchMemoryService(\n",
    "    name=MEMORY_PROVIDER,\n",
    "    api_key=FLOTORCH_API_KEY,\n",
    "    base_url=FLOTORCH_BASE_URL,\n",
    ")\n",
    "\n",
    "print(f\"LLM and Memory Service are configured.\")"
   ]
  },
  {
   "cell_type": "markdown",
   "metadata": {},
   "source": [
    "## 3. Configuring the Agent and Runner with Memory\n",
    "\n",
    "This section wires everything together:\n",
    "1. **Agent**: We create an `LlmAgent` and give it the `load_memory` tool. This tool allows the agent to query its long-term knowledge base.\n",
    "2. **Runner**: We initialize the `Runner`, passing it both the `FlotorchADKSession` service (for short-term memory) and the `FlotorchMemoryService` (for long-term memory)."
   ]
  },
  {
   "cell_type": "code",
   "execution_count": null,
   "metadata": {},
   "outputs": [],
   "source": [
    "agent = LlmAgent(\n",
    "    name=\"Flotorch_Memory_Assistant\",\n",
    "    description=\"A Flotorch AI assistant with Flotorch Memory Service integration\",\n",
    "    instruction=\"You are a Flotorch AI assistant with memory capabilities. Use your memory to provide contextual responses.\",\n",
    "    model=model,\n",
    "    tools=[load_memory],  # Provide the agent with the memory access tool\n",
    ")\n",
    "\n",
    "session_service = FlotorchADKSession(\n",
    "    api_key=FLOTORCH_API_KEY,\n",
    "    base_url=FLOTORCH_BASE_URL\n",
    ")\n",
    "\n",
    "runner = Runner(\n",
    "    agent=agent,\n",
    "    app_name=APP_NAME,\n",
    "    session_service=session_service,\n",
    "    memory_service=memory_service  # Integrate the long-term memory service\n",
    ")\n",
    "\n",
    "print(\"Runner configured successfully with memory service integration.\")"
   ]
  },
  {
   "cell_type": "markdown",
   "metadata": {},
   "source": [
    "## 4. Chatting with a Memory-Enabled Agent\n",
    "\n",
    "The following demonstration involves two separate sessions. In the first session, we will tell the agent a fact. After the chat, we explicitly save the session to the long-term memory service. In the second session, we will ask the agent to recall that fact, proving its long-term memory is working."
   ]
  },
  {
   "cell_type": "code",
   "execution_count": null,
   "metadata": {},
   "outputs": [],
   "source": [
    "def run_single_turn(query, session_id, user_id, runner):\n",
    "    content = types.Content(role=\"user\", parts=[types.Part(text=query)])\n",
    "    events = runner.run(user_id=user_id, session_id=session_id, new_message=content)\n",
    "    for event in events:\n",
    "        if event.is_final_response():\n",
    "            if event.content and event.content.parts:\n",
    "                return event.content.parts[0].text\n",
    "    return \"Sorry, I couldn't process that request.\"\n",
    "\n",
    "async def chat_with_agent_and_save_memory(query, session_id):\n",
    "    response = run_single_turn(query, session_id, USER_ID, runner)\n",
    "    # After the turn, get the completed session and save it to long-term memory\n",
    "    completed_session = await runner.session_service.get_session(\n",
    "        app_name=APP_NAME, user_id=USER_ID, session_id=session_id\n",
    "    )\n",
    "    await memory_service.add_session_to_memory(completed_session)\n",
    "    return response\n",
    "\n",
    "print(\"Memory-aware chat functions are ready.\")"
   ]
  },
  {
   "cell_type": "code",
   "execution_count": null,
   "metadata": {},
   "outputs": [],
   "source": [
    "# === Session 1: Teach the agent a fact ===\n",
    "session1 = await runner.session_service.create_session(\n",
    "    app_name=APP_NAME, user_id=USER_ID,\n",
    ")\n",
    "print(f\"Started Session 1 with ID: {session1.id}\")\n",
    "\n",
    "response1 = await chat_with_agent_and_save_memory(\"My name is Vikram and I work as a software engineer.\", session1.id)\n",
    "print(f\"\\nQuery: My name is Vikram and I work as a software engineer.\")\n",
    "print(f\"Response: {response1}\")\n",
    "print(\"\\n--- Session 1 ended and memory saved ---\")"
   ]
  },
  {
   "cell_type": "code",
   "execution_count": null,
   "metadata": {},
   "outputs": [],
   "source": [
    "# === Session 2: Start a new conversation and recall the fact ===\n",
    "session2 = await runner.session_service.create_session(\n",
    "    app_name=APP_NAME, user_id=USER_ID,\n",
    ")\n",
    "print(f\"\\nStarted Session 2 with ID: {session2.id}\")\n",
    "\n",
    "response2 = await chat_with_agent_and_save_memory(\"What is my name?\", session2.id)\n",
    "print(f\"\\nQuery: What is my name?\")\n",
    "print(f\"Response: {response2}\")"
   ]
  },
  {
   "cell_type": "markdown",
   "metadata": {},
   "source": [
    "## Summary\n",
    "\n",
    "This notebook demonstrated how to equip a Google ADK agent with a persistent, long-term memory using `FlotorchMemoryService`. This allows the agent to build and retain knowledge across completely separate user sessions.\n",
    "\n",
    "### Key Achievements:\n",
    "\n",
    "- **Memory Integration**: We successfully configured the `Runner` with `FlotorchMemoryService` to handle long-term storage.\n",
    "- **Knowledge Persistence**: The agent was able to store information from one session and accurately recall it in a new, later session.\n",
    "- **Advanced Capabilities**: This dual-memory architecture (short-term session context + long-term knowledge base) is crucial for creating truly intelligent and personalized AI assistants that learn over time."
   ]
  }
 ],
 "metadata": {
  "kernelspec": {
   "display_name": "venv",
   "language": "python",
   "name": "python3"
  },
  "language_info": {
   "codemirror_mode": {
    "name": "ipython",
    "version": 3
   },
   "file_extension": ".py",
   "mimetype": "text/x-python",
   "name": "python",
   "nbconvert_exporter": "python",
   "pygments_lexer": "ipython3",
   "version": "3.11.0"
  }
 },
 "nbformat": 4,
 "nbformat_minor": 5
}
