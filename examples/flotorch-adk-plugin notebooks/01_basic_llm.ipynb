{
  "cells": [
    {
      "cell_type": "markdown",
      "metadata": {
        "vscode": {
          "languageId": "raw"
        }
      },
      "source": [
        "# Flotorch ADK - Basic LLM Example\n",
        "\n",
        "This notebook demonstrates how to create a simple chat agent using Flotorch ADK.\n",
        "Perfect for getting started with Flotorch AI development.\n",
        "\n",
        "## Requirements\n",
        "- FLOTORCH_API_KEY environment variable\n",
        "- FLOTORCH_BASE_URL environment variable\n"
      ]
    },
    {
      "cell_type": "code",
      "execution_count": null,
      "metadata": {},
      "outputs": [],
      "source": [
        "%pip install --pre flotorch[adk]\n"
      ]
    },
    {
      "cell_type": "code",
      "execution_count": null,
      "metadata": {},
      "outputs": [],
      "source": [
        "# Setup and imports\n",
        "import asyncio\n",
        "import os\n",
        "import sys\n",
        "from dotenv import load_dotenv\n",
        "\n",
        "# Load environment variables\n",
        "load_dotenv()\n",
        "print(\"✓ Environment setup complete\")\n"
      ]
    },
    {
      "cell_type": "code",
      "execution_count": null,
      "metadata": {},
      "outputs": [],
      "source": [
        "# Flotorch ADK imports\n",
        "from flotorch.adk.llm import FlotorchADKLLM\n",
        "from google.adk.agents import LlmAgent\n",
        "from google.adk.sessions import InMemorySessionService\n",
        "from google.adk import Runner\n",
        "from google.genai import types\n",
        "\n",
        "print(\"✓ Flotorch ADK imports successful\")\n"
      ]
    },
    {
      "cell_type": "code",
      "execution_count": null,
      "metadata": {},
      "outputs": [],
      "source": [
        "# Configuration\n",
        "APP_NAME = \"flotorch_basic_example\"\n",
        "USER_ID = \"flotorch_user_123\"\n",
        "\n",
        "print(f\"App Name: {APP_NAME}\")\n",
        "print(f\"User ID: {USER_ID}\")\n"
      ]
    },
    {
      "cell_type": "code",
      "execution_count": null,
      "metadata": {},
      "outputs": [],
      "source": [
        "# Create Flotorch LLM model\n",
        "model = FlotorchADKLLM(\n",
        "    model_id=\"openai/gpt-4o-mini\",\n",
        "    api_key=os.getenv(\"FLOTORCH_API_KEY\"),\n",
        "    base_url=os.getenv(\"FLOTORCH_BASE_URL\"),\n",
        ")\n",
        "\n",
        "print(\"✓ Flotorch LLM model created\")\n"
      ]
    },
    {
      "cell_type": "code",
      "execution_count": null,
      "metadata": {},
      "outputs": [],
      "source": [
        "# Create Flotorch agent\n",
        "agent = LlmAgent(\n",
        "    name=\"Flotorch_Assistant\",\n",
        "    description=\"A helpful Flotorch AI assistant\",\n",
        "    instruction=\"You are Flotorch AI assistant. Be helpful and friendly.\",\n",
        "    model=model,\n",
        ")\n",
        "\n",
        "print(\"✓ Flotorch agent created\")\n"
      ]
    },
    {
      "cell_type": "code",
      "execution_count": null,
      "metadata": {},
      "outputs": [],
      "source": [
        "# Setup runner\n",
        "session_service = InMemorySessionService()\n",
        "runner = Runner(\n",
        "    agent=agent,\n",
        "    app_name=APP_NAME,\n",
        "    session_service=session_service\n",
        ")\n",
        "\n",
        "print(\"✓ Runner setup complete\")\n"
      ]
    },
    {
      "cell_type": "code",
      "execution_count": null,
      "metadata": {},
      "outputs": [],
      "source": [
        "# Helper function to send messages\n",
        "def run_single_turn(query, session_id, user_id):\n",
        "    \"\"\"Send message to Flotorch agent and get response.\"\"\"\n",
        "    content = types.Content(role=\"user\", parts=[types.Part(text=query)])\n",
        "    events = runner.run(user_id=user_id, session_id=session_id, new_message=content)\n",
        "\n",
        "    for event in events:\n",
        "        if event.is_final_response():\n",
        "            if event.content and event.content.parts:\n",
        "                return event.content.parts[0].text\n",
        "    \n",
        "    return \"Sorry, I couldn't process that.\"\n",
        "\n",
        "print(\"✓ Helper function defined\")\n"
      ]
    },
    {
      "cell_type": "code",
      "execution_count": null,
      "metadata": {},
      "outputs": [],
      "source": [
        "# Create session and test the agent\n",
        "async def test_agent():\n",
        "    session = await runner.session_service.create_session(\n",
        "        app_name=APP_NAME,\n",
        "        user_id=USER_ID,\n",
        "    )\n",
        "    \n",
        "    print(f\"Flotorch agent ready! Session: {session.id}\")\n",
        "    \n",
        "    # Test with a simple message\n",
        "    test_message = \"Hello! Can you introduce yourself?\"\n",
        "    response = run_single_turn(test_message, session.id, USER_ID)\n",
        "    \n",
        "    print(f\"\\nUser: {test_message}\")\n",
        "    print(f\"Flotorch AI: {response}\")\n",
        "    \n",
        "    return session\n",
        "\n",
        "# Run the test\n",
        "session = await test_agent()\n"
      ]
    },
    {
      "cell_type": "code",
      "execution_count": null,
      "metadata": {},
      "outputs": [],
      "source": [
        "# Interactive chat function (for notebook use)\n",
        "def chat_with_agent(message):\n",
        "    \"\"\"Simple function to chat with the agent.\"\"\"\n",
        "    response = run_single_turn(message, session.id, USER_ID)\n",
        "    print(f\"You: {message}\")\n",
        "    print(f\"Flotorch AI: {response}\")\n",
        "    return response\n",
        "\n",
        "# Try some example messages\n",
        "print(\"=== Try the agent with different messages ===\")\n",
        "chat_with_agent(\"What's 2 + 2?\")\n",
        "print(\"\\n\" + \"-\"*50 + \"\\n\")\n",
        "chat_with_agent(\"Tell me a short joke\")\n"
      ]
    },
    {
      "cell_type": "markdown",
      "metadata": {
        "vscode": {
          "languageId": "raw"
        }
      },
      "source": [
        "## Summary\n",
        "\n",
        "This notebook demonstrated:\n",
        "- ✓ Setting up Flotorch ADK environment\n",
        "- ✓ Creating a Flotorch LLM model\n",
        "- ✓ Building a basic agent\n",
        "- ✓ Setting up a runner for agent interaction\n",
        "- ✓ Testing the agent with messages\n",
        "\n",
        "You can now use `chat_with_agent(\"your message\")` to interact with the agent!\n"
      ]
    }
  ],
  "metadata": {
    "kernelspec": {
      "display_name": "venv",
      "language": "python",
      "name": "python3"
    },
    "language_info": {
      "codemirror_mode": {
        "name": "ipython",
        "version": 3
      },
      "file_extension": ".py",
      "mimetype": "text/x-python",
      "name": "python",
      "nbconvert_exporter": "python",
      "pygments_lexer": "ipython3",
      "version": "3.11.0"
    }
  },
  "nbformat": 4,
  "nbformat_minor": 2
}
