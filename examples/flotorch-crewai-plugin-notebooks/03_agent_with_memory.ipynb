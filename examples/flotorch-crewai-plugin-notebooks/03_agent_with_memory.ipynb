{
 "cells": [
  {
   "cell_type": "markdown",
   "id": "yWM8A0kcahC2",
   "metadata": {
    "id": "yWM8A0kcahC2"
   },
   "source": [
    "# Building a CrewAI Agent with Long-Term Memory via Flotorch\n",
    "\n",
    "This notebook demonstrates how to build an advanced CrewAI agent with both short-term and long-term memory capabilities using the Flotorch platform. This allows the agent to recall information not only from the current conversation but also from previous, separate interactions.\n",
    "\n",
    "### Prerequesit\n",
    "Configure model, memory provider and API key in Flotroch console (https://console.flotorch.cloud/)\n",
    "\n",
    "### Viewing logs\n",
    "Logs can be viewed in logs tab in Flotroch console (https://console.flotorch.cloud/)\n",
    "\n",
    "### Key Concepts:\n",
    "- **Short-Term Memory**: Provided by `FlotorchCrewAISession` for session-specific context.\n",
    "- **External (Long-Term) Memory**: Provided by `FlotorchMemoryStorage` for persistent knowledge across all sessions.\n",
    "- **`Agent`, `Task`, `Crew`**: Core CrewAI components configured to leverage both memory types."
   ]
  },
  {
   "cell_type": "markdown",
   "id": "kNOu2S08ahC7",
   "metadata": {
    "id": "kNOu2S08ahC7"
   },
   "source": [
    "## 1. Setup and Imports\n",
    "\n",
    "The following cells install the necessary packages, configure API credentials, and import the required components from Flotorch and CrewAI, including those needed for external memory."
   ]
  },
  {
   "cell_type": "code",
   "execution_count": null,
   "id": "xLzPhaXXahC8",
   "metadata": {
    "id": "xLzPhaXXahC8"
   },
   "outputs": [],
   "source": [
    "# install flotorch adk package\n",
    "%pip install --pre flotorch"
   ]
  },
  {
   "cell_type": "code",
   "execution_count": null,
   "id": "b3pYBn6807hb",
   "metadata": {
    "id": "b3pYBn6807hb"
   },
   "outputs": [],
   "source": [
    "%pip install crewai crewai_tools crewai_tools[mcp]"
   ]
  },
  {
   "cell_type": "code",
   "execution_count": null,
   "id": "20f87968",
   "metadata": {
    "id": "20f87968"
   },
   "outputs": [],
   "source": [
    "FLOTORCH_API_KEY = \"<flotorch api key>\"\n",
    "FLOTORCH_BASE_URL = \"<flotroch gateway base url>\" # eg: https://gateway.flotorch.cloud\"\n",
    "FLOTORCH_MODEL = \"<flotorch model>\"\n",
    "USER_ID = \"flotorch_user_001\"\n",
    "APP_ID = \"flotorch_app_001\"\n",
    "MEMORY_PROVIDER = \"<flotorch memory provider>\""
   ]
  },
  {
   "cell_type": "code",
   "execution_count": null,
   "id": "25875af5",
   "metadata": {
    "id": "25875af5"
   },
   "outputs": [],
   "source": [
    "# Import CrewAI and related modules\n",
    "import datetime\n",
    "from flotorch.crewai.llm import FlotorchCrewAILLM\n",
    "from flotorch.crewai.sessions import FlotorchCrewAISession\n",
    "from flotorch.crewai.memory import FlotorchMemoryStorage\n",
    "from crewai import Agent, Task, Crew\n",
    "from crewai.memory.short_term.short_term_memory import ShortTermMemory\n",
    "from crewai.memory.external.external_memory import ExternalMemory\n",
    "\n",
    "print(\"Imported necessary libraries successfully\")\n"
   ]
  },
  {
   "cell_type": "markdown",
   "id": "1014b1f5",
   "metadata": {
    "id": "1014b1f5"
   },
   "source": [
    "## 2. Model Configuration\n",
    "\n",
    "We initialize the `FlotorchCrewAILLM` which will act as the brain for our agent, enabling it to process information and make decisions."
   ]
  },
  {
   "cell_type": "code",
   "execution_count": null,
   "id": "a17dbc44",
   "metadata": {
    "id": "a17dbc44"
   },
   "outputs": [],
   "source": [
    "model  =  FlotorchCrewAILLM(\n",
    "        model_id=FLOTORCH_MODEL,\n",
    "        api_key=FLOTORCH_API_KEY,\n",
    "        base_url=FLOTORCH_BASE_URL,\n",
    "    )\n",
    "\n",
    "print(f\"Flotorch LLM model configured: {model.model}\")"
   ]
  },
  {
   "cell_type": "markdown",
   "id": "530f5ad6",
   "metadata": {
    "id": "530f5ad6"
   },
   "source": [
    "## 3. Memory Configuration\n",
    "\n",
    "This is where we set up the agent's memory systems. We configure both short-term and long-term memory to give the agent a comprehensive ability to recall information.\n",
    "\n",
    "- **Short-Term Memory**: Uses `FlotorchCrewAISession` to remember the current conversation's flow.\n",
    "- **External Memory**: Uses `FlotorchMemoryStorage` to store and retrieve key information across different sessions, acting as the agent's long-term knowledge base."
   ]
  },
  {
   "cell_type": "code",
   "execution_count": null,
   "id": "6ea992db",
   "metadata": {
    "id": "6ea992db"
   },
   "outputs": [],
   "source": [
    "short_term_storage = FlotorchCrewAISession(\n",
    "    api_key=FLOTORCH_API_KEY,\n",
    "    base_url=FLOTORCH_BASE_URL\n",
    ")\n",
    "\n",
    "short_term_memory = ShortTermMemory(storage = short_term_storage)\n",
    "\n",
    "external_storage = FlotorchMemoryStorage(\n",
    "    api_key=FLOTORCH_API_KEY,\n",
    "    base_url=FLOTORCH_BASE_URL,\n",
    "    name = MEMORY_PROVIDER,\n",
    "    user_id = USER_ID,\n",
    "    app_id  = APP_ID\n",
    ")\n",
    "\n",
    "external_memory = ExternalMemory(storage = external_storage)\n",
    "\n",
    "print(\"Initialized short_term and external Memory\")"
   ]
  },
  {
   "cell_type": "markdown",
   "id": "11ca4f7b",
   "metadata": {
    "id": "11ca4f7b"
   },
   "source": [
    "## 4. Agent and Task Configuration\n",
    "\n",
    "We define the `Agent` and `Task` with a goal that explicitly instructs it to use its memory capabilities to provide accurate and context-aware responses."
   ]
  },
  {
   "cell_type": "code",
   "execution_count": null,
   "id": "dcae0cc7",
   "metadata": {
    "id": "dcae0cc7"
   },
   "outputs": [],
   "source": [
    "# Create the Agent\n",
    "agent = Agent(\n",
    "    role=\"Conversational Memory Agent\",\n",
    "    goal=\"\"\" You are a helpful conversational agent with short-term memory. and external memory\n",
    "    You remember recent conversation context to give better answers.\n",
    "    You respond naturally to user queries while recalling relevant past information.\n",
    "    user_query: {query}\"\"\",\n",
    "    backstory=(\n",
    "        \"An engaging assistant who remembers recent interactions \"\n",
    "        \"and uses them to answer questions accurately and conversationally.\"\n",
    "    ),\n",
    "    allow_delegation=False,\n",
    "    verbose=False,\n",
    "    llm=model\n",
    ")\n",
    "\n",
    "# Create the Task (goal is same as agent)\n",
    "task = Task(\n",
    "    description=\"\"\" You are a helpful conversational agent with short-term memory and external memory.\n",
    "    You remember recent conversation context to give better answers.\n",
    "    You respond naturally to user queries while recalling relevant past information.\n",
    "    user_query: {query}\"\"\",\n",
    "    expected_output=(\n",
    "        \"A natural, conversational answer that may use recent memory if relevant.\"\n",
    "    ),\n",
    "    agent=agent\n",
    ")\n",
    "# Create custom tools and agent\n",
    "print(f\"Agent and Task created successfully: {agent.role}\")"
   ]
  },
  {
   "cell_type": "markdown",
   "id": "14bd5edc",
   "metadata": {
    "id": "14bd5edc"
   },
   "source": [
    "## 5. Crew Assembly with Memory\n",
    "\n",
    "The `Crew` is assembled with the agent, task, and crucially, both the `short_term_memory` and `external_memory` modules. This equips the crew with a full range of memory capabilities."
   ]
  },
  {
   "cell_type": "code",
   "execution_count": null,
   "id": "af2c8a68",
   "metadata": {
    "id": "af2c8a68"
   },
   "outputs": [],
   "source": [
    "crew = Crew(\n",
    "    agents = [agent],\n",
    "    tasks = [task],\n",
    "    short_term_memory = short_term_memory,\n",
    "    external_memory = external_memory,\n",
    "    verbose = False\n",
    "\n",
    ")\n",
    "\n",
    "print(\"Created Crew with agent,task and memory\")"
   ]
  },
  {
   "cell_type": "markdown",
   "id": "cb8e89ad",
   "metadata": {
    "id": "cb8e89ad"
   },
   "source": [
    "## 6. Interactive Chat\n",
    "\n",
    "Start a chat session to interact with the agent. Test its ability to recall information you provide, both within this conversation (short-term) and from facts it may have learned in previous runs (long-term). Type 'exit' to end."
   ]
  },
  {
   "cell_type": "code",
   "execution_count": null,
   "id": "04b196dc",
   "metadata": {
    "id": "04b196dc"
   },
   "outputs": [],
   "source": [
    "while True:\n",
    "\n",
    "    user_query = input(\"user: \")\n",
    "\n",
    "    if user_query.lower().strip() == \"exit\":\n",
    "        break\n",
    "    response = crew.kickoff(inputs = {\"query\":user_query})\n",
    "    print(f\"Assistant:{response.raw}\")"
   ]
  },
  {
   "cell_type": "markdown",
   "id": "5d2a7906",
   "metadata": {
    "id": "5d2a7906"
   },
   "source": [
    "## Summary\n",
    "\n",
    "This notebook detailed the implementation of a sophisticated AI agent equipped with both short-term and long-term memory.  \n",
    "By leveraging **Flotorch's infrastructure**, we created an agent that not only remembers the current conversation but also retains and recalls information across separate sessions.\n",
    "\n",
    "### Key Achievements\n",
    "\n",
    "- **Dual-Memory Architecture**  \n",
    "  Successfully integrated two distinct memory types:  \n",
    "  - `FlotorchCrewAISession` for immediate, short-term conversational context.  \n",
    "  - `FlotorchMemoryStorage` for persistent, long-term knowledge.\n",
    "\n",
    "- **Enhanced Agent Intelligence**  \n",
    "  The agent demonstrated its ability to recall facts from a knowledge base established in previous interactions, leading to more intelligent and informed responses.\n",
    "\n",
    "- **Comprehensive Solution**  \n",
    "  This dual-memory approach provides a powerful template for building advanced agents capable of complex, ongoing, and context-rich dialogues.\n"
   ]
  }
 ],
 "metadata": {
  "colab": {
   "provenance": []
  },
  "kernelspec": {
   "display_name": "venv",
   "language": "python",
   "name": "python3"
  },
  "language_info": {
   "codemirror_mode": {
    "name": "ipython",
    "version": 3
   },
   "file_extension": ".py",
   "mimetype": "text/x-python",
   "name": "python",
   "nbconvert_exporter": "python",
   "pygments_lexer": "ipython3",
   "version": "3.11.0"
  }
 },
 "nbformat": 4,
 "nbformat_minor": 5
}
