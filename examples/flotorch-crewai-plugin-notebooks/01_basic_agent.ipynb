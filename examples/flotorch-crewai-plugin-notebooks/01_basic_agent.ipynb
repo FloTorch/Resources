{
 "cells": [
  {
   "cell_type": "markdown",
   "metadata": {
    "id": "122H1g5KZyDL"
   },
   "source": [
    "# Building a Custom Agent with Flotorch and CrewAI\n",
    "\n",
    "This notebook demonstrates how to build and run a simple AI agent using the Flotorch platform and the CrewAI framework. The agent will be equipped with a custom tool to perform a specific function.\n",
    "\n",
    "### Prerequesit\n",
    "Configure model, API key in Flotroch console (https://console.flotorch.cloud/)\n",
    "\n",
    "### Viewing logs\n",
    "Logs can be viewed in logs tab in Flotroch console (https://console.flotorch.cloud/)\n",
    "\n",
    "### Key Objectives:\n",
    "- Install the required Flotorch package.\n",
    "- Define a custom tool for text analysis.\n",
    "- Configure an agent with a specific role, goal, and tool.\n",
    "- Utilize the Flotorch LLM to power the agent's reasoning capabilities.\n",
    "- Assemble and execute a task with the agent."
   ]
  },
  {
   "cell_type": "markdown",
   "metadata": {
    "id": "I6WrELZ7ZyDR"
   },
   "source": [
    "## 1. Environment Setup and Imports\n",
    "\n",
    "The following cells handle the complete setup of the environment. This includes:\n",
    "1. **Installing** the necessary Flotorch ADK package.\n",
    "2. **Importing** essential libraries.\n",
    "3. **Configuring** the API credentials and model endpoint."
   ]
  },
  {
   "cell_type": "code",
   "execution_count": null,
   "metadata": {
    "id": "mCx59ZhBZyDR"
   },
   "outputs": [],
   "source": [
    "# install flotorch adk package\n",
    "%pip install flotorch[crewai]"
   ]
  },
  {
   "cell_type": "code",
   "execution_count": null,
   "metadata": {
    "id": "ErPdVN4H0FYa"
   },
   "outputs": [],
   "source": [
    "%pip install crewai crewai_tools crewai_tools[mcp]"
   ]
  },
  {
   "cell_type": "code",
   "execution_count": null,
   "metadata": {
    "id": "PNWXuetCZyDS"
   },
   "outputs": [],
   "source": [
    "FLOTORCH_API_KEY = \"<flotorch api key>\"\n",
    "FLOTORCH_BASE_URL = \"<flotroch gateway base url>\" # eg: https://gateway.flotorch.cloud\"\n",
    "FLOTORCH_MODEL = \"<flotorch model>\""
   ]
  },
  {
   "cell_type": "code",
   "execution_count": null,
   "metadata": {
    "id": "Grq4w1_VZyDT"
   },
   "outputs": [],
   "source": [
    "# Import CrewAI and related modules\n",
    "import datetime\n",
    "from flotorch.crewai.llm import FlotorchCrewAILLM\n",
    "from crewai import Agent, Task, Crew\n",
    "from crewai.tools import tool\n",
    "\n",
    "print(\"Imported necessary libraries successfully\")"
   ]
  },
  {
   "cell_type": "markdown",
   "metadata": {
    "id": "J6JVPRA6ZyDT"
   },
   "source": [
    "## 2. Defining a Custom Tool\n",
    "\n",
    "To extend the agent's capabilities, we define a custom tool. The `@tool` decorator from CrewAI transforms a standard Python function into a tool that the agent can utilize. This example creates an `analyze_text` tool, which takes a string as input and returns a statistical analysis. The function's docstring serves as its description, helping the agent understand how and when to use it."
   ]
  },
  {
   "cell_type": "code",
   "execution_count": null,
   "metadata": {
    "id": "TD-wpqRxZyDT"
   },
   "outputs": [],
   "source": [
    "@tool\n",
    "def analyze_text(text: str) -> str:\n",
    "    \"\"\"\n",
    "    Analyze text and provide comprehensive statistics.\n",
    "\n",
    "    Args:\n",
    "        text (str): Text to analyze\n",
    "\n",
    "    Returns:\n",
    "        str: Formatted text analysis with statistics\n",
    "    \"\"\"\n",
    "    word_count = len(text.split())\n",
    "    char_count = len(text)\n",
    "    char_count_no_spaces = len(text.replace(' ', ''))\n",
    "    sentences = text.count('.') + text.count('!') + text.count('?')\n",
    "\n",
    "    return f\"\"\"Text Analysis:\n",
    "- Words: {word_count}\n",
    "- Characters (with spaces): {char_count}\n",
    "- Characters (without spaces): {char_count_no_spaces}\n",
    "- Sentences: {sentences}\"\"\"\n",
    "\n",
    "\n",
    "print(\"Custom tool defined successfully.\")"
   ]
  },
  {
   "cell_type": "markdown",
   "metadata": {
    "id": "2eF0agncZyDU"
   },
   "source": [
    "## 3. Configuring the Language Model\n",
    "\n",
    "The agent requires a Large Language Model (LLM) to act as its brain. We instantiate `FlotorchCrewAILLM`, passing our API credentials and the desired model ID. This object serves as the bridge between our CrewAI agent and the powerful reasoning capabilities of the Flotorch platform."
   ]
  },
  {
   "cell_type": "code",
   "execution_count": null,
   "metadata": {
    "id": "zN2e_wVkZyDU"
   },
   "outputs": [],
   "source": [
    "model  =  FlotorchCrewAILLM(\n",
    "        model_id=FLOTORCH_MODEL,\n",
    "        api_key=FLOTORCH_API_KEY,\n",
    "        base_url=FLOTORCH_BASE_URL,\n",
    "    )\n",
    "\n",
    "print(f\"Flotorch LLM model configured: {model.model}\")"
   ]
  },
  {
   "cell_type": "markdown",
   "metadata": {
    "id": "uXk7f9ZcZyDU"
   },
   "source": [
    "## 4. Creating the Agent and Task\n",
    "\n",
    "With the tool and LLM configured, we now define the agent's persona and its assigned task.\n",
    "\n",
    "- **Agent**: We define an agent with a specific `role`, `goal`, and `backstory`. Critically, we pass the `analyze_text` tool in the `tools` list, granting the agent access to it. The `goal` is crafted to strictly guide the agent on how to use the tool and format its final answer.\n",
    "- **Task**: We create a task that provides a clear `description` of what needs to be done and the `expected_output`. This guides the agent in executing its goal."
   ]
  },
  {
   "cell_type": "code",
   "execution_count": null,
   "metadata": {
    "id": "8JHCLavUZyDU"
   },
   "outputs": [],
   "source": [
    "agent = Agent(\n",
    "    role=\"Text Analysis Agent\",\n",
    "    goal=(\n",
    "        \"You are a strict text analysis agent. \"\n",
    "        \"You MUST call only the `analyze_text` tool to produce your answer. \"\n",
    "        \"Your final message MUST be EXACTLY and ONLY the raw string returned by the tool. \"\n",
    "        \"Do not add, remove, or reformat any characters. Do not prepend or append any text such as 'Final Answer'.\"\n",
    "        \"user_query:{query}\"\n",
    "    ),\n",
    "    backstory=(\n",
    "        \"An expert analyst that never answers without running text through the `analyze_text` tool. \"\n",
    "        \"You never post-process tool outputs. You copy the tool's output verbatim as your final answer.\"\n",
    "    ),\n",
    "    tools=[analyze_text],\n",
    "    allow_delegation=False,\n",
    "    verbose=False,\n",
    "    llm=model,\n",
    ")\n",
    "\n",
    "task = Task(\n",
    "    description=(\n",
    "        \"Analyze the user query  using ONLY the `analyze_text` tool. \"\n",
    "        \"Return EXACTLY and ONLY the tool's raw output. \"\n",
    "        \"Don't alter the tool output you just need to pass the output whatever you get from the tool\"\n",
    "        \"user_query: {query}\"\n",
    "    ),\n",
    "    expected_output=(\n",
    "        \"result from the analyze_text tool\"\n",
    "    ),\n",
    "    agent=agent\n",
    "    )\n",
    "# Create custom tools and agent\n",
    "print(f\"Agent and Task created successfully: {agent.role}\")"
   ]
  },
  {
   "cell_type": "markdown",
   "metadata": {
    "id": "gMQ2hl8FZyDV"
   },
   "source": [
    "## 5. Assembling and Running the Crew\n",
    "\n",
    "The final step is to assemble the components into a `Crew` and execute the task. The `Crew` object orchestrates the workflow, allowing the agent to perform its task. We call the `kickoff()` method with the user's input to start the process. The agent will then autonomously use the provided tool to generate the final response."
   ]
  },
  {
   "cell_type": "code",
   "execution_count": null,
   "metadata": {
    "id": "ua_FvKrbZyDV"
   },
   "outputs": [],
   "source": [
    "crew = Crew(\n",
    "    agents=[agent],\n",
    "    tasks=[task],\n",
    "    verbose=False\n",
    ")\n",
    "\n",
    "response = crew.kickoff(inputs = {\"query\":\"Analyze this text:'it is a sample text given for the testing'\"})\n",
    "print(f\"Assistant: {response.raw}\")\n"
   ]
  },
  {
   "cell_type": "markdown",
   "metadata": {
    "id": "HNkM4du1ZyDV"
   },
   "source": [
    "## Summary\n",
    "\n",
    "This notebook demonstrated the end-to-end process of creating a functional AI agent using the Flotorch ADK and CrewAI.\n",
    "\n",
    "The key components included:\n",
    "\n",
    "1. **Custom Tool Implementation**: A Python function was seamlessly converted into a usable tool for the agent.\n",
    "2. **Model Configuration**: The `FlotorchCrewAILLM` was configured to provide the agent with its reasoning ability.\n",
    "3. **Agent & Task Creation**: A specialized agent was defined with a clear role, goal, and task, ensuring predictable behavior.\n",
    "4. **Crew Execution**: The agent and task were assembled into a crew and executed, successfully using the custom tool to produce the final output.\n",
    "    \n",
    "This example showcases the power and flexibility of the Flotorch platform for building customized, tool-augmented AI agents.\n",
    "   \n",
    "  "
   ]
  }
 ],
 "metadata": {
  "colab": {
   "provenance": []
  },
  "kernelspec": {
   "display_name": "venv",
   "language": "python",
   "name": "python3"
  },
  "language_info": {
   "codemirror_mode": {
    "name": "ipython",
    "version": 3
   },
   "file_extension": ".py",
   "mimetype": "text/x-python",
   "name": "python",
   "nbconvert_exporter": "python",
   "pygments_lexer": "ipython3",
   "version": "3.11.0"
  }
 },
 "nbformat": 4,
 "nbformat_minor": 0
}
