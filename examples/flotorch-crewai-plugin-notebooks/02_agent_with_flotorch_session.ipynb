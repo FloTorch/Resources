{
 "cells": [
  {
   "cell_type": "markdown",
   "id": "Efs7k2NhaXBm",
   "metadata": {
    "id": "Efs7k2NhaXBm"
   },
   "source": [
    "# Integrating Flotorch Session Management with CrewAI\n",
    "\n",
    "This notebook demonstrates how to integrate Flotorch's session management with a CrewAI agent. By using `FlotorchCrewAISession` as the storage backend for CrewAI's `ShortTermMemory`, we can create a conversational agent that remembers the context of the current session.\n",
    "\n",
    "### Prerequesit\n",
    "Configure model, API key in Flotroch console (https://console.flotorch.cloud/)\n",
    "\n",
    "### Viewing logs\n",
    "Logs can be viewed in logs tab in Flotroch console (https://console.flotorch.cloud/)\n",
    "\n",
    "### Key Concepts:\n",
    "- **`FlotorchCrewAILLM`**: The language model powering the agent.\n",
    "- **`FlotorchCrewAISession`**: The session storage mechanism for persisting conversation history.\n",
    "- **`ShortTermMemory`**: CrewAI's memory system, configured to use the Flotorch session backend.\n",
    "- **`Agent`, `Task`, `Crew`**: The core components for building and orchestrating the AI workflow."
   ]
  },
  {
   "cell_type": "markdown",
   "id": "a1Q6WJ_taXBr",
   "metadata": {
    "id": "a1Q6WJ_taXBr"
   },
   "source": [
    "## 1. Setup and Configuration\n",
    "\n",
    "The following cells install the necessary packages, configure API credentials, and import all required components from the Flotorch and CrewAI libraries."
   ]
  },
  {
   "cell_type": "code",
   "execution_count": null,
   "id": "V01RwHSkaXBs",
   "metadata": {
    "id": "V01RwHSkaXBs"
   },
   "outputs": [],
   "source": [
    "# install flotorch adk package\n",
    "%pip install flotorch[crewai]"
   ]
  },
  {
   "cell_type": "code",
   "execution_count": null,
   "id": "6xhZenfi0zqw",
   "metadata": {
    "id": "6xhZenfi0zqw"
   },
   "outputs": [],
   "source": [
    "%pip install crewai crewai_tools crewai_tools[mcp]"
   ]
  },
  {
   "cell_type": "code",
   "execution_count": null,
   "id": "dfa334c0",
   "metadata": {
    "id": "dfa334c0"
   },
   "outputs": [],
   "source": [
    "FLOTORCH_API_KEY = \"<flotorch api key>\"\n",
    "FLOTORCH_BASE_URL = \"<flotroch gateway base url>\" # eg: https://gateway.flotorch.cloud\"\n",
    "FLOTORCH_MODEL = \"<flotorch model>\""
   ]
  },
  {
   "cell_type": "code",
   "execution_count": null,
   "id": "b339f803",
   "metadata": {
    "id": "b339f803"
   },
   "outputs": [],
   "source": [
    "# Import Necessary libraries\n",
    "from flotorch.crewai.llm import FlotorchCrewAILLM\n",
    "from flotorch.crewai.sessions import FlotorchCrewAISession\n",
    "from crewai.memory.short_term.short_term_memory import ShortTermMemory\n",
    "from crewai import Agent, Task, Crew\n",
    "\n",
    "print(\"Imported necessary libraries successfully\")"
   ]
  },
  {
   "cell_type": "markdown",
   "id": "9f33d8a7",
   "metadata": {
    "id": "9f33d8a7"
   },
   "source": [
    "## 2. Model Configuration\n",
    "\n",
    "Here, we initialize the `FlotorchCrewAILLM` with our model configuration. This will serve as the reasoning engine for our CrewAI agent."
   ]
  },
  {
   "cell_type": "code",
   "execution_count": null,
   "id": "1cf7df91",
   "metadata": {
    "id": "1cf7df91"
   },
   "outputs": [],
   "source": [
    "model  =  FlotorchCrewAILLM(\n",
    "        model_id=FLOTORCH_MODEL,\n",
    "        api_key=FLOTORCH_API_KEY,\n",
    "        base_url=FLOTORCH_BASE_URL,\n",
    "    )\n",
    "\n",
    "print(f\"Flotorch LLM model configured: {model.model}\")"
   ]
  },
  {
   "cell_type": "markdown",
   "id": "27134aae",
   "metadata": {
    "id": "27134aae"
   },
   "source": [
    "## 3. Session Storage Setup\n",
    "\n",
    "We configure Flotorch session storage and integrate it with CrewAI's short-term memory system. This enables the agent to maintain conversational context."
   ]
  },
  {
   "cell_type": "code",
   "execution_count": null,
   "id": "f98abcdb",
   "metadata": {
    "id": "f98abcdb"
   },
   "outputs": [],
   "source": [
    "short_term_storage = FlotorchCrewAISession(\n",
    "    api_key=FLOTORCH_API_KEY,\n",
    "    base_url=FLOTORCH_BASE_URL\n",
    ")\n",
    "\n",
    "short_term_memory = ShortTermMemory(storage = short_term_storage)\n",
    "\n",
    "print(\"short_term_memory initialized\")"
   ]
  },
  {
   "cell_type": "markdown",
   "id": "85ce0773",
   "metadata": {
    "id": "85ce0773"
   },
   "source": [
    "## 4. Agent and Task Configuration\n",
    "\n",
    "Next, we define the agent's persona (`role`, `goal`, `backstory`) and the specific `task` it must perform. The agent is designed for natural, context-aware conversation."
   ]
  },
  {
   "cell_type": "code",
   "execution_count": null,
   "id": "3d9dd9dc",
   "metadata": {
    "id": "3d9dd9dc"
   },
   "outputs": [],
   "source": [
    "# Create the Agent\n",
    "agent = Agent(\n",
    "    role=\"Conversational Memory Agent\",\n",
    "    goal=\"\"\" You are a helpful conversational agent with short-term memory.\n",
    "    You remember recent conversation context to give better answers.\n",
    "    You respond naturally to user queries while recalling relevant past information.\n",
    "    user_query: {query}\"\"\",\n",
    "    backstory=(\n",
    "        \"An engaging assistant who remembers recent interactions \"\n",
    "        \"and uses them to answer questions accurately and conversationally.\"\n",
    "    ),\n",
    "    allow_delegation=False,\n",
    "    verbose=False,\n",
    "    llm=model\n",
    ")\n",
    "\n",
    "# Create the Task (goal is same as agent)\n",
    "task = Task(\n",
    "    description=\"\"\" You are a helpful conversational agent with short-term memory.\n",
    "    You remember recent conversation context to give better answers.\n",
    "    You respond naturally to user queries while recalling relevant past information.\n",
    "    user_query: {query}\"\"\",\n",
    "    expected_output=(\n",
    "        \"A natural, conversational answer that may use recent memory if relevant.\"\n",
    "    ),\n",
    "    agent=agent\n",
    ")\n",
    "# Create custom tools and agent\n",
    "print(f\"Agent and Task created successfully: {agent.role}\")"
   ]
  },
  {
   "cell_type": "markdown",
   "id": "5eaf2d9f",
   "metadata": {
    "id": "5eaf2d9f"
   },
   "source": [
    "## 5. Crew Assembly\n",
    "\n",
    "We create a `Crew` to orchestrate the agent and its task. Crucially, we equip the crew with the `short_term_memory` module configured in the previous step."
   ]
  },
  {
   "cell_type": "code",
   "execution_count": null,
   "id": "07a7a58b",
   "metadata": {
    "id": "07a7a58b"
   },
   "outputs": [],
   "source": [
    "crew = Crew(\n",
    "    agents = [agent],\n",
    "    tasks = [task],\n",
    "    short_term_memory = short_term_memory,\n",
    "    verbose = False\n",
    ")\n",
    "\n",
    "print(\"Crew created with agent,task and short_term memory\")\n"
   ]
  },
  {
   "cell_type": "markdown",
   "id": "c95882b4",
   "metadata": {
    "id": "c95882b4"
   },
   "source": [
    "## 6. Interactive Chat\n",
    "\n",
    "This loop starts an interactive chat session. The agent will use the Flotorch-backed session memory to recall context from previous messages within this conversation. Type 'exit' to end the session."
   ]
  },
  {
   "cell_type": "code",
   "execution_count": null,
   "id": "bbe68212",
   "metadata": {
    "id": "bbe68212"
   },
   "outputs": [],
   "source": [
    "while True:\n",
    "\n",
    "    user_query = input(\"user: \")\n",
    "\n",
    "    if user_query.lower().strip() == \"exit\":\n",
    "        break\n",
    "    response = crew.kickoff(inputs = {\"query\":user_query})\n",
    "    print(f\"Assistant:{response.raw}\")"
   ]
  },
  {
   "cell_type": "markdown",
   "id": "96a9413a",
   "metadata": {
    "id": "96a9413a"
   },
   "source": [
    "## Summary\n",
    "\n",
    "This notebook successfully demonstrated how to create a conversational agent with short-term memory.  \n",
    "By integrating **Flotorch's session management** with **CrewAI**, we achieved a **stateful interaction** where the agent can recall information from earlier in the conversation.\n",
    "\n",
    "### Key Achievements\n",
    "\n",
    "- **Session Persistence**  \n",
    "  Configured `FlotorchCrewAISession` as the backend for CrewAI's `ShortTermMemory`, enabling the agent to maintain context across turns.\n",
    "\n",
    "- **Context-Aware Responses**  \n",
    "  The agent successfully referenced previously mentioned details (e.g., the user's name) to provide more natural and relevant replies.\n",
    "\n",
    "- **Streamlined Integration**  \n",
    "  Demonstrated a clear and effective method to connect Flotorch's robust session infrastructure with CrewAI’s powerful agent framework.\n"
   ]
  }
 ],
 "metadata": {
  "colab": {
   "provenance": []
  },
  "language_info": {
   "name": "python"
  }
 },
 "nbformat": 4,
 "nbformat_minor": 5
}
