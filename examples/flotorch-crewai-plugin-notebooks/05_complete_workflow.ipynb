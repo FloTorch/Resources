{
 "cells": [
  {
   "cell_type": "markdown",
   "id": "BopBw4pqatEM",
   "metadata": {
    "id": "BopBw4pqatEM"
   },
   "source": [
    "# Production-Ready Agent Workflow with Flotorch and CrewAI\n",
    "\n",
    "This notebook demonstrates a comprehensive, production-style workflow. It integrates all the advanced features we've explored into a single, robust application:\n",
    "- **Remote Agent Configuration**: Uses `FlotorchCrewAIAgent` to load agent personas from the Flotorch UI.\n",
    "- **Custom Local Tools**: Defines and attaches a custom tool to the agent at runtime.\n",
    "- **Dual Memory System**: Implements both short-term session memory and long-term external memory.\n",
    "\n",
    "\n",
    "### Prerequesit\n",
    "Configure agent, memory provider and API key in Flotroch console (https://console.flotorch.cloud/)\n",
    "\n",
    "### Viewing logs\n",
    "Logs can be viewed in logs tab in Flotroch console (https://console.flotorch.cloud/)"
   ]
  },
  {
   "cell_type": "markdown",
   "id": "isti2HlaatET",
   "metadata": {
    "id": "isti2HlaatET"
   },
   "source": [
    "## 1. Setup and Imports\n",
    "\n",
    "The following cells install dependencies, set API credentials, and import all necessary components for handling tools, memory, and remote agent management."
   ]
  },
  {
   "cell_type": "code",
   "execution_count": null,
   "id": "7Ind-017atET",
   "metadata": {
    "id": "7Ind-017atET"
   },
   "outputs": [],
   "source": [
    "# install flotorch adk package\n",
    "%pip install flotorch[crewai]"
   ]
  },
  {
   "cell_type": "code",
   "execution_count": null,
   "id": "FmrygkNJ1Ezp",
   "metadata": {
    "id": "FmrygkNJ1Ezp"
   },
   "outputs": [],
   "source": [
    "%pip install crewai crewai_tools crewai_tools[mcp]"
   ]
  },
  {
   "cell_type": "code",
   "execution_count": null,
   "id": "v7CjNz0AatEV",
   "metadata": {
    "id": "v7CjNz0AatEV"
   },
   "outputs": [],
   "source": [
    "FLOTORCH_API_KEY = \"<flotorch api key>\"\n",
    "FLOTORCH_BASE_URL = \"<flotroch gateway base url>\" # eg: https://gateway.flotorch.cloud\"\n",
    "MEMORY_PROVIDER = \"<flotorch memory provider>\"\n",
    "AGENT_NAME = \"<flotorch agent name>\"\n",
    "USER_ID = \"flotorch_user_001\"\n",
    "APP_ID = \"flotorch_app_001\""
   ]
  },
  {
   "cell_type": "code",
   "execution_count": null,
   "id": "6PaPOdsyatEV",
   "metadata": {
    "id": "6PaPOdsyatEV"
   },
   "outputs": [],
   "source": [
    "# Import necessary libraries\n",
    "from flotorch.crewai.agent import FlotorchCrewAIAgent\n",
    "from flotorch.crewai.sessions import FlotorchCrewAISession\n",
    "from flotorch.crewai.memory import FlotorchMemoryStorage\n",
    "from crewai.memory.short_term.short_term_memory import ShortTermMemory\n",
    "from crewai.memory.external.external_memory import ExternalMemory\n",
    "from crewai import Crew\n",
    "from crewai.tools import tool\n",
    "\n",
    "print(\"Imported necessary libraries successfully\")"
   ]
  },
  {
   "cell_type": "markdown",
   "id": "5QF6nZA2atEV",
   "metadata": {
    "id": "5QF6nZA2atEV"
   },
   "source": [
    "## 2. Custom Tool Definition\n",
    "\n",
    "Here, we define a custom `analyze_text` tool locally. This tool can be dynamically attached to our agent at runtime, demonstrating how to extend a centrally-managed agent with new capabilities."
   ]
  },
  {
   "cell_type": "code",
   "execution_count": null,
   "id": "2A65OlrHatEW",
   "metadata": {
    "id": "2A65OlrHatEW"
   },
   "outputs": [],
   "source": [
    "@tool\n",
    "def analyze_text(text: str) -> str:\n",
    "    \"\"\"\n",
    "    Analyze text and provide comprehensive statistics.\n",
    "\n",
    "    Args:\n",
    "        text (str): Text to analyze\n",
    "\n",
    "    Returns:\n",
    "        str: Formatted text analysis with statistics\n",
    "    \"\"\"\n",
    "    word_count = len(text.split())\n",
    "    char_count = len(text)\n",
    "    char_count_no_spaces = len(text.replace(' ', ''))\n",
    "    sentences = text.count('.') + text.count('!') + text.count('?')\n",
    "\n",
    "    return f\"\"\"Text Analysis:\n",
    "- Words: {word_count}\n",
    "- Characters (with spaces): {char_count}\n",
    "- Characters (without spaces): {char_count_no_spaces}\n",
    "- Sentences: {sentences}\"\"\"\n",
    "\n",
    "\n",
    "print(\"Custom tool defined successfully.\")"
   ]
  },
  {
   "cell_type": "markdown",
   "id": "exNKD1n3atEW",
   "metadata": {
    "id": "exNKD1n3atEW"
   },
   "source": [
    "## 3. Memory Configuration\n",
    "\n",
    "We configure the full dual-memory system: `ShortTermMemory` for conversational context and `ExternalMemory` for persistent, long-term knowledge."
   ]
  },
  {
   "cell_type": "code",
   "execution_count": null,
   "id": "-E6421wkatEW",
   "metadata": {
    "id": "-E6421wkatEW"
   },
   "outputs": [],
   "source": [
    "short_term_storage = FlotorchCrewAISession(\n",
    "    api_key=FLOTORCH_API_KEY,\n",
    "    base_url=FLOTORCH_BASE_URL\n",
    ")\n",
    "\n",
    "short_term_memory = ShortTermMemory(storage = short_term_storage)\n",
    "\n",
    "external_storage = FlotorchMemoryStorage(\n",
    "    api_key=FLOTORCH_API_KEY,\n",
    "    base_url=FLOTORCH_BASE_URL,\n",
    "    name = MEMORY_PROVIDER,\n",
    "    user_id = USER_ID,\n",
    "    app_id  = APP_ID\n",
    ")\n",
    "\n",
    "external_memory = ExternalMemory(storage = external_storage)\n",
    "\n",
    "print(\"Initialized short-term and external Memories\")"
   ]
  },
  {
   "cell_type": "markdown",
   "id": "EONmKumlatEX",
   "metadata": {
    "id": "EONmKumlatEX"
   },
   "source": [
    "## 4. Agent Initialization with Custom Tools\n",
    "\n",
    "We initialize the `FlotorchCrewAIAgent` client, loading our agent's configuration from the Flotorch UI. Crucially, we also pass our locally defined `analyze_text` function into the `custom_tools` parameter, augmenting the agent's capabilities."
   ]
  },
  {
   "cell_type": "code",
   "execution_count": null,
   "id": "9WVaWA3UatEX",
   "metadata": {
    "id": "9WVaWA3UatEX"
   },
   "outputs": [],
   "source": [
    "flotorch_client = FlotorchCrewAIAgent(\n",
    "    api_key=FLOTORCH_API_KEY,\n",
    "    base_url=FLOTORCH_BASE_URL,\n",
    "    agent_name=AGENT_NAME,\n",
    "    custom_tools = [analyze_text]\n",
    ")\n",
    "\n",
    "agent = flotorch_client.get_agent()\n",
    "task = flotorch_client.get_task()\n",
    "\n",
    "print(\"Fetched agent and task from Flotorch console\")"
   ]
  },
  {
   "cell_type": "markdown",
   "id": "JEFb0gytatEX",
   "metadata": {
    "id": "JEFb0gytatEX"
   },
   "source": [
    "## 5. Assembling the Complete Crew\n",
    "\n",
    "Finally, we assemble the `Crew`, bringing together the remotely-configured agent, its task, the custom tool, and both memory modules. This creates a fully-featured, production-ready agent."
   ]
  },
  {
   "cell_type": "code",
   "execution_count": null,
   "id": "P325RAekatEX",
   "metadata": {
    "id": "P325RAekatEX"
   },
   "outputs": [],
   "source": [
    "crew = Crew(\n",
    "    agents = [agent],\n",
    "    tasks = [task],\n",
    "    short_term_memory = short_term_memory,\n",
    "    external_memory= external_memory,\n",
    "    verbose = False\n",
    ")\n",
    "\n",
    "print(\"Created Crew with agent, task and memories\")"
   ]
  },
  {
   "cell_type": "markdown",
   "id": "Z4xWstvAatEX",
   "metadata": {
    "id": "Z4xWstvAatEX"
   },
   "source": [
    "## 6. Interactive Demonstration\n",
    "\n",
    "Engage with the agent in this interactive loop to test its full range of capabilities. Try asking it to analyze text (to test the tool) and then ask it to recall information from the conversation. Type 'exit' to end the session."
   ]
  },
  {
   "cell_type": "code",
   "execution_count": null,
   "id": "bghHUdNsatEX",
   "metadata": {
    "id": "bghHUdNsatEX"
   },
   "outputs": [],
   "source": [
    "while True:\n",
    "\n",
    "    user_query = input(\"user: \")\n",
    "\n",
    "    if user_query.lower().strip() == \"exit\":\n",
    "        break\n",
    "    response = crew.kickoff(inputs = {\"query\":user_query})\n",
    "    print(f\"Assistant:{response.raw}\")"
   ]
  },
  {
   "cell_type": "markdown",
   "id": "sTZfzO78atEX",
   "metadata": {
    "id": "sTZfzO78atEX"
   },
   "source": [
    "## Summary\n",
    "\n",
    "This notebook served as a **capstone project**, successfully integrating all previously demonstrated concepts into a single, comprehensive, and production-ready workflow.  \n",
    "We built an advanced AI agent that combines the power of **remote configuration**, **local custom tools**, and a **full dual-memory system**.\n",
    "\n",
    "### Key Achievements\n",
    "\n",
    "- **Hybrid Configuration**  \n",
    "  Initialized an agent using `FlotorchCrewAIAgent` to load its base configuration from the Flotorch UI, then augmented it at runtime with locally defined custom tools.\n",
    "\n",
    "- **Full Memory Stack**  \n",
    "  Equipped the agent with both `ShortTermMemory` for conversational flow and `ExternalMemory` for long-term knowledge persistence.\n",
    "\n",
    "- **End-to-End Demonstration**  \n",
    "  Showcased the agent's ability to seamlessly switch between using its custom tools for specific tasks and accessing its memory to provide contextually rich, intelligent responses.\n",
    "\n",
    "- **Robust Architecture**  \n",
    "  Delivered a complete workflow that serves as a powerful and flexible blueprint for building sophisticated, real-world AI applications.\n"
   ]
  }
 ],
 "metadata": {
  "colab": {
   "provenance": []
  },
  "language_info": {
   "name": "python"
  }
 },
 "nbformat": 4,
 "nbformat_minor": 5
}
