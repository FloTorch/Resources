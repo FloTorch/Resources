{
 "cells": [
  {
   "cell_type": "markdown",
   "id": "yWM8A0kcahC2",
   "metadata": {
    "id": "yWM8A0kcahC2"
   },
   "source": [
    "# Building an Autogen Agent with Long-Term Memory via Flotorch\n",
    "\n",
    "This notebook demonstrates how to build an advanced Autogen agent with both short-term and long-term memory capabilities using the Flotorch platform. This allows the agent to recall information not only from the current conversation but also from previous, separate interactions."
   ]
  },
  {
   "cell_type": "markdown",
   "id": "kNOu2S08ahC7",
   "metadata": {
    "id": "kNOu2S08ahC7"
   },
   "source": [
    "### Prerequesit\n",
    "Configure model, memory provider and API key in Flotroch console (https://console.flotorch.cloud/)\n",
    "\n",
    "### Viewing logs\n",
    "Logs can be viewed in logs tab in Flotroch console (https://console.flotorch.cloud/)\n",
    "\n",
    "### Key Concepts:\n",
    "- **Short-Term Memory**: Provided by `FlotorchAutogenSession` for session-specific context.\n",
    "- **External (Long-Term) Memory**: Provided by `FlotorchAutogenMemory` for persistent knowledge across all sessions.\n",
    "- **`AssistantAgent`, `RoundRobinGroupChat`**: The core Autogen components configured to leverage both memory types."
   ]
  },
  {
   "cell_type": "markdown",
   "id": "1014b1f5",
   "metadata": {
    "id": "1014b1f5"
   },
   "source": [
    "## 1. Setup and Imports\n",
    "\n",
    "The following cells install the necessary packages, configure API credentials, and import the required components from Flotorch and Autogen, including those needed for external memory."
   ]
  },
  {
   "cell_type": "code",
   "execution_count": null,
   "id": "xLzPhaXXahC8",
   "metadata": {
    "id": "xLzPhaXXahC8"
   },
   "outputs": [],
   "source": [
    "# install flotorch autogen package\n",
    "%pip install flotorch[autogen]"
   ]
  },
  {
   "cell_type": "code",
   "execution_count": null,
   "id": "20f87968",
   "metadata": {
    "id": "20f87968"
   },
   "outputs": [],
   "source": [
    "FLOTORCH_API_KEY = \"<flotorch api key>\"\n",
    "FLOTORCH_BASE_URL = \"<flotroch gateway base url>\" # eg: https://gateway.flotorch.cloud\"\n",
    "FLOTORCH_MODEL = \"<flotorch model>\"\n",
    "USER_ID = \"flotorch_user_001\"\n",
    "APP_ID = \"flotorch_app_001\"\n",
    "MEMORY_PROVIDER = \"<flotorch memory provider>\""
   ]
  },
  {
   "cell_type": "code",
   "execution_count": null,
   "id": "25875af5",
   "metadata": {
    "id": "25875af5"
   },
   "outputs": [],
   "source": [
    "# Import Autogen, Flotorch and related modules\n",
    "from flotorch.autogen.llm import FlotorchAutogenLLM\n",
    "from flotorch.autogen.sessions import FlotorchAutogenSession\n",
    "from flotorch.autogen.memory import FlotorchAutogenMemory\n",
    "from autogen_core.memory import MemoryContent, MemoryMimeType\n",
    "\n",
    "from autogen_agentchat.agents import AssistantAgent\n",
    "from autogen_agentchat.teams import RoundRobinGroupChat\n",
    "from autogen_agentchat.ui import Console\n",
    "\n",
    "\n",
    "\n",
    "print(\"Imported necessary libraries successfully\")\n"
   ]
  },
  {
   "cell_type": "markdown",
   "id": "a17dbc44",
   "metadata": {
    "id": "a17dbc44"
   },
   "source": [
    "## 2. Model and Memory Configuration\n",
    "\n",
    "We initialize the `FlotorchAutogenLLM` which will act as the brain for our agent. This is where we also set up the agent's memory systems, configuring both short-term and long-term memory to give the agent a comprehensive ability to recall information.\n",
    "\n",
    "- **Short-Term Memory**: Uses `FlotorchAutogenSession` to remember the current conversation's flow.\n",
    "- **External Memory**: Uses `FlotorchAutogenMemory` to store and retrieve key information across different sessions, acting as the agent's long-term knowledge base."
   ]
  },
  {
   "cell_type": "code",
   "execution_count": null,
   "id": "a17dbc44",
   "metadata": {
    "id": "a17dbc44"
   },
   "outputs": [],
   "source": [
    "model  =  FlotorchAutogenLLM(\n",
    "        model_id=FLOTORCH_MODEL,\n",
    "        api_key=FLOTORCH_API_KEY,\n",
    "        base_url=FLOTORCH_BASE_URL,\n",
    "    )\n",
    "\n",
    "print(f\"Flotorch LLM model configured\")"
   ]
  },
  {
   "cell_type": "code",
   "execution_count": null,
   "id": "6ea992db",
   "metadata": {
    "id": "6ea992db"
   },
   "outputs": [],
   "source": [
    "session_memory = FlotorchAutogenSession(\n",
    "    api_key=FLOTORCH_API_KEY,\n",
    "    base_url=FLOTORCH_BASE_URL\n",
    ")\n",
    "\n",
    "\n",
    "external_memory = FlotorchAutogenMemory(\n",
    "    api_key=FLOTORCH_API_KEY,\n",
    "    base_url=FLOTORCH_BASE_URL,\n",
    "    name = MEMORY_PROVIDER,\n",
    "    user_id = USER_ID,\n",
    "    app_id  = APP_ID\n",
    ")\n",
    "\n",
    "print(\"Initialized session_memory and external_memory\")"
   ]
  },
  {
   "cell_type": "markdown",
   "id": "dcae0cc7",
   "metadata": {
    "id": "dcae0cc7"
   },
   "source": [
    "## 3. Agent and Team Configuration\n",
    "\n",
    "We define the `AssistantAgent` and a `RoundRobinGroupChat` with a goal that explicitly instructs the agent to use its memory capabilities to provide accurate and context-aware responses. The agent is configured with both `model_context` (for short-term memory) and a list of `memory` providers (for long-term memory)."
   ]
  },
  {
   "cell_type": "code",
   "execution_count": null,
   "id": "dcae0cc7",
   "metadata": {
    "id": "dcae0cc7"
   },
   "outputs": [],
   "source": [
    "assistant = AssistantAgent(\n",
    "        name=\"FlotorchAssistant\",\n",
    "        model_client=model,\n",
    "        model_context = session_memory,\n",
    "        memory = [external_memory],\n",
    "        system_message = \"\"\"  \n",
    "       You are a helpful Assistant with access to the session memory, and external memory,\n",
    "       so use the session memory properly and answer the user queries.\n",
    "        \"\"\" )\n",
    "    \n",
    "team = RoundRobinGroupChat(\n",
    "        participants=[assistant],\n",
    "        max_turns=1\n",
    "    )\n",
    "print(f\"Agent and Task created successfully: {assistant.name}\")"
   ]
  },
  {
   "cell_type": "markdown",
   "id": "04b196dc",
   "metadata": {
    "id": "04b196dc"
   },
   "source": [
    "## 4. Interactive Chat\n",
    "\n",
    "Start a chat session to interact with the agent. The agent's ability to recall information is tested, both from the current conversation (`session_memory`) and from facts it may have learned in previous runs (`external_memory`). Note how user inputs and agent responses are manually saved to the external memory after each turn."
   ]
  },
  {
   "cell_type": "code",
   "execution_count": null,
   "id": "04b196dc",
   "metadata": {
    "id": "04b196dc"
   },
   "outputs": [],
   "source": [
    "while True:\n",
    "    user_input = input(\"user: \")\n",
    "\n",
    "    if user_input.lower().strip() == \"exit\":\n",
    "        break\n",
    "\n",
    "    stream = team.run_stream(task = user_input)\n",
    "    result = await Console(stream)\n",
    "     # --- Add user input to memory ---\n",
    "    await external_memory.add(MemoryContent(content=user_input, mime_type=MemoryMimeType.TEXT))\n",
    "\n",
    "    # --- Add assistant response(s) to memory ---\n",
    "    if hasattr(result, \"messages\"):\n",
    "        for msg in result.messages[-1]:\n",
    "            # Only save text messages (type == \"TextMessage\")\n",
    "            if getattr(msg, \"type\", None) == \"TextMessage\":\n",
    "                \n",
    "                await external_memory.add(MemoryContent(content=getattr(msg, \"content\", \"\"), mime_type=MemoryMimeType.TEXT))\n"
   ]
  },
  {
   "cell_type": "markdown",
   "id": "5d2a7906",
   "metadata": {
    "id": "5d2a7906"
   },
   "source": [
    "## Summary\n",
    "\n",
    "This notebook detailed the implementation of a sophisticated AI agent equipped with both short-term and long-term memory.  \n",
    "By leveraging **Flotorch's infrastructure**, we created an agent that not only remembers the current conversation but also retains and recalls information across separate sessions.\n",
    "\n",
    "### Key Achievements\n",
    "\n",
    "- **Dual-Memory Architecture** \n",
    "  Successfully integrated two distinct memory types:  \n",
    "  - `FlotorchAutogenSession` for immediate, short-term conversational context.  \n",
    "  - `FlotorchAutogenMemory` for persistent, long-term knowledge.\n",
    "\n",
    "- **Enhanced Agent Intelligence** \n",
    "  The agent demonstrated its ability to recall facts from a knowledge base established in previous interactions, leading to more intelligent and informed responses.\n",
    "\n",
    "- **Comprehensive Solution** \n",
    "  This dual-memory approach provides a powerful template for building advanced agents capable of complex, ongoing, and context-rich dialogues."
   ]
  }
 ],
 "metadata": {
  "colab": {
   "provenance": []
  },
  "kernelspec": {
   "display_name": "venv",
   "language": "python",
   "name": "python3"
  },
  "language_info": {
   "codemirror_mode": {
    "name": "ipython",
    "version": 3
   },
   "file_extension": ".py",
   "mimetype": "text/x-python",
   "name": "python",
   "nbconvert_exporter": "python",
   "pygments_lexer": "ipython3",
   "version": "3.11.0"
  }
 },
 "nbformat": 4,
 "nbformat_minor": 5
}
