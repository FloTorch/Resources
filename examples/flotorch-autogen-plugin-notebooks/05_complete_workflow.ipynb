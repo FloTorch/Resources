{
 "cells": [
  {
   "cell_type": "markdown",
   "id": "BopBw4pqatEM",
   "metadata": {
    "id": "BopBw4pqatEM"
   },
   "source": [
    "# Production-Ready Agent Workflow with Flotorch and Autogen\n",
    "\n",
    "This notebook demonstrates a comprehensive, production-style workflow. It integrates all the advanced features we've explored into a single, robust application:\n",
    "- **Remote Agent Configuration**: Uses `FlotorchAutogenAgent` to load agent personas from the Flotorch UI.\n",
    "- **Custom Local Tools**: Defines and attaches a custom tool to the agent at runtime.\n",
    "- **Dual Memory System**: Implements both short-term session memory and long-term external memory."
   ]
  },
  {
   "cell_type": "markdown",
   "id": "isti2HlaatET",
   "metadata": {
    "id": "isti2HlaatET"
   },
   "source": [
    "### Prerequesit\n",
    "Configure agent, memory provider and API key in Flotroch console (https://console.flotorch.cloud/)\n",
    "\n",
    "### Viewing logs\n",
    "Logs can be viewed in logs tab in Flotroch console (https://console.flotorch.cloud/)"
   ]
  },
  {
   "cell_type": "markdown",
   "id": "5QF6nZA2atEV",
   "metadata": {
    "id": "5QF6nZA2atEV"
   },
   "source": [
    "## 1. Setup and Imports\n",
    "\n",
    "The following cells install dependencies, set API credentials, and import all necessary components for handling tools, memory, and remote agent management."
   ]
  },
  {
   "cell_type": "code",
   "execution_count": null,
   "id": "7Ind-017atET",
   "metadata": {
    "id": "7Ind-017atET"
   },
   "outputs": [],
   "source": [
    "# install flotorch autogen package\n",
    "%pip install flotorch[autogen]"
   ]
  },
  {
   "cell_type": "code",
   "execution_count": null,
   "id": "v7CjNz0AatEV",
   "metadata": {
    "id": "v7CjNz0AatEV"
   },
   "outputs": [],
   "source": [
    "FLOTORCH_API_KEY = \"<flotorch api key>\"\n",
    "FLOTORCH_BASE_URL = \"<flotroch gateway base url>\" # eg: https://gateway.flotorch.cloud\"\n",
    "MEMORY_PROVIDER = \"<flotorch memory provider>\"\n",
    "AGENT_NAME = \"<flotorch agent name>\"\n",
    "USER_ID = \"flotorch_user_001\"\n",
    "APP_ID = \"flotorch_app_001\""
   ]
  },
  {
   "cell_type": "code",
   "execution_count": null,
   "id": "6PaPOdsyatEV",
   "metadata": {
    "id": "6PaPOdsyatEV"
   },
   "outputs": [],
   "source": [
    "# Import necessary libraries\n",
    "from flotorch.autogen.agent import FlotorchAutogenAgent\n",
    "from flotorch.autogen.sessions import FlotorchAutogenSession\n",
    "from flotorch.autogen.memory import FlotorchAutogenMemory\n",
    "\n",
    "from autogen_agentchat.teams import RoundRobinGroupChat\n",
    "from autogen_core.tools import FunctionTool\n",
    "from autogen_core.memory import MemoryContent, MemoryMimeType\n",
    "\n",
    "\n",
    "from autogen_agentchat.ui import Console\n",
    "\n",
    "print(\"Imported necessary libraries successfully\")"
   ]
  },
  {
   "cell_type": "markdown",
   "id": "exNKD1n3atEW",
   "metadata": {
    "id": "exNKD1n3atEW"
   },
   "source": [
    "## 2. Custom Tool Definition and Memory Configuration\n",
    "\n",
    "Here, we define a custom `get_weather` tool locally using Autogen's `FunctionTool`. This tool can be dynamically attached to our agent at runtime, demonstrating how to extend a centrally-managed agent with new capabilities. We also configure the full dual-memory system: `FlotorchAutogenSession` for conversational context and `FlotorchAutogenMemory` for persistent, long-term knowledge."
   ]
  },
  {
   "cell_type": "code",
   "execution_count": null,
   "id": "2A65OlrHatEW",
   "metadata": {
    "id": "2A65OlrHatEW"
   },
   "outputs": [],
   "source": [
    "def get_weather(city: str, units: str = \"imperial\") -> str:\n",
    "    \n",
    "        if units == \"imperial\":\n",
    "            return f\"The weather in {city} is 96 °F and Rainy.\"\n",
    "        elif units == \"metric\":\n",
    "            return f\"The weather in {city} is 23 °C and Sunny.\"\n",
    "        else:\n",
    "            return f\"Sorry, I don't know the weather in {city}.\"\n",
    "\n",
    "tools = [FunctionTool(get_weather, \"Get the weather for a given city.\")]\n",
    "\n",
    "print(\"Custom tool defined successfully.\")"
   ]
  },
  {
   "cell_type": "code",
   "execution_count": null,
   "id": "-E6421wkatEW",
   "metadata": {
    "id": "-E6421wkatEW"
   },
   "outputs": [],
   "source": [
    "session_memory = FlotorchAutogenSession(\n",
    "    api_key=FLOTORCH_API_KEY,\n",
    "    base_url=FLOTORCH_BASE_URL\n",
    ")\n",
    "\n",
    "\n",
    "external_memory = FlotorchAutogenMemory(\n",
    "    api_key=FLOTORCH_API_KEY,\n",
    "    base_url=FLOTORCH_BASE_URL,\n",
    "    name = MEMORY_PROVIDER,\n",
    "    user_id = USER_ID,\n",
    "    app_id  = APP_ID\n",
    ")\n",
    "\n",
    "print(\"Initialized session_memory and external_memory\")"
   ]
  },
  {
   "cell_type": "markdown",
   "id": "EONmKumlatEX",
   "metadata": {
    "id": "EONmKumlatEX"
   },
   "source": [
    "## 3. Agent Initialization with Custom Tools and Memory\n",
    "\n",
    "We initialize the `FlotorchAutogenAgent` client, loading our agent's configuration from the Flotorch UI. Crucially, we also pass our locally defined `tools` into the `custom_tools` parameter and configure both `model_context` (for short-term memory) and `memory` (for long-term memory), augmenting the agent's capabilities."
   ]
  },
  {
   "cell_type": "code",
   "execution_count": null,
   "id": "e2a96142",
   "metadata": {},
   "outputs": [],
   "source": [
    "flotorch_client = FlotorchAutogenAgent(\n",
    "    agent_name =AGENT_NAME,\n",
    "    api_key=FLOTORCH_API_KEY,\n",
    "    base_url=FLOTORCH_BASE_URL,\n",
    "    custom_tools = tools,\n",
    "    memory = [external_memory],\n",
    "    model_context = session_memory,\n",
    "\n",
    ")\n",
    "\n",
    "agent = flotorch_client.get_agent()\n",
    "\n",
    "print(\"Fetched agent is initialized\")"
   ]
  },
  {
   "cell_type": "markdown",
   "id": "JEFb0gytatEX",
   "metadata": {
    "id": "JEFb0gytatEX"
   },
   "source": [
    "## 4. Assembling the Complete Team\n",
    "\n",
    "Finally, we assemble the `RoundRobinGroupChat`, bringing together the remotely-configured agent, its custom tool, and both memory modules. This creates a fully-featured, production-ready agent capable of advanced, context-aware interactions."
   ]
  },
  {
   "cell_type": "code",
   "execution_count": null,
   "id": "9WVaWA3UatEX",
   "metadata": {
    "id": "9WVaWA3UatEX"
   },
   "outputs": [],
   "source": [
    "team = RoundRobinGroupChat(\n",
    "        participants=[agent],\n",
    "        max_turns=1\n",
    "    )\n",
    "print(f\"Agent and Task created successfully: {agent.name}\")"
   ]
  },
  {
   "cell_type": "markdown",
   "id": "Z4xWstvAatEX",
   "metadata": {
    "id": "Z4xWstvAatEX"
   },
   "source": [
    "## 5. Interactive Demonstration\n",
    "\n",
    "Engage with the agent in this interactive loop to test its full range of capabilities. Try asking it to get the weather for a city (to test the tool) and then ask it to recall information from the conversation. Note that user inputs and agent responses are manually added to the long-term memory after each turn. Type 'exit' to end the session."
   ]
  },
  {
   "cell_type": "code",
   "execution_count": null,
   "id": "P325RAekatEX",
   "metadata": {
    "id": "P325RAekatEX"
   },
   "outputs": [],
   "source": [
    "while True:\n",
    "    user_input = input(\"user: \")\n",
    "\n",
    "    if user_input.lower().strip() == \"exit\":\n",
    "        break\n",
    "    \n",
    "    # Use this for normal agent.\n",
    "    stream = team.run_stream(task = user_input)\n",
    "    \n",
    "    # Use this if you configured output schema to the agent.\n",
    "    stream = agent.run_stream(task = user_input)\n",
    "    result = await Console(stream)\n",
    "     # --- Add user input to memory ---\n",
    "    await external_memory.add(MemoryContent(content=user_input, mime_type=MemoryMimeType.TEXT))\n",
    "\n",
    "    # --- Add assistant response(s) to memory ---\n",
    "    if hasattr(result, \"messages\"):\n",
    "        for msg in result.messages[-1]:\n",
    "            # Only save text messages (type == \"TextMessage\")\n",
    "            if getattr(msg, \"type\", None) == \"TextMessage\":\n",
    "                \n",
    "                await external_memory.add(MemoryContent(content=getattr(msg, \"content\", \"\"), mime_type=MemoryMimeType.TEXT))\n"
   ]
  },
  {
   "cell_type": "markdown",
   "id": "sTZfzO78atEX",
   "metadata": {
    "id": "sTZfzO78atEX"
   },
   "source": [
    "## Summary\n",
    "\n",
    "This notebook served as a **capstone project**, successfully integrating all previously demonstrated concepts into a single, comprehensive, and production-ready workflow.  \n",
    "We built an advanced AI agent that combines the power of **remote configuration**, **local custom tools**, and a **full dual-memory system**.\n",
    "\n",
    "### Key Achievements\n",
    "\n",
    "- **Hybrid Configuration** \n",
    "  Initialized an agent using `FlotorchAutogenAgent` to load its base configuration from the Flotorch UI, then augmented it at runtime with locally defined custom tools.\n",
    "\n",
    "- **Full Memory Stack** \n",
    "  Equipped the agent with both `FlotorchAutogenSession` for conversational flow and `FlotorchAutogenMemory` for long-term knowledge persistence.\n",
    "\n",
    "- **End-to-End Demonstration** \n",
    "  Showcased the agent's ability to seamlessly switch between using its custom tools for specific tasks and accessing its memory to provide contextually rich, intelligent responses.\n",
    "\n",
    "- **Robust Architecture** \n",
    "  Delivered a complete workflow that serves as a powerful and flexible blueprint for building sophisticated, real-world AI applications."
   ]
  }
 ],
 "metadata": {
  "colab": {
   "provenance": []
  },
  "kernelspec": {
   "display_name": "venv",
   "language": "python",
   "name": "python3"
  },
  "language_info": {
   "codemirror_mode": {
    "name": "ipython",
    "version": 3
   },
   "file_extension": ".py",
   "mimetype": "text/x-python",
   "name": "python",
   "nbconvert_exporter": "python",
   "pygments_lexer": "ipython3",
   "version": "3.11.0"
  }
 },
 "nbformat": 4,
 "nbformat_minor": 5
}
