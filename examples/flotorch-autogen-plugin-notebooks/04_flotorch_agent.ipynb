{
 "cells": [
  {
   "cell_type": "markdown",
   "id": "WmmWq6pPao8S",
   "metadata": {
    "id": "WmmWq6pPao8S"
   },
   "source": [
    "# Simplified Agent Creation with FlotorchAutogenAgent\n",
    "\n",
    "This notebook demonstrates a streamlined approach to creating and deploying Autogen agents using the `FlotorchAutogenAgent` client. This high-level abstraction allows you to manage your agent's configuration (role, goal, tools, etc.) in the Flotorch UI and load it directly into your code with a single command."
   ]
  },
  {
   "cell_type": "markdown",
   "id": "jssCCekvao8V",
   "metadata": {
    "id": "jssCCekvao8V"
   },
   "source": [
    "### Prerequesit\n",
    "Configure agent, API key in Flotroch console (https://console.flotorch.cloud/)\n",
    "\n",
    "### Viewing logs\n",
    "Logs can be viewed in logs tab in Flotroch console (https://console.flotorch.cloud/)\n",
    "\n",
    "### Key Advantage:\n",
    "- **Decoupled Configuration**: Agent logic (role, goal, backstory) is managed on the Flotorch platform, not hardcoded in the notebook. This makes updates and management much easier."
   ]
  },
  {
   "cell_type": "markdown",
   "id": "aab14bf2",
   "metadata": {
    "id": "aab14bf2"
   },
   "source": [
    "## 1. Setup and Imports\n",
    "\n",
    "The following cells install dependencies, define API credentials, and import the necessary components. Note the key import of `FlotorchAutogenAgent`, which is the focus of this example."
   ]
  },
  {
   "cell_type": "code",
   "execution_count": null,
   "id": "39UEpmUAao8W",
   "metadata": {
    "id": "39UEpmUAao8W"
   },
   "outputs": [],
   "source": [
    "# install flotorch autogen package\n",
    "%pip install flotorch[autogen]"
   ]
  },
  {
   "cell_type": "code",
   "execution_count": null,
   "id": "8e067333",
   "metadata": {
    "id": "8e067333"
   },
   "outputs": [],
   "source": [
    "FLOTORCH_API_KEY = \"<flotorch api key>\"\n",
    "FLOTORCH_BASE_URL = \"<flotroch gateway base url>\" # eg: https://gateway.flotorch.cloud\"\n",
    "AGENT_NAME = \"<flotorch agent name>\""
   ]
  },
  {
   "cell_type": "code",
   "execution_count": null,
   "id": "7f57478c",
   "metadata": {
    "id": "7f57478c"
   },
   "outputs": [],
   "source": [
    "# Import Libraries\n",
    "from flotorch.autogen.agent import FlotorchAutogenAgent\n",
    "from flotorch.autogen.sessions import FlotorchAutogenSession\n",
    "from autogen_agentchat.teams import RoundRobinGroupChat\n",
    "from autogen_agentchat.ui import Console\n",
    "\n",
    "\n",
    "print(\"Imported necessary libraries successfully\")"
   ]
  },
  {
   "cell_type": "markdown",
   "id": "a417bdd5",
   "metadata": {
    "id": "a417bdd5"
   },
   "source": [
    "## 2. Session and Agent Initialization\n",
    "\n",
    "First, we set up the `FlotorchAutogenSession` for short-term memory. Then, instead of defining an agent manually, we initialize the `FlotorchAutogenAgent` client by providing an `agent_name`. The client fetches the agent's entire configuration (role, goal, etc.) and its corresponding model from the Flotorch platform."
   ]
  },
  {
   "cell_type": "code",
   "execution_count": null,
   "id": "f3cfe1f0",
   "metadata": {
    "id": "f3cfe1f0"
   },
   "outputs": [],
   "source": [
    "session_memory = FlotorchAutogenSession(\n",
    "    api_key=FLOTORCH_API_KEY,\n",
    "    base_url=FLOTORCH_BASE_URL\n",
    ")\n",
    "print(\"Initialized session_memory\")"
   ]
  },
  {
   "cell_type": "code",
   "execution_count": null,
   "id": "a417bdd5",
   "metadata": {
    "id": "a417bdd5"
   },
   "outputs": [],
   "source": [
    "flotorch_client = FlotorchAutogenAgent(\n",
    "    agent_name =AGENT_NAME,\n",
    "    api_key=FLOTORCH_API_KEY,\n",
    "    base_url=FLOTORCH_BASE_URL,\n",
    "    model_context = session_memory,\n",
    ")\n",
    "\n",
    "agent = flotorch_client.get_agent()\n",
    "\n",
    "print(\"Fetched agent is initialized\")"
   ]
  },
  {
   "cell_type": "markdown",
   "id": "c1b9416d",
   "metadata": {
    "id": "c1b9416d"
   },
   "source": [
    "## 3. Assembling the Team\n",
    "\n",
    "Here, we assemble the `Team` using the agent object that was dynamically fetched from the Flotorch platform. We also include the session memory to provide conversational context."
   ]
  },
  {
   "cell_type": "code",
   "execution_count": null,
   "id": "7361e0da",
   "metadata": {
    "id": "7361e0da"
   },
   "outputs": [],
   "source": [
    "team = RoundRobinGroupChat(\n",
    "        participants=[agent],\n",
    "        max_turns=1\n",
    "    )\n",
    "\n",
    "print(\"Initialized Crew with agent and task\")"
   ]
  },
  {
   "cell_type": "markdown",
   "id": "e2162505",
   "metadata": {
    "id": "e2162505"
   },
   "source": [
    "## 4. Interactive Chat\n",
    "\n",
    "Engage with the pre-configured agent in this interactive loop. The agent's behavior is determined by its configuration on the Flotorch UI. Type 'exit' to end the session."
   ]
  },
  {
   "cell_type": "code",
   "execution_count": null,
   "id": "8fb2f8f5",
   "metadata": {
    "id": "8fb2f8f5"
   },
   "outputs": [],
   "source": [
    "while True:\n",
    "    user_input = input(\"user: \")\n",
    "\n",
    "    if user_input.lower().strip() == \"exit\":\n",
    "        break\n",
    "    \n",
    "    # use this for normal agents.\n",
    "    stream = team.run_stream(task = user_input)\n",
    "    \n",
    "    #use this if you configured output schema to the agent.\n",
    "    # stream = agent.run_stream(task = user_input)\n",
    "    \n",
    "    result = await Console(stream)\n",
    "    "
   ]
  },
  {
   "cell_type": "markdown",
   "id": "c569f066",
   "metadata": {
    "id": "c569f066"
   },
   "source": [
    "## Summary\n",
    "\n",
    "This notebook showcased a highly efficient workflow for agent creation using the `FlotorchAutogenAgent` client. \n",
    "We demonstrated how to **decouple the agent's core configuration** from the application code, resulting in a more maintainable and scalable solution.\n",
    "\n",
    "### Key Achievements\n",
    "\n",
    "- **Simplified Development** \n",
    "  Instead of defining the agent's role, goal, and backstory directly in the code, we instantiated the `FlotorchAutogenAgent` client, which dynamically loaded the configuration from the Flotorch platform.\n",
    "\n",
    "- **Centralized Management** \n",
    "  Enabled updating and managing agent personas and their models directly through the Flotorch UI, without requiring changes to the notebook or application code.\n",
    "\n",
    "- **Production-Ready Pattern** \n",
    "  Demonstrated a best-practice pattern for deploying AI agents in production environments where agility and ease of management are critical."
   ]
  }
 ],
 "metadata": {
  "colab": {
   "provenance": []
  },
  "kernelspec": {
   "display_name": "venv",
   "language": "python",
   "name": "python3"
  },
  "language_info": {
   "codemirror_mode": {
    "name": "ipython",
    "version": 3
   },
   "file_extension": ".py",
   "mimetype": "text/x-python",
   "name": "python",
   "nbconvert_exporter": "python",
   "pygments_lexer": "ipython3",
   "version": "3.11.0"
  }
 },
 "nbformat": 4,
 "nbformat_minor": 5
}
