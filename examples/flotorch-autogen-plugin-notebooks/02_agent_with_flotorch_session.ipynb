{
 "cells": [
  {
   "cell_type": "markdown",
   "id": "Efs7k2NhaXBm",
   "metadata": {
    "id": "Efs7k2NhaXBm"
   },
   "source": [
    "# Integrating Flotorch Session Management with Autogen\n",
    "\n",
    "This notebook demonstrates how to integrate Flotorch's session management with an Autogen agent. By using `FlotorchAutogenSession` as the storage backend for the agent's conversational context, we can create a stateful agent that remembers the history of the current session."
   ]
  },
  {
   "cell_type": "markdown",
   "id": "a1Q6WJ_taXBr",
   "metadata": {
    "id": "a1Q6WJ_taXBr"
   },
   "source": [
    "### Prerequesit\n",
    "Configure model, API key in Flotroch console (https://console.flotorch.cloud/)\n",
    "\n",
    "### Viewing logs\n",
    "Logs can be viewed in logs tab in Flotroch console (https://console.flotorch.cloud/)\n",
    "\n",
    "### Key Concepts:\n",
    "- **`FlotorchAutogenLLM`**: The language model powering the agent.\n",
    "- **`FlotorchAutogenSession`**: The session storage mechanism for persisting conversation history.\n",
    "- **`model_context`**: The agent parameter used to pass the session history, enabling short-term memory.\n",
    "- **`AssistantAgent`, `RoundRobinGroupChat`**: The core components for building and orchestrating the AI workflow."
   ]
  },
  {
   "cell_type": "markdown",
   "id": "9f33d8a7",
   "metadata": {
    "id": "9f33d8a7"
   },
   "source": [
    "## 1. Setup and Configuration\n",
    "\n",
    "The following cells install the necessary packages, configure API credentials, and import all required components from the Flotorch and Autogen libraries."
   ]
  },
  {
   "cell_type": "code",
   "execution_count": null,
   "id": "V01RwHSkaXBs",
   "metadata": {
    "id": "V01RwHSkaXBs"
   },
   "outputs": [],
   "source": [
    "# install flotorch autogen package\n",
    "%pip install flotorch[autogen]"
   ]
  },
  {
   "cell_type": "code",
   "execution_count": null,
   "id": "dfa334c0",
   "metadata": {
    "id": "dfa334c0"
   },
   "outputs": [],
   "source": [
    "FLOTORCH_API_KEY = \"<flotorch api key>\"\n",
    "FLOTORCH_BASE_URL = \"<flotroch gateway base url>\" # eg: https://gateway.flotorch.cloud\"\n",
    "FLOTORCH_MODEL = \"<flotorch model>\""
   ]
  },
  {
   "cell_type": "code",
   "execution_count": null,
   "id": "b339f803",
   "metadata": {
    "id": "b339f803"
   },
   "outputs": [],
   "source": [
    "# Import Autpgen, Flotorch and related modules\n",
    "import datetime\n",
    "from flotorch.autogen.llm import FlotorchAutogenLLM\n",
    "from flotorch.autogen.sessions import FlotorchAutogenSession\n",
    "from autogen_agentchat.agents import AssistantAgent\n",
    "from autogen_agentchat.teams import RoundRobinGroupChat\n",
    "from autogen_agentchat.ui import Console\n",
    "\n",
    "# for supressing the unwanted logs from autogen\n",
    "import logging\n",
    "logging.disable(logging.WARNING)\n",
    "\n",
    "print(\"Imported necessary libraries successfully\")"
   ]
  },
  {
   "cell_type": "markdown",
   "id": "27134aae",
   "metadata": {
    "id": "27134aae"
   },
   "source": [
    "## 2. Model and Session Configuration\n",
    "\n",
    "Here, we initialize `FlotorchAutogenLLM` as the reasoning engine for our agent. We then create an instance of `FlotorchAutogenSession` which will manage the conversational history for the agent."
   ]
  },
  {
   "cell_type": "code",
   "execution_count": null,
   "id": "1cf7df91",
   "metadata": {
    "id": "1cf7df91"
   },
   "outputs": [],
   "source": [
    "model  =  FlotorchAutogenLLM(\n",
    "        model_id=FLOTORCH_MODEL,\n",
    "        api_key=FLOTORCH_API_KEY,\n",
    "        base_url=FLOTORCH_BASE_URL,\n",
    "    )\n",
    "\n",
    "print(f\"Flotorch LLM model configured\")"
   ]
  },
  {
   "cell_type": "code",
   "execution_count": null,
   "id": "f98abcdb",
   "metadata": {
    "id": "f98abcdb"
   },
   "outputs": [],
   "source": [
    "session_memory = FlotorchAutogenSession(\n",
    "    api_key=FLOTORCH_API_KEY,\n",
    "    base_url=FLOTORCH_BASE_URL\n",
    ")\n",
    "\n",
    "print(\"session_memory is initialized\")"
   ]
  },
  {
   "cell_type": "markdown",
   "id": "85ce0773",
   "metadata": {
    "id": "85ce0773"
   },
   "source": [
    "## 3. Agent and Team Configuration\n",
    "\n",
    "We define the `AssistantAgent` and a `RoundRobinGroupChat` to manage the interaction. The `session_memory` instance is passed to the agent's `model_context` parameter, which enables the agent to access the history of the current chat session."
   ]
  },
  {
   "cell_type": "code",
   "execution_count": null,
   "id": "3d9dd9dc",
   "metadata": {
    "id": "3d9dd9dc"
   },
   "outputs": [],
   "source": [
    "assistant = AssistantAgent(\n",
    "        name=\"FlotorchAssistant\",\n",
    "        model_client=model,\n",
    "        model_context = session_memory,\n",
    "        system_message = \"\"\"  \n",
    "                        You are a helpful Assistant with access to the session memory, \n",
    "                        so use the session memory properly and answer the user queries.\n",
    "                        \"\"\" ,\n",
    "        )\n",
    "    \n",
    "team = RoundRobinGroupChat(\n",
    "        participants=[assistant],\n",
    "        max_turns=1\n",
    "    )\n",
    "print(f\"Agent and Task created successfully: {assistant.name}\")"
   ]
  },
  {
   "cell_type": "markdown",
   "id": "c95882b4",
   "metadata": {
    "id": "c95882b4"
   },
   "source": [
    "## 4. Interactive Chat\n",
    "\n",
    "This loop starts an interactive chat session. The agent will use the Flotorch-backed session memory to recall context from previous messages within this conversation. Type 'exit' to end the session."
   ]
  },
  {
   "cell_type": "code",
   "execution_count": null,
   "id": "07a7a58b",
   "metadata": {},
   "outputs": [],
   "source": [
    "while True:\n",
    "    user_input = input(\"user: \")\n",
    "\n",
    "    if user_input.lower().strip() == \"exit\":\n",
    "        break\n",
    "\n",
    "    stream = team.run_stream(task = user_input)\n",
    "    result = await Console(stream)\n"
   ]
  },
  {
   "cell_type": "markdown",
   "id": "96a9413a",
   "metadata": {
    "id": "96a9413a"
   },
   "source": [
    "## Summary\n",
    "\n",
    "This notebook successfully demonstrated how to create a conversational agent with short-term memory. \n",
    "By integrating **Flotorch's session management** with **Autogen**, we achieved a **stateful interaction** where the agent can recall information from earlier in the conversation.\n",
    "\n",
    "### Key Achievements\n",
    "\n",
    "- **Session Persistence** \n",
    "  Configured `FlotorchAutogenSession` as the backend for the agent's `model_context`, enabling it to maintain context across turns.\n",
    "\n",
    "- **Context-Aware Responses** \n",
    "  The agent successfully referenced previously mentioned details (e.g., the user's name, their dog's name) to provide more natural and relevant replies.\n",
    "\n",
    "- **Streamlined Integration** \n",
    "  Demonstrated a clear and effective method to connect Flotorch's robust session infrastructure with Autogen’s powerful agent framework."
   ]
  }
 ],
 "metadata": {
  "colab": {
   "provenance": []
  },
  "kernelspec": {
   "display_name": "venv",
   "language": "python",
   "name": "python3"
  },
  "language_info": {
   "codemirror_mode": {
    "name": "ipython",
    "version": 3
   },
   "file_extension": ".py",
   "mimetype": "text/x-python",
   "name": "python",
   "nbconvert_exporter": "python",
   "pygments_lexer": "ipython3",
   "version": "3.11.0"
  }
 },
 "nbformat": 4,
 "nbformat_minor": 5
}
