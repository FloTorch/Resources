{
 "cells": [
  {
   "cell_type": "markdown",
   "metadata": {
    "id": "122H1g5KZyDL"
   },
   "source": [
    "# Building a Custom Agent with Flotorch and Autogen\n",
    "\n",
    "This notebook demonstrates how to build and run a simple AI agent using the Flotorch platform and the Autogen framework. The agent will be equipped with a custom tool to perform a specific function."
   ]
  },
  {
   "cell_type": "markdown",
   "metadata": {
    "id": "I6WrELZ7ZyDR"
   },
   "source": [
    "### Prerequesit\n",
    "Configure model and API key in Flotroch console (https://console.flotorch.cloud/)\n",
    "\n",
    "### Viewing logs\n",
    "Logs can be viewed in logs tab in Flotroch console (https://console.flotorch.cloud/)\n",
    "\n",
    "### Key Objectives:\n",
    "- Install the required Flotorch autogen packages.\n",
    "- Define a custom tool for a specific function using Autogen's `FunctionTool`.\n",
    "- Configure a new agent with a specific role, goal, and tool.\n",
    "- Utilize the Flotorch LLM to power the agent's reasoning capabilities.\n",
    "- Assemble and execute a task with a team of agents."
   ]
  },
  {
   "cell_type": "markdown",
   "metadata": {
    "id": "J6JVPRA6ZyDT"
   },
   "source": [
    "## 1. Environment Setup and Imports\n",
    "\n",
    "The following cells handle the complete setup of the environment. This includes:\n",
    "1. **Installing** the necessary Flotorch ADK package.\n",
    "2. **Importing** essential libraries from Flotorch and Autogen.\n",
    "3. **Configuring** the API credentials and model endpoint."
   ]
  },
  {
   "cell_type": "code",
   "execution_count": null,
   "metadata": {
    "id": "mCx59ZhBZyDR"
   },
   "outputs": [],
   "source": [
    "# install flotorch autogen package\n",
    "%pip install flotorch[autogen]"
   ]
  },
  {
   "cell_type": "code",
   "execution_count": null,
   "metadata": {
    "id": "PNWXuetCZyDS"
   },
   "outputs": [],
   "source": [
    "FLOTORCH_API_KEY = \"<flotorch api key>\"\n",
    "FLOTORCH_BASE_URL = \"<flotroch gateway base url>\" # eg: https://gateway.flotorch.cloud\"\n",
    "FLOTORCH_MODEL = \"<flotorch model>\""
   ]
  },
  {
   "cell_type": "code",
   "execution_count": null,
   "metadata": {
    "id": "Grq4w1_VZyDT"
   },
   "outputs": [],
   "source": [
    "# Import autogen and related modules\n",
    "from flotorch.autogen.llm import FlotorchAutogenLLM\n",
    "from autogen_agentchat.agents import AssistantAgent\n",
    "from autogen_agentchat.teams import RoundRobinGroupChat\n",
    "from autogen_core.tools import FunctionTool\n",
    "from autogen_agentchat.ui import Console\n",
    "\n",
    "\n",
    "print(\"Imported necessary libraries successfully\")"
   ]
  },
  {
   "cell_type": "markdown",
   "metadata": {
    "id": "2eF0agncZyDU"
   },
   "source": [
    "## 2. Defining a Custom Tool\n",
    "\n",
    "To extend the agent's capabilities, we define a custom tool. The `FunctionTool` class from Autogen wraps a standard Python function, transforming it into a tool that the agent can utilize. This example creates a `get_weather` tool, which takes a city and optional units as input and returns a weather string. The function's docstring and the description provided in the `FunctionTool` helps the agent understand how and when to use it."
   ]
  },
  {
   "cell_type": "code",
   "execution_count": null,
   "metadata": {
    "id": "TD-wpqRxZyDT"
   },
   "outputs": [],
   "source": [
    "def get_weather(city: str, units: str = \"imperial\") -> str:\n",
    "    \n",
    "        if units == \"imperial\":\n",
    "            return f\"The weather in {city} is 96 °F and Rainy.\"\n",
    "        elif units == \"metric\":\n",
    "            return f\"The weather in {city} is 23 °C and Sunny.\"\n",
    "        else:\n",
    "            return f\"Sorry, I don't know the weather in {city}.\"\n",
    "\n",
    "tools = [FunctionTool(get_weather, \"Get the weather for a given city.\")]\n",
    "\n",
    "print(\"Custom tool defined successfully.\")"
   ]
  },
  {
   "cell_type": "markdown",
   "metadata": {
    "id": "uXk7f9ZcZyDU"
   },
   "source": [
    "## 3. Configuring the Language Model\n",
    "\n",
    "The agent requires a Large Language Model (LLM) to act as its brain. We instantiate `FlotorchAutogenLLM`, passing our API credentials and the desired model ID. This object serves as the bridge between our Autogen agent and the powerful reasoning capabilities of the Flotorch platform."
   ]
  },
  {
   "cell_type": "code",
   "execution_count": null,
   "metadata": {
    "id": "zN2e_wVkZyDU"
   },
   "outputs": [],
   "source": [
    "model  =  FlotorchAutogenLLM(\n",
    "        model_id=FLOTORCH_MODEL,\n",
    "        api_key=FLOTORCH_API_KEY,\n",
    "        base_url=FLOTORCH_BASE_URL,\n",
    "    )\n",
    "\n",
    "print(f\"Flotorch LLM model configured\")"
   ]
  },
  {
   "cell_type": "markdown",
   "metadata": {
    "id": "8JHCLavUZyDU"
   },
   "source": [
    "## 4. Creating the Agent and Team\n",
    "\n",
    "With the tool and LLM configured, we now define the agent's persona and assemble a team. We create an `AssistantAgent` with a clear `system_message` that defines its purpose and its access to the custom tool. We then place this agent into a `RoundRobinGroupChat` to handle the interactive conversation."
   ]
  },
  {
   "cell_type": "code",
   "execution_count": null,
   "metadata": {
    "id": "8JHCLavUZyDU"
   },
   "outputs": [],
   "source": [
    "assistant = AssistantAgent(\n",
    "        name=\"FlotorchAssistant\",\n",
    "        model_client=model,\n",
    "        tools = tools,\n",
    "        system_message = \"\"\"  \n",
    "        You are a helpful assistant with access to one custom tool : 'get_weather' whenever user asks about the weather you need to use this tool,\n",
    "         apart from that you can answer with your own knowledge with accurate answers.\n",
    "        \"\"\" )\n",
    "    \n",
    "team = RoundRobinGroupChat(\n",
    "        participants=[assistant],\n",
    "        max_turns=1\n",
    "    )\n",
    "print(f\"Agent and Task created successfully: {assistant.name}\")"
   ]
  },
  {
   "cell_type": "markdown",
   "metadata": {
    "id": "gMQ2hl8FZyDV"
   },
   "source": [
    "## 5. Interactive Chat\n",
    "\n",
    "The final step is to run the interactive chat loop with the team. The `team.run_stream(task=user_input)` method starts the process, and the agent will autonomously use the provided tool based on the user's input to generate the final response."
   ]
  },
  {
   "cell_type": "code",
   "execution_count": null,
   "metadata": {
    "id": "ua_FvKrbZyDV"
   },
   "outputs": [],
   "source": [
    "while True:\n",
    "    user_input = input(\"user: \")\n",
    "\n",
    "    if user_input.lower().strip() == \"exit\":\n",
    "        break\n",
    "\n",
    "    stream = team.run_stream(task = user_input)\n",
    "    result = await Console(stream)\n"
   ]
  },
  {
   "cell_type": "markdown",
   "metadata": {
    "id": "HNkM4du1ZyDV"
   },
   "source": [
    "## Summary\n",
    "\n",
    "This notebook demonstrated the end-to-end process of creating a functional AI agent using the Flotorch sdk and Autogen.\n",
    "\n",
    "The key components included:\n",
    "\n",
    "1. **Custom Tool Implementation**: A Python function was seamlessly converted into a usable tool for the agent using Autogen's `FunctionTool`.\n",
    "2. **Model Configuration**: The `FlotorchAutogenLLM` was configured to provide the agent with its reasoning ability.\n",
    "3. **Agent & Team Creation**: A specialized agent was defined with a clear system message and added to a `RoundRobinGroupChat` to ensure predictable behavior.\n",
    "4. **Interactive Execution**: The agent and task were run in an interactive loop, successfully using the custom tool to produce the final output.\n",
    "    \n",
    "This example showcases the power and flexibility of the Flotorch platform for building customized, tool-augmented AI agents."
   ]
  }
 ],
 "metadata": {
  "colab": {
   "provenance": []
  },
  "kernelspec": {
   "display_name": "venv",
   "language": "python",
   "name": "python3"
  },
  "language_info": {
   "codemirror_mode": {
    "name": "ipython",
    "version": 3
   },
   "file_extension": ".py",
   "mimetype": "text/x-python",
   "name": "python",
   "nbconvert_exporter": "python",
   "pygments_lexer": "ipython3",
   "version": "3.11.0"
  }
 },
 "nbformat": 4,
 "nbformat_minor": 0
}
