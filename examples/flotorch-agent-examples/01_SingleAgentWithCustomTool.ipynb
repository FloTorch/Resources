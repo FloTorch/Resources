{
  "cells": [
    {
      "cell_type": "markdown",
      "metadata": {
        "id": "comment-cell-1"
      },
      "source": [
        "[![Open In Colab](https://colab.research.google.com/assets/colab-badge.svg)](https://colab.research.google.com/drive/1byTdcluOGiHtZKslcLpGF2y7mWJkTIIx#scrollTo=v48AGvIfSW16)\n",
        "\n",
        "### Step 1: Install Dependencies\n",
        "\n",
        "This cell uses the `%pip` magic command to install the `flotorch` library. The `[adk]` extra specifies that all necessary dependencies for the Agent Development Kit (ADK), such as `google-adk`, should also be installed. This package provides the core tools for building and running your agent."
      ]
    },
    {
      "cell_type": "code",
      "execution_count": null,
      "metadata": {
        "colab": {
          "base_uri": "https://localhost:8080/"
        },
        "id": "rGPTd0FtGfyd",
        "outputId": "194fdd6a-7094-4f8c-d390-a71944540d9f"
      },
      "outputs": [],
      "source": [
        "%pip install flotorch[adk]"
      ]
    },
    {
      "cell_type": "markdown",
      "metadata": {
        "id": "comment-cell-2"
      },
      "source": [
        "### Step 2: Configuration Variables\n",
        "\n",
        "This cell defines the constant variables required to configure and authenticate the Flotorch agent.\n",
        "\n",
        "* `FLOTORCH_API_KEY`: Replace the API key with your actual FloTorch API Key (Check [Prerequisites.ipynb](https://github.com/FloTorch/Resources/blob/main/examples/flotorch-rag-notebooks/faiss-example/01_Prerequisites.ipynb) on how to get the key)\n",
        "                       \n",
        "                       Using FloTorch helps you monitor the agentic flow through the FloTorch gateway.\n",
        "* `FLOTORCH_BASE_URL`: The API gateway endpoint.\n",
        "* `AGENT_NAME`: A unique name for this specific agent instance, indicating it uses MCP (Multi-turn Conversation Protocol) tools.\n",
        "* `APP_NAME`: A name for your application, used to group sessions.\n",
        "* `USER_ID`: A unique identifier for the end-user interacting with the agent."
      ]
    },
    {
      "cell_type": "code",
      "execution_count": null,
      "metadata": {
        "id": "v48AGvIfSW16"
      },
      "outputs": [],
      "source": [
        "from getpass import getpass\n",
        "\n",
        "FLOTORCH_API_KEY = getpass(\"FloTorch API Key\") # SET YOUR FLOTORCH API KEY HERE\n",
        "FLOTORCH_BASE_URL = \"https://gateway.flotorch.cloud\" \n",
        "AGENT_NAME = \"single-agent-with-local-tool\"\n",
        "APP_NAME = \"flotorch_tools_example\"\n",
        "USER_ID = \"flotorch_user_001\""
      ]
    },
    {
      "cell_type": "markdown",
      "metadata": {
        "id": "comment-cell-3"
      },
      "source": [
        "### Step 3: Import Libraries\n",
        "\n",
        "This cell imports all the necessary classes and modules from the Flotorch and Google ADK libraries. These components are the building blocks for creating the agent (`FlotorchADKAgent`), managing conversation history (`FlotorchADKSession`), defining tools (`FunctionTool`), and running the agent (`Runner`)."
      ]
    },
    {
      "cell_type": "code",
      "execution_count": null,
      "metadata": {
        "colab": {
          "base_uri": "https://localhost:8080/"
        },
        "id": "0Ep7RxgcTBHo",
        "outputId": "740d75c1-8ecf-4a9c-b928-395702893998"
      },
      "outputs": [],
      "source": [
        "# Import necessary libraries\n",
        "from flotorch.adk.agent import FlotorchADKAgent\n",
        "from flotorch.adk.sessions import FlotorchADKSession\n",
        "from google.adk import Runner\n",
        "from google.genai import types\n",
        "from google.adk.tools import FunctionTool\n",
        "\n",
        "print(\"Imported necessary libraries successfully\")"
      ]
    },
    {
      "cell_type": "markdown",
      "metadata": {
        "id": "comment-cell-4"
      },
      "source": [
        "### Step 4: Define a Custom Tool (Google Search)\n",
        "\n",
        "This cell defines a custom tool that the agent can use to answer questions.\n",
        "\n",
        "1.  A Python function `Google Search` is created. It takes a `query` string and uses the `requests` library to call the Google Custom Search API.\n",
        "2.  It parses the JSON response and formats the top 5 results into a single, easy-to-read string.\n",
        "3.  The function is then wrapped in the ADK's `FunctionTool` class, which allows the agent's underlying language model to understand what the tool does and how to call it.\n",
        "4.  This `FunctionTool` object is stored in a list called `custom_tools`, which will be passed to the agent during initialization."
      ]
    },
    {
      "cell_type": "code",
      "execution_count": null,
      "metadata": {
        "colab": {
          "base_uri": "https://localhost:8080/"
        },
        "id": "D5RIDIsYFezk",
        "outputId": "137de6eb-5e8b-4209-8f1b-11f2dbb947e2"
      },
      "outputs": [],
      "source": [
        "import requests\n",
        "from google.adk.tools import FunctionTool\n",
        "\n",
        "# --- Google Search Tool ---\n",
        "def google_search(query: str) -> str:\n",
        "    \"\"\"Perform a Google search and return top results.\"\"\"\n",
        "    api_key = \"\" # get your google api key\n",
        "    cse_id = \"\"  # get your google cse_id key\n",
        "\n",
        "    url = \"https://www.googleapis.com/customsearch/v1\"\n",
        "    params = {\n",
        "        \"key\": api_key,\n",
        "        \"cx\": cse_id,\n",
        "        \"q\": query,\n",
        "        \"num\": 5  # top 5 results\n",
        "    }\n",
        "\n",
        "    response = requests.get(url, params=params)\n",
        "    data = response.json()\n",
        "\n",
        "    if \"items\" not in data:\n",
        "        return \"No results found.\"\n",
        "\n",
        "    results = []\n",
        "    for item in data[\"items\"]:\n",
        "        title = item.get(\"title\", \"\")\n",
        "        snippet = item.get(\"snippet\", \"\")\n",
        "        link = item.get(\"link\", \"\")\n",
        "        results.append(f\"🔹 {title}\\n{snippet}\\n{link}\")\n",
        "\n",
        "    # Combine results into a single text output\n",
        "    return \"\\n\\n\".join(results)\n",
        "\n",
        "# --- Wrap as ADK Tool ---\n",
        "custom_tools = [FunctionTool(func=google_search)]\n",
        "\n",
        "print(\"✅ Google Search tool created successfully.\")\n"
      ]
    },
    {
      "cell_type": "markdown",
      "metadata": {
        "id": "comment-cell-5"
      },
      "source": [
        "### Step 5: Initialize Session Service\n",
        "\n",
        "This cell initializes the `FlotorchADKSession` service. This service is responsible for creating, retrieving, and managing conversation sessions (i.e., keeping track of the chat history). It's configured using the API key and base URL defined in step 2. Note that the `FlotorchMemoryService` initialization is commented out in this example."
      ]
    },
    {
      "cell_type": "code",
      "execution_count": null,
      "metadata": {
        "colab": {
          "base_uri": "https://localhost:8080/"
        },
        "id": "lKZWF4MPU1Y2",
        "outputId": "4fb60c2e-5d54-4e95-89f9-6615737e621"
      },
      "outputs": [],
      "source": [
        "# Initialize Session\n",
        "session_service = FlotorchADKSession(\n",
        "    api_key=FLOTORCH_API_KEY, base_url=FLOTORCH_BASE_URL\n",
        ")\n",
        "\n",
        "print(\"Initialized Session\")"
      ]
    },
    {
      "cell_type": "markdown",
      "metadata": {
        "id": "comment-cell-6"
      },
      "source": [
        "### Step 6: Initialize the Flotorch Agent\n",
        "\n",
        "Here, the `FlotorchADKAgent` is initialized. This is the core of the application. It is configured with its name, API credentials, and (most importantly) the `custom_tools` list from step 4. This step makes the agent \"aware\" of the `Google Search` function and gives it the ability to decide when to use it. The `.get_agent()` method retrieves the final, configured agent object."
      ]
    },
    {
      "cell_type": "code",
      "execution_count": null,
      "metadata": {
        "colab": {
          "base_uri": "https://localhost:8080/"
        },
        "id": "GNiNUAdlVHPi",
        "outputId": "53c8119c-f759-496a-c96a-3f1ff7cb00f9"
      },
      "outputs": [],
      "source": [
        "flotorch_client = FlotorchADKAgent(\n",
        "    agent_name=AGENT_NAME,\n",
        "    api_key=FLOTORCH_API_KEY,\n",
        "    base_url=FLOTORCH_BASE_URL,\n",
        "    custom_tools=custom_tools\n",
        ")\n",
        "\n",
        "agent = flotorch_client.get_agent()\n",
        "print(f\"Advanced FlotorchADKAgent '{agent.name}' created.\")"
      ]
    },
    {
      "cell_type": "markdown",
      "metadata": {
        "id": "comment-cell-7"
      },
      "source": [
        "### Step 7: Configure the Runner and Chat Function\n",
        "\n",
        "This cell does two key things:\n",
        "\n",
        "1.  **Initializes the `Runner`**: The `Runner` from the `google.adk` library is the component that orchestrates the entire conversation flow. It connects the `agent` (step 6) with the `session_service` (step 5) to process messages.\n",
        "2.  **Defines `chat_with_agent`**: This is an asynchronous helper function that simplifies the process of interacting with the agent. It takes a `query` and `session_id`, sends the message to the `runner`, processes all the turn-based events, and returns only the agent's final text response."
      ]
    },
    {
      "cell_type": "code",
      "execution_count": null,
      "metadata": {
        "colab": {
          "base_uri": "https://localhost:8080/"
        },
        "id": "81jpWVVxVLsM",
        "outputId": "4424c7be-8fce-4363-8f4e-533f47bd71bc"
      },
      "outputs": [],
      "source": [
        "runner = Runner(\n",
        "    agent=agent,\n",
        "    app_name=APP_NAME,\n",
        "    session_service=session_service\n",
        ")\n",
        "\n",
        "async def chat_with_agent(query,session_id):\n",
        "    \"\"\"\n",
        "    Chat function that returns the agent's response and saves the interaction to memory.\n",
        "    \"\"\"\n",
        "    content = types.Content(role=\"user\", parts=[types.Part(text=query)])\n",
        "    events = runner.run(user_id=USER_ID, session_id=session_id, new_message=content)\n",
        "    for event in events:\n",
        "        if event.is_final_response():\n",
        "            if event.content and event.content.parts:\n",
        "                # Save the session to memory after getting a response\n",
        "                completed_session = await runner.session_service.get_session(app_name=APP_NAME, user_id=USER_ID, session_id=session_id)\n",
        "                # await memory_service.add_session_to_memory(completed_session)\n",
        "                return event.content.parts[0].text\n",
        "    return \"Sorry, I couldn't process that request.\"\n",
        "\n",
        "print(\"Comprehensive runner configured successfully.\")"
      ]
    },
    {
      "cell_type": "markdown",
      "metadata": {
        "id": "comment-cell-8"
      },
      "source": [
        "### Step 8: Run the Conversation\n",
        "\n",
        "This is the main execution cell where the agent is tested.\n",
        "\n",
        "1.  It first creates a new session (`session1`) using the `session_service`.\n",
        "2.  It then calls `chat_with_agent` with the query \"what is stock price of tata motors?\". The agent will see this query, decide it needs external information, and call its `Google Search` tool.\n",
        "3.  The agent's final response (based on the search results) is printed.\n",
        "4.  It calls `chat_with_agent` again *in the same session* with a new query: \"what is current temprature in hyderabad?\".\n",
        "5.  The agent repeats the process, calling the `Google Search` tool again to find the weather. The final response is printed."
      ]
    },
    {
      "cell_type": "code",
      "execution_count": null,
      "metadata": {
        "colab": {
          "base_uri": "https://localhost:8080/"
        },
        "id": "7KKcdKlqVP2n",
        "outputId": "153823c2-dc07-431f-fb96-18d2581eeffc"
      },
      "outputs": [],
      "source": [
        "# === Session 1: Teach the agent a fact and use a tool ===\n",
        "session1 = await runner.session_service.create_session(app_name=APP_NAME, user_id=USER_ID)\n",
        "print(f\"Started Session 1 with ID: {session1.id}\\n\")\n",
        "response1 = await chat_with_agent(\"what is stock price of tata motors?\", session1.id)\n",
        "print(\"user: what is stock price of tata motors\")\n",
        "print(f\"Response: {response1}\")\n",
        "\n",
        "response2 = await chat_with_agent(\" what is current temperature in hyderabad?\", session1.id)\n",
        "print(f\"\\nQuery: what is current temperature in hyderabad? \")\n",
        "print(f\"Response: {response2}\")\n",
        "\n",
        "print(\"--- Session 1 ended and memory saved ---\")\n",
        "\n"
      ]
    }
  ],
  "metadata": {
    "colab": {
      "provenance": []
    },
    "kernelspec": {
      "display_name": "Python 3",
      "name": "python3"
    },
    "language_info": {
      "codemirror_mode": {
        "name": "ipython",
        "version": 3
      },
      "file_extension": ".py",
      "mimetype": "text/x-python",
      "name": "python",
      "nbconvert_exporter": "python",
      "pygments_lexer": "ipython3",
      "version": "3.11.0"
    }
  },
  "nbformat": 4,
  "nbformat_minor": 0
}
