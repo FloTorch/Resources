{
  "cells": [
    {
      "cell_type": "markdown",
      "metadata": {
        "id": "comment-cell-1"
      },
      "source": [
        "[![Open In Colab](https://colab.research.google.com/assets/colab-badge.svg)](https://colab.research.google.com/drive/1ofz5Ep1Pnti7kPzYe0dRqxMHxU2pDCvH#scrollTo=BSF-vb-9MWAz)\n",
        "\n",
        "\n",
        "### Step 1: Install Dependencies\n",
        "\n",
        "This cell uses the `%pip` magic command to install the `flotorch` library. The `[adk]` extra specifies that all necessary dependencies for the Agent Development Kit (ADK), such as `google-adk`, should also be installed. This package provides the core tools for building and running your agent."
      ]
    },
    {
      "cell_type": "code",
      "execution_count": null,
      "metadata": {
        "id": "8B4qLH24LsYv"
      },
      "outputs": [],
      "source": [
        "%pip install flotorch[adk]"
      ]
    },
    {
      "cell_type": "markdown",
      "metadata": {
        "id": "comment-cell-2"
      },
      "source": [
        "### Step 2: Configuration Variables\n",
        "\n",
        "This cell defines the constant variables required to configure and authenticate the Flotorch agent.\n",
        "\n",
        "* `FLOTORCH_API_KEY`: Replace the API key with your actual FloTorch API Key (Check [Prerequisites.ipynb](https://github.com/FloTorch/Resources/blob/main/examples/flotorch-rag-notebooks/faiss-example/01_Prerequisites.ipynb) on how to get the key)\n",
        "                       \n",
        "                       Using FloTorch helps you monitor the agentic flow through the FloTorch gateway.\n",
        "* `FLOTORCH_BASE_URL`: The API gateway endpoint.\n",
        "* `AGENT_NAME`: A unique name for this specific agent instance, indicating it uses MCP (Multi-turn Conversation Protocol) tools.\n",
        "* `APP_NAME`: A name for your application, used to group sessions.\n",
        "* `USER_ID`: A unique identifier for the end-user interacting with the agent."
      ]
    },
    {
      "cell_type": "code",
      "execution_count": null,
      "metadata": {
        "id": "-6t2Kw0eLvQx"
      },
      "outputs": [],
      "source": [
        "from getpass import getpass\n",
        "\n",
        "FLOTORCH_API_KEY = getpass(\"FloTorch API Key\") # SET YOUR FLOTORCH API KEY HERE\n",
        "FLOTORCH_BASE_URL = \"https://gateway.flotorch.cloud\"\n",
        "AGENT_NAME = \"crypto-agent\"\n",
        "APP_NAME = \"flotorch_tools_example\"\n",
        "USER_ID = \"flotorch_user_001\""
      ]
    },
    {
      "cell_type": "markdown",
      "metadata": {
        "id": "comment-cell-3"
      },
      "source": [
        "### Step 3: Import Libraries\n",
        "\n",
        "This cell imports the core classes needed from the Flotorch ADK and Google ADK libraries:\n",
        "* `FlotorchADKAgent`: For creating the agent instance connected to the Flotorch platform.\n",
        "* `FlotorchADKSession`: For managing conversation sessions using Flotorch's session service.\n",
        "* `Runner`: The ADK component that orchestrates the agent's execution flow.\n",
        "* `types` (from `google.genai`): Provides standard data structures like `Content` and `Part` for messages."
      ]
    },
    {
      "cell_type": "code",
      "execution_count": null,
      "metadata": {
        "id": "Ms-DmJbpL7Ta"
      },
      "outputs": [],
      "source": [
        "from flotorch.adk.agent import FlotorchADKAgent\n",
        "from flotorch.adk.sessions import FlotorchADKSession\n",
        "from google.adk import Runner\n",
        "from google.genai import types\n",
        "\n",
        "print(\"Imported necessary libraries successfully\")"
      ]
    },
    {
      "cell_type": "markdown",
      "metadata": {
        "id": "comment-cell-4"
      },
      "source": [
        "### Step 4: Initialize the Flotorch Agent\n",
        "\n",
        "Here, an instance of `FlotorchADKAgent` is created. It's configured with the agent's unique name (`AGENT_NAME`), API credentials (`FLOTORCH_API_KEY`, `FLOTORCH_BASE_URL`). This client object will automatically fetch the agent's configuration, including any tools defined on the Flotorch platform (like the MCP tools this agent is designed to use), when `.get_agent()` is called."
      ]
    },
    {
      "cell_type": "code",
      "execution_count": null,
      "metadata": {
        "id": "MOHLN060L-aP"
      },
      "outputs": [],
      "source": [
        "flotorch_client =  FlotorchADKAgent(\n",
        "        agent_name=AGENT_NAME,\n",
        "        api_key=FLOTORCH_API_KEY,\n",
        "        base_url=FLOTORCH_BASE_URL\n",
        "    )\n",
        "\n",
        "\n",
        "agent = flotorch_client.get_agent()\n",
        "print(f\"FlotorchADKAgent '{agent.name}' created successfully.\")"
      ]
    },
    {
      "cell_type": "markdown",
      "metadata": {
        "id": "comment-cell-5"
      },
      "source": [
        "### Step 5: Initialize Session Service and Runner\n",
        "\n",
        "This cell sets up the remaining components needed to run the agent:\n",
        "* `FlotorchADKSession`: Initializes the session service using the Flotorch backend to store and retrieve conversation history.\n",
        "* `Runner`: Initializes the ADK Runner, connecting the initialized `agent` with the `session_service`. The `APP_NAME` is used to logically group sessions under this application."
      ]
    },
    {
      "cell_type": "code",
      "execution_count": null,
      "metadata": {
        "id": "4a7Fb-9qMCDk"
      },
      "outputs": [],
      "source": [
        "session_service = FlotorchADKSession(\n",
        "    api_key=FLOTORCH_API_KEY,\n",
        "    base_url=FLOTORCH_BASE_URL\n",
        ")\n",
        "\n",
        "runner = Runner(\n",
        "        agent=agent,\n",
        "        app_name=APP_NAME,\n",
        "        session_service=session_service\n",
        "    )\n",
        "\n",
        "print(\"Runner configured successfully for FlotorchADKAgent.\")"
      ]
    },
    {
      "cell_type": "markdown",
      "metadata": {
        "id": "comment-cell-6"
      },
      "source": [
        "### Step 6: Define Chat Helper Functions\n",
        "\n",
        "This cell defines two functions to manage the interaction with the agent:\n",
        "* `run_single_turn`: Takes a query, session ID, user ID, and the runner. It formats the query, sends it to the runner, processes the resulting events, and extracts/returns the agent's final text response.\n",
        "* `chat_with_agent`: An asynchronous wrapper around `run_single_turn` that simplifies the interface for sending a query and getting a response within a specific session."
      ]
    },
    {
      "cell_type": "code",
      "execution_count": null,
      "metadata": {
        "id": "WFoLkbmuMRYq"
      },
      "outputs": [],
      "source": [
        "def run_single_turn(query, session_id, user_id, runner):\n",
        "    \"\"\"\n",
        "    Send a message to the FlotorchADKAgent and get the response.\n",
        "    \"\"\"\n",
        "    content = types.Content(role=\"user\", parts=[types.Part(text=query)])\n",
        "    events = runner.run(user_id=user_id, session_id=session_id, new_message=content)\n",
        "\n",
        "    for event in events:\n",
        "        if event.is_final_response():\n",
        "            if event.content and event.content.parts:\n",
        "                return event.content.parts[0].text\n",
        "\n",
        "    return \"Sorry, I couldn't process that request.\"\n",
        "\n",
        "async def chat_with_agent(query,session_id):\n",
        "    \"\"\"\n",
        "    Chat function that takes a user query and returns the FlotorchADKAgent's response.\n",
        "    \"\"\"\n",
        "    response = run_single_turn(query, session_id, USER_ID, runner)\n",
        "    return response\n",
        "\n",
        "print(\"Chat function ready. Use chat_with_agent('your query') to interact with the FlotorchADKAgent.\")"
      ]
    },
    {
      "cell_type": "markdown",
      "metadata": {
        "id": "comment-cell-7"
      },
      "source": [
        "### Step 7: Run Example Interaction\n",
        "\n",
        "This cell demonstrates how to use the agent configured with an MCP tool.\n",
        "\n",
        "1.  It first creates a new session for the specified `APP_NAME` and `USER_ID`.\n",
        "2.  It then calls `chat_with_agent` with a query. In the example provided (\"explain about this repo facebook/react\"), the agent might interpret this differently, but if a query related to cryptocurrency prices or data (e.g., \"What's the price of Bitcoin?\") were used, the following would happen:\n",
        "3.  The agent, configured on the Flotorch platform with MCP tools pointing to an endpoint like `https://mcp.api.coingecko.com/`, processes the request. The agent's underlying model determines that the CoinGecko MCP tool is needed to answer the query and calls it.\n",
        "4.  The MCP tool fetches the relevant data (e.g., cryptocurrency prices) from the CoinGecko API.\n",
        "5.  The agent receives the data back from the tool and formulates the final response, which is then printed."
      ]
    },
    {
      "cell_type": "code",
      "execution_count": null,
      "metadata": {
        "id": "BSF-vb-9MWAz"
      },
      "outputs": [],
      "source": [
        "session = await runner.session_service.create_session(\n",
        "        app_name=APP_NAME,\n",
        "        user_id=USER_ID,\n",
        "    )\n",
        "response = await chat_with_agent(\"What's the current price of Bitcoin?\",session.id)\n",
        "print(f\"Query: What's the current price of Bitcoin?\")\n",
        "print(f\"Response: {response}\")"
      ]
    },
    {
      "cell_type": "code",
      "execution_count": null,
      "metadata": {
        "id": "wKTbWHkU8rg1"
      },
      "outputs": [],
      "source": []
    }
  ],
  "metadata": {
    "colab": {
      "provenance": []
    },
    "kernelspec": {
      "display_name": "Python 3",
      "name": "python3"
    },
    "language_info": {
      "name": "python"
    }
  },
  "nbformat": 4,
  "nbformat_minor": 0
}
