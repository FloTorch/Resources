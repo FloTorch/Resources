{
 "cells": [
  {
   "cell_type": "markdown",
   "id": "yWM8A0kcahC2",
   "metadata": {
    "id": "yWM8A0kcahC2"
   },
   "source": [
    "# Building a LangGraph Agent with Long-Term Memory via Flotorch\n",
    "\n",
    "This notebook demonstrates how to build an advanced LangGraph agent with both session-based (short-term) and long-term memory capabilities using the Flotorch platform. This allows the agent to recall information from the current conversation as well as from previous, separate interactions, enhanced by custom tools for arithmetic operations.\n",
    "\n",
    "### Prerequisites\n",
    "Configure your model, memory provider, and API key in the Flotorch console (https://console.flotorch.cloud/).\n",
    "\n",
    "### Viewing Logs\n",
    "Logs can be viewed in the logs tab of the Flotorch console (https://console.flotorch.cloud/).\n",
    "\n",
    "### Key Concepts:\n",
    "- **Session-Based Memory (Short-Term)**: Provided by `FlotorchLanggraphSession` for context within the current session.\n",
    "- **External (Long-Term) Memory**: Provided by `FlotorchLangGraphMemory` for persistent knowledge across all sessions.\n",
    "- **`create_react_agent`**: LangGraph's function to create a ReAct-style agent with tools and memory integration.\n",
    "- **Custom Tools**: `multiply` and `addition` tools for performing arithmetic operations."
   ]
  },
  {
   "cell_type": "markdown",
   "id": "kNOu2S08ahC7",
   "metadata": {
    "id": "kNOu2S08ahC7"
   },
   "source": [
    "## 1. Setup and Imports\n",
    "\n",
    "The following cells install the necessary packages, configure API credentials, and import required components from Flotorch and LangGraph, including those needed for memory and custom tools."
   ]
  },
  {
   "cell_type": "code",
   "execution_count": null,
   "id": "xLzPhaXXahC8",
   "metadata": {
    "id": "xLzPhaXXahC8"
   },
   "outputs": [],
   "source": [
    "%pip install flotorch[langgraph]"
   ]
  },
  {
   "cell_type": "code",
   "execution_count": null,
   "id": "20f87968",
   "metadata": {
    "id": "20f87968"
   },
   "outputs": [],
   "source": [
    "FLOTORCH_API_KEY = \"<YOUR FLOTORCH_API_KEY>\"\n",
    "FLOTORCH_BASE_URL = \"<YOUR FLOTORCH_BASE_URL>\"  \n",
    "FLOTORCH_MODEL_ID = \"<YOUR FLOTORCH_MODEL_ID>\"\n",
    "PROVIDER_NAME = \"<YOUR PROVIDER_NAME>\" #eg : memo-provider\n",
    "USER_ID = \"YOUR USER_ID\" #eg : flotorch_user1000\n",
    "APP_ID = \"YOUR APP_ID\"   #eg : flotorch_app1000"
   ]
  },
  {
   "cell_type": "code",
   "execution_count": null,
   "id": "25875af5",
   "metadata": {
    "id": "25875af5"
   },
   "outputs": [],
   "source": [
    "from langgraph.prebuilt import create_react_agent\n",
    "from langchain_core.tools import tool\n",
    "from flotorch.langchain.llm import FlotorchLangChainLLM\n",
    "from flotorch.langgraph.sessions import FlotorchLanggraphSession\n",
    "from flotorch.langgraph.memory import FlotorchStore\n",
    "\n",
    "print(\"✔ Imported necessary libraries successfully\")"
   ]
  },
  {
   "cell_type": "markdown",
   "id": "5f58b28c",
   "metadata": {},
   "source": [
    "## 2. Defining a Custom Tool\n",
    "\n",
    "To extend the agent's capabilities, we define a single custom tool using the `@tool` decorator from LangChain. The `multiply` tool takes a comma-separated string of two integers (e.g., 'x,y') and returns their product. The tool's docstring provides a clear description, enabling the agent to understand its purpose and usage."
   ]
  },
  {
   "cell_type": "code",
   "execution_count": null,
   "id": "fbcce829",
   "metadata": {},
   "outputs": [],
   "source": [
    "@tool\n",
    "def multiply(numbers: str) -> int:\n",
    "    \"\"\"\n",
    "    Multiply two integers provided as a comma-separated string.\n",
    "\n",
    "    Args:\n",
    "        numbers (str): Two integers in the format 'x,y' (e.g., '3,4')\n",
    "\n",
    "    Returns:\n",
    "        int: The product of the two integers\n",
    "    \"\"\"\n",
    "    print(\"Multiplying... custom tool\")\n",
    "    a, b = map(int, numbers.split(\",\"))\n",
    "    return a * b\n",
    "\n",
    "print(\"✔ Custom multiplication tool defined successfully.\")"
   ]
  },
  {
   "cell_type": "markdown",
   "id": "fd187a45",
   "metadata": {},
   "source": [
    "## 3. Defining a Custom Tool\n",
    "\n",
    "To extend the agent's capabilities, we define a custom tool using the `@tool` decorator from LangChain. The `addition` tool takes a comma-separated string of two integers (e.g., 'x,y') and returns their sum. The tool's docstring provides a clear description, enabling the agent to understand its purpose and usage.\n"
   ]
  },
  {
   "cell_type": "code",
   "execution_count": null,
   "id": "00393011",
   "metadata": {},
   "outputs": [],
   "source": [
    "@tool\n",
    "def addition(numbers: str) -> int:\n",
    "    \"\"\"\n",
    "    Addition of two integers provided as a comma-separated string.\n",
    "\n",
    "    Args:\n",
    "        numbers (str): Two integers in the format 'x,y' (e.g., '3,4')\n",
    "\n",
    "    Returns:\n",
    "        int: The Addition of the two integers\n",
    "    \"\"\"\n",
    "    print(\"Adding... custom tool\")\n",
    "    a, b = map(int, numbers.split(\",\"))\n",
    "    return a + b\n",
    "\n",
    "tools = [multiply,addition]\n",
    "\n",
    "print(\"✔ Custom Addition tool defined successfully.\")"
   ]
  },
  {
   "cell_type": "markdown",
   "id": "1014b1f5",
   "metadata": {
    "id": "1014b1f5"
   },
   "source": [
    "## 4. Model Configuration\n",
    "\n",
    "We initialize the `FlotorchLangChainLLM` from the custom `llm` module, which serves as the reasoning engine for the agent, enabling it to process inputs, invoke tools, and leverage memory."
   ]
  },
  {
   "cell_type": "code",
   "execution_count": null,
   "id": "a17dbc44",
   "metadata": {
    "id": "a17dbc44"
   },
   "outputs": [],
   "source": [
    "model = FlotorchLangChainLLM(\n",
    "    model_id=FLOTORCH_MODEL_ID,\n",
    "    api_key=FLOTORCH_API_KEY,\n",
    "    base_url=FLOTORCH_BASE_URL,\n",
    ")\n",
    "\n",
    "print(f\"✔ Flotorch LLM model configured\")"
   ]
  },
  {
   "cell_type": "markdown",
   "id": "47f15457",
   "metadata": {},
   "source": [
    "## 5. Session Storage Setup\n",
    "\n",
    "We configure the `FlotorchLanggraphSession` as the checkpointer for LangGraph, enabling persistent storage of conversation history within a session. The session is uniquely identified by `app_name`, `user_id`, and `thread_id`."
   ]
  },
  {
   "cell_type": "code",
   "execution_count": null,
   "id": "634bb547",
   "metadata": {},
   "outputs": [],
   "source": [
    "checkpointer = FlotorchLanggraphSession(\n",
    "    api_key=FLOTORCH_API_KEY,\n",
    "    base_url=FLOTORCH_BASE_URL,\n",
    "    app_name=APP_ID,\n",
    "    user_id=USER_ID\n",
    ")\n",
    "\n",
    "config = {\"configurable\": {\"thread_id\": \"flotorch-test-thread-1000\"}}\n",
    "\n",
    "print(f\"✔ Session storage initialized with thread ID: {config['configurable']['thread_id']}\")"
   ]
  },
  {
   "cell_type": "markdown",
   "id": "530f5ad6",
   "metadata": {
    "id": "530f5ad6"
   },
   "source": [
    "## 6. Memory Configuration\n",
    "\n",
    "- **External (Long-Term) Memory**: Uses `FlotorchLangGraphMemory` to store and retrieve key information across different sessions, acting as the agent's persistent knowledge base."
   ]
  },
  {
   "cell_type": "code",
   "execution_count": null,
   "id": "6ea992db",
   "metadata": {
    "id": "6ea992db"
   },
   "outputs": [],
   "source": [
    "memory = FlotorchStore(\n",
    "    api_key=FLOTORCH_API_KEY,\n",
    "    base_url=FLOTORCH_BASE_URL,\n",
    "    provider_name=PROVIDER_NAME,\n",
    "    userId=USER_ID,\n",
    "    appId=APP_ID\n",
    ")\n",
    "\n",
    "print(\"✔ Initialized session-based and long-term memory\")"
   ]
  },
  {
   "cell_type": "markdown",
   "id": "7ade7983",
   "metadata": {},
   "source": [
    " A custom `search_memories` function enhances the agent's ability to retrieve relevant past information."
   ]
  },
  {
   "cell_type": "code",
   "execution_count": null,
   "id": "b7df8051",
   "metadata": {},
   "outputs": [],
   "source": [
    "def search_memories(user_message):\n",
    "    \"\"\"Search for relevant memories based on user message.\"\"\"\n",
    "    try:\n",
    "        items = memory.search(\n",
    "            (APP_ID, USER_ID, \"memories\"),\n",
    "            query=user_message,\n",
    "            limit=3\n",
    "        )\n",
    "        memories = \"\\n\".join(item.value[\"text\"] for item in items)\n",
    "        return f\"## Relevant Memories\\n{memories}\" if memories else \"\"\n",
    "    except Exception as e:\n",
    "        print(f\"Memory search error: {e}\")\n",
    "        return \"\"\n"
   ]
  },
  {
   "cell_type": "code",
   "execution_count": null,
   "id": "dd0beb12",
   "metadata": {},
   "outputs": [],
   "source": [
    "def store_interaction_in_memory(user_query, assistant_reply):\n",
    "\n",
    "    memory.put(\n",
    "        (APP_ID, USER_ID, \"conversations\"), \"1\", \n",
    "        {\"text\": f\"User: {user_query}\"}\n",
    "    )\n",
    "\n",
    "    memory.put(\n",
    "        (APP_ID, USER_ID, \"conversations\") ,\"2\", \n",
    "        {\"text\": f\"Assistant: {assistant_reply}\"}\n",
    "    )\n",
    "    \n",
    "def enhance_query_with_memory(user_query):\n",
    "\n",
    "    relevant_memories = search_memories(user_query)\n",
    "    \n",
    "    if relevant_memories:\n",
    "        print(f\"Found relevant memories: {relevant_memories}\")\n",
    "        return f\"{user_query}\\n\\n{relevant_memories}\"\n",
    "    else:\n",
    "        return user_query\n",
    "\n",
    "print(\"✔ Improved memory functions defined\")\n"
   ]
  },
  {
   "cell_type": "markdown",
   "id": "14bd5edc",
   "metadata": {
    "id": "14bd5edc"
   },
   "source": [
    "## 7. Agent Configuration\n",
    "\n",
    "We create a LangGraph agent using `create_react_agent`, integrating the Flotorch LLM, the `add` and `multiply` tools, the `FlotorchLanggraphSession` checkpointer for session-based memory, and the `FlotorchLangGraphMemory` store for long-term memory."
   ]
  },
  {
   "cell_type": "code",
   "execution_count": null,
   "id": "af2c8a68",
   "metadata": {
    "id": "af2c8a68"
   },
   "outputs": [],
   "source": [
    "agent = create_react_agent(\n",
    "    model=model,\n",
    "    tools=tools,\n",
    "    checkpointer=checkpointer,\n",
    "    store=memory\n",
    ")\n",
    "\n",
    "print(\"✔ LangGraph agent created successfully with session and long-term memory.\")"
   ]
  },
  {
   "cell_type": "markdown",
   "id": "cb8e89ad",
   "metadata": {
    "id": "cb8e89ad"
   },
   "source": [
    "## 8. Interactive Chat\n",
    "\n",
    "Start an interactive chat session to interact with the agent. Test its ability to perform arithmetic (e.g., 'Multiply 5,6' or 'Addition 3,4') and recall information from both the current session (via `FlotorchLanggraphSession`) and long-term memory (via `FlotorchLangGraphMemory`, e.g., 'What do I love?' or 'What is my favorite programming language?'). Type 'exit' to end."
   ]
  },
  {
   "cell_type": "code",
   "execution_count": null,
   "id": "48358fa7",
   "metadata": {},
   "outputs": [],
   "source": [
    "while True:\n",
    "    user_query = input(\"user: \")\n",
    "    if user_query.lower().strip() == \"exit\":\n",
    "        break\n",
    "    \n",
    "    enhanced_message = enhance_query_with_memory(user_query)\n",
    "    \n",
    "    response = agent.invoke({\"messages\": enhanced_message}, config)\n",
    "    bot_reply = response[\"messages\"][-1].content\n",
    "    print(f\"Assistant: {bot_reply}\")\n",
    "\n",
    "    store_interaction_in_memory(user_query, bot_reply)\n",
    "\n",
    "print(\"✔ Interactive session ended.\")\n"
   ]
  },
  {
   "cell_type": "markdown",
   "id": "5d2a7906",
   "metadata": {
    "id": "5d2a7906"
   },
   "source": [
    "## Summary\n",
    "\n",
    "This notebook detailed the implementation of a sophisticated LangGraph agent equipped with both session-based and long-term memory using Flotorch's infrastructure. The agent recalls information from the current conversation and persists knowledge across sessions, enhanced by custom arithmetic tools.\n",
    "\n",
    "### Key Achievements\n",
    "\n",
    "- **Dual-Memory Architecture**  \n",
    "  Successfully integrated two memory types:  \n",
    "  - `FlotorchLanggraphSession` for immediate, session-specific context.  \n",
    "  - `FlotorchLangGraphMemory` for persistent, long-term knowledge.\n",
    "\n",
    "- **Enhanced Agent Intelligence**  \n",
    "  The agent demonstrated its ability to perform arithmetic operations (via `multiply` and `addition` tools) and recall facts from a long-term knowledge base (e.g., 'I love pizza'), leading to informed and context-rich responses.\n"
   ]
  }
 ],
 "metadata": {
  "colab": {
   "provenance": []
  },
  "kernelspec": {
   "display_name": "venv",
   "language": "python",
   "name": "python3"
  },
  "language_info": {
   "codemirror_mode": {
    "name": "ipython",
    "version": 3
   },
   "file_extension": ".py",
   "mimetype": "text/x-python",
   "name": "python",
   "nbconvert_exporter": "python",
   "pygments_lexer": "ipython3",
   "version": "3.11.9"
  }
 },
 "nbformat": 4,
 "nbformat_minor": 5
}
