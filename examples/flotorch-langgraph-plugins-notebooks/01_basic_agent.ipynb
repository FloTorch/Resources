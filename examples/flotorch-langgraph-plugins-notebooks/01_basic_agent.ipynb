{
 "cells": [
  {
   "cell_type": "markdown",
   "metadata": {
    "id": "122H1g5KZyDL"
   },
   "source": [
    "# Building a LangGraph Agent with Flotorch\n",
    "\n",
    "This notebook demonstrates how to build and run a LangGraph agent using the Flotorch platform. The agent is equipped with a custom tools to perform integer multiplication and addition to perform a specific function.\n",
    "\n",
    "### Prerequisites\n",
    "Configure your model and API key in the Flotorch console (https://console.flotorch.cloud/).\n",
    "\n",
    "### Viewing Logs\n",
    "Logs can be viewed in the logs tab of the Flotorch console (https://console.flotorch.cloud/).\n",
    "\n",
    "### Key Objectives:\n",
    "- Install the required Flotorch and LangGraph packages.\n",
    "- Define a custom tools for multiplying two integers and addition of two integers.\n",
    "- Configure an agent with a specific role and tools.\n",
    "- Utilize the Flotorch LLM to power the agent's reasoning capabilities.\n",
    "- Implement an interactive loop to process user inputs for consistent multi-turn conversations."
   ]
  },
  {
   "cell_type": "markdown",
   "metadata": {
    "id": "I6WrELZ7ZyDR"
   },
   "source": [
    "## 1. Environment Setup and Imports\n",
    "\n",
    "The following cells handle the complete setup of the environment. This includes:\n",
    "1. **Installing** the necessary Flotorch and LangGraph packages.\n",
    "2. **Importing** essential libraries for tool creation, agent configuration.\n",
    "3. **Configuring** the API credentials and model endpoint using environment variables."
   ]
  },
  {
   "cell_type": "code",
   "execution_count": null,
   "metadata": {
    "id": "mCx59ZhBZyDR"
   },
   "outputs": [],
   "source": [
    "%pip install flotorch[langgraph]"
   ]
  },
  {
   "cell_type": "code",
   "execution_count": null,
   "metadata": {
    "id": "PNWXuetCZyDS"
   },
   "outputs": [],
   "source": [
    "FLOTORCH_API_KEY = \"<YOUR FLOTORCH_API_KEY>\"\n",
    "FLOTORCH_BASE_URL = \"<YOUR FLOTORCH_BASE_URL>\"  \n",
    "FLOTORCH_MODEL_ID = \"<YOUR FLOTORCH_MODEL_ID>\""
   ]
  },
  {
   "cell_type": "code",
   "execution_count": null,
   "metadata": {
    "id": "Grq4w1_VZyDT"
   },
   "outputs": [],
   "source": [
    "from langgraph.prebuilt import create_react_agent\n",
    "from langchain_core.tools import tool\n",
    "from flotorch.langchain.llm import FlotorchLangChainLLM\n",
    "\n",
    "print(\"✔ Imported necessary libraries and loaded environment variables successfully\")"
   ]
  },
  {
   "cell_type": "markdown",
   "metadata": {
    "id": "J6JVPRA6ZyDT"
   },
   "source": [
    "## 2. Defining a Custom Tool\n",
    "\n",
    "To extend the agent's capabilities, we define a single custom tool using the `@tool` decorator from LangChain. The `multiply` tool takes a comma-separated string of two integers (e.g., 'x,y') and returns their product. The tool's docstring provides a clear description, enabling the agent to understand its purpose and usage."
   ]
  },
  {
   "cell_type": "code",
   "execution_count": null,
   "metadata": {
    "id": "TD-wpqRxZyDT"
   },
   "outputs": [],
   "source": [
    "@tool\n",
    "def multiply(numbers: str) -> int:\n",
    "    \"\"\"\n",
    "    Multiply two integers provided as a comma-separated string.\n",
    "\n",
    "    Args:\n",
    "        numbers (str): Two integers in the format 'x,y' (e.g., '3,4')\n",
    "\n",
    "    Returns:\n",
    "        int: The product of the two integers\n",
    "    \"\"\"\n",
    "    print(\"Multiplying... custom tool\")\n",
    "    a, b = map(int, numbers.split(\",\"))\n",
    "    return a * b\n",
    "\n",
    "print(\"✔ Custom multiplication tool defined successfully.\")"
   ]
  },
  {
   "cell_type": "markdown",
   "metadata": {},
   "source": [
    "## 3. Defining a Custom Tool\n",
    "\n",
    "To extend the agent's capabilities, we define a custom tool using the `@tool` decorator from LangChain. The `addition` tool takes a comma-separated string of two integers (e.g., 'x,y') and returns their sum. The tool's docstring provides a clear description, enabling the agent to understand its purpose and usage."
   ]
  },
  {
   "cell_type": "code",
   "execution_count": null,
   "metadata": {},
   "outputs": [],
   "source": [
    "@tool\n",
    "def addition(numbers: str) -> int:\n",
    "    \"\"\"\n",
    "    Addition of two integers provided as a comma-separated string.\n",
    "\n",
    "    Args:\n",
    "        numbers (str): Two integers in the format 'x,y' (e.g., '3,4')\n",
    "\n",
    "    Returns:\n",
    "        int: The Addition of the two integers\n",
    "    \"\"\"\n",
    "    print(\"Adding... custom tool\")\n",
    "    a, b = map(int, numbers.split(\",\"))\n",
    "    return a + b\n",
    "\n",
    "tools = [multiply,addition]\n",
    "\n",
    "print(\"✔ Custom Addition tool defined successfully.\")"
   ]
  },
  {
   "cell_type": "markdown",
   "metadata": {
    "id": "2eF0agncZyDU"
   },
   "source": [
    "## 4. Configuring the Language Model\n",
    "\n",
    "The agent requires a Large Language Model (LLM) to power its reasoning. We instantiate `FlotorchLangChainLLM` with the Flotorch model ID, API key, and base URL from environment variables. This LLM enables the agent to process user inputs and invoke the multiplication tool and addition tool when appropriate."
   ]
  },
  {
   "cell_type": "code",
   "execution_count": null,
   "metadata": {
    "id": "zN2e_wVkZyDU"
   },
   "outputs": [],
   "source": [
    "model = FlotorchLangChainLLM(\n",
    "    model_id=FLOTORCH_MODEL_ID,\n",
    "    api_key=FLOTORCH_API_KEY,\n",
    "    base_url=FLOTORCH_BASE_URL,\n",
    ")\n",
    "\n",
    "print(f\"✔ Flotorch LLM model configured\")"
   ]
  },
  {
   "cell_type": "markdown",
   "metadata": {
    "id": "uXk7f9ZcZyDU"
   },
   "source": [
    "## 5. Creating the Agent\n",
    "\n",
    "A **LangGraph agent** is an LLM-powered agent that can call custom tools to solve tasks. It is created with `create_react_agent`, combining the LLM and tools into a single reasoning workflow. This allows multi-turn conversations where the agent can use tools intelligently."
   ]
  },
  {
   "cell_type": "code",
   "execution_count": null,
   "metadata": {
    "id": "8JHCLavUZyDU"
   },
   "outputs": [],
   "source": [
    "agent = create_react_agent(\n",
    "    model=model,\n",
    "    tools=tools\n",
    ")\n",
    "\n",
    "print(\"✔ LangGraph agent created successfully.\")"
   ]
  },
  {
   "cell_type": "markdown",
   "metadata": {
    "id": "gMQ2hl8FZyDV"
   },
   "source": [
    "## 6. Running the Interactive Agent\n",
    "\n",
    "We implement an interactive loop that:\n",
    "- Prompts the user for input (e.g., 'Multiply 3,4').\n",
    "- Prompts the user for input (e.g., 'Addition 3,4').\n",
    "- Extracts and displays the agent's response, which is the raw output from the `multiply` and `addition` tools when applicable.\n",
    "- Exits when the user types 'exit'.\n",
    "\n",
    "The agent uses the Flotorch LLM to interpret the input, invokes the `multiply` and `addition` tool when appropriate, and returns the result."
   ]
  },
  {
   "cell_type": "code",
   "execution_count": null,
   "metadata": {
    "id": "ua_FvKrbZyDV"
   },
   "outputs": [],
   "source": [
    "while True:\n",
    "    user_query = input(\"You: \")\n",
    "    if user_query.lower().strip() == \"exit\":\n",
    "        break\n",
    "    \n",
    "    try:\n",
    "        response = agent.invoke({\"messages\": user_query})\n",
    "        bot_reply = response[\"messages\"][-1].content\n",
    "        print(f\"Assistant: {bot_reply}\\n\")\n",
    "    except Exception as e:\n",
    "        print(f\"Error: {e}\\n\")\n",
    "\n",
    "print(\"✔ Interactive session ended.\")"
   ]
  },
  {
   "cell_type": "markdown",
   "metadata": {
    "id": "HNkM4du1ZyDV"
   },
   "source": [
    "## Summary\n",
    "\n",
    "This notebook demonstrated the end-to-end process of creating a LangGraph agent using the Flotorch platform.\n",
    "\n",
    "The key components included:\n",
    "\n",
    "1. **Custom Tools Implementation**:`multiply` and  `Addition` tools was defined to compute the product  and sum of two integers, ensuring focused functionality.\n",
    "2. **Model Configuration**: The `FlotorchLangChainLLM` was configured to provide the agent with reasoning capabilities.\n",
    "3. **Agent Creation**: A LangGraph agent was created with llm and tools.\n",
    "4. **Interactive Execution**: An interactive loop was implemented to process user inputs, invoke the `multiply` and `addition` tools when appropriate, and display the raw numerical output.\n",
    "\n",
    "This example showcases the power and flexibility of LangGraph for building tool-augmented AI agents integrated with the Flotorch platform for robust reasoning."
   ]
  }
 ],
 "metadata": {
  "colab": {
   "provenance": []
  },
  "kernelspec": {
   "display_name": "venv",
   "language": "python",
   "name": "python3"
  },
  "language_info": {
   "codemirror_mode": {
    "name": "ipython",
    "version": 3
   },
   "file_extension": ".py",
   "mimetype": "text/x-python",
   "name": "python",
   "nbconvert_exporter": "python",
   "pygments_lexer": "ipython3",
   "version": "3.11.9"
  }
 },
 "nbformat": 4,
 "nbformat_minor": 0
}
