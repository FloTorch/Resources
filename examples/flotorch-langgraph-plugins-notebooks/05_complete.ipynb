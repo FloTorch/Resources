{
 "cells": [
  {
   "cell_type": "markdown",
   "id": "BopBw4pqatEM",
   "metadata": {
    "id": "BopBw4pqatEM"
   },
   "source": [
    "# Production-Ready Agent Workflow with Flotorch and LangGraph\n",
    "\n",
    "This notebook demonstrates a comprehensive, production-style workflow. It integrates all the advanced features into a single, robust application:\n",
    "- **Remote Agent Configuration**: Uses `FlotorchLangGraphAgent` to manage agent setup with custom tools.\n",
    "- **Custom Local Tools**: Defines and attaches `multiply` and `addition` tools at runtime.\n",
    "- **Dual Memory System**: Implements both session-based (short-term) memory and long-term external memory.\n",
    "\n",
    "### Prerequisites\n",
    "Configure agent, memory provider, and API key in the Flotorch console (https://console.flotorch.cloud/).\n",
    "\n",
    "### Viewing Logs\n",
    "Logs can be viewed in the logs tab in the Flotorch console (https://console.flotorch.cloud/)."
   ]
  },
  {
   "cell_type": "markdown",
   "id": "isti2HlaatET",
   "metadata": {
    "id": "isti2HlaatET"
   },
   "source": [
    "## 1. Setup and Imports\n",
    "\n",
    "The following cells install dependencies, set API credentials, and import all necessary components for handling tools, memory, and remote agent management."
   ]
  },
  {
   "cell_type": "code",
   "execution_count": null,
   "id": "7Ind-017atET",
   "metadata": {
    "id": "7Ind-017atET"
   },
   "outputs": [],
   "source": [
    "%pip install flotorch[langgraph]"
   ]
  },
  {
   "cell_type": "code",
   "execution_count": null,
   "id": "v7CjNz0AatEV",
   "metadata": {
    "id": "v7CjNz0AatEV"
   },
   "outputs": [],
   "source": [
    "FLOTORCH_API_KEY = \"<YOUR FLOTORCH_API_KEY >\"\n",
    "FLOTORCH_BASE_URL = \"<YOUR FLOTORCH_BASE_URL>\"  \n",
    "FLOTORCH_MODEL_ID = \"<YOUR FLOTORCH_MODEL_ID>\"\n",
    "AGENT_NAME = \"<YOUR AGENT_NAME>\"  #eg : adk\n",
    "PROVIDER_NAME = \"<YOUR PROVIDER_NAME>\" #eg : memo-provider\n",
    "USER_ID = \"YOUR USER_ID\" #eg : flotorch_user1500\n",
    "APP_ID = \"YOUR APP_ID\"   #eg : flotorch_app1500"
   ]
  },
  {
   "cell_type": "code",
   "execution_count": null,
   "id": "542883e6",
   "metadata": {},
   "outputs": [],
   "source": [
    "import nest_asyncio\n",
    "nest_asyncio.apply()\n"
   ]
  },
  {
   "cell_type": "code",
   "execution_count": null,
   "id": "6PaPOdsyatEV",
   "metadata": {
    "id": "6PaPOdsyatEV"
   },
   "outputs": [],
   "source": [
    "from langchain.agents import tool\n",
    "from flotorch.langgraph.agent import FlotorchLangGraphAgent\n",
    "from flotorch.langgraph.sessions import FlotorchLanggraphSession\n",
    "from flotorch.langgraph.memory import FlotorchStore\n",
    "\n",
    "print(\"✔ Imported necessary libraries successfully\")"
   ]
  },
  {
   "cell_type": "markdown",
   "id": "07f30e21",
   "metadata": {},
   "source": [
    "## 2. Defining a Custom Tool\n",
    "\n",
    "To extend the agent's capabilities, we define a single custom tool using the `@tool` decorator from LangChain. The `multiply` tool takes a comma-separated string of two integers (e.g., 'x,y') and returns their product. The tool's docstring provides a clear description, enabling the agent to understand its purpose and usage."
   ]
  },
  {
   "cell_type": "code",
   "execution_count": null,
   "id": "7fdf49b1",
   "metadata": {},
   "outputs": [],
   "source": [
    "@tool\n",
    "def multiply(numbers: str) -> int:\n",
    "    \"\"\"\n",
    "    Multiply two integers provided as a comma-separated string.\n",
    "\n",
    "    Args:\n",
    "        numbers (str): Two integers in the format 'x,y' (e.g., '3,4')\n",
    "\n",
    "    Returns:\n",
    "        int: The product of the two integers\n",
    "    \"\"\"\n",
    "    print(\"Multiplying... custom tool\")\n",
    "    a, b = map(int, numbers.split(\",\"))\n",
    "    return a * b\n",
    "\n",
    "\n",
    "print(\"✔ Custom multiplication tool defined successfully.\")"
   ]
  },
  {
   "cell_type": "markdown",
   "id": "fa242b88",
   "metadata": {},
   "source": [
    "## 3. Defining a Custom Tool\n",
    "\n",
    "To extend the agent's capabilities, we define a custom tool using the `@tool` decorator from LangChain. The `addition` tool takes a comma-separated string of two integers (e.g., 'x,y') and returns their sum. The tool's docstring provides a clear description, enabling the agent to understand its purpose and usage."
   ]
  },
  {
   "cell_type": "code",
   "execution_count": null,
   "id": "33abe819",
   "metadata": {},
   "outputs": [],
   "source": [
    "@tool\n",
    "def addition(numbers: str) -> int:\n",
    "    \"\"\"\n",
    "    Addition of two integers provided as a comma-separated string.\n",
    "\n",
    "    Args:\n",
    "        numbers (str): Two integers in the format 'x,y' (e.g., '3,4')\n",
    "\n",
    "    Returns:\n",
    "        int: The Addition of the two integers\n",
    "    \"\"\"\n",
    "    print(\"Adding... custom tool\")\n",
    "    a, b = map(int, numbers.split(\",\"))\n",
    "    return a + b\n",
    "\n",
    "tools = [multiply,addition]\n",
    "\n",
    "print(\"✔ Custom Addition tool defined successfully.\")"
   ]
  },
  {
   "cell_type": "markdown",
   "id": "51064ca7",
   "metadata": {},
   "source": [
    "## 4. Session Storage Setup\n",
    "\n",
    "We configure the `FlotorchLanggraphSession` as the checkpointer for LangGraph, enabling persistent storage of conversation history within a session. The session is uniquely identified by `app_name`, `user_id`, and `thread_id`."
   ]
  },
  {
   "cell_type": "code",
   "execution_count": null,
   "id": "bf771740",
   "metadata": {},
   "outputs": [],
   "source": [
    "checkpointer = FlotorchLanggraphSession(\n",
    "    api_key=FLOTORCH_API_KEY,\n",
    "    base_url=FLOTORCH_BASE_URL,\n",
    "    app_name=APP_ID,\n",
    "    user_id=USER_ID\n",
    ")\n",
    "\n",
    "config = {\"configurable\": {\"thread_id\": \"flotorch-test-thread-1500\"}}\n",
    "\n",
    "print(f\"✔ Session storage initialized with thread ID: {config['configurable']['thread_id']}\")"
   ]
  },
  {
   "cell_type": "markdown",
   "id": "ce1cc987",
   "metadata": {},
   "source": [
    "## 5. Memory Configuration\n",
    "\n",
    "- **External (Long-Term) Memory**: Uses `FlotorchLangGraphMemory` to store and retrieve key information across different sessions, acting as the agent's persistent knowledge base."
   ]
  },
  {
   "cell_type": "code",
   "execution_count": null,
   "id": "c5c249b5",
   "metadata": {},
   "outputs": [],
   "source": [
    "memory = FlotorchStore(\n",
    "    api_key=FLOTORCH_API_KEY,\n",
    "    base_url=FLOTORCH_BASE_URL,\n",
    "    provider_name=PROVIDER_NAME,\n",
    "    userId=USER_ID,\n",
    "    appId=APP_ID\n",
    ")\n",
    "\n",
    "print(\"✔ Initialized session-based and long-term memory\")"
   ]
  },
  {
   "cell_type": "markdown",
   "id": "bd677d0a",
   "metadata": {},
   "source": [
    " A custom `search_memories` function enhances the agent's ability to retrieve relevant past information."
   ]
  },
  {
   "cell_type": "code",
   "execution_count": null,
   "id": "967c293e",
   "metadata": {},
   "outputs": [],
   "source": [
    "def search_memories(user_message):\n",
    "    \"\"\"Search for relevant memories based on user message.\"\"\"\n",
    "    try:\n",
    "        items = memory.search(\n",
    "            (\"user_123\", \"memories\"),\n",
    "            query=user_message,\n",
    "            limit=3\n",
    "        )\n",
    "        memories = \"\\n\".join(item.value[\"text\"] for item in items)\n",
    "        return f\"## Relevant Memories\\n{memories}\" if memories else \"\"\n",
    "    except Exception as e:\n",
    "        print(f\"Memory search error: {e}\")\n",
    "        return \"\"\n"
   ]
  },
  {
   "cell_type": "code",
   "execution_count": null,
   "id": "60eb4016",
   "metadata": {},
   "outputs": [],
   "source": [
    "def store_interaction_in_memory(user_query, assistant_reply):\n",
    "\n",
    "    memory.put(\n",
    "        (APP_ID, USER_ID, \"conversations\"), \"1\", \n",
    "        {\"text\": f\"User: {user_query}\"}\n",
    "    )\n",
    "\n",
    "    memory.put(\n",
    "        (APP_ID, USER_ID, \"conversations\") ,\"2\", \n",
    "        {\"text\": f\"Assistant: {assistant_reply}\"}\n",
    "    )\n",
    "    \n",
    "def enhance_query_with_memory(user_query):\n",
    "\n",
    "    relevant_memories = search_memories(user_query)\n",
    "    \n",
    "    if relevant_memories:\n",
    "        print(f\"Found relevant memories: {relevant_memories}\")\n",
    "        return f\"{user_query}\\n\\n{relevant_memories}\"\n",
    "    else:\n",
    "        return user_query\n",
    "\n",
    "print(\"✔ Improved memory functions defined\")\n"
   ]
  },
  {
   "cell_type": "markdown",
   "id": "EONmKumlatEX",
   "metadata": {
    "id": "EONmKumlatEX"
   },
   "source": [
    "## 6. Agent Initialization with Custom Tools\n",
    "\n",
    "We initialize the `FlotorchLangGraphAgent` client, loading our agent's configuration and integrating the custom `multiple` and `addition` tools, along with the dual-memory system."
   ]
  },
  {
   "cell_type": "code",
   "execution_count": null,
   "id": "9WVaWA3UatEX",
   "metadata": {
    "id": "9WVaWA3UatEX"
   },
   "outputs": [],
   "source": [
    "client = FlotorchLangGraphAgent(\n",
    "    agent_name =AGENT_NAME,\n",
    "    api_key=FLOTORCH_API_KEY,\n",
    "    base_url=FLOTORCH_BASE_URL,\n",
    "    custom_tools = tools,\n",
    "    checkpointer=checkpointer,\n",
    "    store=memory\n",
    ")\n",
    "\n",
    "agent = client.get_agent()\n",
    "\n",
    "print(\"✔ Initialized FlotorchLangGraphAgent with custom tools and memory\")"
   ]
  },
  {
   "cell_type": "markdown",
   "id": "Z4xWstvAatEX",
   "metadata": {
    "id": "Z4xWstvAatEX"
   },
   "source": [
    "## 6. Interactive Demonstration\n",
    "\n",
    "Engage with the agent in this interactive loop to test its full range of capabilities. Try asking it to perform arithmetic (e.g., 'addition(3, 4)' or 'multiply(5, 6)') and recall information from both the current session (via `FlotorchLanggraphSession`) and long-term memory (via `FlotorchLangGraphMemory`, e.g., 'What do I love?' or 'What is my profession?'). Type 'exit' to end the session."
   ]
  },
  {
   "cell_type": "code",
   "execution_count": null,
   "id": "bghHUdNsatEX",
   "metadata": {
    "id": "bghHUdNsatEX"
   },
   "outputs": [],
   "source": [
    "while True:\n",
    "    user_query = input(\"user: \")\n",
    "    if user_query.lower().strip() == \"exit\":\n",
    "        break\n",
    "    \n",
    "    enhanced_message = enhance_query_with_memory(user_query)\n",
    "    \n",
    "    response = agent.invoke({\"messages\": enhanced_message}, config)\n",
    "    bot_reply = response[\"messages\"][-1].content\n",
    "    print(f\"Assistant: {bot_reply}\")\n",
    "\n",
    "    store_interaction_in_memory(user_query, bot_reply)\n",
    "\n",
    "print(\"✔ Interactive session ended.\")\n"
   ]
  },
  {
   "cell_type": "markdown",
   "id": "sTZfzO78atEX",
   "metadata": {
    "id": "sTZfzO78atEX"
   },
   "source": [
    "## Summary\n",
    "\n",
    "This notebook served as a **capstone project**, successfully integrating all previously demonstrated concepts into a single, comprehensive, and production-ready workflow using LangGraph and Flotorch. We built an advanced AI agent that combines the power of **remote configuration**, **local custom tools**, and a **full dual-memory system**.\n",
    "\n",
    "### Key Achievements\n",
    "\n",
    "- **Hybrid Configuration**  \n",
    "  Initialized an agent using `FlotorchLangGraphAgent` to load its base configuration, then augmented it at runtime with locally defined custom tools (`add_numbers` and `multiply_numbers`).\n",
    "\n",
    "- **Full Memory Stack**  \n",
    "  Equipped the agent with both `FlotorchLanggraphSession` for conversational flow and `FlotorchLangGraphMemory` for long-term knowledge persistence.\n",
    "\n",
    "- **End-to-End Demonstration**  \n",
    "  Showcased the agent's ability to seamlessly switch between using its custom tools for specific tasks and accessing its memory to provide contextually rich, intelligent responses.\n",
    "\n"
   ]
  }
 ],
 "metadata": {
  "colab": {
   "provenance": []
  },
  "kernelspec": {
   "display_name": "venv",
   "language": "python",
   "name": "python3"
  },
  "language_info": {
   "codemirror_mode": {
    "name": "ipython",
    "version": 3
   },
   "file_extension": ".py",
   "mimetype": "text/x-python",
   "name": "python",
   "nbconvert_exporter": "python",
   "pygments_lexer": "ipython3",
   "version": "3.11.9"
  }
 },
 "nbformat": 4,
 "nbformat_minor": 5
}
