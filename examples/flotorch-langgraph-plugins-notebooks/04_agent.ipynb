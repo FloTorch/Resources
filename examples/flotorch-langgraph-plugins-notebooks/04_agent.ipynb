{
 "cells": [
  {
   "cell_type": "markdown",
   "id": "WmmWq6pPao8S",
   "metadata": {
    "id": "WmmWq6pPao8S"
   },
   "source": [
    "# Simplified Agent Creation with FlotorchLangGraphAgent\n",
    "\n",
    "This notebook demonstrates a streamlined approach to creating and deploying LangGraph agents using the `FlotorchLangGraphAgent` client. This high-level abstraction allows you to manage your agent's configuration (e.g., tools) in the Flotorch UI or code and load it directly into your application with minimal setup.\n",
    "\n",
    "### Prerequisites\n",
    "Configure agent, API key, and base URL in the Flotorch console (https://console.flotorch.cloud/).\n",
    "\n",
    "### Viewing Logs\n",
    "Logs can be viewed in the logs tab in the Flotorch console (https://console.flotorch.cloud/).\n",
    "\n",
    "### Key Advantage:\n",
    "- **Decoupled Configuration**: Agent logic and tools can be managed on the Flotorch platform or defined locally, making updates and management more flexible."
   ]
  },
  {
   "cell_type": "markdown",
   "id": "jssCCekvao8V",
   "metadata": {
    "id": "jssCCekvao8V"
   },
   "source": [
    "## 1. Setup and Imports\n",
    "\n",
    "The following cells install dependencies, define API credentials, and import the necessary components. Note the key import of `FlotorchLangGraphAgent`, which is the focus of this example."
   ]
  },
  {
   "cell_type": "code",
   "execution_count": null,
   "id": "39UEpmUAao8W",
   "metadata": {
    "id": "39UEpmUAao8W"
   },
   "outputs": [],
   "source": [
    "%pip install flotorch[langgraph]"
   ]
  },
  {
   "cell_type": "code",
   "execution_count": null,
   "id": "8e067333",
   "metadata": {
    "id": "8e067333"
   },
   "outputs": [],
   "source": [
    "FLOTORCH_API_KEY = \"<YOUR FLOTORCH_API_KEY>\"\n",
    "FLOTORCH_BASE_URL = \"<YOUR FLOTORCH_BASE_URL>\"  \n",
    "AGENT_NAME = \"<YOUR AGENT_NAME>\"  #eg : adk"
   ]
  },
  {
   "cell_type": "code",
   "execution_count": null,
   "id": "b2ce93c0",
   "metadata": {},
   "outputs": [],
   "source": [
    "import nest_asyncio\n",
    "nest_asyncio.apply()"
   ]
  },
  {
   "cell_type": "code",
   "execution_count": null,
   "id": "7f57478c",
   "metadata": {
    "id": "7f57478c"
   },
   "outputs": [],
   "source": [
    "from langchain.agents import tool\n",
    "from flotorch.langgraph.agent import FlotorchLangGraphAgent\n",
    "\n",
    "print(\"✔ Imported necessary libraries successfully\")"
   ]
  },
  {
   "cell_type": "markdown",
   "id": "a27a3578",
   "metadata": {},
   "source": [
    "## 2. Defining a Custom Tool\n",
    "\n",
    "To extend the agent's capabilities, we define a single custom tool using the `@tool` decorator from LangChain. The `multiply` tool takes a comma-separated string of two integers (e.g., 'x,y') and returns their product. The tool's docstring provides a clear description, enabling the agent to understand its purpose and usage."
   ]
  },
  {
   "cell_type": "code",
   "execution_count": null,
   "id": "fb08425b",
   "metadata": {},
   "outputs": [],
   "source": [
    "@tool\n",
    "def multiply(numbers: str) -> int:\n",
    "    \"\"\"\n",
    "    Multiply two integers provided as a comma-separated string.\n",
    "\n",
    "    Args:\n",
    "        numbers (str): Two integers in the format 'x,y' (e.g., '3,4')\n",
    "\n",
    "    Returns:\n",
    "        int: The product of the two integers\n",
    "    \"\"\"\n",
    "    print(\"Multiplying... custom tool\")\n",
    "    a, b = map(int, numbers.split(\",\"))\n",
    "    return a * b\n",
    "\n",
    "\n",
    "print(\"✔ Custom multiplication tool defined successfully.\")"
   ]
  },
  {
   "cell_type": "markdown",
   "id": "31a19d5b",
   "metadata": {},
   "source": [
    "## 3. Defining a Custom Tool\n",
    "\n",
    "To extend the agent's capabilities, we define a custom tool using the `@tool` decorator from LangChain. The `addition` tool takes a comma-separated string of two integers (e.g., 'x,y') and returns their sum. The tool's docstring provides a clear description, enabling the agent to understand its purpose and usage."
   ]
  },
  {
   "cell_type": "code",
   "execution_count": null,
   "id": "cb0469c1",
   "metadata": {},
   "outputs": [],
   "source": [
    "@tool\n",
    "def addition(numbers: str) -> int:\n",
    "    \"\"\"\n",
    "    Addition of two integers provided as a comma-separated string.\n",
    "\n",
    "    Args:\n",
    "        numbers (str): Two integers in the format 'x,y' (e.g., '3,4')\n",
    "\n",
    "    Returns:\n",
    "        int: The Addition of the two integers\n",
    "    \"\"\"\n",
    "    print(\"Adding... custom tool\")\n",
    "    a, b = map(int, numbers.split(\",\"))\n",
    "    return a + b\n",
    "\n",
    "tools = [multiply,addition]\n",
    "\n",
    "print(\"✔ Custom Addition tool defined successfully.\")"
   ]
  },
  {
   "cell_type": "markdown",
   "id": "aab14bf2",
   "metadata": {
    "id": "aab14bf2"
   },
   "source": [
    "## 4. Agent Initialization\n",
    "\n",
    "We initialize the `FlotorchLangGraphAgent` client by providing an `agent_name` and custom tools. The client manages the agent's configuration and integrates the defined tools, allowing for a simplified setup without hardcoding the agent's logic."
   ]
  },
  {
   "cell_type": "code",
   "execution_count": null,
   "id": "91ed9422",
   "metadata": {},
   "outputs": [],
   "source": [
    "client = FlotorchLangGraphAgent(\n",
    "    agent_name =AGENT_NAME,\n",
    "    api_key=FLOTORCH_API_KEY,\n",
    "    base_url=FLOTORCH_BASE_URL,\n",
    "    custom_tools = tools\n",
    ")\n",
    "\n",
    "agent = client.get_agent()\n",
    "\n",
    "print(\"✔ Agent initialized successfully\") "
   ]
  },
  {
   "cell_type": "markdown",
   "id": "c1b9416d",
   "metadata": {
    "id": "c1b9416d"
   },
   "source": [
    "## 5. Interactive Chat\n",
    "\n",
    "Engage with the pre-configured agent in this interactive loop. The agent's behavior is determined by its configuration managed via the `FlotorchLangGraphAgent` client, including the custom `multiply` and `addition` tools. Type 'exit' to end the session."
   ]
  },
  {
   "cell_type": "code",
   "execution_count": null,
   "id": "8fb2f8f5",
   "metadata": {
    "id": "8fb2f8f5"
   },
   "outputs": [],
   "source": [
    "while True:\n",
    "    user_input = input(\"You: \")\n",
    "    if user_input.lower() == \"exit\":\n",
    "        break\n",
    "    \n",
    "    try:\n",
    "        response = agent.invoke({\"messages\": user_input})\n",
    "        if 'structured_response' in response:\n",
    "            bot_reply = response['structured_response'] \n",
    "        else:\n",
    "            bot_reply = response\n",
    "            \n",
    "        print(f\"Assistant: {bot_reply}\\n\")\n",
    "        \n",
    "    except Exception as e:\n",
    "        print(f\"Error: {e}\\n\")"
   ]
  },
  {
   "cell_type": "markdown",
   "id": "c569f066",
   "metadata": {
    "id": "c569f066"
   },
   "source": [
    "## Summary\n",
    "\n",
    "This notebook showcased a highly efficient workflow for agent creation using the `FlotorchLangGraphAgent` client. We demonstrated how to **decouple the agent's core configuration and tool integration** from the application code, resulting in a more maintainable and scalable solution.\n",
    "\n",
    "### Key Achievements\n",
    "\n",
    "- **Simplified Development**  \n",
    "  Instead of manually defining the agent's logic, we instantiated the `FlotorchLangGraphAgent` client, which dynamically integrated custom tools and managed configuration from the Flotorch platform or local setup.\n",
    "\n",
    "- **Centralized Management**  \n",
    "  Enabled updating and managing agent tools and behavior directly through the Flotorch UI or code, without requiring extensive changes to the notebook.\n"
   ]
  },
  {
   "cell_type": "markdown",
   "id": "9020b600",
   "metadata": {},
   "source": []
  }
 ],
 "metadata": {
  "colab": {
   "provenance": []
  },
  "kernelspec": {
   "display_name": "venv",
   "language": "python",
   "name": "python3"
  },
  "language_info": {
   "codemirror_mode": {
    "name": "ipython",
    "version": 3
   },
   "file_extension": ".py",
   "mimetype": "text/x-python",
   "name": "python",
   "nbconvert_exporter": "python",
   "pygments_lexer": "ipython3",
   "version": "3.11.9"
  }
 },
 "nbformat": 4,
 "nbformat_minor": 5
}
