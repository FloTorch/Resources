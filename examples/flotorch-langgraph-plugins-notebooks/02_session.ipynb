{
 "cells": [
  {
   "cell_type": "markdown",
   "id": "Efs7k2NhaXBm",
   "metadata": {
    "id": "Efs7k2NhaXBm"
   },
   "source": [
    "# Integrating Flotorch Session Management with LangGraph\n",
    "\n",
    "This notebook demonstrates how to build a LangGraph agent integrated with Flotorch's session management using `FlotorchLanggraphSession` as the checkpointer. The agent persists conversation history within a session, enabling context-aware interactions, and is equipped with a custom tools.\n",
    "\n",
    "### Prerequisites\n",
    "Configure your model, API key, and session details in the Flotorch console (https://console.flotorch.cloud/).\n",
    "\n",
    "### Viewing Logs\n",
    "Logs can be viewed in the logs tab of the Flotorch console (https://console.flotorch.cloud/).\n",
    "\n",
    "### Key Concepts:\n",
    "- **`FlotorchLangChainLLM`**: The language model driving the agent's reasoning capabilities.\n",
    "- **`FlotorchLanggraphSession`**: The session storage mechanism for persisting conversation history in LangGraph.\n",
    "- **`create_react_agent`**: LangGraph's function to create a ReAct-style agent with tools and state persistence.\n",
    "- **Custom Tool**: `multiply` and `addition` tools to perform arithmetic addition and multiplication integrated with the agent."
   ]
  },
  {
   "cell_type": "markdown",
   "id": "a1Q6WJ_taXBr",
   "metadata": {
    "id": "a1Q6WJ_taXBr"
   },
   "source": [
    "## 1. Setup and Configuration\n",
    "\n",
    "The following cells install required packages, configure API credentials, and import necessary components from the Flotorch and LangGraph libraries, assuming they are available in the project directory."
   ]
  },
  {
   "cell_type": "code",
   "execution_count": null,
   "id": "V01RwHSkaXBs",
   "metadata": {
    "id": "V01RwHSkaXBs"
   },
   "outputs": [],
   "source": [
    "%pip install flotorch[langgraph]"
   ]
  },
  {
   "cell_type": "code",
   "execution_count": null,
   "id": "dfa334c0",
   "metadata": {
    "id": "dfa334c0"
   },
   "outputs": [],
   "source": [
    "FLOTORCH_API_KEY = \"<YOUR FLOTORCH_API_KEY>\"\n",
    "FLOTORCH_BASE_URL = \"<YOUR FLOTORCH_BASE_URL>\"  \n",
    "FLOTORCH_MODEL_ID = \"<YOUR FLOTORCH_MODEL_ID>\"\n",
    "USER_ID = \"YOUR USER_ID\" #eg : flotorch_user500\n",
    "APP_ID = \"YOUR APP_ID\"   #eg : flotorch_app500"
   ]
  },
  {
   "cell_type": "code",
   "execution_count": null,
   "id": "b339f803",
   "metadata": {
    "id": "b339f803"
   },
   "outputs": [],
   "source": [
    "from langgraph.prebuilt import create_react_agent\n",
    "from langchain_core.tools import tool\n",
    "from flotorch.langchain.llm import FlotorchLangChainLLM\n",
    "from flotorch.langgraph.sessions import FlotorchLanggraphSession\n",
    "\n",
    "print(\"✔ Imported necessary libraries and loaded environment variables successfully\")"
   ]
  },
  {
   "cell_type": "markdown",
   "id": "e61b0f75",
   "metadata": {},
   "source": [
    "## 2. Defining a Custom Tool\n",
    "\n",
    "To extend the agent's capabilities, we define a single custom tool using the `@tool` decorator from LangChain. The `multiply` tool takes a comma-separated string of two integers (e.g., 'x,y') and returns their product. The tool's docstring provides a clear description, enabling the agent to understand its purpose and usage."
   ]
  },
  {
   "cell_type": "code",
   "execution_count": null,
   "id": "d8208777",
   "metadata": {},
   "outputs": [],
   "source": [
    "@tool\n",
    "def multiply(numbers: str) -> int:\n",
    "    \"\"\"\n",
    "    Multiply two integers provided as a comma-separated string.\n",
    "\n",
    "    Args:\n",
    "        numbers (str): Two integers in the format 'x,y' (e.g., '3,4')\n",
    "\n",
    "    Returns:\n",
    "        int: The product of the two integers\n",
    "    \"\"\"\n",
    "    print(\"Multiplying... custom tool\")\n",
    "    a, b = map(int, numbers.split(\",\"))\n",
    "    return a * b\n",
    "\n",
    "print(\"✔ Custom multiplication tool defined successfully.\")"
   ]
  },
  {
   "cell_type": "markdown",
   "id": "f6cb8262",
   "metadata": {},
   "source": [
    "## 3. Defining a Custom Tool\n",
    "\n",
    "To extend the agent's capabilities, we define a custom tool using the `@tool` decorator from LangChain. The `addition` tool takes a comma-separated string of two integers (e.g., 'x,y') and returns their sum. The tool's docstring provides a clear description, enabling the agent to understand its purpose and usage."
   ]
  },
  {
   "cell_type": "code",
   "execution_count": null,
   "id": "fa9fa312",
   "metadata": {},
   "outputs": [],
   "source": [
    "@tool\n",
    "def addition(numbers: str) -> int:\n",
    "    \"\"\"\n",
    "    Addition of two integers provided as a comma-separated string.\n",
    "\n",
    "    Args:\n",
    "        numbers (str): Two integers in the format 'x,y' (e.g., '3,4')\n",
    "\n",
    "    Returns:\n",
    "        int: The Addition of the two integers\n",
    "    \"\"\"\n",
    "    print(\"Adding... custom tool\")\n",
    "    a, b = map(int, numbers.split(\",\"))\n",
    "    return a + b\n",
    "\n",
    "tools = [multiply,addition]\n",
    "\n",
    "print(\"✔ Custom Addition tool defined successfully.\")"
   ]
  },
  {
   "cell_type": "markdown",
   "id": "9f33d8a7",
   "metadata": {
    "id": "9f33d8a7"
   },
   "source": [
    "## 4. Model Configuration\n",
    "\n",
    "We initialize the `FlotorchLangChainLLM` with the Flotorch model configuration from the custom `llm` module. This serves as the reasoning engine for the LangGraph agent, enabling it to process user inputs and invoke the custom tool."
   ]
  },
  {
   "cell_type": "code",
   "execution_count": null,
   "id": "1cf7df91",
   "metadata": {
    "id": "1cf7df91"
   },
   "outputs": [],
   "source": [
    "model = FlotorchLangChainLLM(\n",
    "    model_id=FLOTORCH_MODEL_ID,\n",
    "    api_key=FLOTORCH_API_KEY,\n",
    "    base_url=FLOTORCH_BASE_URL,\n",
    ")\n",
    "\n",
    "print(f\"✔ Flotorch LLM model configured\")"
   ]
  },
  {
   "cell_type": "markdown",
   "id": "27134aae",
   "metadata": {
    "id": "27134aae"
   },
   "source": [
    "## 5. Session Storage Setup\n",
    "\n",
    "We configure the `FlotorchLanggraphSession` as the checkpointer for LangGraph, enabling persistent storage of conversation history within a session. The session is uniquely identified by `app_name`, `user_id`, and `thread_id`."
   ]
  },
  {
   "cell_type": "code",
   "execution_count": null,
   "id": "f98abcdb",
   "metadata": {
    "id": "f98abcdb"
   },
   "outputs": [],
   "source": [
    "checkpointer = FlotorchLanggraphSession(\n",
    "    api_key=FLOTORCH_API_KEY,\n",
    "    base_url=FLOTORCH_BASE_URL,\n",
    "    app_name=APP_ID,\n",
    "    user_id=USER_ID\n",
    ")\n",
    "\n",
    "config = {\"configurable\": {\"thread_id\": \"flotorch-test-thread-500\"}}\n",
    "\n",
    "print(f\"✔ Session storage initialized with thread ID: {config['configurable']['thread_id']}\")"
   ]
  },
  {
   "cell_type": "markdown",
   "id": "5eaf2d9f",
   "metadata": {
    "id": "5eaf2d9f"
   },
   "source": [
    "## 6. Agent Configuration\n",
    "\n",
    "We create a LangGraph agent using `create_react_agent`, integrating the Flotorch LLM, the `multiply` and `addition` tools, and the `FlotorchLanggraphSession` checkpointer. The agent is designed to perform arithmetic addition and multiplication using the tools and maintain conversational context through session persistence."
   ]
  },
  {
   "cell_type": "code",
   "execution_count": null,
   "id": "07a7a58b",
   "metadata": {
    "id": "07a7a58b"
   },
   "outputs": [],
   "source": [
    "agent = create_react_agent(\n",
    "    model=model,\n",
    "    tools=tools,\n",
    "    checkpointer=checkpointer\n",
    ")\n",
    "\n",
    "print(\"✔ LangGraph agent created successfully with session persistence.\")"
   ]
  },
  {
   "cell_type": "markdown",
   "id": "c95882b4",
   "metadata": {
    "id": "c95882b4"
   },
   "source": [
    "## 7. Interactive Chat\n",
    "\n",
    "This interactive loop enables users to input queries, which the agent processes using the Flotorch-backed session storage to maintain context across the session. The agent invokes the `multiply` and `addition` tools for inputs requesting multiply(e.g., 'mul 3,4), addition (e.g., 'Add 3,4') and returns the raw numerical result. Type 'exit' to end the session."
   ]
  },
  {
   "cell_type": "code",
   "execution_count": null,
   "id": "bbe68212",
   "metadata": {
    "id": "bbe68212"
   },
   "outputs": [],
   "source": [
    "while True:\n",
    "    user_query = input(\"You: \")\n",
    "    if user_query.lower().strip() == \"exit\":\n",
    "        break\n",
    "    \n",
    "    try:\n",
    "        response = agent.invoke({\"messages\": user_query}, config)\n",
    "        bot_reply = response[\"messages\"][-1].content\n",
    "        print(f\"Assistant: {bot_reply}\\n\")\n",
    "    except Exception as e:\n",
    "        print(f\"Error: {e}\\n\")\n",
    "\n",
    "print(\"✔ Interactive session ended.\")"
   ]
  },
  {
   "cell_type": "markdown",
   "id": "96a9413a",
   "metadata": {
    "id": "96a9413a"
   },
   "source": [
    "## Summary\n",
    "\n",
    "This notebook successfully demonstrated the creation of a LangGraph agent with session persistence using Flotorch's session management. By leveraging `FlotorchLanggraphSession` as the checkpointer, the agent maintains conversation context within a session, enhancing response relevance.\n",
    "\n",
    "### Key Achievements\n",
    "\n",
    "- **Session Persistence**  \n",
    "  Configured `FlotorchLanggraphSession` as the checkpointer, enabling persistent storage of conversation history using `app_name`, `user_id`, and `thread_id`.\n",
    "\n",
    "- **Tool Integration**  \n",
    "  Implemented a custom tools `multiply` and `addition` tools to compute the  product of two integers and sum of two integers, ensuring focused and precise functionality.\n",
    "\n",
    "- **Streamlined Integration**  \n",
    "  Demonstrated a seamless integration of Flotorch's session management with LangGraph’s robust agent framework, enabling stateful and tool-augmented interactions."
   ]
  },
  {
   "cell_type": "markdown",
   "id": "cf0cda0a",
   "metadata": {},
   "source": [
    "## Summary\n",
    "\n",
    "This notebook successfully demonstrated the creation of a LangGraph agent with session persistence using Flotorch's session management. By leveraging `FlotorchLanggraphSession` as the checkpointer, the agent maintains conversation context within a session, enhancing response relevance.\n",
    "\n",
    "### Key Achievements\n",
    "\n",
    "- **Session Persistence**  \n",
    "  Configured `FlotorchLanggraphSession` as the checkpointer, enabling persistent storage of conversation history using `app_name`, `user_id`, and `thread_id`.\n",
    "\n",
    "- **Tool Integration**  \n",
    "  Implemented a custom tools `multiply` and `addition` tools to compute the  product of two integers and sum of two integers, ensuring focused and precise functionality.\n",
    "\n",
    "- **Streamlined Integration**  \n",
    "  Demonstrated a seamless integration of Flotorch's session management with LangGraph’s robust agent framework, enabling stateful and tool-augmented interactions."
   ]
  },
  {
   "cell_type": "markdown",
   "id": "4389ada9",
   "metadata": {},
   "source": []
  }
 ],
 "metadata": {
  "colab": {
   "provenance": []
  },
  "kernelspec": {
   "display_name": "venv",
   "language": "python",
   "name": "python3"
  },
  "language_info": {
   "codemirror_mode": {
    "name": "ipython",
    "version": 3
   },
   "file_extension": ".py",
   "mimetype": "text/x-python",
   "name": "python",
   "nbconvert_exporter": "python",
   "pygments_lexer": "ipython3",
   "version": "3.11.9"
  }
 },
 "nbformat": 4,
 "nbformat_minor": 5
}
