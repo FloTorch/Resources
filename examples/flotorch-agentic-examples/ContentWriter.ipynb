{
 "cells": [
  {
   "cell_type": "code",
   "execution_count": 36,
   "id": "125075f6",
   "metadata": {},
   "outputs": [],
   "source": [
    "# pip install flotorch"
   ]
  },
  {
   "cell_type": "code",
   "execution_count": 37,
   "id": "9d8ee5d5",
   "metadata": {},
   "outputs": [],
   "source": [
    "#import utils\n",
    "import sys\n",
    "import os\n",
    "\n",
    "# Add the parent directory to the Python path\n",
    "# Assuming utils.py is in a parent directory relative to main_script.py\n",
    "sys.path.append(os.path.abspath(os.path.join(os.path.dirname(\"ContentWriter.ipynb\"), '../flotorch-rag-notebooks/faiss-example/'))) \n",
    "\n",
    "import utils \n"
   ]
  },
  {
   "cell_type": "code",
   "execution_count": 38,
   "id": "22c531a7",
   "metadata": {},
   "outputs": [],
   "source": [
    "# --- Imports from Flotorch ADK and Google ADK ---\n",
    "from flotorch.adk.agent import FlotorchADKAgent       # Flotorch wrapper for creating an ADK agent\n",
    "from flotorch.adk.sessions import FlotorchADKSession # Flotorch session service (integrates with Flotorch Gateway sessions)\n",
    "from google.adk import Runner                         # Runs the agent with a session\n",
    "from google.genai import types                        # Data types for message content\n"
   ]
  },
  {
   "cell_type": "code",
   "execution_count": 39,
   "id": "a6e85d1a",
   "metadata": {},
   "outputs": [],
   "source": [
    "os.environ[\"FLOTORCH_API_KEY\"] = \"sk_HXWY3QOdut4KW0A8FrmnmKu/sRmQxGKUAwm7W8PDDKs=_OTFjMzVkODEtOWYzZi00OTQ0LWJjNjEtZjllY2MyZTA3NGE2_MzJkZDFlNjktOTc0Yy00NTNmLWI0NmUtMWJjMzgzYzc0MmQ2\""
   ]
  },
  {
   "cell_type": "code",
   "execution_count": 40,
   "id": "e91e8a45",
   "metadata": {},
   "outputs": [],
   "source": [
    "# --- Configuration ---\n",
    "APP_NAME = \"flotorch_agent_example\"         # Name of the app (used in session tracking)\n",
    "USER_ID = \"flotorch_user_123\"               # Unique ID for the user\n",
    "FLOTORCH_GATEWAY_BASE_URL = \"https://gateway.flotorch.cloud\"              # Base URL of the Flotorch Gateway\n",
    "FLOTORCH_API_KEY = os.environ[\"FLOTORCH_API_KEY\"]                      # API key for authentication (to be filled in)\n",
    "FLOTORCH_AGENT_NAME_TOPIC_CREATOR = \"topic-creator\"                     # Name of the agent configured in Flotorch\n",
    "FLOTORCH_AGENT_NAME_CONTENT_WRITER = \"content-writer\"                     # Name of the agent configured in Flotorch\n"
   ]
  },
  {
   "cell_type": "code",
   "execution_count": 41,
   "id": "78c9d57f",
   "metadata": {},
   "outputs": [],
   "source": [
    "def get_pdf_text():\n",
    "    # path_to_pdf = \"/Users/fl_lpt-758/Downloads/FloTorch One Pager - Final.pdf\"\n",
    "    path_to_pdf = input(\"Enter the path to the PDF file: \")\n",
    "    return utils.extract_text_from_pdf(path_to_pdf)"
   ]
  },
  {
   "cell_type": "code",
   "execution_count": 42,
   "id": "94416a85",
   "metadata": {},
   "outputs": [
    {
     "name": "stdout",
     "output_type": "stream",
     "text": [
      "2025-10-07 18:24:13 - flotorch.sdk.llm - INFO - FlotorchLLM initialized (model_id=flotorch/simple-model-without-caching:latest, base_url=https://gateway.flotorch.cloud)\n",
      "2025-10-07 18:24:13 - flotorch.adk.llm - INFO - FlotorchADKLLM initialized (model_id=flotorch/simple-model-without-caching:latest, base_url=https://gateway.flotorch.cloud)\n",
      "2025-10-07 18:24:13 - flotorch.adk.agent - INFO - FlotorchADKAgent initialized (agent_name=topic-creator, memory_enabled=False)\n",
      "2025-10-07 18:24:13 - flotorch.sdk.llm - INFO - FlotorchLLM initialized (model_id=flotorch/simple-model-without-caching:latest, base_url=https://gateway.flotorch.cloud)\n",
      "2025-10-07 18:24:13 - flotorch.adk.llm - INFO - FlotorchADKLLM initialized (model_id=flotorch/simple-model-without-caching:latest, base_url=https://gateway.flotorch.cloud)\n",
      "2025-10-07 18:24:13 - flotorch.adk.agent - INFO - FlotorchADKAgent initialized (agent_name=content-writer, memory_enabled=False)\n"
     ]
    }
   ],
   "source": [
    "# --- Create Flotorch ADK Agent Client for topic-creator---\n",
    "# This object will fetch the agent definition from the Flotorch Gateway\n",
    "flotorch_adk_client = FlotorchADKAgent(\n",
    "    agent_name=FLOTORCH_AGENT_NAME_TOPIC_CREATOR,\n",
    "    enable_memory=False,                     # Disable memory for this example (can be True to persist chat context for long term)\n",
    "    base_url=FLOTORCH_GATEWAY_BASE_URL,       \n",
    "    api_key=FLOTORCH_API_KEY, \n",
    "    custom_tools = [get_pdf_text]                 \n",
    ")\n",
    "\n",
    "# Get the agent object from Flotorch ADK\n",
    "topic_creator_agent = flotorch_adk_client.get_agent()\n",
    "\n",
    "flotorch_adk_client_content_writer = FlotorchADKAgent(\n",
    "    agent_name=FLOTORCH_AGENT_NAME_CONTENT_WRITER,\n",
    "    enable_memory=False,                     # Disable memory for this example (can be True to persist chat context for long term )\n",
    "    base_url=FLOTORCH_GATEWAY_BASE_URL,       \n",
    "    api_key=FLOTORCH_API_KEY                  \n",
    ")   \n",
    "\n",
    "content_writer_agent = flotorch_adk_client_content_writer.get_agent()\n"
   ]
  },
  {
   "cell_type": "code",
   "execution_count": 43,
   "id": "14410dd1",
   "metadata": {},
   "outputs": [
    {
     "name": "stdout",
     "output_type": "stream",
     "text": [
      "2025-10-07 18:24:16 - flotorch.sdk.session - INFO - FlotorchSession initialized (base_url=https://gateway.flotorch.cloud)\n",
      "2025-10-07 18:24:16 - flotorch.adk.sessions - INFO - FlotorchADKSession initialized (base_url=https://gateway.flotorch.cloud)\n"
     ]
    }
   ],
   "source": [
    "# --- Setup Session Service ---\n",
    "session_service = FlotorchADKSession(api_key=FLOTORCH_API_KEY, base_url=FLOTORCH_GATEWAY_BASE_URL)\n",
    "\n",
    "# --- Create Runner ---\n",
    "# Runner manages the conversation loop between the agent and the user\n",
    "runner1 = Runner(\n",
    "    agent=topic_creator_agent,\n",
    "    app_name=APP_NAME,\n",
    "    session_service=session_service\n",
    ")"
   ]
  },
  {
   "cell_type": "code",
   "execution_count": 44,
   "id": "6d8fae91",
   "metadata": {},
   "outputs": [],
   "source": [
    "runner2 = Runner(\n",
    "    agent=content_writer_agent,\n",
    "    app_name=APP_NAME,\n",
    "    session_service=session_service\n",
    ")\n"
   ]
  },
  {
   "cell_type": "code",
   "execution_count": 45,
   "id": "c2fbb2d9",
   "metadata": {},
   "outputs": [],
   "source": [
    "# --- Function to send a single user message and get the final AI response ---\n",
    "def run_single_turn(query, session_id, runner,user_id):\n",
    "    \"\"\"Send a message to the Flotorch agent and return the final response text.\"\"\"\n",
    "    # Create message content object (role=user, with text parts)\n",
    "    content = types.Content(role=\"user\", parts=[types.Part(text=query)])\n",
    "    \n",
    "    # Run the agent for this message in the given session\n",
    "    events = runner.run(\n",
    "        user_id=user_id, \n",
    "        session_id=session_id, \n",
    "        new_message=content\n",
    "    )\n",
    "\n",
    "    # Loop through the events to find the final response from the agent\n",
    "    for event in events:\n",
    "        if event.is_final_response():\n",
    "            if event.content and event.content.parts:\n",
    "                return event.content.parts[0].text  # Return the text from the first part\n",
    "    \n",
    "    return \"Sorry, I couldn't process that.\"  # Fallback if no valid response\n"
   ]
  },
  {
   "cell_type": "code",
   "execution_count": 46,
   "id": "4fdbe9fa",
   "metadata": {},
   "outputs": [],
   "source": [
    "# --- Async function to start a chat session and send a message ---\n",
    "async def chat_with_ui_agent(message):\n",
    "    \"\"\"Start a new session with the agent and send a single message.\"\"\"\n",
    "    # Create a new session for the user via Flotorch Gateway\n",
    "    session = await runner1.session_service.create_session(\n",
    "        app_name=APP_NAME,\n",
    "        user_id=USER_ID,\n",
    "    )\n",
    "    \n",
    "    # Send the message and get the response\n",
    "    response_topic_creator = run_single_turn(message, session.id, runner1,USER_ID)\n",
    "    \n",
    "    # Print the conversation\n",
    "    print(f\"You: {message}\")\n",
    "    print(f\"Flotorch AI: {response_topic_creator}\")\n",
    "    \n",
    "    #return response_topic_creator\n",
    "\n",
    "    session = await runner2.session_service.create_session(\n",
    "        app_name=APP_NAME,\n",
    "        user_id=USER_ID,\n",
    "    )\n",
    "\n",
    "    response_content_writer = run_single_turn(response_topic_creator, session.id, runner2,USER_ID)\n",
    "\n",
    "    return response_content_writer"
   ]
  },
  {
   "cell_type": "code",
   "execution_count": 47,
   "id": "3d2cb298",
   "metadata": {},
   "outputs": [],
   "source": [
    "# --- Async function to start a agentic session and consume a pdf ---\n",
    "async def content_from_pdf(path_to_pdf):\n",
    "    \"\"\"Start a new session with the agent and send a single message.\"\"\"\n",
    "    # Create a new session for the user via Flotorch Gateway\n",
    "    session = await runner1.session_service.create_session(\n",
    "        app_name=APP_NAME,\n",
    "        user_id=USER_ID,\n",
    "    )\n",
    "    \n",
    "    message = \"run the get_pdf_text tool to get the content from the pdf path and work as an agent on that content\"\n",
    "\n",
    "    # Send the message and get the response\n",
    "    response_topic_creator = run_single_turn(message, session.id, runner1,USER_ID)\n",
    "    \n",
    "    # Print the conversation\n",
    "    print(f\"You: {message}\")\n",
    "    print(f\"Flotorch AI: {response_topic_creator}\")\n",
    "    \n",
    "    #return response_topic_creator\n",
    "\n",
    "    session = await runner2.session_service.create_session(\n",
    "        app_name=APP_NAME,\n",
    "        user_id=USER_ID,\n",
    "    )\n",
    "\n",
    "    response_content_writer = run_single_turn(response_topic_creator, session.id, runner2,USER_ID)\n",
    "\n",
    "    return response_content_writer"
   ]
  },
  {
   "cell_type": "code",
   "execution_count": 48,
   "id": "72e9e8d0",
   "metadata": {},
   "outputs": [
    {
     "name": "stdout",
     "output_type": "stream",
     "text": [
      "2025-10-07 18:24:39 - flotorch.sdk.session - INFO - Session Create (uid: db68c3f7-b6e6-46a5-a309-c2282c2ac8e3) - {'app_name': 'flotorch_agent_example', 'user_id': 'flotorch_user_123'}\n",
      "2025-10-07 18:24:39 - flotorch.sdk.session - INFO - Session Created (uid: db68c3f7-b6e6-46a5-a309-c2282c2ac8e3) - {'app_name': 'flotorch_agent_example', 'user_id': 'flotorch_user_123'}\n",
      "Extracted text length: 1821 characters\n",
      "[Sync] Reload interval passed. Attempting to reload agent...\n",
      "2025-10-07 18:26:08 - flotorch.sdk.session - INFO - Session Get (uid: db68c3f7-b6e6-46a5-a309-c2282c2ac8e3) - {'after_timestamp': None, 'num_recent_events': None}\n",
      "2025-10-07 18:26:09 - flotorch.sdk.session - INFO - Session Retrieved (uid: db68c3f7-b6e6-46a5-a309-c2282c2ac8e3) - {'events_count': 2}\n",
      "2025-10-07 18:26:09 - flotorch.sdk.session - INFO - Session Add_Event (uid: db68c3f7-b6e6-46a5-a309-c2282c2ac8e3) - {'invocation_id': 'e-a8e6b35e-05c3-4a1c-822e-5383da8b449d', 'author': 'topic_creator', 'turn_complete': False}\n",
      "2025-10-07 18:26:09 - flotorch.sdk.session - INFO - Session Event_Added (uid: db68c3f7-b6e6-46a5-a309-c2282c2ac8e3) - {'event_uid': None}\n",
      "2025-10-07 18:26:09 - flotorch.sdk.llm - INFO - LLM Request - model: flotorch/simple-model-without-caching:latest, messages-length: 4, tools: [set_model_response, get_pdf_text]\n",
      "2025-10-07 18:26:09 - flotorch.sdk.llm - INFO - User Query: run the get_pdf_text tool to get the content from the pdf path and work as an agent on that content\n",
      "2025-10-07 18:26:09 - flotorch.sdk.llm - INFO - Tool Response: get_pdf_text: {\"result\": \"Scalable & Cost-Efficient\\nRun parallel experiments, provision resources\\ndynamically, and cut model testing time drastically.\\nEnterprise Security & Governance\\nEnterprise-ready with RBAC...\n",
      "2025-10-07 18:26:11 - flotorch.sdk.llm - INFO - Tool Call: set_model_response(topics=[\"Scalable AI solutions\",\"Enterprise security and governance\",\"Real-time performance analytics\",\"No-code workflow automation\",\"LLM optimization and management\"])\n",
      "2025-10-07 18:26:11 - flotorch.sdk.llm - INFO - LLM Response - model: flotorch/simple-model-without-caching:latest, tool_calls: [set_model_response(topics=[\"Scalable AI solutions\",\"Enterprise security and governance\",\"Real-time performance analytics\",\"No-code workflow automation\",\"LLM optimization and management\"])], tokens: 976 (934+42)\n",
      "2025-10-07 18:26:11 - flotorch.sdk.session - INFO - Session Get (uid: db68c3f7-b6e6-46a5-a309-c2282c2ac8e3) - {'after_timestamp': None, 'num_recent_events': None}\n",
      "2025-10-07 18:26:11 - flotorch.sdk.session - INFO - Session Retrieved (uid: db68c3f7-b6e6-46a5-a309-c2282c2ac8e3) - {'events_count': 3}\n",
      "2025-10-07 18:26:11 - flotorch.sdk.session - INFO - Session Add_Event (uid: db68c3f7-b6e6-46a5-a309-c2282c2ac8e3) - {'invocation_id': 'e-a8e6b35e-05c3-4a1c-822e-5383da8b449d', 'author': 'topic_creator', 'turn_complete': False}\n",
      "2025-10-07 18:26:12 - flotorch.sdk.session - INFO - Session Event_Added (uid: db68c3f7-b6e6-46a5-a309-c2282c2ac8e3) - {'event_uid': None}\n",
      "2025-10-07 18:26:12 - flotorch.sdk.session - INFO - Session Get (uid: db68c3f7-b6e6-46a5-a309-c2282c2ac8e3) - {'after_timestamp': None, 'num_recent_events': None}\n",
      "2025-10-07 18:26:13 - flotorch.sdk.session - INFO - Session Retrieved (uid: db68c3f7-b6e6-46a5-a309-c2282c2ac8e3) - {'events_count': 4}\n",
      "2025-10-07 18:26:13 - flotorch.sdk.session - INFO - Session Add_Event (uid: db68c3f7-b6e6-46a5-a309-c2282c2ac8e3) - {'invocation_id': 'e-a8e6b35e-05c3-4a1c-822e-5383da8b449d', 'author': 'topic_creator', 'turn_complete': False}\n",
      "2025-10-07 18:26:14 - flotorch.sdk.session - INFO - Session Event_Added (uid: db68c3f7-b6e6-46a5-a309-c2282c2ac8e3) - {'event_uid': None}\n",
      "2025-10-07 18:26:14 - flotorch.sdk.session - INFO - Session Get (uid: db68c3f7-b6e6-46a5-a309-c2282c2ac8e3) - {'after_timestamp': None, 'num_recent_events': None}\n",
      "2025-10-07 18:26:14 - flotorch.sdk.session - INFO - Session Retrieved (uid: db68c3f7-b6e6-46a5-a309-c2282c2ac8e3) - {'events_count': 5}\n",
      "2025-10-07 18:26:14 - flotorch.sdk.session - INFO - Session Add_Event (uid: db68c3f7-b6e6-46a5-a309-c2282c2ac8e3) - {'invocation_id': 'e-a8e6b35e-05c3-4a1c-822e-5383da8b449d', 'author': 'topic_creator', 'turn_complete': False}\n",
      "2025-10-07 18:26:14 - flotorch.sdk.session - INFO - Session Event_Added (uid: db68c3f7-b6e6-46a5-a309-c2282c2ac8e3) - {'event_uid': None}\n",
      "You: run the get_pdf_text tool to get the content from the pdf path and work as an agent on that content\n",
      "Flotorch AI: {\"topics\": \"[\\\"Scalable AI solutions\\\",\\\"Enterprise security and governance\\\",\\\"Real-time performance analytics\\\",\\\"No-code workflow automation\\\",\\\"LLM optimization and management\\\"]\"}\n",
      "2025-10-07 18:26:14 - flotorch.sdk.session - INFO - Session Create (uid: 48838edb-5243-4cb7-8771-8b5e54258de4) - {'app_name': 'flotorch_agent_example', 'user_id': 'flotorch_user_123'}\n",
      "2025-10-07 18:26:15 - flotorch.sdk.session - INFO - Session Created (uid: 48838edb-5243-4cb7-8771-8b5e54258de4) - {'app_name': 'flotorch_agent_example', 'user_id': 'flotorch_user_123'}\n",
      "2025-10-07 18:26:15 - flotorch.sdk.session - INFO - Session Get (uid: 48838edb-5243-4cb7-8771-8b5e54258de4) - {'after_timestamp': None, 'num_recent_events': None}\n",
      "2025-10-07 18:26:15 - flotorch.sdk.session - INFO - Session Retrieved (uid: 48838edb-5243-4cb7-8771-8b5e54258de4) - {'events_count': 0}\n",
      "2025-10-07 18:26:15 - flotorch.sdk.session - INFO - Session Get (uid: 48838edb-5243-4cb7-8771-8b5e54258de4) - {'after_timestamp': None, 'num_recent_events': None}\n",
      "2025-10-07 18:26:15 - flotorch.sdk.session - INFO - Session Retrieved (uid: 48838edb-5243-4cb7-8771-8b5e54258de4) - {'events_count': 0}\n",
      "2025-10-07 18:26:15 - flotorch.sdk.session - INFO - Session Add_Event (uid: 48838edb-5243-4cb7-8771-8b5e54258de4) - {'invocation_id': 'e-af44f1a9-0e94-45bf-8c04-52ee3484568c', 'author': 'user', 'turn_complete': False}\n",
      "2025-10-07 18:26:16 - flotorch.sdk.session - INFO - Session Event_Added (uid: 48838edb-5243-4cb7-8771-8b5e54258de4) - {'event_uid': None}\n",
      "[Sync] Reload interval passed. Attempting to reload agent...\n",
      "2025-10-07 18:26:16 - flotorch.sdk.llm - INFO - LLM Request - model: flotorch/simple-model-without-caching:latest, messages-length: 2\n",
      "2025-10-07 18:26:16 - flotorch.sdk.llm - INFO - User Query: {\"topics\": \"[\\\"Scalable AI solutions\\\",\\\"Enterprise security and governance\\\",\\\"Real-time performance analytics\\\",\\\"No-code workflow automation\\\",\\\"LLM optimization and management\\\"]\"}\n",
      "2025-10-07 18:26:50 - flotorch.sdk.llm - INFO - LLM Response - model: flotorch/simple-model-without-caching:latest, tokens: 1625 (260+1365)\n",
      "2025-10-07 18:26:50 - flotorch.sdk.llm - INFO - Final Response: ### Scalable AI Solutions\n",
      "\n",
      "Scalable AI solutions refer to the ability of artificial intelligence systems to efficiently handle increasing amounts of data and user demands without compromising performance. This scalability is crucial for businesses that aim to leverage AI technologies to enhance their operations, improve customer experiences, and drive innovation. Scalable AI can be achieved through various means, including cloud computing, distributed computing, and the use of advanced algorithms that can adapt to growing datasets. By ensuring that AI systems can scale, organizations can maintain their competitive edge in a rapidly evolving digital landscape.\n",
      "\n",
      "Today, the relevance of scalable AI solutions is underscored by the exponential growth of data and the increasing complexity of business environments. Companies are now more than ever relying on AI to process vast amounts of information in real-time, making decisions that can significantly impact their bottom line. As industries such as healthcare, finance, and retail continue to adopt AI technologies, the demand for scalable solutions will only increase. This trend highlights the importance of investing in infrastructure and strategies that support scalability, ensuring that organizations can respond to market changes and customer needs effectively.\n",
      "\n",
      "For those interested in exploring this topic further, consider delving into related areas such as cloud-based AI services, the role of machine learning in scalability, and case studies of successful scalable AI implementations. Additionally, examining the ethical implications of scaling AI, including data privacy and algorithmic bias, can provide a more comprehensive understanding of the challenges and opportunities in this field.\n",
      "\n",
      "### Enterprise Security and Governance\n",
      "\n",
      "Enterprise security and governance encompass the policies, procedures, and technologies that organizations implement to protect their information assets and ensure compliance with regulations. This area of focus is critical as businesses face increasing threats from cyberattacks, data breaches, and regulatory scrutiny. Effective enterprise security involves a multi-layered approach that includes risk assessment, access controls, incident response planning, and employee training. Governance, on the other hand, ensures that security measures align with organizational goals and legal requirements, fostering a culture of accountability and transparency.\n",
      "\n",
      "In today's digital landscape, the importance of robust enterprise security and governance cannot be overstated. With the rise of remote work and cloud computing, organizations are more vulnerable than ever to cyber threats. Additionally, regulatory frameworks such as GDPR and CCPA impose strict requirements on data handling and privacy, making compliance a top priority for businesses. As a result, organizations are increasingly investing in advanced security technologies, such as artificial intelligence and machine learning, to enhance their threat detection and response capabilities.\n",
      "\n",
      "For further exploration, readers may want to investigate specific security frameworks, such as ISO 27001 or NIST Cybersecurity Framework, and their application in various industries. Additionally, examining the intersection of security and emerging technologies, such as blockchain and IoT, can provide insights into innovative approaches to governance and risk management.\n",
      "\n",
      "### Real-Time Performance Analytics\n",
      "\n",
      "Real-time performance analytics involves the continuous monitoring and analysis of data to provide immediate insights into business operations. This approach enables organizations to make informed decisions quickly, respond to market changes, and optimize processes in real-time. By leveraging technologies such as big data analytics, machine learning, and IoT sensors, businesses can track key performance indicators (KPIs) and gain a comprehensive view of their performance metrics as they happen. This immediacy allows for proactive management and the ability to capitalize on opportunities or mitigate risks swiftly.\n",
      "\n",
      "The relevance of real-time performance analytics has surged in recent years, particularly as businesses strive for agility in a fast-paced environment. Companies that can harness real-time data are better positioned to enhance customer experiences, streamline operations, and drive innovation. For instance, in sectors like retail and e-commerce, real-time analytics can inform inventory management and personalized marketing strategies, leading to improved sales and customer satisfaction. As organizations increasingly adopt digital transformation initiatives, the demand for real-time insights will continue to grow.\n",
      "\n",
      "To delve deeper into this topic, readers might explore specific tools and platforms that facilitate real-time analytics, such as Tableau or Google Analytics. Additionally, examining case studies of organizations that have successfully implemented real-time analytics can provide practical insights into best practices and potential challenges. Questions around data privacy and ethical considerations in real-time monitoring also warrant further discussion.\n",
      "\n",
      "### No-Code Workflow Automation\n",
      "\n",
      "No-code workflow automation refers to the use of platforms that allow users to create automated processes without the need for programming skills. These tools empower business users to design workflows that streamline operations, enhance productivity, and reduce manual errors. By enabling non-technical staff to automate repetitive tasks, organizations can free up valuable resources and foster a culture of innovation. No-code solutions often come with user-friendly interfaces and pre-built templates, making it easier for teams to implement automation quickly and efficiently.\n",
      "\n",
      "The significance of no-code workflow automation has grown as businesses seek to adapt to changing market conditions and improve operational efficiency. In an era where agility is paramount, organizations that leverage no-code tools can respond to challenges more swiftly and effectively. This democratization of technology not only accelerates the automation process but also encourages collaboration across departments, as employees from various functions can contribute to workflow design and optimization.\n",
      "\n",
      "For those interested in further exploration, consider investigating specific no-code platforms, such as Zapier or Airtable, and their applications in different industries. Additionally, examining the impact of no-code automation on job roles and workforce dynamics can provide insights into the future of work. Questions around the scalability and security of no-code solutions also merit attention as organizations increasingly rely on these tools.\n",
      "\n",
      "### LLM Optimization and Management\n",
      "\n",
      "LLM optimization and management focus on enhancing the performance and efficiency of large language models (LLMs) used in natural language processing tasks. As LLMs become integral to applications such as chatbots, content generation, and sentiment analysis, optimizing their performance is crucial for delivering accurate and relevant results. This involves fine-tuning models, managing computational resources, and ensuring that the models are trained on diverse and high-quality datasets. Effective management also includes monitoring model performance over time and making adjustments as necessary to maintain accuracy and relevance.\n",
      "\n",
      "The relevance of LLM optimization and management is particularly pronounced in today's data-driven world, where businesses are increasingly relying on AI to process and analyze vast amounts of text data. As organizations seek to improve customer interactions and automate content creation, the demand for optimized LLMs will continue to rise. Furthermore, as ethical considerations around AI usage gain prominence, managing LLMs responsibly—ensuring they are free from bias and aligned with organizational values—becomes a critical aspect of their deployment.\n",
      "\n",
      "For further reading, consider exploring the latest advancements in LLM architectures, such as GPT-4 or BERT, and their implications for various applications. Additionally, examining the challenges of bias and fairness in language models can provide valuable insights into the ethical dimensions of AI. Questions around the future of LLMs, including their potential impact on job markets and communication, also present intriguing avenues for exploration.\n",
      "2025-10-07 18:26:50 - flotorch.sdk.session - INFO - Session Get (uid: 48838edb-5243-4cb7-8771-8b5e54258de4) - {'after_timestamp': None, 'num_recent_events': None}\n",
      "2025-10-07 18:26:50 - flotorch.sdk.session - INFO - Session Retrieved (uid: 48838edb-5243-4cb7-8771-8b5e54258de4) - {'events_count': 1}\n",
      "2025-10-07 18:26:50 - flotorch.sdk.session - INFO - Session Add_Event (uid: 48838edb-5243-4cb7-8771-8b5e54258de4) - {'invocation_id': 'e-af44f1a9-0e94-45bf-8c04-52ee3484568c', 'author': 'content_writer', 'turn_complete': False}\n",
      "2025-10-07 18:26:51 - flotorch.sdk.session - INFO - Session Event_Added (uid: 48838edb-5243-4cb7-8771-8b5e54258de4) - {'event_uid': None}\n"
     ]
    }
   ],
   "source": [
    "# --- Entry point ---\n",
    "# Changed to call the synchronous function directly\n",
    "if __name__ == \"__main__\":\n",
    " #   await(chat_with_ui_agent(\"Scan the following paragraph: In Jurassic World Rebirth, the world's dinosaurs live around the equator, which provides the last viable climate for them to survive. A team travels to a former island research facility where the three largest prehistoric animals reside, with the goal of extracting samples that are vital for a heart disease treatment. The team also rescues a shipwrecked family, and both groups struggle to survive after becoming stranded on the island.\"))\n",
    "    await(content_from_pdf(\"/Users/fl_lpt-758/Downloads/FloTorch One Pager - Final.pdf\"))"
   ]
  }
 ],
 "metadata": {
  "kernelspec": {
   "display_name": ".venv",
   "language": "python",
   "name": "python3"
  },
  "language_info": {
   "codemirror_mode": {
    "name": "ipython",
    "version": 3
   },
   "file_extension": ".py",
   "mimetype": "text/x-python",
   "name": "python",
   "nbconvert_exporter": "python",
   "pygments_lexer": "ipython3",
   "version": "3.13.5"
  }
 },
 "nbformat": 4,
 "nbformat_minor": 5
}
