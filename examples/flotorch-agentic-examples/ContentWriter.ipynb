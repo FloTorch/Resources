{
 "cells": [
  {
   "cell_type": "code",
   "execution_count": null,
   "id": "125075f6",
   "metadata": {},
   "outputs": [],
   "source": [
    "# pip install flotorch"
   ]
  },
  {
   "cell_type": "code",
   "execution_count": 9,
   "id": "9d8ee5d5",
   "metadata": {},
   "outputs": [],
   "source": [
    "#import utils\n",
    "import sys\n",
    "import os\n",
    "\n",
    "# Add the parent directory to the Python path\n",
    "# Assuming utils.py is in a parent directory relative to main_script.py\n",
    "sys.path.append(os.path.abspath(os.path.join(os.path.dirname(\"ContentWriter.ipynb\"), '../flotorch-rag-notebooks/faiss-example/'))) \n",
    "\n",
    "import utils \n"
   ]
  },
  {
   "cell_type": "code",
   "execution_count": 10,
   "id": "22c531a7",
   "metadata": {},
   "outputs": [],
   "source": [
    "# --- Imports from Flotorch ADK and Google ADK ---\n",
    "from flotorch.adk.agent import FlotorchADKAgent       # Flotorch wrapper for creating an ADK agent\n",
    "from flotorch.adk.sessions import FlotorchADKSession # Flotorch session service (integrates with Flotorch Gateway sessions)\n",
    "from google.adk import Runner                         # Runs the agent with a session\n",
    "from google.genai import types                        # Data types for message content\n"
   ]
  },
  {
   "cell_type": "code",
   "execution_count": 11,
   "id": "a6e85d1a",
   "metadata": {},
   "outputs": [],
   "source": [
    "os.environ[\"FLOTORCH_API_KEY\"] = \"sk_HXWY3QOdut4KW0A8FrmnmKu/sRmQxGKUAwm7W8PDDKs=_OTFjMzVkODEtOWYzZi00OTQ0LWJjNjEtZjllY2MyZTA3NGE2_MzJkZDFlNjktOTc0Yy00NTNmLWI0NmUtMWJjMzgzYzc0MmQ2\""
   ]
  },
  {
   "cell_type": "code",
   "execution_count": 19,
   "id": "e91e8a45",
   "metadata": {},
   "outputs": [],
   "source": [
    "# --- Configuration ---\n",
    "APP_NAME = \"flotorch_agent_example\"         # Name of the app (used in session tracking)\n",
    "USER_ID = \"flotorch_user_123\"               # Unique ID for the user\n",
    "FLOTORCH_GATEWAY_BASE_URL = \"https://gateway.flotorch.cloud\"              # Base URL of the Flotorch Gateway\n",
    "FLOTORCH_API_KEY = os.environ[\"FLOTORCH_API_KEY\"]                      # API key for authentication (to be filled in)\n",
    "FLOTORCH_AGENT_NAME_TOPIC_CREATOR = \"topic-creator\"                     # Name of the agent configured in Flotorch\n",
    "FLOTORCH_AGENT_NAME_CONTENT_WRITER = \"content-writer\"                     # Name of the agent configured in Flotorch\n"
   ]
  },
  {
   "cell_type": "code",
   "execution_count": null,
   "id": "94416a85",
   "metadata": {},
   "outputs": [
    {
     "name": "stdout",
     "output_type": "stream",
     "text": [
      "2025-10-06 21:43:29 - flotorch.sdk.llm - INFO - FlotorchLLM initialized (model_id=flotorch/simple-model-without-caching:latest, base_url=https://gateway.flotorch.cloud)\n",
      "2025-10-06 21:43:29 - flotorch.adk.llm - INFO - FlotorchADKLLM initialized (model_id=flotorch/simple-model-without-caching:latest, base_url=https://gateway.flotorch.cloud)\n",
      "2025-10-06 21:43:29 - flotorch.adk.agent - INFO - FlotorchADKAgent initialized (agent_name=topic-creator, memory_enabled=False)\n"
     ]
    }
   ],
   "source": [
    "# --- Create Flotorch ADK Agent Client for topic-creator---\n",
    "# This object will fetch the agent definition from the Flotorch Gateway\n",
    "flotorch_adk_client = FlotorchADKAgent(\n",
    "    agent_name=FLOTORCH_AGENT_NAME_TOPIC_CREATOR,\n",
    "    enable_memory=False,                     # Disable memory for this example (can be True to persist chat context for long term)\n",
    "    base_url=FLOTORCH_GATEWAY_BASE_URL,       \n",
    "    api_key=FLOTORCH_API_KEY                  \n",
    ")\n",
    "\n",
    "# Get the agent object from Flotorch ADK\n",
    "topic_creator_agent = flotorch_adk_client.get_agent()\n",
    "\n",
    "flotorch_adk_client_content_writer = FlotorchADKAgent(\n",
    "    agent_name=FLOTORCH_AGENT_NAME_CONTENT_WRITER,\n",
    "    enable_memory=False,                     # Disable memory for this example (can be True to persist chat context for long term )\n",
    "    base_url=FLOTORCH_GATEWAY_BASE_URL,       \n",
    "    api_key=FLOTORCH_API_KEY                  \n",
    ")   \n",
    "\n",
    "content_writer_agent = flotorch_adk_client_content_writer.get_agent()\n"
   ]
  },
  {
   "cell_type": "code",
   "execution_count": 21,
   "id": "14410dd1",
   "metadata": {},
   "outputs": [
    {
     "name": "stdout",
     "output_type": "stream",
     "text": [
      "2025-10-06 21:43:32 - flotorch.sdk.session - INFO - FlotorchSession initialized (base_url=https://gateway.flotorch.cloud)\n",
      "2025-10-06 21:43:32 - flotorch.adk.sessions - INFO - FlotorchADKSession initialized (base_url=https://gateway.flotorch.cloud)\n"
     ]
    }
   ],
   "source": [
    "# --- Setup Session Service ---\n",
    "session_service = FlotorchADKSession(api_key=FLOTORCH_API_KEY, base_url=FLOTORCH_GATEWAY_BASE_URL)\n",
    "\n",
    "# --- Create Runner ---\n",
    "# Runner manages the conversation loop between the agent and the user\n",
    "runner1 = Runner(\n",
    "    agent=topic_creator_agent,\n",
    "    app_name=APP_NAME,\n",
    "    session_service=session_service\n",
    ")"
   ]
  },
  {
   "cell_type": "code",
   "execution_count": null,
   "id": "6d8fae91",
   "metadata": {},
   "outputs": [],
   "source": [
    "runner2 = Runner(\n",
    "    agent=content_writer_agent,\n",
    "    app_name=APP_NAME,\n",
    "    session_service=session_service\n",
    ")\n"
   ]
  },
  {
   "cell_type": "code",
   "execution_count": null,
   "id": "c2fbb2d9",
   "metadata": {},
   "outputs": [],
   "source": [
    "# --- Function to send a single user message and get the final AI response ---\n",
    "def run_single_turn(query, session_id, runner,user_id):\n",
    "    \"\"\"Send a message to the Flotorch agent and return the final response text.\"\"\"\n",
    "    # Create message content object (role=user, with text parts)\n",
    "    content = types.Content(role=\"user\", parts=[types.Part(text=query)])\n",
    "    \n",
    "    # Run the agent for this message in the given session\n",
    "    events = runner.run(\n",
    "        user_id=user_id, \n",
    "        session_id=session_id, \n",
    "        new_message=content\n",
    "    )\n",
    "\n",
    "    # Loop through the events to find the final response from the agent\n",
    "    for event in events:\n",
    "        if event.is_final_response():\n",
    "            if event.content and event.content.parts:\n",
    "                return event.content.parts[0].text  # Return the text from the first part\n",
    "    \n",
    "    return \"Sorry, I couldn't process that.\"  # Fallback if no valid response\n"
   ]
  },
  {
   "cell_type": "code",
   "execution_count": null,
   "id": "4fdbe9fa",
   "metadata": {},
   "outputs": [],
   "source": [
    "# --- Async function to start a chat session and send a message ---\n",
    "async def chat_with_ui_agent(message):\n",
    "    \"\"\"Start a new session with the agent and send a single message.\"\"\"\n",
    "    # Create a new session for the user via Flotorch Gateway\n",
    "    session = await runner1.session_service.create_session(\n",
    "        app_name=APP_NAME,\n",
    "        user_id=USER_ID,\n",
    "    )\n",
    "    \n",
    "    # Send the message and get the response\n",
    "    response_topic_creator = run_single_turn(message, session.id, runner1,USER_ID)\n",
    "    \n",
    "    # Print the conversation\n",
    "    print(f\"You: {message}\")\n",
    "    print(f\"Flotorch AI: {response_topic_creator}\")\n",
    "    \n",
    "    return response_topic_creator\n",
    "\n",
    "    session = await runner2.session_service.create_session(\n",
    "        app_name=APP_NAME,\n",
    "        user_id=USER_ID,\n",
    "    )\n",
    "\n",
    "    response_content_writer = run_single_turn(response_topic_creator, session.id, runner2,USER_ID)\n",
    "\n",
    "    return response_content_writer"
   ]
  },
  {
   "cell_type": "code",
   "execution_count": 24,
   "id": "72e9e8d0",
   "metadata": {},
   "outputs": [
    {
     "name": "stdout",
     "output_type": "stream",
     "text": [
      "2025-10-06 21:43:44 - flotorch.sdk.session - INFO - Session Create (uid: b9b69dcb-89ec-4dac-8438-57a2f61f3f6b) - {'app_name': 'flotorch_agent_example', 'user_id': 'flotorch_user_123'}\n",
      "2025-10-06 21:43:44 - flotorch.sdk.session - INFO - Session Created (uid: b9b69dcb-89ec-4dac-8438-57a2f61f3f6b) - {'app_name': 'flotorch_agent_example', 'user_id': 'flotorch_user_123'}\n",
      "2025-10-06 21:43:44 - flotorch.sdk.session - INFO - Session Get (uid: b9b69dcb-89ec-4dac-8438-57a2f61f3f6b) - {'after_timestamp': None, 'num_recent_events': None}\n",
      "2025-10-06 21:43:44 - flotorch.sdk.session - INFO - Session Retrieved (uid: b9b69dcb-89ec-4dac-8438-57a2f61f3f6b) - {'events_count': 0}\n",
      "2025-10-06 21:43:44 - flotorch.sdk.session - INFO - Session Get (uid: b9b69dcb-89ec-4dac-8438-57a2f61f3f6b) - {'after_timestamp': None, 'num_recent_events': None}\n",
      "2025-10-06 21:43:45 - flotorch.sdk.session - INFO - Session Retrieved (uid: b9b69dcb-89ec-4dac-8438-57a2f61f3f6b) - {'events_count': 0}\n",
      "2025-10-06 21:43:45 - flotorch.sdk.session - INFO - Session Add_Event (uid: b9b69dcb-89ec-4dac-8438-57a2f61f3f6b) - {'invocation_id': 'e-60da4b4c-b88e-43ce-854a-f11f6823aa4d', 'author': 'user', 'turn_complete': False}\n",
      "2025-10-06 21:43:45 - flotorch.sdk.session - INFO - Session Event_Added (uid: b9b69dcb-89ec-4dac-8438-57a2f61f3f6b) - {'event_uid': None}\n",
      "2025-10-06 21:43:45 - flotorch.sdk.llm - INFO - LLM Request - model: flotorch/simple-model-without-caching:latest, messages-length: 2\n",
      "2025-10-06 21:43:45 - flotorch.sdk.llm - INFO - User Query: Scan the following paragraph: In Jurassic World Rebirth, the world's dinosaurs live around the equator, which provides the last viable climate for them to survive. A team travels to a former island research facility where the three largest prehistoric animals reside, with the goal of extracting samp...\n",
      "2025-10-06 21:43:48 - flotorch.sdk.llm - INFO - LLM Response - model: flotorch/simple-model-without-caching:latest, tokens: 448 (412+36)\n",
      "2025-10-06 21:43:48 - flotorch.sdk.llm - INFO - Final Response: {\"topics\":\"[\\\"Dinosaurs in modern ecosystems\\\",\\\"Equatorial climate and survival\\\",\\\"Prehistoric animal research\\\",\\\"Heart disease treatment research\\\",\\\"Survival and rescue in isolated environments\\\"]\"}\n",
      "2025-10-06 21:43:48 - flotorch.sdk.session - INFO - Session Get (uid: b9b69dcb-89ec-4dac-8438-57a2f61f3f6b) - {'after_timestamp': None, 'num_recent_events': None}\n",
      "2025-10-06 21:43:48 - flotorch.sdk.session - INFO - Session Retrieved (uid: b9b69dcb-89ec-4dac-8438-57a2f61f3f6b) - {'events_count': 1}\n",
      "2025-10-06 21:43:48 - flotorch.sdk.session - INFO - Session Add_Event (uid: b9b69dcb-89ec-4dac-8438-57a2f61f3f6b) - {'invocation_id': 'e-60da4b4c-b88e-43ce-854a-f11f6823aa4d', 'author': 'topic_creator', 'turn_complete': False}\n",
      "2025-10-06 21:43:48 - flotorch.sdk.session - INFO - Session Event_Added (uid: b9b69dcb-89ec-4dac-8438-57a2f61f3f6b) - {'event_uid': None}\n",
      "You: Scan the following paragraph: In Jurassic World Rebirth, the world's dinosaurs live around the equator, which provides the last viable climate for them to survive. A team travels to a former island research facility where the three largest prehistoric animals reside, with the goal of extracting samples that are vital for a heart disease treatment. The team also rescues a shipwrecked family, and both groups struggle to survive after becoming stranded on the island.\n",
      "Flotorch AI: {\"topics\":\"[\\\"Dinosaurs in modern ecosystems\\\",\\\"Equatorial climate and survival\\\",\\\"Prehistoric animal research\\\",\\\"Heart disease treatment research\\\",\\\"Survival and rescue in isolated environments\\\"]\"}\n"
     ]
    }
   ],
   "source": [
    "# --- Entry point ---\n",
    "# Changed to call the synchronous function directly\n",
    "if __name__ == \"__main__\":\n",
    "    await(chat_with_ui_agent(\"Scan the following paragraph: In Jurassic World Rebirth, the world's dinosaurs live around the equator, which provides the last viable climate for them to survive. A team travels to a former island research facility where the three largest prehistoric animals reside, with the goal of extracting samples that are vital for a heart disease treatment. The team also rescues a shipwrecked family, and both groups struggle to survive after becoming stranded on the island.\"))\n"
   ]
  }
 ],
 "metadata": {
  "kernelspec": {
   "display_name": ".venv",
   "language": "python",
   "name": "python3"
  },
  "language_info": {
   "codemirror_mode": {
    "name": "ipython",
    "version": 3
   },
   "file_extension": ".py",
   "mimetype": "text/x-python",
   "name": "python",
   "nbconvert_exporter": "python",
   "pygments_lexer": "ipython3",
   "version": "3.13.5"
  }
 },
 "nbformat": 4,
 "nbformat_minor": 5
}
