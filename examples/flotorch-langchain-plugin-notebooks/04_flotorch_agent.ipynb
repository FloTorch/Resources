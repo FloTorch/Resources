{
 "cells": [
  {
   "cell_type": "markdown",
   "id": "762527fd",
   "metadata": {},
   "source": [
    "# Simplified Agent Creation with FlotorchLangChainAgent\n",
    "\n",
    "This notebook demonstrates a streamlined approach to creating and deploying LangChain agents using the `FlotorchLangChainAgent` client. This high-level abstraction allows you to manage your agent's configuration (prompt, tools, etc.) in the Flotorch UI and load it directly into your code with a single command.\n",
    "\n",
    "### Key Advantage:\n",
    "- **Decoupled Configuration**: Agent logic (prompt, model settings, tool bindings) is managed on the Flotorch platform, not hardcoded in the notebook. This makes updates and management much easier."
   ]
  },
  {
   "cell_type": "markdown",
   "id": "0dd8e0d5",
   "metadata": {},
   "source": [
    "## 1. Setup and Imports\n",
    "\n",
    "The following cells install dependencies, define API credentials, and import the necessary components. Note the key import of `FlotorchLangChainAgent`, which is the focus of this example."
   ]
  },
  {
   "cell_type": "code",
   "execution_count": null,
   "id": "66d00191",
   "metadata": {},
   "outputs": [],
   "source": [
    "# install flotorch langchain package\n",
    "%pip install  flotorch[langchain]"
   ]
  },
  {
   "cell_type": "code",
   "execution_count": null,
   "id": "55fe6ffe",
   "metadata": {},
   "outputs": [],
   "source": [
    "# Allow kernal to run multiple async operations\n",
    "import nest_asyncio\n",
    "nest_asyncio.apply()"
   ]
  },
  {
   "cell_type": "code",
   "execution_count": null,
   "id": "8e067333",
   "metadata": {},
   "outputs": [],
   "source": [
    "FLOTORCH_API_KEY = \"<flotorch api key>\"\n",
    "FLOTORCH_BASE_URL = \"https://qa-gateway.flotorch.cloud\"\n",
    "AGENT_NAME = \"<flotorch agent name>\""
   ]
  },
  {
   "cell_type": "code",
   "execution_count": null,
   "id": "7f57478c",
   "metadata": {},
   "outputs": [],
   "source": [
    "# Import LangChain and related modules\n",
    "from flotorch.langchain.agent import FlotorchLangChainAgent \n",
    "from flotorch.langchain.session import FlotorchLangChainSession\n",
    "from langchain.agents import AgentExecutor\n",
    "\n",
    "print(\"Imported necessary libraries successfully\")"
   ]
  },
  {
   "cell_type": "markdown",
   "id": "aab14bf2",
   "metadata": {},
   "source": [
    "## 2. Session and Agent Initialization\n",
    "\n",
    "First, we set up the `FlotorchLangChainSession` for conversational memory. \n",
    "\n",
    "Then, instead of defining an agent manually, we initialize the `FlotorchLangChainAgent` client by providing an `agent_name`. The client fetches the agent's entire configuration (prompt, tools, etc.) from the Flotorch platform."
   ]
  },
  {
   "cell_type": "code",
   "execution_count": null,
   "id": "f3cfe1f0",
   "metadata": {},
   "outputs": [],
   "source": [
    "session_service = FlotorchLangChainSession(\n",
    "    api_key = FLOTORCH_API_KEY,\n",
    "    base_url = FLOTORCH_BASE_URL\n",
    ")"
   ]
  },
  {
   "cell_type": "code",
   "execution_count": null,
   "id": "a417bdd5",
   "metadata": {},
   "outputs": [],
   "source": [
    "flotorch_client = FlotorchLangChainAgent(\n",
    "    agent_name =AGENT_NAME,\n",
    "    api_key=FLOTORCH_API_KEY,\n",
    "    base_url=FLOTORCH_BASE_URL\n",
    ")\n",
    "\n",
    "agent = flotorch_client.get_agent()\n",
    "tools = flotorch_client.get_tools()\n",
    "\n",
    "print(\"Fetched agent and task from flotorch console\")"
   ]
  },
  {
   "cell_type": "markdown",
   "id": "c1b9416d",
   "metadata": {},
   "source": [
    "## 3. Assembling the Agent Executor\n",
    "\n",
    "Here, we assemble the `AgentExecutor` using the agent and tools that were dynamically fetched from the Flotorch platform. We also include the session memory."
   ]
  },
  {
   "cell_type": "code",
   "execution_count": null,
   "id": "7361e0da",
   "metadata": {},
   "outputs": [],
   "source": [
    "agent_executor = AgentExecutor(\n",
    "    agent=agent,\n",
    "    tools=tools,\n",
    "    memory = session_service,\n",
    "    verbose=False,\n",
    "    handle_parsing_errors=True\n",
    ")"
   ]
  },
  {
   "cell_type": "markdown",
   "id": "e2162505",
   "metadata": {},
   "source": [
    "## 4. Interactive Chat\n",
    "\n",
    "Engage with the pre-configured agent in this interactive loop. The agent's behavior is determined by its configuration on the Flotorch UI. Type 'exit' to end the session."
   ]
  },
  {
   "cell_type": "markdown",
   "id": "c569f066",
   "metadata": {},
   "source": [
    "## Summary\n",
    "\n",
    "This notebook showcased a highly efficient workflow for agent creation using the `FlotorchLangChainAgent` client.  \n",
    "We demonstrated how to **decouple the agent's core configuration** from the application code, resulting in a more maintainable and scalable solution.\n",
    "\n",
    "### Key Achievements\n",
    "\n",
    "- **Simplified Development** \n",
    "  Instead of defining the agent's prompt and tool bindings directly in the code, we instantiated the `FlotorchLangChainAgent` client, which dynamically loaded the configuration from the Flotorch platform.\n",
    "\n",
    "- **Centralized Management** \n",
    "  Enabled updating and managing agent logic and tool configurations directly through the Flotorch UI, without requiring changes to the notebook or application code.\n",
    "\n",
    "- **Production-Ready Pattern** \n",
    "  Demonstrated a best-practice pattern for deploying AI agents in production environments where agility and ease of management are critical.\n"
   ]
  }
 ],
 "metadata": {
  "kernelspec": {
   "display_name": "venv",
   "language": "python",
   "name": "python3"
  },
  "language_info": {
   "codemirror_mode": {
    "name": "ipython",
    "version": 3
   },
   "file_extension": ".py",
   "mimetype": "text/x-python",
   "name": "python",
   "nbconvert_exporter": "python",
   "pygments_lexer": "ipython3",
   "version": "3.11.0"
  }
 },
 "nbformat": 4,
 "nbformat_minor": 5
}
