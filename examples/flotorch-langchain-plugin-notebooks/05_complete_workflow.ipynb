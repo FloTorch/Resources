{
 "cells": [
  {
   "cell_type": "markdown",
   "id": "ad3ad649",
   "metadata": {},
   "source": [
    "# Production-Ready Agent Workflow with Flotorch and LangChain\n",
    "\n",
    "This notebook demonstrates a comprehensive, production-style workflow. It integrates all the advanced features we've explored into a single, robust application:\n",
    "- **Remote Agent Configuration**: Uses `FlotorchLangChainAgent` to load agent logic from the Flotorch UI.\n",
    "- **Custom Local Tools**: Defines and attaches a custom tool to the agent at runtime.\n",
    "- **Dual Memory System**: Implements both short-term session memory (`FlotorchLangChainSession`) and long-term memory (`FlotorchLangChainMemory`)."
   ]
  },
  {
   "cell_type": "markdown",
   "id": "9f146914",
   "metadata": {},
   "source": [
    "## 1. Setup and Imports\n",
    "\n",
    "The following cells install dependencies, set API credentials, and import all necessary components for handling tools, memory, and remote agent management."
   ]
  },
  {
   "cell_type": "code",
   "execution_count": null,
   "id": "cfa053c7",
   "metadata": {},
   "outputs": [],
   "source": [
    "# install flotorch langchain package\n",
    "%pip install  flotorch[langchain]"
   ]
  },
  {
   "cell_type": "code",
   "execution_count": null,
   "id": "1e629eba",
   "metadata": {},
   "outputs": [],
   "source": [
    "import nest_asyncio\n",
    "nest_asyncio.apply()"
   ]
  },
  {
   "cell_type": "code",
   "execution_count": null,
   "id": "e82c60a0",
   "metadata": {},
   "outputs": [],
   "source": [
    "FLOTORCH_API_KEY = \"<flotorch api key>\"\n",
    "FLOTORCH_BASE_URL = \"https://qa-gateway.flotorch.cloud\"\n",
    "MEMORY_PROVIDER = \"<flotorch memory provider>\"\n",
    "AGENT_NAME = \"<flotorch agent name>\"\n",
    "USER_ID = \"flotorch_user_001\"\n",
    "APP_ID = \"flotorch_app_001\""
   ]
  },
  {
   "cell_type": "code",
   "execution_count": null,
   "id": "5bae8d6c",
   "metadata": {},
   "outputs": [],
   "source": [
    "# Import LangChain and related modules\n",
    "from flotorch.langchain.agent import FlotorchLangChainAgent \n",
    "from flotorch.langchain.session import FlotorchLangChainSession\n",
    "from flotorch.langchain.memory import FlotorchLangChainMemory\n",
    "from langchain.agents import AgentExecutor\n",
    "from langchain.memory import CombinedMemory\n",
    "\n",
    "from langchain_core.tools import tool\n",
    "\n",
    "print(\"Imported necessary libraries successfully\")"
   ]
  },
  {
   "cell_type": "markdown",
   "id": "d2ab3c69",
   "metadata": {},
   "source": [
    "## 2. Custom Tool Definition\n",
    "\n",
    "Here, we define custom tools locally. These tools can be dynamically attached to our agent at runtime, demonstrating how to extend a centrally-managed agent with new capabilities."
   ]
  },
  {
   "cell_type": "code",
   "execution_count": null,
   "id": "43a7a867",
   "metadata": {},
   "outputs": [],
   "source": [
    "@tool\n",
    "def analyze_text(text: str) -> str:\n",
    "    \"\"\"\n",
    "    Analyze text and provide comprehensive statistics.\n",
    "    \n",
    "    Args:\n",
    "        text (str): Text to analyze\n",
    "        \n",
    "    Returns:\n",
    "        str: Formatted text analysis with statistics\n",
    "    \"\"\"\n",
    "    word_count = len(text.split())\n",
    "    char_count = len(text)\n",
    "    char_count_no_spaces = len(text.replace(' ', ''))\n",
    "    sentences = text.count('.') + text.count('!') + text.count('?')\n",
    "    \n",
    "    return f\"\"\"Text Analysis:\n",
    "- Words: {word_count}\n",
    "- Characters (with spaces): {char_count}\n",
    "- Characters (without spaces): {char_count_no_spaces}\n",
    "- Sentences: {sentences}\"\"\"\n",
    "\n",
    "\n",
    "@tool\n",
    "def weather(city: str) -> str:\n",
    "    \"\"\"Get weather for a city. Available cities: New York, London, Tokyo, Paris.\"\"\"\n",
    "    city = city.lower().strip()\n",
    "\n",
    "    weather_info = {\n",
    "        \"new york\": \"Sunny, 72°F, Humidity: 45%\",\n",
    "        \"london\": \"Cloudy, 15°C, Humidity: 70%\",\n",
    "        \"tokyo\": \"Rainy, 25°C, Humidity: 80%\",\n",
    "        \"paris\": \"Partly cloudy, 18°C, Humidity: 60%\"\n",
    "    }\n",
    "\n",
    "    if city in weather_info:\n",
    "        return f\"Weather in {city.title()}: {weather_info[city]}\"\n",
    "    else:\n",
    "        return f\"I don't have weather data for '{city}'. Try: New York, London, Tokyo, or Paris.\"\n",
    "\n",
    "tools = [analyze_text, weather]\n",
    "\n",
    "print(\"Custom tool defined successfully.\")"
   ]
  },
  {
   "cell_type": "markdown",
   "id": "8497493e",
   "metadata": {},
   "source": [
    "## 3. Memory Configuration\n",
    "\n",
    "We configure the full dual-memory system: `FlotorchLangChainSession` for conversational context and `FlotorchLangChainMemory` for persistent, long-term knowledge. These are then wrapped in LangChain's `CombinedMemory`."
   ]
  },
  {
   "cell_type": "code",
   "execution_count": null,
   "id": "3cf3c19d",
   "metadata": {},
   "outputs": [],
   "source": [
    "short_term_memory = FlotorchLangChainSession(\n",
    "    api_key=FLOTORCH_API_KEY,\n",
    "    base_url=FLOTORCH_BASE_URL\n",
    ")\n",
    "\n",
    "external_memory = FlotorchLangChainMemory(\n",
    "    api_key=FLOTORCH_API_KEY,\n",
    "    base_url=FLOTORCH_BASE_URL,\n",
    "    name = MEMORY_PROVIDER,\n",
    "    user_id = USER_ID,\n",
    "    app_id  = APP_ID,\n",
    ")\n",
    "\n",
    "memory_services  = CombinedMemory(memories = [short_term_memory,external_memory])\n",
    "print(\"Initialized short-term and external Memories\")"
   ]
  },
  {
   "cell_type": "markdown",
   "id": "48d814af",
   "metadata": {},
   "source": [
    "## 4. Agent Initialization with Custom Tools\n",
    "\n",
    "We initialize the `FlotorchLangChainAgent` client, loading our agent's configuration from the Flotorch UI. Crucially, we also pass our locally defined tools into the `custom_tools` parameter, augmenting the agent's capabilities."
   ]
  },
  {
   "cell_type": "code",
   "execution_count": null,
   "id": "21989668",
   "metadata": {},
   "outputs": [],
   "source": [
    "flotorch_client = FlotorchLangChainAgent(\n",
    "    api_key=FLOTORCH_API_KEY,\n",
    "    enable_memory = True,\n",
    "    base_url=FLOTORCH_BASE_URL,\n",
    "    agent_name=AGENT_NAME,\n",
    "    custom_tools = tools\n",
    ")\n",
    "\n",
    "agent = flotorch_client.get_agent()\n",
    "all_tools = flotorch_client.get_tools()\n",
    "\n",
    "print(\"Fetched agent and task from Flotorch console\")"
   ]
  },
  {
   "cell_type": "markdown",
   "id": "2d5b054a",
   "metadata": {},
   "source": [
    "## 5. Assembling the Complete Agent Executor\n",
    "\n",
    "Finally, we assemble the `AgentExecutor`, bringing together the remotely-configured agent, its combined tools, and the `CombinedMemory` module. This creates a fully-featured, production-ready agent."
   ]
  },
  {
   "cell_type": "code",
   "execution_count": null,
   "id": "81c8d939",
   "metadata": {},
   "outputs": [],
   "source": [
    "agent_executor = AgentExecutor(\n",
    "    agent=agent,\n",
    "    tools=all_tools,\n",
    "    memory = memory_services,\n",
    "    verbose=False,\n",
    "    handle_parsing_errors=True\n",
    ")"
   ]
  },
  {
   "cell_type": "markdown",
   "id": "ab2c09de",
   "metadata": {},
   "source": [
    "## 6. Interactive Demonstration\n",
    "\n",
    "Engage with the agent in this interactive loop to test its full range of capabilities. Try asking it to analyze text (to test the tool) and then ask it to recall information from the conversation. Type 'exit' to end the session."
   ]
  },
  {
   "cell_type": "code",
   "execution_count": null,
   "id": "5764dc9a",
   "metadata": {},
   "outputs": [],
   "source": [
    "while True:\n",
    "    \n",
    "    user_query = input(\"user: \")\n",
    "\n",
    "    if user_query.lower().strip() == \"exit\":\n",
    "        break\n",
    "    print(f\"User: {user_query}\")\n",
    "    response = agent_executor.invoke({\"input\":user_query})\n",
    "    print(f\"Assistant: {response['output']}\")"
   ]
  },
  {
   "cell_type": "markdown",
   "id": "53d618b0",
   "metadata": {},
   "source": [
    "## Summary\n",
    "\n",
    "This notebook served as a **capstone project**, successfully integrating all previously demonstrated concepts into a single, comprehensive, and production-ready workflow.  \n",
    "We built an advanced AI agent that combines the power of **remote configuration**, **local custom tools**, and a **full dual-memory system**.\n",
    "\n",
    "### Key Achievements\n",
    "\n",
    "- **Hybrid Configuration** \n",
    "  Initialized an agent using `FlotorchLangChainAgent` to load its base configuration from the Flotorch UI, then augmented it at runtime with locally defined custom tools.\n",
    "\n",
    "- **Full Memory Stack** \n",
    "  Equipped the agent with both `FlotorchLangChainSession` for conversational flow and `FlotorchLangChainMemory` for long-term knowledge persistence, managed by `CombinedMemory`.\n",
    "\n",
    "- **End-to-End Demonstration** \n",
    "  Showcased the agent's ability to seamlessly switch between using its custom tools for specific tasks and accessing its memory to provide contextually rich, intelligent responses.\n",
    "\n",
    "- **Robust Architecture** \n",
    "  Delivered a complete workflow that serves as a powerful and flexible blueprint for building sophisticated, real-world AI applications.\n"
   ]
  }
 ],
 "metadata": {
  "kernelspec": {
   "display_name": "venv",
   "language": "python",
   "name": "python3"
  },
  "language_info": {
   "codemirror_mode": {
    "name": "ipython",
    "version": 3
   },
   "file_extension": ".py",
   "mimetype": "text/x-python",
   "name": "python",
   "nbconvert_exporter": "python",
   "pygments_lexer": "ipython3",
   "version": "3.11.0"
  }
 },
 "nbformat": 4,
 "nbformat_minor": 5
}
