{
 "cells": [
  {
   "cell_type": "markdown",
   "metadata": {},
   "source": [
    "# FlotorchVectorStore Usage Guide\n",
    "\n",
    "A simple guide demonstrating how to use FlotorchVectorStore for semantic search operations."
   ]
  },
  {
   "cell_type": "markdown",
   "metadata": {},
   "source": [
    "## Overview\n",
    "\n",
    "FlotorchVectorStore provides semantic search capabilities in both synchronous and asynchronous modes. This notebook shows you how to use both versions with practical examples."
   ]
  },
  {
   "cell_type": "markdown",
   "metadata": {},
   "source": [
    "## Setup\n",
    "\n",
    "First, let's import the required libraries and load our environment variables."
   ]
  },
  {
   "cell_type": "code",
   "execution_count": 1,
   "metadata": {},
   "outputs": [
    {
     "name": "stdout",
     "output_type": "stream",
     "text": [
      "Environment loaded successfully\n"
     ]
    }
   ],
   "source": [
    "import asyncio\n",
    "import os\n",
    "from dotenv import load_dotenv\n",
    "from flotorch.sdk.memory import FlotorchVectorStore, FlotorchAsyncVectorStore\n",
    "\n",
    "# Load environment variables\n",
    "load_dotenv()\n",
    "\n",
    "print(\"Environment loaded successfully\")"
   ]
  },
  {
   "cell_type": "markdown",
   "metadata": {},
   "source": [
    "Make sure your `.env` file contains:\n",
    "```\n",
    "FLOTORCH_BASE_URL=your-flotorch-url\n",
    "FLOTORCH_API_KEY=your-api-key\n",
    "```"
   ]
  },
  {
   "cell_type": "markdown",
   "metadata": {},
   "source": [
    "## Synchronous Vector Store\n",
    "\n",
    "Use the synchronous version for simple scripts or when you don't need concurrent operations.\n",
    "\n",
    "**When to use synchronous:**\n",
    "- Simple scripts and batch processing\n",
    "- When you need results immediately before proceeding\n",
    "- Single-threaded applications"
   ]
  },
  {
   "cell_type": "code",
   "execution_count": 2,
   "metadata": {},
   "outputs": [
    {
     "name": "stdout",
     "output_type": "stream",
     "text": [
      "2025-08-04 14:46:05 - flotorch.sdk.memory - INFO - FlotorchVectorStore initialized (vectorstore_id=kb-us-east-1, base_url=https://qa-gateway.flotorch.cloud)\n",
      "Synchronous FlotorchVectorStore initialized\n"
     ]
    }
   ],
   "source": [
    "# Initialize the synchronous vector store\n",
    "vectorstore = FlotorchVectorStore(\n",
    "    base_url=os.getenv(\"FLOTORCH_BASE_URL\"),\n",
    "    api_key=os.getenv(\"FLOTORCH_API_KEY\"),\n",
    "    vectorstore_id=\"kb-us-east-1\"\n",
    ")\n",
    "\n",
    "print(\"Synchronous FlotorchVectorStore initialized\")"
   ]
  },
  {
   "cell_type": "code",
   "execution_count": 3,
   "metadata": {},
   "outputs": [
    {
     "name": "stdout",
     "output_type": "stream",
     "text": [
      "Found 5 results for: 'machine learning algorithms'\n",
      "\n",
      "Result 1:\n",
      "  Score: 0.416\n",
      "  File: Amazon Bedrock Dataset.pdf\n",
      "  Content: The synonym self-teaching computers was also used in this time period.     Please generate answer in...\n",
      "\n",
      "Result 2:\n",
      "  Score: 0.392\n",
      "  File: Amazon Bedrock Dataset.pdf\n",
      "  Content: Categorize content ? We use classifiers to detect harmful content (such as content that incites viol...\n",
      "\n",
      "Result 3:\n",
      "  Score: 0.382\n",
      "  File: Amazon Bedrock Dataset.pdf\n",
      "  Content: Inference types ? On-Demand, Provisioned Throughput     ? Supported use cases ? image generation, im...\n",
      "\n",
      "Result 4:\n",
      "  Score: 0.378\n",
      "  File: Amazon Bedrock Dataset.pdf\n",
      "  Content: Accuracy: For this metric, the value calculated is F1 score. F1 score is calculated by dividing the ...\n",
      "\n",
      "Result 5:\n",
      "  Score: 0.376\n",
      "  File: Amazon Bedrock Dataset.pdf\n",
      "  Content: Today, we'll be discussing how recent developments in artificial intelligence are reshaping industri...\n"
     ]
    }
   ],
   "source": [
    "# Perform a search\n",
    "query = \"machine learning algorithms\"\n",
    "result = vectorstore.search(\n",
    "    query=query,\n",
    "    max_number_of_result=5,\n",
    "    score_threshold=0.6\n",
    ")\n",
    "\n",
    "# Display results\n",
    "print(f\"Found {len(result['data'])} results for: '{query}'\")\n",
    "\n",
    "for i, item in enumerate(result['data']):\n",
    "    print(f\"\\nResult {i+1}:\")\n",
    "    print(f\"  Score: {item['score']:.3f}\")\n",
    "    print(f\"  File: {item['filename'].split('/')[-1]}\")\n",
    "    print(f\"  Content: {item['content'][0]['text'][:100]}...\")"
   ]
  },
  {
   "cell_type": "markdown",
   "metadata": {},
   "source": [
    "## Asynchronous Vector Store\n",
    "\n",
    "Use the asynchronous version for web applications or when you need non-blocking operations.\n",
    "\n",
    "**When to use asynchronous:**\n",
    "- Web applications and APIs\n",
    "- Non-blocking operations in your application\n",
    "- When integrating with other async code"
   ]
  },
  {
   "cell_type": "code",
   "execution_count": 4,
   "metadata": {},
   "outputs": [
    {
     "name": "stdout",
     "output_type": "stream",
     "text": [
      "2025-08-04 14:46:15 - flotorch.sdk.memory - INFO - FlotorchAsyncVectorStore initialized (vectorstore_id=kb-us-east-1, base_url=https://qa-gateway.flotorch.cloud)\n",
      "Asynchronous FlotorchVectorStore initialized\n",
      "Found 5 results for: 'artificial intelligence'\n",
      "\n",
      "Result 1:\n",
      "  Score: 0.421\n",
      "  File: Amazon Bedrock Dataset.pdf\n",
      "  Content: Today, we'll be discussing how recent developments in artificial intelligence are reshaping industri...\n",
      "\n",
      "Result 2:\n",
      "  Score: 0.390\n",
      "  File: Amazon Bedrock Dataset.pdf\n",
      "  Content: In this presentation, we will explore the latest advancements in various fields, including artificia...\n",
      "\n",
      "Result 3:\n",
      "  Score: 0.387\n",
      "  File: Amazon Bedrock Dataset.pdf\n",
      "  Content: To specify an agent, enter its ID or ARN. The value of the genAiResource is a JSON object of the fol...\n",
      "\n",
      "Result 4:\n",
      "  Score: 0.385\n",
      "  File: Amazon Bedrock Dataset.pdf\n",
      "  Content: All Rights Reserved.     Stability AI models 251Amazon Bedrock User Guide     # SPDX-License-Identif...\n",
      "\n",
      "Result 5:\n",
      "  Score: 0.384\n",
      "  File: Amazon Bedrock Dataset.pdf\n",
      "  Content: It contains the following working examples:     ? Write an analysis of a given novel for a literatur...\n"
     ]
    }
   ],
   "source": [
    "async def async_search_example():\n",
    "    # Initialize the async vector store\n",
    "    async_vectorstore = FlotorchAsyncVectorStore(\n",
    "        base_url=os.getenv(\"FLOTORCH_BASE_URL\"),\n",
    "        api_key=os.getenv(\"FLOTORCH_API_KEY\"),\n",
    "        vectorstore_id=\"kb-us-east-1\"\n",
    "    )\n",
    "    \n",
    "    print(\"Asynchronous FlotorchVectorStore initialized\")\n",
    "    \n",
    "    # Perform an async search\n",
    "    query = \"artificial intelligence\"\n",
    "    result = await async_vectorstore.search(\n",
    "        query=query,\n",
    "        max_number_of_result=5,\n",
    "        score_threshold=0.6\n",
    "    )\n",
    "    \n",
    "    # Display results\n",
    "    print(f\"Found {len(result['data'])} results for: '{query}'\")\n",
    "    \n",
    "    for i, item in enumerate(result['data']):\n",
    "        print(f\"\\nResult {i+1}:\")\n",
    "        print(f\"  Score: {item['score']:.3f}\")\n",
    "        print(f\"  File: {item['filename'].split('/')[-1]}\")\n",
    "        print(f\"  Content: {item['content'][0]['text'][:100]}...\")\n",
    "\n",
    "# Run the async function\n",
    "await async_search_example()"
   ]
  },
  {
   "cell_type": "markdown",
   "metadata": {},
   "source": [
    "## Key Parameters\n",
    "\n",
    "Both sync and async versions support the same parameters:\n",
    "\n",
    "- **`query`**: Your search text (required)\n",
    "- **`max_number_of_result`**: Maximum results to return (default: 10)\n",
    "- **`score_threshold`**: Minimum relevance score (default: 0.0, range: 0.0-1.0)\n",
    "\n",
    "### Parameter Guidelines:\n",
    "- Start with `score_threshold=0.6` for relevant results\n",
    "- Use `max_number_of_result=5-10` for most use cases\n",
    "- Lower the threshold if you get too few results"
   ]
  },
  {
   "cell_type": "markdown",
   "metadata": {},
   "source": [
    "## Quick Start Checklist\n",
    "\n",
    "1. ✅ Install required packages and set up environment variables\n",
    "2. ✅ Choose sync for simple scripts, async for concurrent operations\n",
    "3. ✅ Initialize with your base_url, api_key, and vectorstore_id\n",
    "4. ✅ Call `search()` with your query and optional parameters\n",
    "5. ✅ Process the returned results array\n",
    "\n",
    "That's it! Your FlotorchVectorStore is ready to perform semantic searches on your documents."
   ]
  }
 ],
 "metadata": {
  "kernelspec": {
   "display_name": "venv",
   "language": "python",
   "name": "python3"
  },
  "language_info": {
   "codemirror_mode": {
    "name": "ipython",
    "version": 3
   },
   "file_extension": ".py",
   "mimetype": "text/x-python",
   "name": "python",
   "nbconvert_exporter": "python",
   "pygments_lexer": "ipython3",
   "version": "3.11.0"
  }
 },
 "nbformat": 4,
 "nbformat_minor": 4
}