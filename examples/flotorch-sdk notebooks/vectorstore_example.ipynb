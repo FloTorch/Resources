{
 "cells": [
  {
   "cell_type": "markdown",
   "id": "uKbHZN2kPiYF",
   "metadata": {
    "id": "uKbHZN2kPiYF"
   },
   "source": [
    "# Semantic Search with FlotorchVectorStore\n",
    "\n",
    "This notebook provides a concise guide to using the `FlotorchVectorStore` and `FlotorchAsyncVectorStore` classes. These clients enable you to perform powerful semantic searches against your document collections stored in Flotorch.\n",
    "\n",
    "### Prerequesit\n",
    "Configure vector store, API key in Flotroch console (https://console.flotorch.cloud/)\n",
    "\n",
    "### Key Objectives:\n",
    "- Initialize and use the synchronous `FlotorchVectorStore` for a simple search.\n",
    "- Initialize and use the asynchronous `FlotorchAsyncVectorStore` for a non-blocking search."
   ]
  },
  {
   "cell_type": "markdown",
   "id": "7xrSw9soPiYM",
   "metadata": {
    "id": "7xrSw9soPiYM"
   },
   "source": [
    "## 1. Setup\n",
    "\n",
    "First, let's import the required libraries and load the necessary environment variables (`FLOTORCH_BASE_URL` and `FLOTORCH_API_KEY`) to connect to the Flotorch service."
   ]
  },
  {
   "cell_type": "code",
   "execution_count": null,
   "id": "f9592d73",
   "metadata": {
    "id": "f9592d73"
   },
   "outputs": [],
   "source": [
    "%pip install flotorch[sdk]"
   ]
  },
  {
   "cell_type": "code",
   "execution_count": null,
   "id": "04a3a22f",
   "metadata": {
    "id": "04a3a22f"
   },
   "outputs": [],
   "source": [
    "FLOTORCH_API_KEY = \"<flotorch api key>\"\n",
    "FLOTORCH_BASE_URL = \"<flotroch gateway base url>\" # eg: https://gateway.flotorch.cloud\"\n",
    "VECTOR_STORE_NAME = \"<flotorch vector store name>\""
   ]
  },
  {
   "cell_type": "code",
   "execution_count": null,
   "id": "iFaA-_xMPiYP",
   "metadata": {
    "id": "iFaA-_xMPiYP"
   },
   "outputs": [],
   "source": [
    "# import necessary libraries\n",
    "from flotorch.sdk.memory import FlotorchVectorStore, FlotorchAsyncVectorStore\n",
    "\n",
    "print(\"Imported necessary libraries successfully\")"
   ]
  },
  {
   "cell_type": "markdown",
   "id": "AsdepyevPiYP",
   "metadata": {
    "id": "AsdepyevPiYP"
   },
   "source": [
    "## 2. Synchronous Vector Store Search\n",
    "\n",
    "The `FlotorchVectorStore` class provides a simple, **blocking** search method. This is ideal for standard scripts or batch processing where you need the search results immediately before the program continues."
   ]
  },
  {
   "cell_type": "code",
   "execution_count": null,
   "id": "Nq7odV0cPiYQ",
   "metadata": {
    "id": "Nq7odV0cPiYQ"
   },
   "outputs": [],
   "source": [
    "# Initialize the synchronous vector store\n",
    "vectorstore = FlotorchVectorStore(\n",
    "    base_url = FLOTORCH_BASE_URL,\n",
    "    api_key = FLOTORCH_API_KEY,\n",
    "    vectorstore_id = VECTOR_STORE_NAME\n",
    ")\n",
    "\n",
    "# Perform a synchronous search\n",
    "query = \"machine learning algorithms\"\n",
    "result = vectorstore.search(\n",
    "    query=query,\n",
    "    max_number_of_result=5\n",
    ")\n",
    "\n",
    "# Display results\n",
    "print(f\"Found {len(result['data'])} sync results for: '{query}'\\n\")\n",
    "for i, item in enumerate(result['data'], 1):\n",
    "    print(f\"Result {i}: [Score: {item['score']:.3f}] - {item['filename'].split('/')[-1]}\")\n",
    "    print(f\"  Content: {item['content'][0]['text'][:100]}...\\n\")"
   ]
  },
  {
   "cell_type": "markdown",
   "id": "XKPuAMkqPiYQ",
   "metadata": {
    "id": "XKPuAMkqPiYQ"
   },
   "source": [
    "## 3. Asynchronous Vector Store Search\n",
    "\n",
    "The `FlotorchAsyncVectorStore` class provides a **non-blocking** search method. This should be used in applications that require concurrency, such as web servers or data processing pipelines, as it allows the application to perform other tasks while waiting for search results."
   ]
  },
  {
   "cell_type": "code",
   "execution_count": null,
   "id": "BVYJhxgfPiYR",
   "metadata": {
    "id": "BVYJhxgfPiYR"
   },
   "outputs": [],
   "source": [
    "async def async_search_example():\n",
    "    # Initialize the async vector store\n",
    "    async_vectorstore = FlotorchAsyncVectorStore(\n",
    "        base_url = FLOTORCH_BASE_URL,\n",
    "        api_key = FLOTORCH_API_KEY,\n",
    "        vectorstore_id = VECTOR_STORE_NAME\n",
    "    )\n",
    "\n",
    "    # Perform an async search\n",
    "    query = \"artificial intelligence\"\n",
    "    result = await async_vectorstore.search(\n",
    "        query=query,\n",
    "        max_number_of_result=5\n",
    "    )\n",
    "\n",
    "    # Display results\n",
    "    print(f\"Found {len(result['data'])} async results for: '{query}'\\n\")\n",
    "    for i, item in enumerate(result['data'], 1):\n",
    "        print(f\"Result {i}: [Score: {item['score']:.3f}] - {item['filename'].split('/')[-1]}\")\n",
    "        print(f\"  Content: {item['content'][0]['text'][:100]}...\\n\")\n",
    "\n",
    "# Run the async function\n",
    "await async_search_example()"
   ]
  },
  {
   "cell_type": "markdown",
   "id": "vi885OGePiYR",
   "metadata": {
    "id": "vi885OGePiYR"
   },
   "source": [
    "## Summary\n",
    "\n",
    "This guide demonstrated how to perform semantic search using the Flotorch SDK. Both synchronous and asynchronous methods are available to suit different application needs.\n",
    "\n",
    "### Key Takeaways:\n",
    "\n",
    "1.  **Choose Your Client**:\n",
    "    -   `FlotorchVectorStore`: For simple, blocking searches in standard scripts.\n",
    "    -   `FlotorchAsyncVectorStore`: For non-blocking searches in concurrent applications.\n",
    "\n",
    "2.  **Core Method**: The primary method for both clients is `.search()`.\n",
    "\n",
    "3.  **Essential Parameters**:\n",
    "    -   `query` (str): The text you want to search for.\n",
    "    -   `max_number_of_result` (int): The maximum number of results to return.\n",
    "    -   `score_threshold` (float): A value between 0.0 and 1.0 to filter results by relevance (a higher score is more relevant).\n",
    "\n",
    "By following these steps, you can easily integrate powerful semantic search into your applications using Flotorch."
   ]
  }
 ],
 "metadata": {
  "colab": {
   "provenance": []
  },
  "kernelspec": {
   "display_name": "venv",
   "language": "python",
   "name": "python3"
  },
  "language_info": {
   "codemirror_mode": {
    "name": "ipython",
    "version": 3
   },
   "file_extension": ".py",
   "mimetype": "text/x-python",
   "name": "python",
   "nbconvert_exporter": "python",
   "pygments_lexer": "ipython3",
   "version": "3.11.0"
  }
 },
 "nbformat": 4,
 "nbformat_minor": 5
}
