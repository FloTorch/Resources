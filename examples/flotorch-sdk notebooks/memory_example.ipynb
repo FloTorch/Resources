{
  "cells": [
    {
      "cell_type": "markdown",
      "metadata": {},
      "source": [
        "# Flotorch SDK - Memory User Guide\n",
        "\n",
        "This notebook provides a comprehensive guide for using the **FlotorchMemory** and **FlotorchAsyncMemory** classes. These classes allow you to store, retrieve, update, and delete conversational memories.\n",
        "\n",
        "## Table of Contents\n",
        "1. [Setup](#setup)\n",
        "2. [Synchronous Memory Operations](#synchronous-memory-operations)\n",
        "3. [Asynchronous Memory Operations](#asynchronous-memory-operations)\n",
        "4. [Summary](#summary)"
      ]
    },
    {
      "cell_type": "markdown",
      "metadata": {},
      "source": [
        "## Setup\n",
        "\n",
        "First, we need to initialize both memory clients and set up our test configuration. Each memory operation requires specific parameters like user ID, agent ID, and session ID to organize memories properly."
      ]
    },
    {
      "cell_type": "code",
      "execution_count": 1,
      "metadata": {},
      "outputs": [],
      "source": [
        "import os\n",
        "import asyncio\n",
        "import uuid\n",
        "from dotenv import load_dotenv\n",
        "from flotorch.sdk.memory import FlotorchMemory, FlotorchAsyncMemory\n",
        "\n",
        "# Load environment variables\n",
        "load_dotenv()\n",
        "\n",
        "# Configuration - Replace with your actual values\n",
        "api_key = os.getenv(\"FLOTORCH_API_KEY\")\n",
        "base_url = os.getenv(\"FLOTORCH_BASE_URL\")\n",
        "provider_name = \"memo-provider\"  # Replace with your provider name\n",
        "\n",
        "if not api_key or not base_url:\n",
        "    raise ValueError(\"Please set FLOTORCH_API_KEY and FLOTORCH_BASE_URL environment variables\")"
      ]
    },
    {
      "cell_type": "code",
      "execution_count": 2,
      "metadata": {},
      "outputs": [
        {
          "name": "stdout",
          "output_type": "stream",
          "text": [
            "2025-08-04 14:36:37 - flotorch.sdk.memory - INFO - FlotorchMemory initialized (provider_name=memo-provider, base_url=https://qa-gateway.flotorch.cloud)\n"
          ]
        }
      ],
      "source": [
        "# Initialize memory clients\n",
        "# FlotorchMemory - for synchronous operations\n",
        "sync_memory = FlotorchMemory(\n",
        "    api_key=api_key,\n",
        "    base_url=base_url,\n",
        "    provider_name=provider_name\n",
        ")\n",
        "\n",
        "\n",
        "# Test parameters for sync operations\n",
        "sync_session_id = str(uuid.uuid4())\n",
        "sync_user_id = \"sync_user_001\"\n",
        "sync_agent_id = \"sync_agent_001\"\n",
        "sync_source = \"demo_application_sync\""
      ]
    },
    {
      "cell_type": "code",
      "execution_count": 3,
      "metadata": {},
      "outputs": [
        {
          "name": "stdout",
          "output_type": "stream",
          "text": [
            "2025-08-04 14:36:39 - flotorch.sdk.memory - INFO - FlotorchAsyncMemory initialized (provider_name=memo-provider, base_url=https://qa-gateway.flotorch.cloud)\n"
          ]
        }
      ],
      "source": [
        "\n",
        "# FlotorchAsyncMemory - for asynchronous operations\n",
        "async_memory = FlotorchAsyncMemory(\n",
        "    api_key=api_key,\n",
        "    base_url=base_url,\n",
        "    provider_name=provider_name\n",
        ")\n",
        "\n",
        "# Test parameters for async operations (separate from sync)\n",
        "async_session_id = str(uuid.uuid4())\n",
        "async_user_id = \"async_user_001\"\n",
        "async_agent_id = \"async_agent_001\"\n",
        "async_source = \"demo_application_async\"\n"
      ]
    },
    {
      "cell_type": "markdown",
      "metadata": {},
      "source": [
        "## Synchronous Memory Operations\n",
        "\n",
        "The `FlotorchMemory` class provides synchronous methods for memory operations. Use this when you want simple, blocking operations that complete before moving to the next line of code."
      ]
    },
    {
      "cell_type": "markdown",
      "metadata": {},
      "source": [
        "### Add Memory (Sync)\n",
        "\n",
        "The `add()` method stores a new memory entry. \n",
        "\n",
        "**Required Parameters:**\n",
        "- `messages`: List of message objects (must include role and content)\n",
        "- `userId`: Unique identifier for the user\n",
        "- `agentId`: Unique identifier for the agent/assistant\n",
        "- `sessionId`: Unique identifier for the conversation session\n",
        "- `metadata`: Dictionary containing `source` (mandatory) and other optional metadata\n",
        "\n",
        "**Returns:** Response object with memory ID and details"
      ]
    },
    {
      "cell_type": "code",
      "execution_count": 3,
      "metadata": {},
      "outputs": [
        {
          "name": "stdout",
          "output_type": "stream",
          "text": [
            "✓ Sync memory added successfully\n",
            "Memory ID: 990c8107-d52c-4f94-886b-2e65efc4979f\n",
            "Stored memory: User mentioned they prefer Python over Java for data science projects\n",
            "Response structure: ['object', 'data']\n"
          ]
        }
      ],
      "source": [
        "# Add a memory entry using sync method\n",
        "memory_content = \"User mentioned they prefer Python over Java for data science projects\"\n",
        "\n",
        "add_response = sync_memory.add(\n",
        "    messages=[{\"role\": \"user\", \"content\": memory_content}],\n",
        "    userId=sync_user_id,\n",
        "    agentId=sync_agent_id,\n",
        "    sessionId=sync_session_id,\n",
        "    metadata={\n",
        "        \"source\": sync_source,  # Mandatory field\n",
        "        \"category\": \"preferences\",\n",
        "        \"importance\": 0.8\n",
        "    }\n",
        ")\n",
        "\n",
        "# Extract memory ID from response for use in other operations\n",
        "sync_memory_id = add_response[\"data\"][0][\"id\"]\n",
        "\n",
        "print(\"✓ Sync memory added successfully\")\n",
        "print(f\"Memory ID: {sync_memory_id}\")\n",
        "print(f\"Stored memory: {memory_content}\")\n",
        "print(f\"Response structure: {list(add_response.keys())}\")"
      ]
    },
    {
      "cell_type": "markdown",
      "metadata": {},
      "source": [
        "### Search Memory (Sync)\n",
        "\n",
        "The `search()` method retrieves memories based on various criteria.\n",
        "\n",
        "**Required Parameters:**\n",
        "- `userId`: User ID to search memories for\n",
        "- `sessionId`: Session ID to search within\n",
        "\n",
        "**Optional Parameters:**\n",
        "- `page`: Page number for pagination (default: 1)\n",
        "- `limit`: Number of results per page (default: 10)\n",
        "- `categories`: List of categories to filter by\n",
        "- `keywords`: List of keywords to search for\n",
        "\n",
        "**Returns:** Response object with array of matching memories"
      ]
    },
    {
      "cell_type": "code",
      "execution_count": 4,
      "metadata": {},
      "outputs": [
        {
          "name": "stdout",
          "output_type": "stream",
          "text": [
            "✓ Sync memory search completed\n",
            "Found 1 memories\n",
            "\n",
            "1. Memory ID: 990c8107-d52c-4f94-886b-2e65efc4979f\n",
            "   Memory: User prefers Python over Java for data science projects\n",
            "   Metadata: {'tags': [], 'source': 'demo_application_sync', 'category': 'preferences', 'importance': 0.8}\n",
            "   Created: 2025-08-04T04:54:31.335Z\n"
          ]
        }
      ],
      "source": [
        "# Search for memories using sync method\n",
        "search_response = sync_memory.search(\n",
        "    userId=sync_user_id,\n",
        "    sessionId=sync_session_id,\n",
        "    page=1,\n",
        "    limit=10\n",
        ")\n",
        "\n",
        "print(\"✓ Sync memory search completed\")\n",
        "print(f\"Found {len(search_response['data'])} memories\")\n",
        "\n",
        "# Display found memories\n",
        "for i, memory in enumerate(search_response['data'], 1):\n",
        "    print(f\"\\n{i}. Memory ID: {memory['id']}\")\n",
        "    print(f\"   Memory: {memory['memory']}\")  # Use 'memory' field instead of 'content'\n",
        "    print(f\"   Metadata: {memory.get('metadata', {})}\")\n",
        "    print(f\"   Created: {memory.get('createdAt', 'N/A')}\")"
      ]
    },
    {
      "cell_type": "markdown",
      "metadata": {},
      "source": [
        "### Update Memory (Sync)\n",
        "\n",
        "The `update()` method modifies an existing memory entry.\n",
        "\n",
        "**Required Parameters:**\n",
        "- `memory_id`: ID of the memory to update (first parameter)\n",
        "\n",
        "**Optional Parameters:**\n",
        "- `content`: New content for the memory\n",
        "- `metadata`: Updated metadata (will merge with existing metadata)\n",
        "\n",
        "**Returns:** Response object with updated memory details"
      ]
    },
    {
      "cell_type": "code",
      "execution_count": 5,
      "metadata": {},
      "outputs": [
        {
          "name": "stdout",
          "output_type": "stream",
          "text": [
            "✓ Sync memory updated successfully\n",
            "Updated memory: User strongly prefers Python over Java for data science and machine learning projects\n",
            "Response contains: ['object', 'data']\n"
          ]
        }
      ],
      "source": [
        "# Update the memory content and metadata using sync method\n",
        "updated_memory_content = \"User strongly prefers Python over Java for data science and machine learning projects\"\n",
        "\n",
        "update_response = sync_memory.update(\n",
        "    sync_memory_id,  # Memory ID is the first parameter\n",
        "    content=updated_memory_content,\n",
        "    metadata={\n",
        "        \"source\": sync_source,  # Keep mandatory source field\n",
        "        \"category\": \"preferences\", \n",
        "        \"importance\": 0.9,  # Increased importance\n",
        "        \"updated\": True,\n",
        "        \"last_modified\": \"2024-demo\"\n",
        "    }\n",
        ")\n",
        "\n",
        "print(\"✓ Sync memory updated successfully\")\n",
        "print(f\"Updated memory: {updated_memory_content}\")\n",
        "print(f\"Response contains: {list(update_response.keys())}\")"
      ]
    },
    {
      "cell_type": "markdown",
      "metadata": {},
      "source": [
        "### Delete Memory (Sync)\n",
        "\n",
        "The `delete()` method permanently removes a memory entry.\n",
        "\n",
        "**Required Parameters:**\n",
        "- `memory_id`: ID of the memory to delete\n",
        "\n",
        "**Returns:** Response object confirming deletion\n",
        "\n",
        "**⚠️ Warning:** This operation is permanent and cannot be undone."
      ]
    },
    {
      "cell_type": "code",
      "execution_count": 6,
      "metadata": {},
      "outputs": [
        {
          "name": "stdout",
          "output_type": "stream",
          "text": [
            "✓ Sync memory deleted successfully\n",
            "Deleted memory ID: 990c8107-d52c-4f94-886b-2e65efc4979f\n",
            "Delete response: \n"
          ]
        }
      ],
      "source": [
        "# Delete the memory using sync method\n",
        "delete_response = sync_memory.delete(sync_memory_id)\n",
        "\n",
        "print(\"✓ Sync memory deleted successfully\")\n",
        "print(f\"Deleted memory ID: {sync_memory_id}\")\n",
        "print(f\"Delete response: {delete_response}\")"
      ]
    },
    {
      "cell_type": "markdown",
      "metadata": {},
      "source": [
        "## Asynchronous Memory Operations\n",
        "\n",
        "The `FlotorchAsyncMemory` class provides asynchronous methods for memory operations. Use this when you want non-blocking operations that can run concurrently or when integrating with async applications.\n",
        "\n",
        "**Note:** All async methods must be called with `await` and the functions must be defined as `async`."
      ]
    },
    {
      "cell_type": "markdown",
      "metadata": {},
      "source": [
        "### Add Memory (Async)\n",
        "\n",
        "The `add()` method stores a new memory entry asynchronously. The parameters are identical to the sync version, but the method must be awaited.\n",
        "\n",
        "**Required Parameters:**\n",
        "- `messages`: List of message objects (must include role and content)\n",
        "- `userId`: Unique identifier for the user\n",
        "- `agentId`: Unique identifier for the agent/assistant\n",
        "- `sessionId`: Unique identifier for the conversation session\n",
        "- `metadata`: Dictionary containing `source` (mandatory) and other optional metadata\n",
        "\n",
        "**Returns:** Response object with memory ID and details (awaitable)"
      ]
    },
    {
      "cell_type": "code",
      "execution_count": 7,
      "metadata": {},
      "outputs": [
        {
          "name": "stdout",
          "output_type": "stream",
          "text": [
            "✓ Async memory added successfully\n",
            "Memory ID: d8bc82bc-af3b-4a76-aa27-bce5f1c828f9\n",
            "Stored memory: User is interested in learning TensorFlow for deep learning applications\n"
          ]
        }
      ],
      "source": [
        "async def add_async_memory():\n",
        "    # Add a memory entry using async method\n",
        "    memory_content = \"User is interested in learning TensorFlow for deep learning applications\"\n",
        "    \n",
        "    add_response = await async_memory.add(\n",
        "        messages=[{\"role\": \"user\", \"content\": memory_content}],\n",
        "        userId=async_user_id,\n",
        "        agentId=async_agent_id,\n",
        "        sessionId=async_session_id,\n",
        "        metadata={\n",
        "            \"source\": async_source,  # Mandatory field\n",
        "            \"category\": \"learning\",\n",
        "            \"importance\": 0.7,\n",
        "            \"technology\": \"tensorflow\"\n",
        "        }\n",
        "    )\n",
        "    \n",
        "    # Extract memory ID from response\n",
        "    async_memory_id = add_response[\"data\"][0][\"id\"]\n",
        "    \n",
        "    print(\"✓ Async memory added successfully\")\n",
        "    print(f\"Memory ID: {async_memory_id}\")\n",
        "    print(f\"Stored memory: {memory_content}\")\n",
        "    \n",
        "    return async_memory_id\n",
        "\n",
        "# Execute the async add operation\n",
        "async_memory_id = await add_async_memory()"
      ]
    },
    {
      "cell_type": "markdown",
      "metadata": {},
      "source": [
        "### Search Memory (Async)\n",
        "\n",
        "The `search()` method retrieves memories asynchronously. Parameters are identical to the sync version.\n",
        "\n",
        "**Required Parameters:**\n",
        "- `userId`: User ID to search memories for\n",
        "- `sessionId`: Session ID to search within\n",
        "\n",
        "**Optional Parameters:**\n",
        "- `page`: Page number for pagination (default: 1)\n",
        "- `limit`: Number of results per page (default: 10)\n",
        "- `categories`: List of categories to filter by\n",
        "- `keywords`: List of keywords to search for\n",
        "\n",
        "**Returns:** Response object with array of matching memories (awaitable)"
      ]
    },
    {
      "cell_type": "code",
      "execution_count": 8,
      "metadata": {},
      "outputs": [
        {
          "name": "stdout",
          "output_type": "stream",
          "text": [
            "✓ Async memory search completed\n",
            "Found 1 memories\n",
            "\n",
            "1. Memory ID: d8bc82bc-af3b-4a76-aa27-bce5f1c828f9\n",
            "   Memory: User is interested in learning TensorFlow for deep learning applications\n",
            "   Metadata: {'tags': [], 'source': 'demo_application_async', 'category': 'learning', 'importance': 0.7}\n",
            "   Created: 2025-08-04T04:54:45.000Z\n"
          ]
        }
      ],
      "source": [
        "async def search_async_memory():\n",
        "    # Search for memories using async method\n",
        "    search_response = await async_memory.search(\n",
        "        userId=async_user_id,\n",
        "        sessionId=async_session_id,\n",
        "        page=1,\n",
        "        limit=10\n",
        "    )\n",
        "    \n",
        "    print(\"✓ Async memory search completed\")\n",
        "    print(f\"Found {len(search_response['data'])} memories\")\n",
        "    \n",
        "    # Display found memories\n",
        "    for i, memory in enumerate(search_response['data'], 1):\n",
        "        print(f\"\\n{i}. Memory ID: {memory['id']}\")\n",
        "        print(f\"   Memory: {memory['memory']}\")  # Use 'memory' field instead of 'content'\n",
        "        print(f\"   Metadata: {memory.get('metadata', {})}\")\n",
        "        print(f\"   Created: {memory.get('createdAt', 'N/A')}\")\n",
        "    \n",
        "    return search_response\n",
        "\n",
        "# Execute the async search operation\n",
        "search_result = await search_async_memory()"
      ]
    },
    {
      "cell_type": "markdown",
      "metadata": {},
      "source": [
        "### Update Memory (Async)\n",
        "\n",
        "The `update()` method modifies an existing memory entry asynchronously. Parameters are identical to the sync version.\n",
        "\n",
        "**Required Parameters:**\n",
        "- `memory_id`: ID of the memory to update (first parameter)\n",
        "\n",
        "**Optional Parameters:**\n",
        "- `content`: New content for the memory\n",
        "- `metadata`: Updated metadata (will merge with existing metadata)\n",
        "\n",
        "**Returns:** Response object with updated memory details (awaitable)"
      ]
    },
    {
      "cell_type": "code",
      "execution_count": 9,
      "metadata": {},
      "outputs": [
        {
          "name": "stdout",
          "output_type": "stream",
          "text": [
            "✓ Async memory updated successfully\n",
            "Updated memory: User is actively learning TensorFlow and PyTorch for deep learning and computer vision applications\n",
            "Response contains: ['object', 'data']\n"
          ]
        }
      ],
      "source": [
        "async def update_async_memory():\n",
        "    # Update the memory content and metadata using async method\n",
        "    updated_memory_content = \"User is actively learning TensorFlow and PyTorch for deep learning and computer vision applications\"\n",
        "    \n",
        "    update_response = await async_memory.update(\n",
        "        async_memory_id,  # Memory ID is the first parameter\n",
        "        content=updated_memory_content,\n",
        "        metadata={\n",
        "            \"source\": async_source,  # Keep mandatory source field\n",
        "            \"category\": \"learning\",\n",
        "            \"importance\": 0.9,  # Increased importance\n",
        "            \"technology\": \"tensorflow,pytorch\",\n",
        "            \"updated\": True,\n",
        "            \"applications\": \"computer_vision\"\n",
        "        }\n",
        "    )\n",
        "    \n",
        "    print(\"✓ Async memory updated successfully\")\n",
        "    print(f\"Updated memory: {updated_memory_content}\")\n",
        "    print(f\"Response contains: {list(update_response.keys())}\")\n",
        "    \n",
        "    return update_response\n",
        "\n",
        "# Execute the async update operation\n",
        "update_result = await update_async_memory()"
      ]
    },
    {
      "cell_type": "markdown",
      "metadata": {},
      "source": [
        "### Delete Memory (Async)\n",
        "\n",
        "The `delete()` method permanently removes a memory entry asynchronously. Parameters are identical to the sync version.\n",
        "\n",
        "**Required Parameters:**\n",
        "- `memory_id`: ID of the memory to delete\n",
        "\n",
        "**Returns:** Response object confirming deletion (awaitable)\n",
        "\n",
        "**⚠️ Warning:** This operation is permanent and cannot be undone."
      ]
    },
    {
      "cell_type": "code",
      "execution_count": 10,
      "metadata": {},
      "outputs": [
        {
          "name": "stdout",
          "output_type": "stream",
          "text": [
            "✓ Async memory deleted successfully\n",
            "Deleted memory ID: d8bc82bc-af3b-4a76-aa27-bce5f1c828f9\n",
            "Delete response: \n"
          ]
        }
      ],
      "source": [
        "async def delete_async_memory():\n",
        "    # Delete the memory using async method\n",
        "    delete_response = await async_memory.delete(async_memory_id)\n",
        "    \n",
        "    print(\"✓ Async memory deleted successfully\")\n",
        "    print(f\"Deleted memory ID: {async_memory_id}\")\n",
        "    print(f\"Delete response: {delete_response}\")\n",
        "    \n",
        "    return delete_response\n",
        "\n",
        "# Execute the async delete operation\n",
        "delete_result = await delete_async_memory()"
      ]
    },
    {
      "cell_type": "markdown",
      "metadata": {},
      "source": [
        "## Summary\n",
        "\n",
        "This guide covered all core memory operations for both synchronous and asynchronous implementations:\n",
        "\n",
        "### **FlotorchMemory (Synchronous)**\n",
        "- **`add(messages, userId, agentId, sessionId, metadata)`** - Store new memories\n",
        "- **`search(userId, sessionId, page, limit, ...)`** - Find existing memories\n",
        "- **`update(memory_id, content, metadata)`** - Modify memory content/metadata\n",
        "- **`delete(memory_id)`** - Remove memories permanently\n",
        "\n",
        "### **FlotorchAsyncMemory (Asynchronous)**\n",
        "- **`await add(messages, userId, agentId, sessionId, metadata)`** - Store new memories (async)\n",
        "- **`await search(userId, sessionId, page, limit, ...)`** - Find existing memories (async)\n",
        "- **`await update(memory_id, content, metadata)`** - Modify memory content/metadata (async)\n",
        "- **`await delete(memory_id)`** - Remove memories permanently (async)\n",
        "\n",
        "### **Key Points to Remember:**\n",
        "\n",
        "1. **Mandatory Fields:**\n",
        "   - `source` field is required in metadata for all add/update operations\n",
        "   - `userId`, `agentId`, and `sessionId` are required for memory organization\n",
        "\n",
        "2. **Data Access:**\n",
        "   - Use `memory['memory']` to access memory content, not `memory['content']`\n",
        "   - Response data is typically in `response['data']` array\n",
        "\n",
        "3. **When to Use Which:**\n",
        "   - Use **sync** for simple, sequential operations\n",
        "   - Use **async** for concurrent operations or async applications\n",
        "\n",
        "4. **Error Handling:**\n",
        "   - Always wrap operations in try-except blocks for production code\n",
        "   - Memory IDs are required for get, update, and delete operations"
      ]
    }
  ],
  "metadata": {
    "kernelspec": {
      "display_name": "venv",
      "language": "python",
      "name": "python3"
    },
    "language_info": {
      "codemirror_mode": {
        "name": "ipython",
        "version": 3
      },
      "file_extension": ".py",
      "mimetype": "text/x-python",
      "name": "python",
      "nbconvert_exporter": "python",
      "pygments_lexer": "ipython3",
      "version": "3.11.0"
    }
  },
  "nbformat": 4,
  "nbformat_minor": 4
}