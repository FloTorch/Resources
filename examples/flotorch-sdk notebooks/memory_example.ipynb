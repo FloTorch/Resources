{
 "cells": [
  {
   "cell_type": "markdown",
   "metadata": {},
   "source": [
    "# Managing Conversational Memory with Flotorch SDK\n",
    "\n",
    "This notebook provides a comprehensive guide to using the `FlotorchMemory` and `FlotorchAsyncMemory` classes. These clients allow you to perform the full lifecycle of memory operations (Create, Read, Update, and Delete) for storing and managing conversational context.\n",
    "\n",
    "### Prerequesit\n",
    "Configure memory provider, API key in Flotroch console (https://console.flotorch.cloud/)\n",
    "\n",
    "### Key Objectives:\n",
    "- Initialize both the synchronous and asynchronous memory clients.\n",
    "- Perform **Add, Search, Update,** and **Delete** operations using the synchronous `FlotorchMemory` client.\n",
    "- Perform the same operations using the asynchronous `FlotorchAsyncMemory` client."
   ]
  },
  {
   "cell_type": "markdown",
   "metadata": {},
   "source": [
    "## 1. Setup and Initialization\n",
    "\n",
    "First, we'll set up the environment by loading the necessary API credentials. We will then initialize two separate clients:\n",
    "\n",
    "- **`FlotorchMemory`**: For standard, blocking operations.\n",
    "- **`FlotorchAsyncMemory`**: For non-blocking operations in concurrent applications."
   ]
  },
  {
   "cell_type": "code",
   "execution_count": null,
   "id": "0910aef6",
   "metadata": {},
   "outputs": [],
   "source": [
    "%pip install flotorch[sdk]"
   ]
  },
  {
   "cell_type": "code",
   "execution_count": null,
   "id": "bde2e9c0",
   "metadata": {},
   "outputs": [],
   "source": [
    "FLOTORCH_API_KEY = \"<flotorch api key>\"\n",
    "FLOTORCH_BASE_URL = \"<flotroch gateway base url>\" # eg: https://gateway.flotorch.cloud\"\n",
    "MEMORY_PROVIDER = \"<flotorch memory provider>\""
   ]
  },
  {
   "cell_type": "code",
   "execution_count": null,
   "metadata": {},
   "outputs": [],
   "source": [
    "# import necessary libraries\n",
    "import uuid\n",
    "from flotorch.sdk.memory import FlotorchMemory, FlotorchAsyncMemory\n",
    "\n",
    "print(\"Imported necessary libraries successfully\")"
   ]
  },
  {
   "cell_type": "code",
   "execution_count": null,
   "metadata": {},
   "outputs": [],
   "source": [
    "# Initialize synchronous memory client\n",
    "sync_memory = FlotorchMemory(\n",
    "    api_key = FLOTORCH_API_KEY,\n",
    "    base_url= FLOTORCH_BASE_URL,\n",
    "    provider_name = MEMORY_PROVIDER\n",
    ")\n",
    "\n",
    "# Test parameters for sync operations\n",
    "sync_session_id = str(uuid.uuid4())\n",
    "sync_user_id = \"sync_user_001\"\n",
    "sync_agent_id = \"sync_agent_001\"\n",
    "sync_source = \"demo_application_sync\"\n",
    "\n",
    "print(\"sync_memory is initialized\")"
   ]
  },
  {
   "cell_type": "code",
   "execution_count": null,
   "metadata": {},
   "outputs": [],
   "source": [
    "# Initialize asynchronous memory client\n",
    "async_memory = FlotorchAsyncMemory(\n",
    "    api_key = FLOTORCH_API_KEY,\n",
    "    base_url = FLOTORCH_BASE_URL,\n",
    "    provider_name = MEMORY_PROVIDER\n",
    ")\n",
    "\n",
    "# Test parameters for async operations\n",
    "async_session_id = str(uuid.uuid4())\n",
    "async_user_id = \"async_user_001\"\n",
    "async_agent_id = \"async_agent_001\"\n",
    "async_source = \"demo_application_async\"\n",
    "\n",
    "print(\"async_memory is initialized\")"
   ]
  },
  {
   "cell_type": "markdown",
   "metadata": {},
   "source": [
    "## 2. Synchronous Memory Operations\n",
    "\n",
    "The `FlotorchMemory` class provides simple, blocking methods for managing memory. Use this for standard scripts or applications where operations can be performed sequentially."
   ]
  },
  {
   "cell_type": "markdown",
   "metadata": {},
   "source": [
    "### Add, Search, Update, and Delete (Sync)"
   ]
  },
  {
   "cell_type": "code",
   "execution_count": null,
   "id": "fd222a78",
   "metadata": {},
   "outputs": [],
   "source": [
    "# === 1. Add Memory (Sync) ===\n",
    "memory_content = \"User mentioned they prefer Python over Java for data science projects\"\n",
    "add_response = sync_memory.add(\n",
    "    messages=[{\"role\": \"user\", \"content\": memory_content}],\n",
    "    userId=sync_user_id,\n",
    "    agentId=sync_agent_id,\n",
    "    sessionId=sync_session_id,\n",
    "    metadata={\"source\": sync_source, \"category\": \"preferences\"}\n",
    ")\n",
    "sync_memory_id = add_response[\"data\"][0][\"id\"]\n",
    "print(f\"Memory Added (ID: {sync_memory_id})\\n\")"
   ]
  },
  {
   "cell_type": "code",
   "execution_count": null,
   "id": "906c22b6",
   "metadata": {},
   "outputs": [],
   "source": [
    "# === 2. Search Memory (Sync) ===\n",
    "search_response = sync_memory.search(userId=sync_user_id, sessionId=sync_session_id)\n",
    "print(f\"Memory Searched: Found {len(search_response['data'])} entr(y/ies)\")\n",
    "print(f\"Content: {search_response['data'][0]['content']}\\n\")"
   ]
  },
  {
   "cell_type": "code",
   "execution_count": null,
   "id": "dd2a0d60",
   "metadata": {},
   "outputs": [],
   "source": [
    "# === 3. Update Memory (Sync) ===\n",
    "updated_memory_content = \"User strongly prefers Python for data science and machine learning.\"\n",
    "update_response = sync_memory.update(\n",
    "    sync_memory_id,\n",
    "    content=updated_memory_content,\n",
    "    metadata={\"source\": sync_source, \"importance\": 0.9}\n",
    ")\n",
    "print(f\"Memory Updated\")\n",
    "print(f\"New Content: {update_response['data']['content']}\\n\")\n"
   ]
  },
  {
   "cell_type": "code",
   "execution_count": null,
   "metadata": {},
   "outputs": [],
   "source": [
    "# === 4. Delete Memory (Sync) ===\n",
    "delete_response = sync_memory.delete(sync_memory_id)\n",
    "print(f\"Memory Deleted (ID: {sync_memory_id})\")"
   ]
  },
  {
   "cell_type": "markdown",
   "metadata": {},
   "source": [
    "## 3. Asynchronous Memory Operations\n",
    "\n",
    "The `FlotorchAsyncMemory` class provides non-blocking methods that must be used with `await` inside an `async` function. This is ideal for high-performance applications that handle many operations concurrently."
   ]
  },
  {
   "cell_type": "markdown",
   "metadata": {},
   "source": [
    "### Add, Search, Update, and Delete (Async)"
   ]
  },
  {
   "cell_type": "code",
   "execution_count": null,
   "id": "87a11c0f",
   "metadata": {},
   "outputs": [],
   "source": [
    "# === 1. Add Memory (Async) ===\n",
    "memory_content = \"User is interested in learning TensorFlow for deep learning applications\"\n",
    "add_response = await async_memory.add(\n",
    "    messages=[{\"role\": \"user\", \"content\": memory_content}],\n",
    "    userId=async_user_id,\n",
    "    agentId=async_agent_id,\n",
    "    sessionId=async_session_id,\n",
    "    metadata={\"source\": async_source, \"category\": \"learning\"}\n",
    ")\n",
    "async_memory_id = add_response['data'][0]['id']\n",
    "print(f\"Memory Added (ID: {async_memory_id})\\n\")\n"
   ]
  },
  {
   "cell_type": "code",
   "execution_count": null,
   "id": "2083cd08",
   "metadata": {},
   "outputs": [],
   "source": [
    "# === 2. Search Memory (Async) ===\n",
    "search_response = await async_memory.search(userId=async_user_id, sessionId=async_session_id)\n",
    "print(f\"Memory Searched: Found {len(search_response['data'])} entr(y/ies)\")\n",
    "print(f\"Content: {search_response['data'][0]['content']}\\n\")"
   ]
  },
  {
   "cell_type": "code",
   "execution_count": null,
   "id": "bed7a72e",
   "metadata": {},
   "outputs": [],
   "source": [
    "# === 3. Update Memory (Async) ===\n",
    "updated_memory_content = \"User is actively learning TensorFlow and PyTorch.\"\n",
    "update_response = await async_memory.update(\n",
    "    async_memory_id,\n",
    "    content=updated_memory_content,\n",
    "    metadata={\"source\": async_source, \"technology\": \"tensorflow,pytorch\"}\n",
    ")\n",
    "print(f\"✓ Memory Updated\")\n",
    "print(f\"   New Content: {update_response['data']['content']}\\n\")\n"
   ]
  },
  {
   "cell_type": "code",
   "execution_count": null,
   "metadata": {},
   "outputs": [],
   "source": [
    "# === 4. Delete Memory (Async) ===\n",
    "await async_memory.delete(async_memory_id)\n",
    "print(f\"Memory Deleted (ID: {async_memory_id})\")    \n"
   ]
  },
  {
   "cell_type": "markdown",
   "metadata": {},
   "source": [
    "## Summary\n",
    "\n",
    "This guide covered the core CRUD (Create, Read, Update, Delete) operations for managing conversational memory using both synchronous and asynchronous clients.\n",
    "\n",
    "### API at a Glance:\n",
    "\n",
    "| Operation | Synchronous (`FlotorchMemory`) | Asynchronous (`FlotorchAsyncMemory`) |\n",
    "| :--- | :--- | :--- |\n",
    "| **Create** | `.add(...)`                             | `await .add(...)`                             |\n",
    "| **Read** | `.search(...)`                          | `await .search(...)`                          |\n",
    "| **Update** | `.update(id, ...)`                      | `await .update(id, ...)`                      |\n",
    "| **Delete** | `.delete(id)`                           | `await .delete(id)`                           |\n",
    "\n",
    "### Key Points to Remember:\n",
    "\n",
    "1.  **Choose the Right Client**: Use `FlotorchMemory` for simple, sequential scripts and `FlotorchAsyncMemory` for concurrent applications like web servers.\n",
    "2.  **Mandatory Identifiers**: All operations rely on `userId`, `agentId`, and `sessionId` to correctly scope and organize memories.\n",
    "3.  **Required Metadata**: The `source` field is **mandatory** within the `metadata` dictionary when adding or updating memories.\n",
    "4.  **Immutability**: The `delete` operation is permanent and cannot be undone. Always use with caution."
   ]
  }
 ],
 "metadata": {
  "kernelspec": {
   "display_name": "venv",
   "language": "python",
   "name": "python3"
  },
  "language_info": {
   "codemirror_mode": {
    "name": "ipython",
    "version": 3
   },
   "file_extension": ".py",
   "mimetype": "text/x-python",
   "name": "python",
   "nbconvert_exporter": "python",
   "pygments_lexer": "ipython3",
   "version": "3.11.0"
  }
 },
 "nbformat": 4,
 "nbformat_minor": 5
}
